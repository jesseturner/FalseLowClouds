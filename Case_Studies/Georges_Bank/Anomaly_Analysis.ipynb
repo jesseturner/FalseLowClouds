{
 "cells": [
  {
   "cell_type": "markdown",
   "id": "9975231f-0fb6-4965-aa56-76dfc599ab3f",
   "metadata": {},
   "source": [
    "Hypothesis: The strength of the Georges Bank anomalously cold SST follows a pattern by season\n",
    "* this can be tested with OISST (NeapTides_Analysis) or by buoys"
   ]
  },
  {
   "cell_type": "code",
   "execution_count": null,
   "id": "4a3c2d11-0850-4b93-a6f2-71a59c4e699b",
   "metadata": {},
   "outputs": [],
   "source": []
  }
 ],
 "metadata": {
  "kernelspec": {
   "display_name": "Python 3 (ipykernel)",
   "language": "python",
   "name": "python3"
  },
  "language_info": {
   "codemirror_mode": {
    "name": "ipython",
    "version": 3
   },
   "file_extension": ".py",
   "mimetype": "text/x-python",
   "name": "python",
   "nbconvert_exporter": "python",
   "pygments_lexer": "ipython3",
   "version": "3.9.0"
  }
 },
 "nbformat": 4,
 "nbformat_minor": 5
}
