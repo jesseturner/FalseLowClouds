{
 "cells": [
  {
   "cell_type": "markdown",
   "id": "0a06d0f0-ea09-4345-8fe5-aa8e565db27c",
   "metadata": {},
   "source": [
    "Hypothesis: The strength of the Georges Bank anomalously cold SST follows a pattern by season\n",
    "* This is visualized with composited SST maps over seasons"
   ]
  },
  {
   "cell_type": "code",
   "execution_count": 1,
   "id": "7870f0ba-3849-4ad9-80df-16c7b15092bf",
   "metadata": {},
   "outputs": [],
   "source": [
    "import xarray as xr\n",
    "import glob\n",
    "import cartopy.crs as ccrs\n",
    "import cartopy.feature as cfeature\n",
    "import matplotlib.pyplot as plt\n",
    "import numpy as np\n",
    "import imageio\n",
    "import io"
   ]
  },
  {
   "cell_type": "code",
   "execution_count": 2,
   "id": "afb2fd79-4353-4339-a024-04831ee7fe2e",
   "metadata": {},
   "outputs": [],
   "source": [
    "sst_path = \"OISST_data/\""
   ]
  },
  {
   "cell_type": "code",
   "execution_count": 3,
   "id": "856a900e-9119-489d-a64a-0530b7b677aa",
   "metadata": {},
   "outputs": [],
   "source": [
    "#--- Filter to the Georges Bank region\n",
    "min_lon = -71.5\n",
    "min_lat = 37\n",
    "max_lon = -64\n",
    "max_lat = 47"
   ]
  },
  {
   "cell_type": "markdown",
   "id": "dad31cf4-33d2-4776-80cd-a83d91b5e6db",
   "metadata": {},
   "source": [
    "Composite for 2020-2023:"
   ]
  },
  {
   "cell_type": "code",
   "execution_count": 4,
   "id": "8c21e3db-8b7e-40ef-bb93-378b8289b497",
   "metadata": {},
   "outputs": [],
   "source": [
    "month = '10'\n",
    "month_name = 'October'"
   ]
  },
  {
   "cell_type": "code",
   "execution_count": 5,
   "id": "365807d2-b1c2-4006-b4b7-ce51ec1e8d4a",
   "metadata": {},
   "outputs": [],
   "source": [
    "nc_files = sorted(glob.glob(sst_path+'*202?'+month+'*.nc'))"
   ]
  },
  {
   "cell_type": "code",
   "execution_count": 6,
   "id": "d16a1d21-7e69-42b9-81e4-393590f192f1",
   "metadata": {},
   "outputs": [
    {
     "ename": "ValueError",
     "evalue": "unrecognized chunk manager dask - must be one of: []",
     "output_type": "error",
     "traceback": [
      "\u001b[0;31m---------------------------------------------------------------------------\u001b[0m",
      "\u001b[0;31mValueError\u001b[0m                                Traceback (most recent call last)",
      "Cell \u001b[0;32mIn[6], line 1\u001b[0m\n\u001b[0;32m----> 1\u001b[0m ds \u001b[38;5;241m=\u001b[39m xr\u001b[38;5;241m.\u001b[39mopen_mfdataset(nc_files)\n\u001b[1;32m      2\u001b[0m ds \u001b[38;5;241m=\u001b[39m ds\u001b[38;5;241m.\u001b[39msel(lat\u001b[38;5;241m=\u001b[39m\u001b[38;5;28mslice\u001b[39m(min_lat,max_lat), lon\u001b[38;5;241m=\u001b[39m\u001b[38;5;28mslice\u001b[39m(min_lon\u001b[38;5;241m+\u001b[39m\u001b[38;5;241m360\u001b[39m,max_lon\u001b[38;5;241m+\u001b[39m\u001b[38;5;241m360\u001b[39m))\n",
      "File \u001b[0;32m~/miniconda3/envs/flc_env/lib/python3.11/site-packages/xarray/backends/api.py:1038\u001b[0m, in \u001b[0;36mopen_mfdataset\u001b[0;34m(paths, chunks, concat_dim, compat, preprocess, engine, data_vars, coords, combine, parallel, join, attrs_file, combine_attrs, **kwargs)\u001b[0m\n\u001b[1;32m   1035\u001b[0m     open_ \u001b[38;5;241m=\u001b[39m open_dataset\n\u001b[1;32m   1036\u001b[0m     getattr_ \u001b[38;5;241m=\u001b[39m \u001b[38;5;28mgetattr\u001b[39m\n\u001b[0;32m-> 1038\u001b[0m datasets \u001b[38;5;241m=\u001b[39m [open_(p, \u001b[38;5;241m*\u001b[39m\u001b[38;5;241m*\u001b[39mopen_kwargs) \u001b[38;5;28;01mfor\u001b[39;00m p \u001b[38;5;129;01min\u001b[39;00m paths]\n\u001b[1;32m   1039\u001b[0m closers \u001b[38;5;241m=\u001b[39m [getattr_(ds, \u001b[38;5;124m\"\u001b[39m\u001b[38;5;124m_close\u001b[39m\u001b[38;5;124m\"\u001b[39m) \u001b[38;5;28;01mfor\u001b[39;00m ds \u001b[38;5;129;01min\u001b[39;00m datasets]\n\u001b[1;32m   1040\u001b[0m \u001b[38;5;28;01mif\u001b[39;00m preprocess \u001b[38;5;129;01mis\u001b[39;00m \u001b[38;5;129;01mnot\u001b[39;00m \u001b[38;5;28;01mNone\u001b[39;00m:\n",
      "File \u001b[0;32m~/miniconda3/envs/flc_env/lib/python3.11/site-packages/xarray/backends/api.py:1038\u001b[0m, in \u001b[0;36m<listcomp>\u001b[0;34m(.0)\u001b[0m\n\u001b[1;32m   1035\u001b[0m     open_ \u001b[38;5;241m=\u001b[39m open_dataset\n\u001b[1;32m   1036\u001b[0m     getattr_ \u001b[38;5;241m=\u001b[39m \u001b[38;5;28mgetattr\u001b[39m\n\u001b[0;32m-> 1038\u001b[0m datasets \u001b[38;5;241m=\u001b[39m [open_(p, \u001b[38;5;241m*\u001b[39m\u001b[38;5;241m*\u001b[39mopen_kwargs) \u001b[38;5;28;01mfor\u001b[39;00m p \u001b[38;5;129;01min\u001b[39;00m paths]\n\u001b[1;32m   1039\u001b[0m closers \u001b[38;5;241m=\u001b[39m [getattr_(ds, \u001b[38;5;124m\"\u001b[39m\u001b[38;5;124m_close\u001b[39m\u001b[38;5;124m\"\u001b[39m) \u001b[38;5;28;01mfor\u001b[39;00m ds \u001b[38;5;129;01min\u001b[39;00m datasets]\n\u001b[1;32m   1040\u001b[0m \u001b[38;5;28;01mif\u001b[39;00m preprocess \u001b[38;5;129;01mis\u001b[39;00m \u001b[38;5;129;01mnot\u001b[39;00m \u001b[38;5;28;01mNone\u001b[39;00m:\n",
      "File \u001b[0;32m~/miniconda3/envs/flc_env/lib/python3.11/site-packages/xarray/backends/api.py:572\u001b[0m, in \u001b[0;36mopen_dataset\u001b[0;34m(filename_or_obj, engine, chunks, cache, decode_cf, mask_and_scale, decode_times, decode_timedelta, use_cftime, concat_characters, decode_coords, drop_variables, inline_array, chunked_array_type, from_array_kwargs, backend_kwargs, **kwargs)\u001b[0m\n\u001b[1;32m    565\u001b[0m overwrite_encoded_chunks \u001b[38;5;241m=\u001b[39m kwargs\u001b[38;5;241m.\u001b[39mpop(\u001b[38;5;124m\"\u001b[39m\u001b[38;5;124moverwrite_encoded_chunks\u001b[39m\u001b[38;5;124m\"\u001b[39m, \u001b[38;5;28;01mNone\u001b[39;00m)\n\u001b[1;32m    566\u001b[0m backend_ds \u001b[38;5;241m=\u001b[39m backend\u001b[38;5;241m.\u001b[39mopen_dataset(\n\u001b[1;32m    567\u001b[0m     filename_or_obj,\n\u001b[1;32m    568\u001b[0m     drop_variables\u001b[38;5;241m=\u001b[39mdrop_variables,\n\u001b[1;32m    569\u001b[0m     \u001b[38;5;241m*\u001b[39m\u001b[38;5;241m*\u001b[39mdecoders,\n\u001b[1;32m    570\u001b[0m     \u001b[38;5;241m*\u001b[39m\u001b[38;5;241m*\u001b[39mkwargs,\n\u001b[1;32m    571\u001b[0m )\n\u001b[0;32m--> 572\u001b[0m ds \u001b[38;5;241m=\u001b[39m _dataset_from_backend_dataset(\n\u001b[1;32m    573\u001b[0m     backend_ds,\n\u001b[1;32m    574\u001b[0m     filename_or_obj,\n\u001b[1;32m    575\u001b[0m     engine,\n\u001b[1;32m    576\u001b[0m     chunks,\n\u001b[1;32m    577\u001b[0m     cache,\n\u001b[1;32m    578\u001b[0m     overwrite_encoded_chunks,\n\u001b[1;32m    579\u001b[0m     inline_array,\n\u001b[1;32m    580\u001b[0m     chunked_array_type,\n\u001b[1;32m    581\u001b[0m     from_array_kwargs,\n\u001b[1;32m    582\u001b[0m     drop_variables\u001b[38;5;241m=\u001b[39mdrop_variables,\n\u001b[1;32m    583\u001b[0m     \u001b[38;5;241m*\u001b[39m\u001b[38;5;241m*\u001b[39mdecoders,\n\u001b[1;32m    584\u001b[0m     \u001b[38;5;241m*\u001b[39m\u001b[38;5;241m*\u001b[39mkwargs,\n\u001b[1;32m    585\u001b[0m )\n\u001b[1;32m    586\u001b[0m \u001b[38;5;28;01mreturn\u001b[39;00m ds\n",
      "File \u001b[0;32m~/miniconda3/envs/flc_env/lib/python3.11/site-packages/xarray/backends/api.py:367\u001b[0m, in \u001b[0;36m_dataset_from_backend_dataset\u001b[0;34m(backend_ds, filename_or_obj, engine, chunks, cache, overwrite_encoded_chunks, inline_array, chunked_array_type, from_array_kwargs, **extra_tokens)\u001b[0m\n\u001b[1;32m    365\u001b[0m     ds \u001b[38;5;241m=\u001b[39m backend_ds\n\u001b[1;32m    366\u001b[0m \u001b[38;5;28;01melse\u001b[39;00m:\n\u001b[0;32m--> 367\u001b[0m     ds \u001b[38;5;241m=\u001b[39m _chunk_ds(\n\u001b[1;32m    368\u001b[0m         backend_ds,\n\u001b[1;32m    369\u001b[0m         filename_or_obj,\n\u001b[1;32m    370\u001b[0m         engine,\n\u001b[1;32m    371\u001b[0m         chunks,\n\u001b[1;32m    372\u001b[0m         overwrite_encoded_chunks,\n\u001b[1;32m    373\u001b[0m         inline_array,\n\u001b[1;32m    374\u001b[0m         chunked_array_type,\n\u001b[1;32m    375\u001b[0m         from_array_kwargs,\n\u001b[1;32m    376\u001b[0m         \u001b[38;5;241m*\u001b[39m\u001b[38;5;241m*\u001b[39mextra_tokens,\n\u001b[1;32m    377\u001b[0m     )\n\u001b[1;32m    379\u001b[0m ds\u001b[38;5;241m.\u001b[39mset_close(backend_ds\u001b[38;5;241m.\u001b[39m_close)\n\u001b[1;32m    381\u001b[0m \u001b[38;5;66;03m# Ensure source filename always stored in dataset object\u001b[39;00m\n",
      "File \u001b[0;32m~/miniconda3/envs/flc_env/lib/python3.11/site-packages/xarray/backends/api.py:315\u001b[0m, in \u001b[0;36m_chunk_ds\u001b[0;34m(backend_ds, filename_or_obj, engine, chunks, overwrite_encoded_chunks, inline_array, chunked_array_type, from_array_kwargs, **extra_tokens)\u001b[0m\n\u001b[1;32m    304\u001b[0m \u001b[38;5;28;01mdef\u001b[39;00m \u001b[38;5;21m_chunk_ds\u001b[39m(\n\u001b[1;32m    305\u001b[0m     backend_ds,\n\u001b[1;32m    306\u001b[0m     filename_or_obj,\n\u001b[0;32m   (...)\u001b[0m\n\u001b[1;32m    313\u001b[0m     \u001b[38;5;241m*\u001b[39m\u001b[38;5;241m*\u001b[39mextra_tokens,\n\u001b[1;32m    314\u001b[0m ):\n\u001b[0;32m--> 315\u001b[0m     chunkmanager \u001b[38;5;241m=\u001b[39m guess_chunkmanager(chunked_array_type)\n\u001b[1;32m    317\u001b[0m     \u001b[38;5;66;03m# TODO refactor to move this dask-specific logic inside the DaskManager class\u001b[39;00m\n\u001b[1;32m    318\u001b[0m     \u001b[38;5;28;01mif\u001b[39;00m \u001b[38;5;28misinstance\u001b[39m(chunkmanager, DaskManager):\n",
      "File \u001b[0;32m~/miniconda3/envs/flc_env/lib/python3.11/site-packages/xarray/core/parallelcompat.py:87\u001b[0m, in \u001b[0;36mguess_chunkmanager\u001b[0;34m(manager)\u001b[0m\n\u001b[1;32m     85\u001b[0m \u001b[38;5;28;01mif\u001b[39;00m \u001b[38;5;28misinstance\u001b[39m(manager, \u001b[38;5;28mstr\u001b[39m):\n\u001b[1;32m     86\u001b[0m     \u001b[38;5;28;01mif\u001b[39;00m manager \u001b[38;5;129;01mnot\u001b[39;00m \u001b[38;5;129;01min\u001b[39;00m chunkmanagers:\n\u001b[0;32m---> 87\u001b[0m         \u001b[38;5;28;01mraise\u001b[39;00m \u001b[38;5;167;01mValueError\u001b[39;00m(\n\u001b[1;32m     88\u001b[0m             \u001b[38;5;124mf\u001b[39m\u001b[38;5;124m\"\u001b[39m\u001b[38;5;124munrecognized chunk manager \u001b[39m\u001b[38;5;132;01m{\u001b[39;00mmanager\u001b[38;5;132;01m}\u001b[39;00m\u001b[38;5;124m - must be one of: \u001b[39m\u001b[38;5;132;01m{\u001b[39;00m\u001b[38;5;28mlist\u001b[39m(chunkmanagers)\u001b[38;5;132;01m}\u001b[39;00m\u001b[38;5;124m\"\u001b[39m\n\u001b[1;32m     89\u001b[0m         )\n\u001b[1;32m     91\u001b[0m     \u001b[38;5;28;01mreturn\u001b[39;00m chunkmanagers[manager]\n\u001b[1;32m     92\u001b[0m \u001b[38;5;28;01melif\u001b[39;00m \u001b[38;5;28misinstance\u001b[39m(manager, ChunkManagerEntrypoint):\n\u001b[1;32m     93\u001b[0m     \u001b[38;5;66;03m# already a valid ChunkManager so just pass through\u001b[39;00m\n",
      "\u001b[0;31mValueError\u001b[0m: unrecognized chunk manager dask - must be one of: []"
     ]
    }
   ],
   "source": [
    "ds = xr.open_mfdataset(nc_files)\n",
    "ds = ds.sel(lat=slice(min_lat,max_lat), lon=slice(min_lon+360,max_lon+360))"
   ]
  },
  {
   "cell_type": "code",
   "execution_count": null,
   "id": "b48ae66f-a323-493d-8ed9-1f55a07b4aa9",
   "metadata": {},
   "outputs": [],
   "source": [
    "sst_mean = ds['sst'].mean(dim='time')"
   ]
  },
  {
   "cell_type": "code",
   "execution_count": null,
   "id": "52700d03-06ea-482b-845b-2d56741fc173",
   "metadata": {},
   "outputs": [],
   "source": [
    "overall_mean = sst_mean.mean(dim='lat')\n",
    "overall_mean = overall_mean.mean(dim='lon')"
   ]
  },
  {
   "cell_type": "code",
   "execution_count": null,
   "id": "0d449d21-b122-4ce5-9ef8-b214c2b614ab",
   "metadata": {},
   "outputs": [],
   "source": [
    "high_lim = overall_mean.values[0]+10\n",
    "low_lim = overall_mean.values[0]-10"
   ]
  },
  {
   "cell_type": "code",
   "execution_count": null,
   "id": "9527c5b4-eca2-4460-95e5-5b81aba5b46e",
   "metadata": {},
   "outputs": [],
   "source": [
    "projection=ccrs.PlateCarree()\n",
    "fig,ax=plt.subplots(1, figsize=(12,12),subplot_kw={'projection': projection})\n",
    "cmap = plt.cm.Spectral_r\n",
    "levels = np.linspace(low_lim, high_lim, 31)\n",
    "\n",
    "c=ax.contourf(sst_mean.lon, sst_mean.lat, sst_mean[0], cmap=cmap, extend='both', levels=levels)\n",
    "clb=plt.colorbar(c, shrink=0.3, pad=0.02, ax=ax)\n",
    "ax.set_title('Average '+month_name+' Sea Surface Temperature (2020-2023)')\n",
    "clb.set_label('Temperature (C)')\n",
    "\n",
    "ax.add_feature(cfeature.STATES)"
   ]
  },
  {
   "cell_type": "markdown",
   "id": "1e106e1f-34d2-4a18-a3f9-434dc9f97be8",
   "metadata": {},
   "source": [
    "Normalized SST difference for 2020-2023: "
   ]
  },
  {
   "cell_type": "code",
   "execution_count": null,
   "id": "14cef1fc-d171-4657-bb11-ae8fae9ea13b",
   "metadata": {},
   "outputs": [],
   "source": [
    "months = ['01', '02', '03', '04', '05', '06', '07', '08', '09', '10', '11', '12']\n",
    "month_names = ['January', 'February', 'March', 'April', 'May', 'June', 'July', 'August', 'September', 'October', 'November', 'December']"
   ]
  },
  {
   "cell_type": "code",
   "execution_count": null,
   "id": "edca3184-5a61-4a57-9060-48db5b5a613c",
   "metadata": {},
   "outputs": [],
   "source": [
    "def create_frame(month, month_name):\n",
    "    \n",
    "    nc_files = sorted(glob.glob(sst_path+'*202?'+month+'*.nc'))\n",
    "    \n",
    "    ds = xr.open_mfdataset(nc_files)\n",
    "    ds = ds.sel(lat=slice(min_lat,max_lat), lon=slice(min_lon+360,max_lon+360))\n",
    "    \n",
    "    sst_mean = ds['sst'].mean(dim='time')\n",
    "    overall_mean = sst_mean.mean(dim='lat')\n",
    "    overall_mean = overall_mean.mean(dim='lon')\n",
    "    \n",
    "    normalized = sst_mean[0] - overall_mean.values[0]\n",
    "    average = str(round(overall_mean.values[0], 1))\n",
    "    \n",
    "    projection=ccrs.PlateCarree()\n",
    "    fig,ax=plt.subplots(1, figsize=(12,12),subplot_kw={'projection': projection})\n",
    "    cmap = plt.cm.RdYlBu_r\n",
    "    levels = np.linspace(-10, 10, 31)\n",
    "\n",
    "    c=ax.contourf(sst_mean.lon, sst_mean.lat, normalized, cmap=cmap, extend='both', levels=levels)\n",
    "    clb=plt.colorbar(c, shrink=0.3, pad=0.02, ax=ax)\n",
    "    ax.set_title('Normalized (Average = '+average+' C) '+month_name+' SST (2020-2023)')\n",
    "    clb.set_label('Temperature Difference (C)')\n",
    "    ax.add_feature(cfeature.STATES)\n",
    "    \n",
    "    # Save the current figure to a BytesIO buffer\n",
    "    buf = io.BytesIO()\n",
    "    plt.savefig(buf, format='png')\n",
    "    buf.seek(0)\n",
    "\n",
    "    # Read the BytesIO buffer and return as an image\n",
    "    frame = imageio.imread(buf)\n",
    "\n",
    "    # Clear the current figure to avoid overlapping plots\n",
    "    plt.clf()\n",
    "\n",
    "    return frame"
   ]
  },
  {
   "cell_type": "code",
   "execution_count": null,
   "id": "df3600a3-de00-4e95-bf48-bb11581ee64d",
   "metadata": {},
   "outputs": [],
   "source": [
    "frames = []\n",
    "for i in range(len(months)):\n",
    "    frame = create_frame(months[i], month_names[i])\n",
    "    frames.append(frame)"
   ]
  },
  {
   "cell_type": "code",
   "execution_count": 14,
   "id": "b58cdcd3-d4d1-4ab3-9081-5f29fe29c5d5",
   "metadata": {},
   "outputs": [],
   "source": [
    "imageio.mimsave('Seasonal_Composites/norm_averages.gif', frames, loop=0, duration=500)"
   ]
  },
  {
   "cell_type": "code",
   "execution_count": null,
   "id": "34571d30-dbca-429c-ad70-713c9b7d4323",
   "metadata": {},
   "outputs": [],
   "source": []
  }
 ],
 "metadata": {
  "kernelspec": {
   "display_name": "Python 3 (ipykernel)",
   "language": "python",
   "name": "python3"
  },
  "language_info": {
   "codemirror_mode": {
    "name": "ipython",
    "version": 3
   },
   "file_extension": ".py",
   "mimetype": "text/x-python",
   "name": "python",
   "nbconvert_exporter": "python",
   "pygments_lexer": "ipython3",
   "version": "3.11.7"
  }
 },
 "nbformat": 4,
 "nbformat_minor": 5
}
