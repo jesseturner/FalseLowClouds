{
 "cells": [
  {
   "cell_type": "code",
   "execution_count": 1,
   "id": "e1f103ac-741c-4f71-b8c5-1ac43bb1e423",
   "metadata": {},
   "outputs": [],
   "source": [
    "import numpy as np\n",
    "from io import StringIO\n",
    "import matplotlib.pyplot as plt\n",
    "import pandas as pd"
   ]
  },
  {
   "cell_type": "code",
   "execution_count": 2,
   "id": "3024d40d-6ee7-4af1-b4be-627fa1cbf807",
   "metadata": {},
   "outputs": [],
   "source": [
    "filename = 'tp8_file/attempt2.tp8'"
   ]
  },
  {
   "cell_type": "markdown",
   "id": "25640fac-976b-416b-b9e8-9e029af323cf",
   "metadata": {},
   "source": [
    "Selecting the data from the first wavelength in the range:"
   ]
  },
  {
   "cell_type": "code",
   "execution_count": 3,
   "id": "20976922-8cc2-4a7e-9e11-9fbb8af7b30d",
   "metadata": {
    "tags": []
   },
   "outputs": [
    {
     "name": "stderr",
     "output_type": "stream",
     "text": [
      "/tmp/ipykernel_5491/2552827150.py:1: DtypeWarning: Columns (0,1,2,3,4,5,6,7,8,9) have mixed types. Specify dtype option on import or set low_memory=False.\n",
      "  data = pd.read_csv(filename, delim_whitespace=True, skiprows=10)\n"
     ]
    },
    {
     "data": {
      "text/html": [
       "<div>\n",
       "<style scoped>\n",
       "    .dataframe tbody tr th:only-of-type {\n",
       "        vertical-align: middle;\n",
       "    }\n",
       "\n",
       "    .dataframe tbody tr th {\n",
       "        vertical-align: top;\n",
       "    }\n",
       "\n",
       "    .dataframe thead th {\n",
       "        text-align: right;\n",
       "    }\n",
       "</style>\n",
       "<table border=\"1\" class=\"dataframe\">\n",
       "  <thead>\n",
       "    <tr style=\"text-align: right;\">\n",
       "      <th></th>\n",
       "      <th>FREQ</th>\n",
       "      <th>ALT</th>\n",
       "      <th>TOTAL</th>\n",
       "      <th>DELTA</th>\n",
       "      <th>UP-DN-DIR</th>\n",
       "      <th>THRML_UP</th>\n",
       "      <th>THRML_DN</th>\n",
       "      <th>THRML_SRC</th>\n",
       "      <th>THRML_SUM</th>\n",
       "      <th>SOLAR_UP</th>\n",
       "      <th>SOLAR_DN</th>\n",
       "      <th>SOLAR_SRC</th>\n",
       "      <th>SOLAR_SUM</th>\n",
       "    </tr>\n",
       "  </thead>\n",
       "  <tbody>\n",
       "    <tr>\n",
       "      <th>1</th>\n",
       "      <td>635.00</td>\n",
       "      <td>1.000</td>\n",
       "      <td>1.000000</td>\n",
       "      <td>1.3625E-07</td>\n",
       "      <td>4.2779E-05</td>\n",
       "      <td>4.2643E-05</td>\n",
       "      <td>0.0000E+00</td>\n",
       "      <td>0.0000E+00</td>\n",
       "      <td>NaN</td>\n",
       "      <td>NaN</td>\n",
       "      <td>NaN</td>\n",
       "      <td>NaN</td>\n",
       "      <td>NaN</td>\n",
       "    </tr>\n",
       "    <tr>\n",
       "      <th>2</th>\n",
       "      <td>635.00</td>\n",
       "      <td>2.000</td>\n",
       "      <td>0.000000</td>\n",
       "      <td>0.000000</td>\n",
       "      <td>2.4483E-07</td>\n",
       "      <td>4.0646E-05</td>\n",
       "      <td>4.0401E-05</td>\n",
       "      <td>1.3595E-05</td>\n",
       "      <td>1.3595E-05</td>\n",
       "      <td>0.0000E+00</td>\n",
       "      <td>0.0</td>\n",
       "      <td>0.0</td>\n",
       "      <td>0.0</td>\n",
       "    </tr>\n",
       "    <tr>\n",
       "      <th>3</th>\n",
       "      <td>635.00</td>\n",
       "      <td>3.000</td>\n",
       "      <td>0.000000</td>\n",
       "      <td>0.000000</td>\n",
       "      <td>4.0077E-07</td>\n",
       "      <td>3.7920E-05</td>\n",
       "      <td>3.7519E-05</td>\n",
       "      <td>1.2903E-05</td>\n",
       "      <td>1.3595E-05</td>\n",
       "      <td>0.0000E+00</td>\n",
       "      <td>0.0</td>\n",
       "      <td>0.0</td>\n",
       "      <td>0.0</td>\n",
       "    </tr>\n",
       "    <tr>\n",
       "      <th>4</th>\n",
       "      <td>635.00</td>\n",
       "      <td>4.000</td>\n",
       "      <td>0.000000</td>\n",
       "      <td>0.000000</td>\n",
       "      <td>5.7945E-07</td>\n",
       "      <td>3.5277E-05</td>\n",
       "      <td>3.4697E-05</td>\n",
       "      <td>1.2008E-05</td>\n",
       "      <td>1.3595E-05</td>\n",
       "      <td>0.0000E+00</td>\n",
       "      <td>0.0</td>\n",
       "      <td>0.0</td>\n",
       "      <td>0.0</td>\n",
       "    </tr>\n",
       "    <tr>\n",
       "      <th>5</th>\n",
       "      <td>635.00</td>\n",
       "      <td>5.000</td>\n",
       "      <td>0.000000</td>\n",
       "      <td>0.000038</td>\n",
       "      <td>8.2700E-07</td>\n",
       "      <td>3.2743E-05</td>\n",
       "      <td>3.1916E-05</td>\n",
       "      <td>1.1128E-05</td>\n",
       "      <td>1.3595E-05</td>\n",
       "      <td>0.0000E+00</td>\n",
       "      <td>0.0</td>\n",
       "      <td>0.0</td>\n",
       "      <td>0.0</td>\n",
       "    </tr>\n",
       "    <tr>\n",
       "      <th>...</th>\n",
       "      <td>...</td>\n",
       "      <td>...</td>\n",
       "      <td>...</td>\n",
       "      <td>...</td>\n",
       "      <td>...</td>\n",
       "      <td>...</td>\n",
       "      <td>...</td>\n",
       "      <td>...</td>\n",
       "      <td>...</td>\n",
       "      <td>...</td>\n",
       "      <td>...</td>\n",
       "      <td>...</td>\n",
       "      <td>...</td>\n",
       "    </tr>\n",
       "    <tr>\n",
       "      <th>87182</th>\n",
       "      <td>3125.0</td>\n",
       "      <td>60.0</td>\n",
       "      <td>0.000001</td>\n",
       "      <td>0.999979</td>\n",
       "      <td>0.0</td>\n",
       "      <td>0.0</td>\n",
       "      <td>0.0</td>\n",
       "      <td>0.0</td>\n",
       "      <td>0.0</td>\n",
       "      <td>0.0</td>\n",
       "      <td>0.0</td>\n",
       "      <td>0.0</td>\n",
       "      <td>0.0</td>\n",
       "    </tr>\n",
       "    <tr>\n",
       "      <th>87183</th>\n",
       "      <td>3125.0</td>\n",
       "      <td>70.0</td>\n",
       "      <td>0.000001</td>\n",
       "      <td>0.999988</td>\n",
       "      <td>0.0</td>\n",
       "      <td>0.0</td>\n",
       "      <td>0.0</td>\n",
       "      <td>0.0</td>\n",
       "      <td>0.0</td>\n",
       "      <td>0.0</td>\n",
       "      <td>0.0</td>\n",
       "      <td>0.0</td>\n",
       "      <td>0.0</td>\n",
       "    </tr>\n",
       "    <tr>\n",
       "      <th>87184</th>\n",
       "      <td>3125.0</td>\n",
       "      <td>80.0</td>\n",
       "      <td>0.000001</td>\n",
       "      <td>0.999999</td>\n",
       "      <td>0.0</td>\n",
       "      <td>0.0</td>\n",
       "      <td>0.0</td>\n",
       "      <td>0.0</td>\n",
       "      <td>0.0</td>\n",
       "      <td>0.0</td>\n",
       "      <td>0.0</td>\n",
       "      <td>0.0</td>\n",
       "      <td>0.0</td>\n",
       "    </tr>\n",
       "    <tr>\n",
       "      <th>87185</th>\n",
       "      <td>3125.0</td>\n",
       "      <td>100.0</td>\n",
       "      <td>0.000001</td>\n",
       "      <td>1.0</td>\n",
       "      <td>0.0</td>\n",
       "      <td>0.0</td>\n",
       "      <td>0.0</td>\n",
       "      <td>0.0</td>\n",
       "      <td>0.0</td>\n",
       "      <td>0.0</td>\n",
       "      <td>0.0</td>\n",
       "      <td>0.0</td>\n",
       "      <td>0.0</td>\n",
       "    </tr>\n",
       "    <tr>\n",
       "      <th>87186</th>\n",
       "      <td>-9999.0</td>\n",
       "      <td>NaN</td>\n",
       "      <td>NaN</td>\n",
       "      <td>NaN</td>\n",
       "      <td>NaN</td>\n",
       "      <td>NaN</td>\n",
       "      <td>NaN</td>\n",
       "      <td>NaN</td>\n",
       "      <td>NaN</td>\n",
       "      <td>NaN</td>\n",
       "      <td>NaN</td>\n",
       "      <td>NaN</td>\n",
       "      <td>NaN</td>\n",
       "    </tr>\n",
       "  </tbody>\n",
       "</table>\n",
       "<p>87186 rows × 13 columns</p>\n",
       "</div>"
      ],
      "text/plain": [
       "         FREQ    ALT     TOTAL       DELTA   UP-DN-DIR    THRML_UP  \\\n",
       "1      635.00  1.000  1.000000  1.3625E-07  4.2779E-05  4.2643E-05   \n",
       "2      635.00  2.000  0.000000    0.000000  2.4483E-07  4.0646E-05   \n",
       "3      635.00  3.000  0.000000    0.000000  4.0077E-07  3.7920E-05   \n",
       "4      635.00  4.000  0.000000    0.000000  5.7945E-07  3.5277E-05   \n",
       "5      635.00  5.000  0.000000    0.000038  8.2700E-07  3.2743E-05   \n",
       "...       ...    ...       ...         ...         ...         ...   \n",
       "87182  3125.0   60.0  0.000001    0.999979         0.0         0.0   \n",
       "87183  3125.0   70.0  0.000001    0.999988         0.0         0.0   \n",
       "87184  3125.0   80.0  0.000001    0.999999         0.0         0.0   \n",
       "87185  3125.0  100.0  0.000001         1.0         0.0         0.0   \n",
       "87186 -9999.0    NaN       NaN         NaN         NaN         NaN   \n",
       "\n",
       "         THRML_DN   THRML_SRC   THRML_SUM    SOLAR_UP  SOLAR_DN  SOLAR_SRC  \\\n",
       "1      0.0000E+00  0.0000E+00         NaN         NaN       NaN        NaN   \n",
       "2      4.0401E-05  1.3595E-05  1.3595E-05  0.0000E+00       0.0        0.0   \n",
       "3      3.7519E-05  1.2903E-05  1.3595E-05  0.0000E+00       0.0        0.0   \n",
       "4      3.4697E-05  1.2008E-05  1.3595E-05  0.0000E+00       0.0        0.0   \n",
       "5      3.1916E-05  1.1128E-05  1.3595E-05  0.0000E+00       0.0        0.0   \n",
       "...           ...         ...         ...         ...       ...        ...   \n",
       "87182         0.0         0.0         0.0         0.0       0.0        0.0   \n",
       "87183         0.0         0.0         0.0         0.0       0.0        0.0   \n",
       "87184         0.0         0.0         0.0         0.0       0.0        0.0   \n",
       "87185         0.0         0.0         0.0         0.0       0.0        0.0   \n",
       "87186         NaN         NaN         NaN         NaN       NaN        NaN   \n",
       "\n",
       "       SOLAR_SUM  \n",
       "1            NaN  \n",
       "2            0.0  \n",
       "3            0.0  \n",
       "4            0.0  \n",
       "5            0.0  \n",
       "...          ...  \n",
       "87182        0.0  \n",
       "87183        0.0  \n",
       "87184        0.0  \n",
       "87185        0.0  \n",
       "87186        NaN  \n",
       "\n",
       "[87186 rows x 13 columns]"
      ]
     },
     "execution_count": 3,
     "metadata": {},
     "output_type": "execute_result"
    }
   ],
   "source": [
    "data = pd.read_csv(filename, delim_whitespace=True, skiprows=10)\n",
    "data = data[1:]\n",
    "data"
   ]
  },
  {
   "cell_type": "code",
   "execution_count": 4,
   "id": "16db88ba-3298-4873-bd19-73cf6184f205",
   "metadata": {
    "tags": []
   },
   "outputs": [
    {
     "name": "stdout",
     "output_type": "stream",
     "text": [
      "Wavelength:  9.615384615384617  um\n"
     ]
    }
   ],
   "source": [
    "wn = '1040.00' #--- format is ###.00\n",
    "wl = (1/float(wn))*1e4\n",
    "print(\"Wavelength: \", wl, \" um\")\n",
    "\n",
    "data_wn = data[data['FREQ'] == wn]"
   ]
  },
  {
   "cell_type": "code",
   "execution_count": 5,
   "id": "b65d832e-387f-4e04-9a26-45d8953b0407",
   "metadata": {
    "tags": []
   },
   "outputs": [],
   "source": [
    "alt = data_wn['ALT'].astype(float)\n",
    "dT = data_wn['TOTAL'].astype(float)"
   ]
  },
  {
   "cell_type": "code",
   "execution_count": 6,
   "id": "a4fb92aa-7122-4cd8-81f5-de27214788bf",
   "metadata": {},
   "outputs": [
    {
     "data": {
      "image/png": "[encoded data removed]",
      "text/plain": [
       "<Figure size 600x600 with 1 Axes>"
      ]
     },
     "metadata": {},
     "output_type": "display_data"
    }
   ],
   "source": [
    "fig,ax=plt.subplots(1, 1, figsize=(6,6))\n",
    "ax.set_ylabel(\"Altitude (km)\", size=18)\n",
    "ax.set_xlabel(\"Total\", size=18)\n",
    "ax.tick_params(axis='x', labelrotation=90)\n",
    "ax.set_title(\"Weighting Function (\"+str(round(wl, 1))+\" um)\", size=22)\n",
    "ax.plot(dT, alt, c='#02066F', linewidth=2)\n",
    "\n",
    "plt.savefig('total_upward_flux.png', dpi=200, bbox_inches='tight')\n",
    "plt.show()"
   ]
  },
  {
   "cell_type": "code",
   "execution_count": 7,
   "id": "bac280d1-1b61-42b5-b926-c75849eb6de3",
   "metadata": {},
   "outputs": [
    {
     "name": "stdout",
     "output_type": "stream",
     "text": [
      "1041.6666666666667\n"
     ]
    }
   ],
   "source": [
    "wl = 9.6\n",
    "wn = 1e4/wl\n",
    "print(wn)"
   ]
  },
  {
   "cell_type": "code",
   "execution_count": null,
   "id": "c7a09609-3c03-4801-a729-9ad06977aaea",
   "metadata": {},
   "outputs": [],
   "source": []
  }
 ],
 "metadata": {
  "kernelspec": {
   "display_name": "Python 3 (ipykernel)",
   "language": "python",
   "name": "python3"
  },
  "language_info": {
   "codemirror_mode": {
    "name": "ipython",
    "version": 3
   },
   "file_extension": ".py",
   "mimetype": "text/x-python",
   "name": "python",
   "nbconvert_exporter": "python",
   "pygments_lexer": "ipython3",
   "version": "3.11.7"
  }
 },
 "nbformat": 4,
 "nbformat_minor": 5
}
