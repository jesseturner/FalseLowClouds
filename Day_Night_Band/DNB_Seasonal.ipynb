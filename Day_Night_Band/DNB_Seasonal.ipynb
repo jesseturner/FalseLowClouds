{
 "cells": [
  {
   "cell_type": "code",
   "execution_count": 1,
   "id": "1f398999-2160-459c-893e-94b9bb725b20",
   "metadata": {},
   "outputs": [],
   "source": [
    "import xarray as xr\n",
    "import h5py\n",
    "import numpy as np\n",
    "import satpy\n",
    "from glob import glob"
   ]
  },
  {
   "cell_type": "code",
   "execution_count": 2,
   "id": "648d0a24-5a0e-487e-a69c-1a5ff24954da",
   "metadata": {},
   "outputs": [],
   "source": [
    "dnb_path = '/mnt/data2/jturner/dnb_data/georges_bank/'\n",
    "dnb_file = 'GNCCO-VNCCO_npp_d20230103_t0556212_e0602224_b57954_c20231204164451483332_oeac_ops.h5'"
   ]
  },
  {
   "cell_type": "code",
   "execution_count": 3,
   "id": "a0f804c5-69f8-4c67-95da-42d0d71df5e1",
   "metadata": {},
   "outputs": [],
   "source": [
    "filenames = glob('/mnt/data2/jturner/dnb_data/georges_bank/*')"
   ]
  },
  {
   "cell_type": "markdown",
   "id": "cdf51c39-b07c-44e9-be11-f39b97175ec2",
   "metadata": {},
   "source": [
    "Satpy needs a reader that matches to the data: \n",
    "* https://satpy.readthedocs.io/en/stable/index.html#reader-table\n",
    "* https://nbviewer.org/github/pytroll/pytroll-examples/blob/main/satpy/Cartopy%20Plot.ipynb\n"
   ]
  },
  {
   "cell_type": "code",
   "execution_count": 4,
   "id": "d34e0189-10c6-4aac-8b04-491a829ac605",
   "metadata": {},
   "outputs": [
    {
     "ename": "KeyError",
     "evalue": "'GNCCO'",
     "output_type": "error",
     "traceback": [
      "\u001b[0;31m---------------------------------------------------------------------------\u001b[0m",
      "\u001b[0;31mKeyError\u001b[0m                                  Traceback (most recent call last)",
      "Cell \u001b[0;32mIn[4], line 1\u001b[0m\n\u001b[0;32m----> 1\u001b[0m scn \u001b[38;5;241m=\u001b[39m \u001b[43msatpy\u001b[49m\u001b[38;5;241;43m.\u001b[39;49m\u001b[43mScene\u001b[49m\u001b[43m(\u001b[49m\u001b[43mreader\u001b[49m\u001b[38;5;241;43m=\u001b[39;49m\u001b[38;5;124;43m'\u001b[39;49m\u001b[38;5;124;43mviirs_sdr\u001b[39;49m\u001b[38;5;124;43m'\u001b[39;49m\u001b[43m,\u001b[49m\u001b[43m \u001b[49m\u001b[43mfilenames\u001b[49m\u001b[38;5;241;43m=\u001b[39;49m\u001b[43mfilenames\u001b[49m\u001b[43m)\u001b[49m\n",
      "File \u001b[0;32m~/miniconda3/lib/python3.9/site-packages/satpy/scene.py:152\u001b[0m, in \u001b[0;36mScene.__init__\u001b[0;34m(self, filenames, reader, filter_parameters, reader_kwargs)\u001b[0m\n\u001b[1;32m    149\u001b[0m \u001b[38;5;28;01mif\u001b[39;00m filenames:\n\u001b[1;32m    150\u001b[0m     filenames \u001b[38;5;241m=\u001b[39m convert_remote_files_to_fsspec(filenames, storage_options)\n\u001b[0;32m--> 152\u001b[0m \u001b[38;5;28mself\u001b[39m\u001b[38;5;241m.\u001b[39m_readers \u001b[38;5;241m=\u001b[39m \u001b[38;5;28;43mself\u001b[39;49m\u001b[38;5;241;43m.\u001b[39;49m\u001b[43m_create_reader_instances\u001b[49m\u001b[43m(\u001b[49m\u001b[43mfilenames\u001b[49m\u001b[38;5;241;43m=\u001b[39;49m\u001b[43mfilenames\u001b[49m\u001b[43m,\u001b[49m\n\u001b[1;32m    153\u001b[0m \u001b[43m                                              \u001b[49m\u001b[43mreader\u001b[49m\u001b[38;5;241;43m=\u001b[39;49m\u001b[43mreader\u001b[49m\u001b[43m,\u001b[49m\n\u001b[1;32m    154\u001b[0m \u001b[43m                                              \u001b[49m\u001b[43mreader_kwargs\u001b[49m\u001b[38;5;241;43m=\u001b[39;49m\u001b[43mcleaned_reader_kwargs\u001b[49m\u001b[43m)\u001b[49m\n\u001b[1;32m    155\u001b[0m \u001b[38;5;28mself\u001b[39m\u001b[38;5;241m.\u001b[39m_datasets \u001b[38;5;241m=\u001b[39m DatasetDict()\n\u001b[1;32m    156\u001b[0m \u001b[38;5;28mself\u001b[39m\u001b[38;5;241m.\u001b[39m_wishlist \u001b[38;5;241m=\u001b[39m \u001b[38;5;28mset\u001b[39m()\n",
      "File \u001b[0;32m~/miniconda3/lib/python3.9/site-packages/satpy/scene.py:173\u001b[0m, in \u001b[0;36mScene._create_reader_instances\u001b[0;34m(self, filenames, reader, reader_kwargs)\u001b[0m\n\u001b[1;32m    168\u001b[0m \u001b[38;5;28;01mdef\u001b[39;00m \u001b[38;5;21m_create_reader_instances\u001b[39m(\u001b[38;5;28mself\u001b[39m,\n\u001b[1;32m    169\u001b[0m                              filenames\u001b[38;5;241m=\u001b[39m\u001b[38;5;28;01mNone\u001b[39;00m,\n\u001b[1;32m    170\u001b[0m                              reader\u001b[38;5;241m=\u001b[39m\u001b[38;5;28;01mNone\u001b[39;00m,\n\u001b[1;32m    171\u001b[0m                              reader_kwargs\u001b[38;5;241m=\u001b[39m\u001b[38;5;28;01mNone\u001b[39;00m):\n\u001b[1;32m    172\u001b[0m \u001b[38;5;250m    \u001b[39m\u001b[38;5;124;03m\"\"\"Find readers and return their instances.\"\"\"\u001b[39;00m\n\u001b[0;32m--> 173\u001b[0m     \u001b[38;5;28;01mreturn\u001b[39;00m \u001b[43mload_readers\u001b[49m\u001b[43m(\u001b[49m\u001b[43mfilenames\u001b[49m\u001b[38;5;241;43m=\u001b[39;49m\u001b[43mfilenames\u001b[49m\u001b[43m,\u001b[49m\n\u001b[1;32m    174\u001b[0m \u001b[43m                        \u001b[49m\u001b[43mreader\u001b[49m\u001b[38;5;241;43m=\u001b[39;49m\u001b[43mreader\u001b[49m\u001b[43m,\u001b[49m\n\u001b[1;32m    175\u001b[0m \u001b[43m                        \u001b[49m\u001b[43mreader_kwargs\u001b[49m\u001b[38;5;241;43m=\u001b[39;49m\u001b[43mreader_kwargs\u001b[49m\u001b[43m)\u001b[49m\n",
      "File \u001b[0;32m~/miniconda3/lib/python3.9/site-packages/satpy/readers/__init__.py:575\u001b[0m, in \u001b[0;36mload_readers\u001b[0;34m(filenames, reader, reader_kwargs)\u001b[0m\n\u001b[1;32m    573\u001b[0m loadables \u001b[38;5;241m=\u001b[39m reader_instance\u001b[38;5;241m.\u001b[39mselect_files_from_pathnames(readers_files)\n\u001b[1;32m    574\u001b[0m \u001b[38;5;28;01mif\u001b[39;00m loadables:\n\u001b[0;32m--> 575\u001b[0m     \u001b[43mreader_instance\u001b[49m\u001b[38;5;241;43m.\u001b[39;49m\u001b[43mcreate_filehandlers\u001b[49m\u001b[43m(\u001b[49m\n\u001b[1;32m    576\u001b[0m \u001b[43m            \u001b[49m\u001b[43mloadables\u001b[49m\u001b[43m,\u001b[49m\n\u001b[1;32m    577\u001b[0m \u001b[43m            \u001b[49m\u001b[43mfh_kwargs\u001b[49m\u001b[38;5;241;43m=\u001b[39;49m\u001b[43mreader_kwargs_without_filter\u001b[49m\u001b[43m[\u001b[49m\u001b[38;5;28;43;01mNone\u001b[39;49;00m\u001b[43m \u001b[49m\u001b[38;5;28;43;01mif\u001b[39;49;00m\u001b[43m \u001b[49m\u001b[43mreader\u001b[49m\u001b[43m \u001b[49m\u001b[38;5;129;43;01mis\u001b[39;49;00m\u001b[43m \u001b[49m\u001b[38;5;28;43;01mNone\u001b[39;49;00m\u001b[43m \u001b[49m\u001b[38;5;28;43;01melse\u001b[39;49;00m\u001b[43m \u001b[49m\u001b[43mreader\u001b[49m\u001b[43m[\u001b[49m\u001b[43midx\u001b[49m\u001b[43m]\u001b[49m\u001b[43m]\u001b[49m\u001b[43m)\u001b[49m\n\u001b[1;32m    578\u001b[0m     reader_instances[reader_instance\u001b[38;5;241m.\u001b[39mname] \u001b[38;5;241m=\u001b[39m reader_instance\n\u001b[1;32m    579\u001b[0m     remaining_filenames \u001b[38;5;241m-\u001b[39m\u001b[38;5;241m=\u001b[39m \u001b[38;5;28mset\u001b[39m(loadables)\n",
      "File \u001b[0;32m~/miniconda3/lib/python3.9/site-packages/satpy/readers/yaml_reader.py:616\u001b[0m, in \u001b[0;36mFileYAMLReader.create_filehandlers\u001b[0;34m(self, filenames, fh_kwargs)\u001b[0m\n\u001b[1;32m    614\u001b[0m \u001b[38;5;66;03m# load files that we know about by creating the file handlers\u001b[39;00m\n\u001b[1;32m    615\u001b[0m \u001b[38;5;28;01mfor\u001b[39;00m filetype, filetype_info \u001b[38;5;129;01min\u001b[39;00m \u001b[38;5;28mself\u001b[39m\u001b[38;5;241m.\u001b[39msorted_filetype_items():\n\u001b[0;32m--> 616\u001b[0m     filehandlers \u001b[38;5;241m=\u001b[39m \u001b[38;5;28;43mself\u001b[39;49m\u001b[38;5;241;43m.\u001b[39;49m\u001b[43m_new_filehandlers_for_filetype\u001b[49m\u001b[43m(\u001b[49m\u001b[43mfiletype_info\u001b[49m\u001b[43m,\u001b[49m\n\u001b[1;32m    617\u001b[0m \u001b[43m                                                       \u001b[49m\u001b[43mfilename_set\u001b[49m\u001b[43m,\u001b[49m\n\u001b[1;32m    618\u001b[0m \u001b[43m                                                       \u001b[49m\u001b[43mfh_kwargs\u001b[49m\u001b[38;5;241;43m=\u001b[39;49m\u001b[43mfh_kwargs\u001b[49m\u001b[43m)\u001b[49m\n\u001b[1;32m    620\u001b[0m     \u001b[38;5;28;01mif\u001b[39;00m filehandlers:\n\u001b[1;32m    621\u001b[0m         created_fhs[filetype] \u001b[38;5;241m=\u001b[39m filehandlers\n",
      "File \u001b[0;32m~/miniconda3/lib/python3.9/site-packages/satpy/readers/yaml_reader.py:604\u001b[0m, in \u001b[0;36mFileYAMLReader._new_filehandlers_for_filetype\u001b[0;34m(self, filetype_info, filenames, fh_kwargs)\u001b[0m\n\u001b[1;32m    600\u001b[0m filehandler_iter \u001b[38;5;241m=\u001b[39m \u001b[38;5;28mself\u001b[39m\u001b[38;5;241m.\u001b[39m_new_filehandler_instances(filetype_info,\n\u001b[1;32m    601\u001b[0m                                                    filename_iter,\n\u001b[1;32m    602\u001b[0m                                                    fh_kwargs\u001b[38;5;241m=\u001b[39mfh_kwargs)\n\u001b[1;32m    603\u001b[0m filtered_iter \u001b[38;5;241m=\u001b[39m \u001b[38;5;28mself\u001b[39m\u001b[38;5;241m.\u001b[39mfilter_fh_by_metadata(filehandler_iter)\n\u001b[0;32m--> 604\u001b[0m \u001b[38;5;28;01mreturn\u001b[39;00m \u001b[38;5;28;43mlist\u001b[39;49m\u001b[43m(\u001b[49m\u001b[43mfiltered_iter\u001b[49m\u001b[43m)\u001b[49m\n",
      "File \u001b[0;32m~/miniconda3/lib/python3.9/site-packages/satpy/readers/yaml_reader.py:573\u001b[0m, in \u001b[0;36mFileYAMLReader.filter_fh_by_metadata\u001b[0;34m(self, filehandlers)\u001b[0m\n\u001b[1;32m    571\u001b[0m \u001b[38;5;250m\u001b[39m\u001b[38;5;124;03m\"\"\"Filter out filehandlers using provide filter parameters.\"\"\"\u001b[39;00m\n\u001b[1;32m    572\u001b[0m \u001b[38;5;28;01mfor\u001b[39;00m filehandler \u001b[38;5;129;01min\u001b[39;00m filehandlers:\n\u001b[0;32m--> 573\u001b[0m     filehandler\u001b[38;5;241m.\u001b[39mmetadata[\u001b[38;5;124m\"\u001b[39m\u001b[38;5;124mstart_time\u001b[39m\u001b[38;5;124m\"\u001b[39m] \u001b[38;5;241m=\u001b[39m \u001b[43mfilehandler\u001b[49m\u001b[38;5;241;43m.\u001b[39;49m\u001b[43mstart_time\u001b[49m\n\u001b[1;32m    574\u001b[0m     filehandler\u001b[38;5;241m.\u001b[39mmetadata[\u001b[38;5;124m\"\u001b[39m\u001b[38;5;124mend_time\u001b[39m\u001b[38;5;124m\"\u001b[39m] \u001b[38;5;241m=\u001b[39m filehandler\u001b[38;5;241m.\u001b[39mend_time\n\u001b[1;32m    575\u001b[0m     \u001b[38;5;28;01mif\u001b[39;00m \u001b[38;5;28mself\u001b[39m\u001b[38;5;241m.\u001b[39mmetadata_matches(filehandler\u001b[38;5;241m.\u001b[39mmetadata, filehandler):\n",
      "File \u001b[0;32m~/miniconda3/lib/python3.9/site-packages/satpy/readers/viirs_atms_sdr_base.py:118\u001b[0m, in \u001b[0;36mJPSS_SDR_FileHandler.start_time\u001b[0;34m(self)\u001b[0m\n\u001b[1;32m    115\u001b[0m \u001b[38;5;129m@property\u001b[39m\n\u001b[1;32m    116\u001b[0m \u001b[38;5;28;01mdef\u001b[39;00m \u001b[38;5;21mstart_time\u001b[39m(\u001b[38;5;28mself\u001b[39m):\n\u001b[1;32m    117\u001b[0m \u001b[38;5;250m    \u001b[39m\u001b[38;5;124;03m\"\"\"Get start time.\"\"\"\u001b[39;00m\n\u001b[0;32m--> 118\u001b[0m     date_var_path \u001b[38;5;241m=\u001b[39m \u001b[38;5;28;43mself\u001b[39;49m\u001b[38;5;241;43m.\u001b[39;49m\u001b[43m_get_aggr_path\u001b[49m\u001b[43m(\u001b[49m\u001b[38;5;124;43m\"\u001b[39;49m\u001b[38;5;124;43mstart_date\u001b[39;49m\u001b[38;5;124;43m\"\u001b[39;49m\u001b[43m,\u001b[49m\u001b[43m \u001b[49m\u001b[38;5;124;43m\"\u001b[39;49m\u001b[38;5;124;43mAggregateBeginningDate\u001b[39;49m\u001b[38;5;124;43m\"\u001b[39;49m\u001b[43m)\u001b[49m\n\u001b[1;32m    119\u001b[0m     time_var_path \u001b[38;5;241m=\u001b[39m \u001b[38;5;28mself\u001b[39m\u001b[38;5;241m.\u001b[39m_get_aggr_path(\u001b[38;5;124m\"\u001b[39m\u001b[38;5;124mstart_time\u001b[39m\u001b[38;5;124m\"\u001b[39m, \u001b[38;5;124m\"\u001b[39m\u001b[38;5;124mAggregateBeginningTime\u001b[39m\u001b[38;5;124m\"\u001b[39m)\n\u001b[1;32m    120\u001b[0m     \u001b[38;5;28;01mreturn\u001b[39;00m \u001b[38;5;28mself\u001b[39m\u001b[38;5;241m.\u001b[39m_parse_datetime(\u001b[38;5;28mself\u001b[39m[date_var_path], \u001b[38;5;28mself\u001b[39m[time_var_path])\n",
      "File \u001b[0;32m~/miniconda3/lib/python3.9/site-packages/satpy/readers/viirs_atms_sdr_base.py:142\u001b[0m, in \u001b[0;36mJPSS_SDR_FileHandler._get_aggr_path\u001b[0;34m(self, fileinfo_key, aggr_default)\u001b[0m\n\u001b[1;32m    141\u001b[0m \u001b[38;5;28;01mdef\u001b[39;00m \u001b[38;5;21m_get_aggr_path\u001b[39m(\u001b[38;5;28mself\u001b[39m, fileinfo_key, aggr_default):\n\u001b[0;32m--> 142\u001b[0m     dataset_group \u001b[38;5;241m=\u001b[39m \u001b[43mDATASET_KEYS\u001b[49m\u001b[43m[\u001b[49m\u001b[38;5;28;43mself\u001b[39;49m\u001b[38;5;241;43m.\u001b[39;49m\u001b[43mdatasets\u001b[49m\u001b[43m[\u001b[49m\u001b[38;5;241;43m0\u001b[39;49m\u001b[43m]\u001b[49m\u001b[43m]\u001b[49m\n\u001b[1;32m    143\u001b[0m     default \u001b[38;5;241m=\u001b[39m \u001b[38;5;124m\"\u001b[39m\u001b[38;5;124mData_Products/\u001b[39m\u001b[38;5;132;01m{dataset_group}\u001b[39;00m\u001b[38;5;124m/\u001b[39m\u001b[38;5;132;01m{dataset_group}\u001b[39;00m\u001b[38;5;124m_Aggr/attr/\u001b[39m\u001b[38;5;124m\"\u001b[39m \u001b[38;5;241m+\u001b[39m aggr_default\n\u001b[1;32m    144\u001b[0m     \u001b[38;5;28;01mreturn\u001b[39;00m \u001b[38;5;28mself\u001b[39m\u001b[38;5;241m.\u001b[39mfiletype_info\u001b[38;5;241m.\u001b[39mget(fileinfo_key, default)\u001b[38;5;241m.\u001b[39mformat(dataset_group\u001b[38;5;241m=\u001b[39mdataset_group)\n",
      "\u001b[0;31mKeyError\u001b[0m: 'GNCCO'"
     ]
    }
   ],
   "source": [
    "scn = satpy.Scene(reader='viirs_sdr', filenames=filenames)"
   ]
  },
  {
   "cell_type": "code",
   "execution_count": 5,
   "id": "4814c8b8-fd11-4f33-bad1-6d751137d29c",
   "metadata": {},
   "outputs": [],
   "source": [
    "ds = xr.open_dataset(dnb_path+dnb_file, engine=\"h5netcdf\")"
   ]
  },
  {
   "cell_type": "code",
   "execution_count": 6,
   "id": "9b07e754-a040-4066-9e00-13527174b350",
   "metadata": {},
   "outputs": [],
   "source": [
    "f = h5py.File(dnb_path+dnb_file, 'r')"
   ]
  },
  {
   "cell_type": "code",
   "execution_count": 7,
   "id": "a16c481e-9bdd-4af0-97d2-a8ac8ee6dfe4",
   "metadata": {},
   "outputs": [
    {
     "data": {
      "text/plain": [
       "['All_Data', 'Data_Products']"
      ]
     },
     "execution_count": 7,
     "metadata": {},
     "output_type": "execute_result"
    }
   ],
   "source": [
    "list(f.keys())"
   ]
  },
  {
   "cell_type": "code",
   "execution_count": 8,
   "id": "74a2f4b6-2d9a-45af-95fc-2cadf6a36839",
   "metadata": {},
   "outputs": [],
   "source": [
    "prod = f['Data_Products']\n",
    "ncc = prod['VIIRS-NCC-EDR']"
   ]
  },
  {
   "cell_type": "code",
   "execution_count": 9,
   "id": "e0ef1918-77e9-403f-9f6b-ceb697b5a3a0",
   "metadata": {},
   "outputs": [
    {
     "data": {
      "text/plain": [
       "['VIIRS-NCC-EDR_Aggr',\n",
       " 'VIIRS-NCC-EDR_Gran_0',\n",
       " 'VIIRS-NCC-EDR_Gran_1',\n",
       " 'VIIRS-NCC-EDR_Gran_2',\n",
       " 'VIIRS-NCC-EDR_Gran_3']"
      ]
     },
     "execution_count": 9,
     "metadata": {},
     "output_type": "execute_result"
    }
   ],
   "source": [
    "list(ncc.keys())"
   ]
  },
  {
   "cell_type": "code",
   "execution_count": 10,
   "id": "c1ce58c8-0856-4f43-987a-4791da63ba38",
   "metadata": {},
   "outputs": [],
   "source": [
    "ncc_0 = ncc['VIIRS-NCC-EDR_Gran_0']"
   ]
  },
  {
   "cell_type": "code",
   "execution_count": 11,
   "id": "35d5a793-8d4a-47d1-ac58-91b639cba1d4",
   "metadata": {},
   "outputs": [],
   "source": [
    "ncc_agg = ncc.get('VIIRS-NCC-EDR_Aggr')"
   ]
  },
  {
   "cell_type": "code",
   "execution_count": 12,
   "id": "a23ec235-e1c9-46f1-9163-827ff0392ac9",
   "metadata": {},
   "outputs": [
    {
     "data": {
      "text/plain": [
       "<HDF5 object reference>"
      ]
     },
     "execution_count": 12,
     "metadata": {},
     "output_type": "execute_result"
    }
   ],
   "source": [
    "ncc_agg[0]"
   ]
  },
  {
   "cell_type": "code",
   "execution_count": null,
   "id": "812d8603-6d02-45f5-bf45-cf564c370389",
   "metadata": {},
   "outputs": [],
   "source": []
  }
 ],
 "metadata": {
  "kernelspec": {
   "display_name": "Python 3 (ipykernel)",
   "language": "python",
   "name": "python3"
  },
  "language_info": {
   "codemirror_mode": {
    "name": "ipython",
    "version": 3
   },
   "file_extension": ".py",
   "mimetype": "text/x-python",
   "name": "python",
   "nbconvert_exporter": "python",
   "pygments_lexer": "ipython3",
   "version": "3.9.18"
  }
 },
 "nbformat": 4,
 "nbformat_minor": 5
}
