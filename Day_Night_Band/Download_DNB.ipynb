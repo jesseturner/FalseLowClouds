{
 "cells": [
  {
   "cell_type": "markdown",
   "id": "9d3fc9b7-c3b6-4194-b9be-9f1808ba3fc8",
   "metadata": {},
   "source": [
    "# Download DNB data"
   ]
  },
  {
   "cell_type": "markdown",
   "id": "1a1c8083-d819-47b5-9ba6-84c94e424590",
   "metadata": {},
   "source": [
    "Attempting to get data from AWS:"
   ]
  },
  {
   "cell_type": "code",
   "execution_count": 1,
   "id": "643c89e7-b703-4f89-91ed-faeda8ae5e49",
   "metadata": {},
   "outputs": [],
   "source": [
    "import s3fs"
   ]
  },
  {
   "cell_type": "code",
   "execution_count": 2,
   "id": "0e960f7c-6635-4373-8819-2eb0d1735141",
   "metadata": {},
   "outputs": [],
   "source": [
    "fs = s3fs.S3FileSystem(anon=True)"
   ]
  },
  {
   "cell_type": "code",
   "execution_count": 3,
   "id": "defcdaa1-6487-463f-824e-d496c0e0ad87",
   "metadata": {},
   "outputs": [
    {
     "name": "stdout",
     "output_type": "stream",
     "text": [
      "ATMS\n",
      "CrIS\n",
      "OMPS\n",
      "SOUNDINGS\n",
      "VIIRS\n"
     ]
    }
   ],
   "source": [
    "bucket = 'noaa-jpss'\n",
    "satellite = 'NOAA20'\n",
    "\n",
    "sensors_path = bucket + '/' + satellite \n",
    "\n",
    "sensors = fs.ls(sensors_path)\n",
    "\n",
    "for sensor in sensors:\n",
    "    print(sensor.split('/')[-1])"
   ]
  },
  {
   "cell_type": "code",
   "execution_count": 4,
   "id": "30bd29f3-43b7-44cb-ae92-9ff3b01712f1",
   "metadata": {},
   "outputs": [
    {
     "name": "stdout",
     "output_type": "stream",
     "text": [
      "SNPP_VIIRS_AF_I-Band_EDR_NRT\n",
      "SNPP_VIIRS_Aerosol_Detection_EDR\n",
      "SNPP_VIIRS_Aerosol_Detection_EDR_Reprocessed\n",
      "SNPP_VIIRS_Aerosol_Optical_Depth_EDR\n",
      "SNPP_VIIRS_Aerosol_Optical_Depth_EDR_Reprocessed\n",
      "SNPP_VIIRS_Aerosol_Optical_Depth_Gridded_Reprocessed\n",
      "SNPP_VIIRS_Cloud_Mask_EDR\n",
      "SNPP_VIIRS_Cloud_Top_Height_EDR\n",
      "SNPP_VIIRS_Day-Night-Band_SDR_GEO_GDNBO_Reprocessed_V2\n",
      "SNPP_VIIRS_Day-Night-Band_SDR_SVDNB_Reprocessed_V2\n",
      "SNPP_VIIRS_Daytime_Cloud_Optical_and_Microphysical_Properties_(DCOMP)_EDR\n",
      "SNPP_VIIRS_Flood_Map_Global_VFMGLB\n",
      "SNPP_VIIRS_I-Band_01_SDR_SVI01_NRT\n",
      "SNPP_VIIRS_I-Band_01_SDR_SVI01_Reprocessed_V2\n",
      "SNPP_VIIRS_I-Band_02_SDR_SVI02_NRT\n",
      "SNPP_VIIRS_I-Band_02_SDR_SVI02_Reprocessed_V2\n",
      "SNPP_VIIRS_I-Band_03_SDR_SVI03_NRT\n",
      "SNPP_VIIRS_I-Band_03_SDR_SVI03_Reprocessed_V2\n",
      "SNPP_VIIRS_I-Band_04_SDR_SVI04_NRT\n",
      "SNPP_VIIRS_I-Band_04_SDR_SVI04_Reprocessed_V2\n",
      "SNPP_VIIRS_I-Band_05_SDR_SVI05_NRT\n",
      "SNPP_VIIRS_I-Band_05_SDR_SVI05_Reprocessed_V2\n",
      "SNPP_VIIRS_I-Band_SDR_GEO_GIMGO_Reprocessed_V2\n",
      "SNPP_VIIRS_I-Band_SDR_TC_GEO_GITCO_NRT\n",
      "SNPP_VIIRS_I-Band_SDR_TC_GEO_GITCO_Reprocessed_V2\n",
      "SNPP_VIIRS_I1_IMG_EDR_VI1BO\n",
      "SNPP_VIIRS_I2_IMG_EDR_VI2BO\n",
      "SNPP_VIIRS_I3_IMG_EDR_VI3BO\n",
      "SNPP_VIIRS_I4_IMG_EDR_VI4BO\n",
      "SNPP_VIIRS_I5_IMG_EDR_VI5BO\n",
      "SNPP_VIIRS_IMG_GTM_EDR_GEO_GIGTO\n",
      "SNPP_VIIRS_Land_Surface_Temperature_Day_Gridded_Daily\n",
      "SNPP_VIIRS_Land_Surface_Temperature_EDR\n",
      "SNPP_VIIRS_Land_Surface_Temperature_Night_Gridded_Daily\n",
      "SNPP_VIIRS_M-Band_01_IMG_EDR_VM01O\n",
      "SNPP_VIIRS_M-Band_01_SDR_SVM01\n",
      "SNPP_VIIRS_M-Band_01_SDR_SVM01_NRT\n",
      "SNPP_VIIRS_M-Band_01_SDR_SVM01_Reprocessed_V2\n",
      "SNPP_VIIRS_M-Band_02_IMG_EDR_VM02O\n",
      "SNPP_VIIRS_M-Band_02_SDR_SVM02\n",
      "SNPP_VIIRS_M-Band_02_SDR_SVM02_NRT\n",
      "SNPP_VIIRS_M-Band_02_SDR_SVM02_Reprocessed_V2\n",
      "SNPP_VIIRS_M-Band_03_IMG_EDR_VM03O\n",
      "SNPP_VIIRS_M-Band_03_SDR_SVM03\n",
      "SNPP_VIIRS_M-Band_03_SDR_SVM03_NRT\n",
      "SNPP_VIIRS_M-Band_03_SDR_SVM03_Reprocessed_V2\n",
      "SNPP_VIIRS_M-Band_04_IMG_EDR_VM04O\n",
      "SNPP_VIIRS_M-Band_04_SDR_SVM04\n",
      "SNPP_VIIRS_M-Band_04_SDR_SVM04_NRT\n",
      "SNPP_VIIRS_M-Band_04_SDR_SVM04_Reprocessed_V2\n",
      "SNPP_VIIRS_M-Band_05_IMG_EDR_VM05O\n",
      "SNPP_VIIRS_M-Band_05_SDR_SVM05\n",
      "SNPP_VIIRS_M-Band_05_SDR_SVM05_NRT\n",
      "SNPP_VIIRS_M-Band_05_SDR_SVM05_Reprocessed_V2\n",
      "SNPP_VIIRS_M-Band_06_IMG_EDR_VM06O\n",
      "SNPP_VIIRS_M-Band_06_SDR_SVM06\n",
      "SNPP_VIIRS_M-Band_06_SDR_SVM06_NRT\n",
      "SNPP_VIIRS_M-Band_06_SDR_SVM06_Reprocessed_V2\n",
      "SNPP_VIIRS_M-Band_07_IMG_EDR_VM07O\n",
      "SNPP_VIIRS_M-Band_07_SDR_SVM07\n",
      "SNPP_VIIRS_M-Band_07_SDR_SVM07_NRT\n",
      "SNPP_VIIRS_M-Band_07_SDR_SVM07_Reprocessed_V2\n",
      "SNPP_VIIRS_M-Band_08_IMG_EDR_VM08O\n",
      "SNPP_VIIRS_M-Band_08_SDR_SVM08\n",
      "SNPP_VIIRS_M-Band_08_SDR_SVM08_NRT\n",
      "SNPP_VIIRS_M-Band_08_SDR_SVM08_Reprocessed_V2\n",
      "SNPP_VIIRS_M-Band_09_IMG_EDR_VM09O\n",
      "SNPP_VIIRS_M-Band_09_SDR_SVM09\n",
      "SNPP_VIIRS_M-Band_09_SDR_SVM09_NRT\n",
      "SNPP_VIIRS_M-Band_09_SDR_SVM09_Reprocessed_V2\n",
      "SNPP_VIIRS_M-Band_10_IMG_EDR_VM10O\n",
      "SNPP_VIIRS_M-Band_10_SDR_SVM10\n",
      "SNPP_VIIRS_M-Band_10_SDR_SVM10_NRT\n",
      "SNPP_VIIRS_M-Band_10_SDR_SVM10_Reprocessed_V2\n",
      "SNPP_VIIRS_M-Band_11_IMG_EDR_VM11O\n",
      "SNPP_VIIRS_M-Band_11_SDR_SVM11\n",
      "SNPP_VIIRS_M-Band_11_SDR_SVM11_NRT\n",
      "SNPP_VIIRS_M-Band_11_SDR_SVM11_Reprocessed_V2\n",
      "SNPP_VIIRS_M-Band_12_IMG_EDR_VM12O\n",
      "SNPP_VIIRS_M-Band_12_SDR_SVM12\n",
      "SNPP_VIIRS_M-Band_12_SDR_SVM12_NRT\n",
      "SNPP_VIIRS_M-Band_12_SDR_SVM12_Reprocessed_V2\n",
      "SNPP_VIIRS_M-Band_13_IMG_EDR_VM13O\n",
      "SNPP_VIIRS_M-Band_13_SDR_SVM13\n",
      "SNPP_VIIRS_M-Band_13_SDR_SVM13_NRT\n",
      "SNPP_VIIRS_M-Band_13_SDR_SVM13_Reprocessed_V2\n",
      "SNPP_VIIRS_M-Band_14_IMG_EDR_VM14O\n",
      "SNPP_VIIRS_M-Band_14_SDR_SVM14\n",
      "SNPP_VIIRS_M-Band_14_SDR_SVM14_NRT\n",
      "SNPP_VIIRS_M-Band_14_SDR_SVM14_Reprocessed_V2\n",
      "SNPP_VIIRS_M-Band_15_IMG_EDR_VM15O\n",
      "SNPP_VIIRS_M-Band_15_SDR_SVM15\n",
      "SNPP_VIIRS_M-Band_15_SDR_SVM15_NRT\n",
      "SNPP_VIIRS_M-Band_15_SDR_SVM15_Reprocessed_V2\n",
      "SNPP_VIIRS_M-Band_16_IMG_EDR_VM16O\n",
      "SNPP_VIIRS_M-Band_16_SDR_SVM16\n",
      "SNPP_VIIRS_M-Band_16_SDR_SVM16_NRT\n",
      "SNPP_VIIRS_M-Band_16_SDR_SVM16_Reprocessed_V2\n",
      "SNPP_VIIRS_M-Band_SDR_GEO_GMODO_Reprocessed_V2\n",
      "SNPP_VIIRS_M-Band_SDR_TC_GEO_GMTCO\n",
      "SNPP_VIIRS_M-Band_SDR_TC_GEO_GMTCO_NRT\n",
      "SNPP_VIIRS_M-Band_SDR_TC_GEO_GMTCO_Reprocessed_V2\n",
      "SNPP_VIIRS_MOD_GTM_EDR_GEO_GMGTO\n",
      "SNPP_VIIRS_OC_CONUS_ANOMALY_ops\n",
      "SNPP_VIIRS_OC_CONUS_CHLOR-A_ops\n",
      "SNPP_VIIRS_OC_CONUS_KD490_ops\n",
      "SNPP_VIIRS_OC_CONUS_KDPAR_ops\n",
      "SNPP_VIIRS_OC_FRONTAL_GRADMAGDIR_ops\n",
      "SNPP_VIIRS_OC_GLOBAL_CHLOR-A_ops\n",
      "SNPP_VIIRS_OC_GLOBAL_KD490_ops\n",
      "SNPP_VIIRS_OC_GLOBAL_KDPAR_ops\n"
     ]
    }
   ],
   "source": [
    "bucket = 'noaa-jpss'\n",
    "satellite = 'SNPP'\n",
    "sensor = 'VIIRS'\n",
    "\n",
    "products_path = bucket + '/' + satellite + '/' + sensor\n",
    "\n",
    "products = fs.ls(products_path)\n",
    "\n",
    "for product in products:\n",
    "    print(product.split('/')[-1])"
   ]
  },
  {
   "cell_type": "code",
   "execution_count": 5,
   "id": "4f4fdf06-b23b-4b26-afe2-cbfbc2bd0d28",
   "metadata": {},
   "outputs": [
    {
     "name": "stdout",
     "output_type": "stream",
     "text": [
      "Total number of files: 253 \n",
      "\n",
      "SVDNB_npp_d20200101_t0003370_e0009173_b42372_c20230708014648124364_adlc_rp2.h5\n",
      "SVDNB_npp_d20200101_t0009186_e0014590_b42373_c20230708015221904155_adlc_rp2.h5\n",
      "SVDNB_npp_d20200101_t0015002_e0020388_b42373_c20230708015755491288_adlc_rp2.h5\n",
      "SVDNB_npp_d20200101_t0020400_e0026204_b42373_c20230708020344849827_adlc_rp2.h5\n",
      "SVDNB_npp_d20200101_t0026217_e0032020_b42373_c20230708020858145917_adlc_rp2.h5\n",
      "SVDNB_npp_d20200101_t0032033_e0037437_b42373_c20230708021421554416_adlc_rp2.h5\n",
      "SVDNB_npp_d20200101_t0037449_e0043253_b42373_c20230708022013051400_adlc_rp2.h5\n",
      "SVDNB_npp_d20200101_t0043265_e0049069_b42373_c20230708022546551906_adlc_rp2.h5\n",
      "SVDNB_npp_d20200101_t0049081_e0054485_b42373_c20230708023241556635_adlc_rp2.h5\n",
      "SVDNB_npp_d20200101_t0054498_e0100301_b42373_c20230708023922798370_adlc_rp2.h5\n"
     ]
    }
   ],
   "source": [
    "bucket = 'noaa-jpss'\n",
    "satellite = 'SNPP'\n",
    "sensor = 'VIIRS'\n",
    "product = 'SNPP_VIIRS_Day-Night-Band_SDR_SVDNB_Reprocessed_V2'\n",
    "year = 2020\n",
    "month = 1\n",
    "day = 1\n",
    "\n",
    "files_path = bucket + '/' + satellite + '/' + sensor + '/' + product + '/' + str(year) + '/' + str(month).zfill(2)  + '/' + str(day).zfill(2)\n",
    "\n",
    "files = fs.ls(files_path)\n",
    "\n",
    "print('Total number of files:', len(files), '\\n')\n",
    "\n",
    "for file in files[:10]:\n",
    "    print(file.split('/')[-1])"
   ]
  },
  {
   "cell_type": "code",
   "execution_count": 7,
   "id": "f2dbc4d7-b566-40c7-b881-3e88ad1e3f6e",
   "metadata": {},
   "outputs": [
    {
     "name": "stdout",
     "output_type": "stream",
     "text": [
      "Total number of files: 253 \n",
      "\n",
      "GDNBO_npp_d20200101_t0003370_e0009173_b42372_c20230708014648124062_adlc_rp2.h5\n",
      "GDNBO_npp_d20200101_t0009186_e0014590_b42373_c20230708015221903783_adlc_rp2.h5\n",
      "GDNBO_npp_d20200101_t0015002_e0020388_b42373_c20230708015755490999_adlc_rp2.h5\n",
      "GDNBO_npp_d20200101_t0020400_e0026204_b42373_c20230708020344849444_adlc_rp2.h5\n",
      "GDNBO_npp_d20200101_t0026217_e0032020_b42373_c20230708020858145688_adlc_rp2.h5\n",
      "GDNBO_npp_d20200101_t0032033_e0037437_b42373_c20230708021421554140_adlc_rp2.h5\n",
      "GDNBO_npp_d20200101_t0037449_e0043253_b42373_c20230708022013051158_adlc_rp2.h5\n",
      "GDNBO_npp_d20200101_t0043265_e0049069_b42373_c20230708022546551625_adlc_rp2.h5\n",
      "GDNBO_npp_d20200101_t0049081_e0054485_b42373_c20230708023241556361_adlc_rp2.h5\n",
      "GDNBO_npp_d20200101_t0054498_e0100301_b42373_c20230708023922798035_adlc_rp2.h5\n"
     ]
    }
   ],
   "source": [
    "bucket = 'noaa-jpss'\n",
    "satellite = 'SNPP'\n",
    "sensor = 'VIIRS'\n",
    "product = 'SNPP_VIIRS_Day-Night-Band_SDR_GEO_GDNBO_Reprocessed_V2'\n",
    "year = 2020\n",
    "month = 1\n",
    "day = 1\n",
    "\n",
    "files_path = bucket + '/' + satellite + '/' + sensor + '/' + product + '/' + str(year) + '/' + str(month).zfill(2)  + '/' + str(day).zfill(2)\n",
    "\n",
    "files = fs.ls(files_path)\n",
    "\n",
    "print('Total number of files:', len(files), '\\n')\n",
    "\n",
    "for file in files[:10]:\n",
    "    print(file.split('/')[-1])"
   ]
  },
  {
   "cell_type": "code",
   "execution_count": null,
   "id": "ae1c79c4-2823-42ca-9617-217e272ac14d",
   "metadata": {},
   "outputs": [],
   "source": []
  }
 ],
 "metadata": {
  "kernelspec": {
   "display_name": "Python 3 (ipykernel)",
   "language": "python",
   "name": "python3"
  },
  "language_info": {
   "codemirror_mode": {
    "name": "ipython",
    "version": 3
   },
   "file_extension": ".py",
   "mimetype": "text/x-python",
   "name": "python",
   "nbconvert_exporter": "python",
   "pygments_lexer": "ipython3",
   "version": "3.9.18"
  }
 },
 "nbformat": 4,
 "nbformat_minor": 5
}
