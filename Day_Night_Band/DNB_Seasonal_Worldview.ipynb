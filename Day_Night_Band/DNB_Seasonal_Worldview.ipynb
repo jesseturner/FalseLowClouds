{
 "cells": [
  {
   "cell_type": "markdown",
   "id": "240cbd27-058c-4482-b8f3-1472e5db9066",
   "metadata": {},
   "source": [
    "# DNB Seasonal"
   ]
  },
  {
   "cell_type": "markdown",
   "id": "aadbe8b0-0a14-4f8d-90cc-4386a4baed68",
   "metadata": {},
   "source": [
    "### Testing with NASA worldview imagery"
   ]
  },
  {
   "cell_type": "code",
   "execution_count": 1,
   "id": "6ebe9831-0496-401e-8e66-888d417cff0a",
   "metadata": {},
   "outputs": [],
   "source": [
    "from PIL import Image\n",
    "import os\n",
    "import numpy as np"
   ]
  },
  {
   "cell_type": "code",
   "execution_count": 2,
   "id": "bc0a6bba-e92f-4b69-8149-b836b69fc7c7",
   "metadata": {},
   "outputs": [],
   "source": [
    "month = '08_Aug'"
   ]
  },
  {
   "cell_type": "code",
   "execution_count": 3,
   "id": "849eef3e-f595-4311-8382-47c1c9bc93c6",
   "metadata": {},
   "outputs": [
    {
     "name": "stdout",
     "output_type": "stream",
     "text": [
      "snapshot-2023-08-01T00_00_00Z.jpg\n",
      "snapshot-2023-08-02T00_00_00Z.jpg\n",
      "snapshot-2023-08-03T00_00_00Z.jpg\n",
      "snapshot-2023-08-04T00_00_00Z.jpg\n",
      "snapshot-2023-08-05T00_00_00Z.jpg\n",
      "snapshot-2023-08-06T00_00_00Z.jpg\n",
      "snapshot-2023-08-07T00_00_00Z.jpg\n",
      "snapshot-2023-08-08T00_00_00Z.jpg\n",
      "snapshot-2023-08-09T00_00_00Z.jpg\n",
      "snapshot-2023-08-10T00_00_00Z.jpg\n",
      "snapshot-2023-08-11T00_00_00Z.jpg\n",
      "snapshot-2023-08-12T00_00_00Z.jpg\n",
      "snapshot-2023-08-13T00_00_00Z.jpg\n",
      "snapshot-2023-08-14T00_00_00Z.jpg\n",
      "snapshot-2023-08-15T00_00_00Z.jpg\n"
     ]
    }
   ],
   "source": [
    "images = []\n",
    "directory = 'NasaWorldview_Imagery/'+month\n",
    "target_size=(912, 796)\n",
    "\n",
    "for filename in sorted(os.listdir(directory)):\n",
    "    if filename.endswith(\".jpg\"):\n",
    "        print(filename)\n",
    "        filepath = os.path.join(directory, filename)\n",
    "        img = Image.open(filepath)\n",
    "        img = img.convert('L') #convert images to grayscale\n",
    "        img = img.resize(target_size)\n",
    "        images.append(np.array(img))"
   ]
  },
  {
   "cell_type": "code",
   "execution_count": 4,
   "id": "cad39554-cbeb-4151-9032-d93364c6c9a0",
   "metadata": {},
   "outputs": [
    {
     "data": {
      "text/plain": [
       "(15, 796, 912)"
      ]
     },
     "execution_count": 4,
     "metadata": {},
     "output_type": "execute_result"
    }
   ],
   "source": [
    "np.shape(images)"
   ]
  },
  {
   "cell_type": "code",
   "execution_count": 5,
   "id": "205189ca-30bd-46ab-ae40-62f36ad07222",
   "metadata": {},
   "outputs": [],
   "source": [
    "images_array = np.array(images)\n",
    "total_image_array = np.sum(images_array, axis=0, dtype=np.uint8)\n",
    "total_image = Image.fromarray(total_image_array)\n",
    "#total_image.show()\n",
    "total_image.save(month+'_total_image.jpg')"
   ]
  },
  {
   "cell_type": "code",
   "execution_count": null,
   "id": "ad1da053-348c-44c7-8b21-c5d44ca2f9d7",
   "metadata": {},
   "outputs": [],
   "source": []
  },
  {
   "cell_type": "raw",
   "id": "45f8a913-5b34-463d-888e-ee5fa30f2e8c",
   "metadata": {},
   "source": []
  },
  {
   "cell_type": "code",
   "execution_count": null,
   "id": "e0b37f5d-dfd2-4788-8ace-2fbd0ffeb165",
   "metadata": {},
   "outputs": [],
   "source": []
  }
 ],
 "metadata": {
  "kernelspec": {
   "display_name": "Python 3 (ipykernel)",
   "language": "python",
   "name": "python3"
  },
  "language_info": {
   "codemirror_mode": {
    "name": "ipython",
    "version": 3
   },
   "file_extension": ".py",
   "mimetype": "text/x-python",
   "name": "python",
   "nbconvert_exporter": "python",
   "pygments_lexer": "ipython3",
   "version": "3.9.18"
  }
 },
 "nbformat": 4,
 "nbformat_minor": 5
}
