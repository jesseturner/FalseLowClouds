{
 "cells": [
  {
   "cell_type": "code",
   "execution_count": 1,
   "id": "947342ec-0ac4-41af-9a37-28c5a37fe4c4",
   "metadata": {},
   "outputs": [],
   "source": [
    "import numpy as np\n",
    "from matplotlib import pyplot as plt\n",
    "from pylab import *   "
   ]
  },
  {
   "cell_type": "markdown",
   "id": "1a506045-6484-4d50-9b69-b37b2571e6e4",
   "metadata": {},
   "source": [
    "### Customized from read_SBDART_ex_1.py"
   ]
  },
  {
   "cell_type": "code",
   "execution_count": 2,
   "id": "da70ab0c-94a2-44e3-afed-d04329889b12",
   "metadata": {},
   "outputs": [],
   "source": [
    "def read_sbdart_simple(filename,iout=1):\n",
    "    '''\n",
    "    Function to read in select output from SBDART\n",
    "    Requires:\n",
    "    import numpy as np\n",
    "    from pylab import *\n",
    "    \n",
    "    Input:\n",
    "    filename = file location as string\n",
    "           \n",
    "    WL,FFV,TOPDN,TOPUP,TOPDIR,BOTDN,BOTUP,BOTDIR\n",
    "    \n",
    "    WL    = wavelength                         (microns)\n",
    "    FFV   = filter function value\n",
    "    TOPDN = total downward flux at ZOUT(2) km  (w/m2/micron)\n",
    "    TOPUP = total upward flux at ZOUT(2) km    (w/m2/micron)\n",
    "    TOPDIR= direct downward flux at ZOUT(2) km (w/m2/micron)\n",
    "    BOTDN = total downward flux at ZOUT(1) km  (w/m2/micron)\n",
    "    BOTUP = total upward flux at  ZOUT(1) km   (w/m2/micron)\n",
    "    BOTDIR= direct downward flux at ZOUT(1) km (w/m2/micron)\n",
    "    '''\n",
    "    f = loadtxt(filename,delimiter=\"\\t\",skiprows=3,dtype='str')\n",
    "\n",
    "    WL=[]\n",
    "    FFV=[]\n",
    "\n",
    "    for row in f:\n",
    "        c = str(row).replace('  ',' ')\n",
    "        c = c.split(' ')\n",
    "        \n",
    "        #If multiple files are included in the same file, such as in example 3 of SBDART\n",
    "        if c[0]=='\"tbf' or c[1]=='':\n",
    "            continue\n",
    "            \n",
    "        WL.append(float(c[1]))\n",
    "        FFV.append(float(c[2]))\n",
    "        \n",
    "    return np.array(WL),np.array(FFV)"
   ]
  },
  {
   "cell_type": "markdown",
   "id": "7d8783f4-a595-4449-a116-c79db2df11e9",
   "metadata": {},
   "source": [
    "Supposedly this is wavelength and filter function value: "
   ]
  },
  {
   "cell_type": "code",
   "execution_count": 3,
   "id": "49b3a640-61a7-4981-81cf-f4496b276825",
   "metadata": {},
   "outputs": [],
   "source": [
    "WL,FFV = read_sbdart_simple('sbchk_transmittance_and_height',iout=1)"
   ]
  },
  {
   "cell_type": "code",
   "execution_count": 4,
   "id": "cdab4adc-65b8-4b09-a3f1-19c3cff2c6a6",
   "metadata": {},
   "outputs": [
    {
     "data": {
      "text/plain": [
       "array([ 11.    ,  19.    ,   0.    , 100.    ,   0.    ,  50.    ,\n",
       "         9.0696,   9.0696,   9.0679,   9.0679,   9.063 ,   9.063 ,\n",
       "         9.0544,   9.0544,   9.0421,   9.0421,   9.0256,   9.0256,\n",
       "         9.0043,   9.0043,   8.9772,   8.9772,   8.9433,   8.9433,\n",
       "         8.9009,   8.9009,   8.8476,   8.8476,   8.78  ,   8.78  ,\n",
       "         8.693 ,   8.693 ,   8.5783,   8.5783,   8.4224,   8.4224,\n",
       "         8.2008,   8.2008,   7.8632,   7.8632,   7.2597,   7.2597])"
      ]
     },
     "execution_count": 4,
     "metadata": {},
     "output_type": "execute_result"
    }
   ],
   "source": [
    "WL"
   ]
  },
  {
   "cell_type": "code",
   "execution_count": 5,
   "id": "7c0902f8-527f-4814-add9-a38580208042",
   "metadata": {},
   "outputs": [
    {
     "data": {
      "text/plain": [
       "array([  1.    ,  18.    ,  10.    , 110.    ,   5.    ,  55.    ,\n",
       "         9.0696,   9.0696,   9.0679,   9.0679,   9.063 ,   9.063 ,\n",
       "         9.0544,   9.0544,   9.0421,   9.0421,   9.0256,   9.0256,\n",
       "         9.0043,   9.0043,   8.9772,   8.9772,   8.9433,   8.9433,\n",
       "         8.9009,   8.9009,   8.8476,   8.8476,   8.78  ,   8.78  ,\n",
       "         8.693 ,   8.693 ,   8.5783,   8.5783,   8.4224,   8.4224,\n",
       "         8.2008,   8.2008,   7.8632,   7.8632,   7.2597,   7.2597])"
      ]
     },
     "execution_count": 5,
     "metadata": {},
     "output_type": "execute_result"
    }
   ],
   "source": [
    "FFV"
   ]
  },
  {
   "cell_type": "code",
   "execution_count": null,
   "id": "867e7faf-b5f5-4a65-870d-8e9e7bf33dc6",
   "metadata": {},
   "outputs": [],
   "source": []
  },
  {
   "cell_type": "code",
   "execution_count": null,
   "id": "686e7c5f-6dd7-423f-8ae9-1a11ae68c0d1",
   "metadata": {},
   "outputs": [],
   "source": []
  }
 ],
 "metadata": {
  "kernelspec": {
   "display_name": "Python 3 (ipykernel)",
   "language": "python",
   "name": "python3"
  },
  "language_info": {
   "codemirror_mode": {
    "name": "ipython",
    "version": 3
   },
   "file_extension": ".py",
   "mimetype": "text/x-python",
   "name": "python",
   "nbconvert_exporter": "python",
   "pygments_lexer": "ipython3",
   "version": "3.9.18"
  }
 },
 "nbformat": 4,
 "nbformat_minor": 5
}
