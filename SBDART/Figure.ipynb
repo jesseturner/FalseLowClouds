{
 "cells": [
  {
   "cell_type": "code",
   "execution_count": 1,
   "id": "96615494-2d15-42a6-83df-279be380b1b5",
   "metadata": {},
   "outputs": [],
   "source": [
    "from pylab import *  \n",
    "import numpy as np"
   ]
  },
  {
   "cell_type": "code",
   "execution_count": 2,
   "id": "c0270524-db38-4991-850a-9ff40a3ccac5",
   "metadata": {},
   "outputs": [],
   "source": [
    "#--- precipitable water vapor (g/cm2)\n",
    "uw = [0.0,0.25,0.5,0.75,1.0,1.25,1.5,1.75,2.0,2.25,2.5,2.75,3.0, 3.25, 3.5, 3.75, 4.0]\n",
    "\n",
    "#--- surface skin temperature (K)\n",
    "temps = [270, 275, 280, 285, 290, 295, 300]\n",
    "\n",
    "#--- folder path\n",
    "folder = 'figure_alb_005/'"
   ]
  },
  {
   "cell_type": "code",
   "execution_count": 3,
   "id": "6557ace1-9372-4e79-8ab8-e53f961f3abc",
   "metadata": {},
   "outputs": [],
   "source": [
    "def read_sbdart_data(filename):\n",
    "    f_raw = loadtxt(filename,delimiter=\"\\t\",skiprows=3,dtype='str')\n",
    "    f = f_raw[::3]\n",
    "\n",
    "    WL=[] #--- wavelength (um)\n",
    "    FFV=[] #--- filter value\n",
    "    TOPDN=[] #--- downwelling flux to the top of the atmosphere (TOA, W/cm2/um)\n",
    "    TOPUP=[] #--- TOA upwelling flux\n",
    "    TOPDIR=[] #--- TOA direct flux\n",
    "    BOTDN=[] #--- downwelling flux at surface\n",
    "    BOTUP=[] #--- upwelling flux at surface\n",
    "    BOTDIR=[] #--- direct flux at surface\n",
    "\n",
    "    for row in f:\n",
    "        row = row[1:]\n",
    "        row = row.replace('  ',' ')\n",
    "        row = row.lstrip()\n",
    "        split_row = row.split(' ')\n",
    "        #print(split_row)\n",
    "    \n",
    "        WL.append(float(split_row[0]))\n",
    "        FFV.append(float(split_row[1]))\n",
    "        TOPDN.append(float(split_row[2]))\n",
    "        TOPUP.append(float(split_row[3]))\n",
    "        TOPDIR.append(float(split_row[4]))\n",
    "        BOTDN.append(float(split_row[5]))\n",
    "        BOTUP.append(float(split_row[6]))\n",
    "        BOTDIR.append(float(split_row[7]))\n",
    "\n",
    "    return TOPUP"
   ]
  },
  {
   "cell_type": "code",
   "execution_count": 4,
   "id": "80a28063-1eee-48e2-96a0-5357806f94a8",
   "metadata": {},
   "outputs": [],
   "source": [
    "flux_lw_290 = read_sbdart_data(folder+'11um_290')\n",
    "flux_sw_290 = read_sbdart_data(folder+'39um_290')"
   ]
  },
  {
   "cell_type": "code",
   "execution_count": 5,
   "id": "50c26f11-6288-4586-bede-c28017fb7139",
   "metadata": {},
   "outputs": [
    {
     "data": {
      "text/plain": [
       "[24.315,\n",
       " 24.382,\n",
       " 24.339,\n",
       " 24.281,\n",
       " 24.208,\n",
       " 24.118,\n",
       " 24.012,\n",
       " 23.889,\n",
       " 23.75,\n",
       " 23.597,\n",
       " 23.429,\n",
       " 23.25,\n",
       " 23.06,\n",
       " 22.863,\n",
       " 22.658,\n",
       " 22.449,\n",
       " 22.237]"
      ]
     },
     "execution_count": 5,
     "metadata": {},
     "output_type": "execute_result"
    }
   ],
   "source": [
    "flux_lw_290"
   ]
  },
  {
   "cell_type": "code",
   "execution_count": 6,
   "id": "dbb0b224-51e6-4ab6-ace3-fa99a09a5266",
   "metadata": {},
   "outputs": [
    {
     "data": {
      "text/plain": [
       "[1.0673,\n",
       " 1.0647,\n",
       " 1.0622,\n",
       " 1.0598,\n",
       " 1.0573,\n",
       " 1.0548,\n",
       " 1.0523,\n",
       " 1.0497,\n",
       " 1.0471,\n",
       " 1.0445,\n",
       " 1.0418,\n",
       " 1.0392,\n",
       " 1.0364,\n",
       " 1.0337,\n",
       " 1.0309,\n",
       " 1.0281,\n",
       " 1.0253]"
      ]
     },
     "execution_count": 6,
     "metadata": {},
     "output_type": "execute_result"
    }
   ],
   "source": [
    "flux_sw_290"
   ]
  },
  {
   "cell_type": "markdown",
   "id": "9306041e-e569-4232-8eec-8ad149410d7a",
   "metadata": {},
   "source": [
    "#### Calculate the brightness temperature difference: "
   ]
  },
  {
   "cell_type": "markdown",
   "id": "3a089bf9-30b6-45ba-a05d-3c26e9a3dbff",
   "metadata": {},
   "source": [
    "* sbdart gives the flux density in w/m2/micron\n",
    "* this can be easily converted to brightness temperature ($T_B$) with an inversion of Planck's equation: \n",
    "    * $\\lambda$: wavelength\n",
    "    * $\\Omega$: beam solid angle\n",
    "    * $S$: flux density\n",
    " \n",
    "$$\n",
    "T_b = \\frac{c_2}{\\lambda \\text{ ln}(\\frac{c_1}{\\lambda^5 S}+1)}\n",
    "$$"
   ]
  },
  {
   "cell_type": "code",
   "execution_count": 7,
   "id": "bf16b0eb-7701-4af1-8fcd-1aa5abfcd5c4",
   "metadata": {},
   "outputs": [],
   "source": [
    "def flux_to_Tb(flux, wl):\n",
    "    c1 = 3.74e-22\n",
    "    c2 = 0.0144\n",
    "    S = np.array(flux) #W m-2 um-1\n",
    "    \n",
    "    T_b = c2/(wl*np.log((c1/((wl**5)*S)+1)))\n",
    "    \n",
    "    return T_b"
   ]
  },
  {
   "cell_type": "code",
   "execution_count": 8,
   "id": "7bb7c06b-7ebd-4115-89fa-629db29672e9",
   "metadata": {},
   "outputs": [
    {
     "data": {
      "text/plain": [
       "{(270, 0.0): -1.9421102376618933,\n",
       " (270, 0.25): -1.8062289452857385,\n",
       " (270, 0.5): -1.5859790240892835,\n",
       " (270, 0.75): -1.2535377526065759,\n",
       " (270, 1.0): -0.837866429045846,\n",
       " (270, 1.25): -0.3611167737171286,\n",
       " (270, 1.5): 0.1480422141503368,\n",
       " (270, 1.75): 0.6649996509207767,\n",
       " (270, 2.0): 1.1721283751642204,\n",
       " (270, 2.25): 1.6484338094932696,\n",
       " (270, 2.5): 2.0830611441654128,\n",
       " (270, 2.75): 2.464928789486464,\n",
       " (270, 3.0): 2.788935205951418,\n",
       " (270, 3.25): 3.0587031004007486,\n",
       " (270, 3.5): 3.2665038435462748,\n",
       " (270, 3.75): 3.4207415666066368,\n",
       " (270, 4.0): 3.5201243540219593,\n",
       " (275, 0.0): -1.4229774426808603,\n",
       " (275, 0.25): -1.2600157994445453,\n",
       " (275, 0.5): -1.107269445789882,\n",
       " (275, 0.75): -0.8875198260248567,\n",
       " (275, 1.0): -0.6136625497634327,\n",
       " (275, 1.25): -0.305845582566576,\n",
       " (275, 1.5): 0.017494636381741202,\n",
       " (275, 1.75): 0.33669739909794316,\n",
       " (275, 2.0): 0.639954409658344,\n",
       " (275, 2.25): 0.9102321686896175,\n",
       " (275, 2.5): 1.1424700214626569,\n",
       " (275, 2.75): 1.328418885755184,\n",
       " (275, 3.0): 1.4680334681603426,\n",
       " (275, 3.25): 1.5590616065353515,\n",
       " (275, 3.5): 1.6016825436329327,\n",
       " (275, 3.75): 1.601684027068302,\n",
       " (275, 4.0): 1.5591033737970292,\n",
       " (280, 0.0): -1.010443867071217,\n",
       " (280, 0.25): -0.8225686153493257,\n",
       " (280, 0.5): -0.7432297664076373,\n",
       " (280, 0.75): -0.6279565617974754,\n",
       " (280, 1.0): -0.4932962854280163,\n",
       " (280, 1.25): -0.3507564053126657,\n",
       " (280, 1.5): -0.21089334484190658,\n",
       " (280, 1.75): -0.08787245335355465,\n",
       " (280, 2.0): 0.010046747423871238,\n",
       " (280, 2.25): 0.07491850089951413,\n",
       " (280, 2.5): 0.10373523964079823,\n",
       " (280, 2.75): 0.09405064703258859,\n",
       " (280, 3.0): 0.043075614411179686,\n",
       " (280, 3.25): -0.04678178230136609,\n",
       " (280, 3.5): -0.17563252343171598,\n",
       " (280, 3.75): -0.3346851887150706,\n",
       " (280, 4.0): -0.5274790655163883,\n",
       " (285, 0.0): -0.6833537573818944,\n",
       " (285, 0.25): -0.47460673168751555,\n",
       " (285, 0.5): -0.46360554667484166,\n",
       " (285, 0.75): -0.4557399621917284,\n",
       " (285, 1.0): -0.45534928913195927,\n",
       " (285, 1.25): -0.4736160964183682,\n",
       " (285, 1.5): -0.5154075851776838,\n",
       " (285, 1.75): -0.586371039400035,\n",
       " (285, 2.0): -0.6916963858429312,\n",
       " (285, 2.25): -0.8288392027096165,\n",
       " (285, 2.5): -1.0062712181414213,\n",
       " (285, 2.75): -1.2159075100688028,\n",
       " (285, 3.0): -1.4609331777100465,\n",
       " (285, 3.25): -1.7359685240673457,\n",
       " (285, 3.5): -2.0385723482402796,\n",
       " (285, 3.75): -2.3635676725122607,\n",
       " (285, 4.0): -2.711452056631174,\n",
       " (290, 0.0): -0.4206378733788938,\n",
       " (290, 0.25): -0.19545483739244673,\n",
       " (290, 0.5): -0.2526790853202101,\n",
       " (290, 0.75): -0.350310298064187,\n",
       " (290, 1.0): -0.4843088231806405,\n",
       " (290, 1.25): -0.6621001307909182,\n",
       " (290, 1.5): -0.8813979516133372,\n",
       " (290, 1.75): -1.142980589449337,\n",
       " (290, 2.0): -1.446768915317648,\n",
       " (290, 2.25): -1.7880008809858623,\n",
       " (290, 2.5): -2.167575426239523,\n",
       " (290, 2.75): -2.579783354001961,\n",
       " (290, 3.0): -3.018626364715317,\n",
       " (290, 3.25): -3.4803818316050297,\n",
       " (290, 3.5): -3.963734972932002,\n",
       " (290, 3.75): -4.460513078227336,\n",
       " (290, 4.0): -4.968248685948879,\n",
       " (295, 0.0): -0.2112971018265739,\n",
       " (295, 0.25): 0.028006581810473108,\n",
       " (295, 0.5): -0.09901941231282763,\n",
       " (295, 0.75): -0.2947589658722336,\n",
       " (295, 1.0): -0.5621611934918178,\n",
       " (295, 1.25): -0.8927018509509708,\n",
       " (295, 1.5): -1.286390158605741,\n",
       " (295, 1.75): -1.7372619456365896,\n",
       " (295, 2.0): -2.23794875423323,\n",
       " (295, 2.25): -2.7824092691708415,\n",
       " (295, 2.5): -3.365632710135799,\n",
       " (295, 2.75): -3.980695507100222,\n",
       " (295, 3.0): -4.616145369165736,\n",
       " (295, 3.25): -5.267254403766799,\n",
       " (295, 3.5): -5.9336031833020115,\n",
       " (295, 3.75): -6.605047453033421,\n",
       " (295, 4.0): -7.277221427945221,\n",
       " (300, 0.0): -0.04300963165394478,\n",
       " (300, 0.25): 0.2086488612895323,\n",
       " (300, 0.5): 0.014463976088507025,\n",
       " (300, 0.75): -0.27972594466046985,\n",
       " (300, 1.0): -0.6740583348571363,\n",
       " (300, 1.25): -1.160296533936787,\n",
       " (300, 1.5): -1.7263693308451593,\n",
       " (300, 1.75): -2.361657365340477,\n",
       " (300, 2.0): -3.0578355713037695,\n",
       " (300, 2.25): -3.80311821373067,\n",
       " (300, 2.5): -4.589710659420575,\n",
       " (300, 2.75): -5.4012887382111785,\n",
       " (300, 3.0): -6.235055325788835,\n",
       " (300, 3.25): -7.079952119274594,\n",
       " (300, 3.5): -7.930236042830984,\n",
       " (300, 3.75): -8.779360057069539,\n",
       " (300, 4.0): -9.619559808710903}"
      ]
     },
     "execution_count": 8,
     "metadata": {},
     "output_type": "execute_result"
    }
   ],
   "source": [
    "data = {}\n",
    "\n",
    "for t in temps:\n",
    "    flux_lw = read_sbdart_data(folder+'11um_'+str(t))\n",
    "    flux_sw = read_sbdart_data(folder+'39um_'+str(t))\n",
    "    \n",
    "    \n",
    "    BTD = flux_to_Tb(flux_lw, 11e-6) - flux_to_Tb(flux_sw, 3.9e-6)\n",
    "    #print(BTD)\n",
    "\n",
    "    for i in range(len(uw)):\n",
    "        data[t, uw[i]] = BTD[i]\n",
    "\n",
    "data"
   ]
  },
  {
   "cell_type": "code",
   "execution_count": 9,
   "id": "632df214-33a1-4816-ae37-a0615242144d",
   "metadata": {},
   "outputs": [],
   "source": [
    "x_values, y_values, values = zip(*[(x, y, value) for (x, y), value in data.items()])"
   ]
  },
  {
   "cell_type": "code",
   "execution_count": 10,
   "id": "532ecbb9-d342-472e-9d3c-0a864ea0190f",
   "metadata": {},
   "outputs": [],
   "source": [
    "btd_grid = np.array(values).reshape(len(temps), len(uw))\n",
    "uw_grid, temp_grid = np.meshgrid(uw, temps)"
   ]
  },
  {
   "cell_type": "code",
   "execution_count": 11,
   "id": "7d41ad3f-9ca4-40f3-b2f0-8756f3e6dbbc",
   "metadata": {},
   "outputs": [
    {
     "data": {
      "image/png": "[encoded data removed]",
      "text/plain": [
       "<Figure size 900x600 with 2 Axes>"
      ]
     },
     "metadata": {},
     "output_type": "display_data"
    }
   ],
   "source": [
    "fig,ax=plt.subplots(1, figsize=(9,6))\n",
    "cmap = plt.cm.Spectral_r\n",
    "levels = np.linspace(-3, 4, 21)\n",
    "\n",
    "c=ax.contourf(uw_grid, temp_grid, btd_grid, cmap=cmap, extend='both', levels=levels)\n",
    "clb=plt.colorbar(c, shrink=0.6, pad=0.02, ax=ax)\n",
    "ax.set_title('11um-3.9um BTD (alb=0.05)', fontsize=18)\n",
    "ax.set_ylabel('Sea surface temperature (K)', fontsize=12)\n",
    "ax.set_xlabel('Precipitable water vapor (g/cm2)', fontsize=12)\n",
    "clb.set_label('BTD (K)', fontsize=12)\n",
    "plt.savefig('sbdart_sst_wv.png', dpi=200, bbox_inches='tight')"
   ]
  },
  {
   "cell_type": "code",
   "execution_count": null,
   "id": "8dcb2ac7-fe57-404e-be5d-aff208845462",
   "metadata": {},
   "outputs": [],
   "source": []
  },
  {
   "cell_type": "code",
   "execution_count": null,
   "id": "0cc68f24-5474-429b-9c27-c84c6ad24e84",
   "metadata": {},
   "outputs": [],
   "source": []
  },
  {
   "cell_type": "code",
   "execution_count": null,
   "id": "29c5ddb2-8710-4856-95e0-1f318700563d",
   "metadata": {},
   "outputs": [],
   "source": []
  }
 ],
 "metadata": {
  "kernelspec": {
   "display_name": "Python 3 (ipykernel)",
   "language": "python",
   "name": "python3"
  },
  "language_info": {
   "codemirror_mode": {
    "name": "ipython",
    "version": 3
   },
   "file_extension": ".py",
   "mimetype": "text/x-python",
   "name": "python",
   "nbconvert_exporter": "python",
   "pygments_lexer": "ipython3",
   "version": "3.9.18"
  }
 },
 "nbformat": 4,
 "nbformat_minor": 5
}
