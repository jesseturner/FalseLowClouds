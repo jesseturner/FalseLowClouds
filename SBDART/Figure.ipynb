{
 "cells": [
  {
   "cell_type": "code",
   "execution_count": 1,
   "id": "96615494-2d15-42a6-83df-279be380b1b5",
   "metadata": {},
   "outputs": [],
   "source": [
    "from pylab import *  \n",
    "import numpy as np"
   ]
  },
  {
   "cell_type": "code",
   "execution_count": 2,
   "id": "c0270524-db38-4991-850a-9ff40a3ccac5",
   "metadata": {},
   "outputs": [],
   "source": [
    "#--- precipitable water vapor (g/cm2)\n",
    "uw = [0.0,0.25,0.5,0.75,1.0,1.25,1.5,1.75,2.0,2.25,2.5,2.75,3.0, 3.25, 3.5, 3.75, 4.0]\n",
    "\n",
    "#--- surface skin temperature (K)\n",
    "temps = [270, 275, 280, 285, 290, 295, 300]"
   ]
  },
  {
   "cell_type": "code",
   "execution_count": 3,
   "id": "6557ace1-9372-4e79-8ab8-e53f961f3abc",
   "metadata": {},
   "outputs": [],
   "source": [
    "def read_sbdart_data(filename):\n",
    "    f_raw = loadtxt(filename,delimiter=\"\\t\",skiprows=3,dtype='str')\n",
    "    f = f_raw[::3]\n",
    "\n",
    "    WL=[] #--- wavelength (um)\n",
    "    FFV=[] #--- filter value\n",
    "    TOPDN=[] #--- downwelling flux to the top of the atmosphere (TOA, W/cm2/um)\n",
    "    TOPUP=[] #--- TOA upwelling flux\n",
    "    TOPDIR=[] #--- TOA direct flux\n",
    "    BOTDN=[] #--- downwelling flux at surface\n",
    "    BOTUP=[] #--- upwelling flux at surface\n",
    "    BOTDIR=[] #--- direct flux at surface\n",
    "\n",
    "    for row in f:\n",
    "        row = row[1:]\n",
    "        row = row.replace('  ',' ')\n",
    "        row = row.lstrip()\n",
    "        split_row = row.split(' ')\n",
    "        #print(split_row)\n",
    "    \n",
    "        WL.append(float(split_row[0]))\n",
    "        FFV.append(float(split_row[1]))\n",
    "        TOPDN.append(float(split_row[2]))\n",
    "        TOPUP.append(float(split_row[3]))\n",
    "        TOPDIR.append(float(split_row[4]))\n",
    "        BOTDN.append(float(split_row[5]))\n",
    "        BOTUP.append(float(split_row[6]))\n",
    "        BOTDIR.append(float(split_row[7]))\n",
    "\n",
    "    return TOPUP"
   ]
  },
  {
   "cell_type": "code",
   "execution_count": 4,
   "id": "80a28063-1eee-48e2-96a0-5357806f94a8",
   "metadata": {},
   "outputs": [],
   "source": [
    "flux_lw_290 = read_sbdart_data('figure/11um_290')\n",
    "flux_sw_290 = read_sbdart_data('figure/39um_290')"
   ]
  },
  {
   "cell_type": "code",
   "execution_count": 5,
   "id": "50c26f11-6288-4586-bede-c28017fb7139",
   "metadata": {},
   "outputs": [
    {
     "data": {
      "text/plain": [
       "[25.559,\n",
       " 25.623,\n",
       " 25.537,\n",
       " 25.42,\n",
       " 25.275,\n",
       " 25.104,\n",
       " 24.912,\n",
       " 24.701,\n",
       " 24.475,\n",
       " 24.237,\n",
       " 23.99,\n",
       " 23.737,\n",
       " 23.48,\n",
       " 23.222,\n",
       " 22.964,\n",
       " 22.708,\n",
       " 22.455]"
      ]
     },
     "execution_count": 5,
     "metadata": {},
     "output_type": "execute_result"
    }
   ],
   "source": [
    "flux_lw_290"
   ]
  },
  {
   "cell_type": "code",
   "execution_count": 6,
   "id": "dbb0b224-51e6-4ab6-ace3-fa99a09a5266",
   "metadata": {},
   "outputs": [
    {
     "data": {
      "text/plain": [
       "[1.1168,\n",
       " 1.1136,\n",
       " 1.1107,\n",
       " 1.1077,\n",
       " 1.1047,\n",
       " 1.1017,\n",
       " 1.0987,\n",
       " 1.0956,\n",
       " 1.0925,\n",
       " 1.0894,\n",
       " 1.0862,\n",
       " 1.083,\n",
       " 1.0797,\n",
       " 1.0765,\n",
       " 1.0732,\n",
       " 1.0698,\n",
       " 1.0665]"
      ]
     },
     "execution_count": 6,
     "metadata": {},
     "output_type": "execute_result"
    }
   ],
   "source": [
    "flux_sw_290"
   ]
  },
  {
   "cell_type": "markdown",
   "id": "9306041e-e569-4232-8eec-8ad149410d7a",
   "metadata": {},
   "source": [
    "#### Calculate the brightness temperature difference: "
   ]
  },
  {
   "cell_type": "markdown",
   "id": "3a089bf9-30b6-45ba-a05d-3c26e9a3dbff",
   "metadata": {},
   "source": [
    "* sbdart gives the flux density in w/m2/micron\n",
    "* this can be easily converted to brightness temperature ($T_B$) with an inversion of Planck's equation: \n",
    "    * $\\lambda$: wavelength\n",
    "    * $\\Omega$: beam solid angle\n",
    "    * $S$: flux density\n",
    " \n",
    "$$\n",
    "T_b = \\frac{c_2}{\\lambda \\text{ ln}(\\frac{c_1}{\\lambda^5 S}+1)}\n",
    "$$"
   ]
  },
  {
   "cell_type": "code",
   "execution_count": 7,
   "id": "bf16b0eb-7701-4af1-8fcd-1aa5abfcd5c4",
   "metadata": {},
   "outputs": [],
   "source": [
    "def flux_to_Tb(flux, wl):\n",
    "    c1 = 3.74e-22\n",
    "    c2 = 0.0144\n",
    "    S = np.array(flux) #W m-2 um-1\n",
    "    \n",
    "    T_b = c2/(wl*np.log((c1/((wl**5)*S)+1)))\n",
    "    \n",
    "    return T_b"
   ]
  },
  {
   "cell_type": "code",
   "execution_count": 8,
   "id": "7bb7c06b-7ebd-4115-89fa-629db29672e9",
   "metadata": {},
   "outputs": [
    {
     "data": {
      "text/plain": [
       "{(270, 0.0): 0.02240958828986095,\n",
       " (270, 0.25): 0.16128844547790777,\n",
       " (270, 0.5): 0.27630247990219914,\n",
       " (270, 0.75): 0.4625734219430342,\n",
       " (270, 1.0): 0.701252455684596,\n",
       " (270, 1.25): 0.9829354840867381,\n",
       " (270, 1.5): 1.283471271286487,\n",
       " (270, 1.75): 1.5946117026587672,\n",
       " (270, 2.0): 1.9003152148168851,\n",
       " (270, 2.25): 2.187215023248825,\n",
       " (270, 2.5): 2.4488610383945684,\n",
       " (270, 2.75): 2.6771734292959763,\n",
       " (270, 3.0): 2.869946116822007,\n",
       " (270, 3.25): 3.020850769882088,\n",
       " (270, 3.5): 3.1338515407535965,\n",
       " (270, 3.75): 3.205854307009929,\n",
       " (270, 4.0): 3.2403060883524404,\n",
       " (275, 0.0): 0.5670711815549225,\n",
       " (275, 0.25): 0.7342947131024289,\n",
       " (275, 0.5): 0.7829423029892268,\n",
       " (275, 0.75): 0.8600573064994705,\n",
       " (275, 1.0): 0.9620255112314453,\n",
       " (275, 1.25): 1.07523269652944,\n",
       " (275, 1.5): 1.190775709102013,\n",
       " (275, 1.75): 1.303318180264455,\n",
       " (275, 2.0): 1.4008602684503444,\n",
       " (275, 2.25): 1.481652957259655,\n",
       " (275, 2.5): 1.5365811543118184,\n",
       " (275, 2.75): 1.5632178869445283,\n",
       " (275, 3.0): 1.561599981083475,\n",
       " (275, 3.25): 1.5313977575495983,\n",
       " (275, 3.5): 1.470456272852573,\n",
       " (275, 3.75): 1.3812190857674977,\n",
       " (275, 4.0): 1.2636221272282455,\n",
       " (280, 0.0): 1.0141283802286694,\n",
       " (280, 0.25): 1.2023413854835212,\n",
       " (280, 0.5): 1.184393834050013,\n",
       " (280, 0.75): 1.1577148192911864,\n",
       " (280, 1.0): 1.123156692257055,\n",
       " (280, 1.25): 1.071968588205607,\n",
       " (280, 1.5): 1.0074179598321962,\n",
       " (280, 1.75): 0.9240211880305083,\n",
       " (280, 2.0): 0.8159757966878374,\n",
       " (280, 2.25): 0.6889469229476504,\n",
       " (280, 2.5): 0.5343512890621582,\n",
       " (280, 2.75): 0.3605675430468409,\n",
       " (280, 3.0): 0.16198821690210252,\n",
       " (280, 3.25): -0.058791958501728914,\n",
       " (280, 3.5): -0.29945951564792495,\n",
       " (280, 3.75): -0.556818821763386,\n",
       " (280, 4.0): -0.8315914864510887,\n",
       " (285, 0.0): 1.3842967509453956,\n",
       " (285, 0.25): 1.5924588245729865,\n",
       " (285, 0.5): 1.5043754777077538,\n",
       " (285, 0.75): 1.374399740441504,\n",
       " (285, 1.0): 1.205174750452045,\n",
       " (285, 1.25): 0.997192348483793,\n",
       " (285, 1.5): 0.7520664912608481,\n",
       " (285, 1.75): 0.47284496197102044,\n",
       " (285, 2.0): 0.1639913399195052,\n",
       " (285, 2.25): -0.17166609781838815,\n",
       " (285, 2.5): -0.5322592207101593,\n",
       " (285, 2.75): -0.9125103584303815,\n",
       " (285, 3.0): -1.3099908447851476,\n",
       " (285, 3.25): -1.7222402258231,\n",
       " (285, 3.5): -2.1440622102418274,\n",
       " (285, 3.75): -2.5755931079485777,\n",
       " (285, 4.0): -3.0144958145758665,\n",
       " (290, 0.0): 1.6938056411058824,\n",
       " (290, 0.25): 1.916779306464548,\n",
       " (290, 0.5): 1.7621529142762142,\n",
       " (290, 0.75): 1.5321923683989667,\n",
       " (290, 1.0): 1.2317546050963415,\n",
       " (290, 1.25): 0.865151296718409,\n",
       " (290, 1.5): 0.44418421881931636,\n",
       " (290, 1.75): -0.024772604658551245,\n",
       " (290, 2.0): -0.5343259187578724,\n",
       " (290, 2.25): -1.0774582097618008,\n",
       " (290, 2.5): -1.6449710990240192,\n",
       " (290, 2.75): -2.2316250223751126,\n",
       " (290, 3.0): -2.8305009694424257,\n",
       " (290, 3.25): -3.438142894472321,\n",
       " (290, 3.5): -4.0479024344182335,\n",
       " (290, 3.75): -4.65453708510654,\n",
       " (290, 4.0): -5.25951846416865,\n",
       " (295, 0.0): 1.9551632593239674,\n",
       " (295, 0.25): 2.192422710477274,\n",
       " (295, 0.5): 1.9715385672673733,\n",
       " (295, 0.75): 1.6404289895911006,\n",
       " (295, 1.0): 1.2098892447771163,\n",
       " (295, 1.25): 0.6906259596348718,\n",
       " (295, 1.5): 0.09748953428572804,\n",
       " (295, 1.75): -0.5611119962691191,\n",
       " (295, 2.0): -1.2710440732996062,\n",
       " (295, 2.25): -2.0168264164238963,\n",
       " (295, 2.5): -2.791066397623865,\n",
       " (295, 2.75): -3.5826352075026193,\n",
       " (295, 3.0): -4.383600333545701,\n",
       " (295, 3.25): -5.184770920689402,\n",
       " (295, 3.5): -5.9853714381575855,\n",
       " (295, 3.75): -6.773223573307746,\n",
       " (295, 4.0): -7.549813889787231,\n",
       " (300, 0.0): 2.180071473905741,\n",
       " (300, 0.25): 2.429211208771335,\n",
       " (300, 0.5): 2.1423754189806914,\n",
       " (300, 0.75): 1.7126686427601499,\n",
       " (300, 1.0): 1.1557833783173805,\n",
       " (300, 1.25): 0.486697761721814,\n",
       " (300, 1.5): -0.2789738243736224,\n",
       " (300, 1.75): -1.1222093961513337,\n",
       " (300, 2.0): -2.0283095828373803,\n",
       " (300, 2.25): -2.9788681665878016,\n",
       " (300, 2.5): -3.9567100951952057,\n",
       " (300, 2.75): -4.9553280814389495,\n",
       " (300, 3.0): -5.955631122229875,\n",
       " (300, 3.25): -6.956712115860114,\n",
       " (300, 3.5): -7.947024535767071,\n",
       " (300, 3.75): -8.92015391536006,\n",
       " (300, 4.0): -9.871498255610959}"
      ]
     },
     "execution_count": 8,
     "metadata": {},
     "output_type": "execute_result"
    }
   ],
   "source": [
    "data = {}\n",
    "\n",
    "for t in temps:\n",
    "    flux_lw = read_sbdart_data('figure/11um_'+str(t))\n",
    "    flux_sw = read_sbdart_data('figure/39um_'+str(t))\n",
    "    \n",
    "    \n",
    "    BTD = flux_to_Tb(flux_lw, 11e-6) - flux_to_Tb(flux_sw, 3.9e-6)\n",
    "    #print(BTD)\n",
    "\n",
    "    for i in range(len(uw)):\n",
    "        data[t, uw[i]] = BTD[i]\n",
    "\n",
    "data"
   ]
  },
  {
   "cell_type": "code",
   "execution_count": 9,
   "id": "632df214-33a1-4816-ae37-a0615242144d",
   "metadata": {},
   "outputs": [],
   "source": [
    "x_values, y_values, values = zip(*[(x, y, value) for (x, y), value in data.items()])"
   ]
  },
  {
   "cell_type": "code",
   "execution_count": 10,
   "id": "532ecbb9-d342-472e-9d3c-0a864ea0190f",
   "metadata": {},
   "outputs": [],
   "source": [
    "btd_grid = np.array(values).reshape(len(temps), len(uw))\n",
    "uw_grid, temp_grid = np.meshgrid(uw, temps)"
   ]
  },
  {
   "cell_type": "code",
   "execution_count": 12,
   "id": "7d41ad3f-9ca4-40f3-b2f0-8756f3e6dbbc",
   "metadata": {},
   "outputs": [
    {
     "data": {
      "image/png": "[encoded data removed]",
      "text/plain": [
       "<Figure size 900x600 with 2 Axes>"
      ]
     },
     "metadata": {},
     "output_type": "display_data"
    }
   ],
   "source": [
    "fig,ax=plt.subplots(1, figsize=(9,6))\n",
    "cmap = plt.cm.Spectral_r\n",
    "levels = np.linspace(-3, 4, 21)\n",
    "\n",
    "c=ax.contourf(uw_grid, temp_grid, btd_grid, cmap=cmap, extend='both', levels=levels)\n",
    "clb=plt.colorbar(c, shrink=0.6, pad=0.02, ax=ax)\n",
    "ax.set_title('Nighttime low cloud test', fontsize=18)\n",
    "ax.set_ylabel('Sea surface temperature (K)', fontsize=12)\n",
    "ax.set_xlabel('Precipitable water vapor (g/cm2)', fontsize=12)\n",
    "clb.set_label('BTD (K)', fontsize=12)\n",
    "plt.savefig('sbdart_sst_wv.png', dpi=200, bbox_inches='tight')"
   ]
  },
  {
   "cell_type": "code",
   "execution_count": null,
   "id": "8dcb2ac7-fe57-404e-be5d-aff208845462",
   "metadata": {},
   "outputs": [],
   "source": []
  },
  {
   "cell_type": "code",
   "execution_count": null,
   "id": "0cc68f24-5474-429b-9c27-c84c6ad24e84",
   "metadata": {},
   "outputs": [],
   "source": []
  }
 ],
 "metadata": {
  "kernelspec": {
   "display_name": "Python 3 (ipykernel)",
   "language": "python",
   "name": "python3"
  },
  "language_info": {
   "codemirror_mode": {
    "name": "ipython",
    "version": 3
   },
   "file_extension": ".py",
   "mimetype": "text/x-python",
   "name": "python",
   "nbconvert_exporter": "python",
   "pygments_lexer": "ipython3",
   "version": "3.9.18"
  }
 },
 "nbformat": 4,
 "nbformat_minor": 5
}
