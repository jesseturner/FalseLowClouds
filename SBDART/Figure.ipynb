{
 "cells": [
  {
   "cell_type": "code",
   "execution_count": 1,
   "id": "96615494-2d15-42a6-83df-279be380b1b5",
   "metadata": {},
   "outputs": [],
   "source": [
    "from pylab import *  \n",
    "import numpy as np"
   ]
  },
  {
   "cell_type": "code",
   "execution_count": 2,
   "id": "c0270524-db38-4991-850a-9ff40a3ccac5",
   "metadata": {},
   "outputs": [],
   "source": [
    "filename = 'figure/result_11um_293k'"
   ]
  },
  {
   "cell_type": "code",
   "execution_count": 3,
   "id": "ca20f390-b85d-450b-a8e8-325f8aa93c73",
   "metadata": {},
   "outputs": [
    {
     "name": "stdout",
     "output_type": "stream",
     "text": [
      "(16,)\n"
     ]
    }
   ],
   "source": [
    "f_raw = loadtxt(filename,delimiter=\"\\t\",skiprows=3,dtype='str')\n",
    "print(f_raw.shape)"
   ]
  },
  {
   "cell_type": "code",
   "execution_count": 4,
   "id": "752317da-4924-4f00-9aa0-de4b2b7dc076",
   "metadata": {},
   "outputs": [
    {
     "data": {
      "text/plain": [
       "array([' 11.00000000  1.00000  1.2415E-01  2.6570E+01  1.2415E-01  1.5107E+00  2.7065E+01  1.1812E-01',\n",
       "       ' 11.00000000  1.00000  1.2415E-01  2.6384E+01  1.2415E-01  2.2248E+00  2.7065E+01  1.1514E-01',\n",
       "       ' 11.00000000  1.00000  1.2415E-01  2.6167E+01  1.2415E-01  3.0587E+00  2.7065E+01  1.1158E-01',\n",
       "       ' 11.00000000  1.00000  1.2415E-01  2.5923E+01  1.2415E-01  3.9884E+00  2.7065E+01  1.0749E-01',\n",
       "       ' 11.00000000  1.00000  1.2415E-01  2.5656E+01  1.2415E-01  4.9896E+00  2.7065E+01  1.0294E-01',\n",
       "       ' 11.00000000  1.00000  1.2415E-01  2.5372E+01  1.2415E-01  6.0388E+00  2.7065E+01  9.8009E-02'],\n",
       "      dtype='<U93')"
      ]
     },
     "execution_count": 4,
     "metadata": {},
     "output_type": "execute_result"
    }
   ],
   "source": [
    "f = f_raw[::3]\n",
    "f"
   ]
  },
  {
   "cell_type": "code",
   "execution_count": 5,
   "id": "50a1960f-efa1-41a4-a221-db929194bb5e",
   "metadata": {},
   "outputs": [],
   "source": [
    "WL=[] #--- wavelength (um)\n",
    "FFV=[] #--- filter value (unit in this example)\n",
    "TOPDN=[] #--- downwelling flux to the top of the atmosphere (TOA, W/cm2/um)\n",
    "TOPUP=[] #--- TOA upwelling flux\n",
    "TOPDIR=[] #--- TOA direct flux\n",
    "BOTDN=[] #--- downwelling flux at surface\n",
    "BOTUP=[] #--- upwelling flux at surface\n",
    "BOTDIR=[] #--- direct flux at surface"
   ]
  },
  {
   "cell_type": "code",
   "execution_count": 6,
   "id": "be7fdd1c-c050-4fff-af4d-b04c90deed60",
   "metadata": {},
   "outputs": [
    {
     "name": "stdout",
     "output_type": "stream",
     "text": [
      "['11.00000000', '1.00000', '1.2415E-01', '2.6570E+01', '1.2415E-01', '1.5107E+00', '2.7065E+01', '1.1812E-01']\n",
      "['11.00000000', '1.00000', '1.2415E-01', '2.6384E+01', '1.2415E-01', '2.2248E+00', '2.7065E+01', '1.1514E-01']\n",
      "['11.00000000', '1.00000', '1.2415E-01', '2.6167E+01', '1.2415E-01', '3.0587E+00', '2.7065E+01', '1.1158E-01']\n",
      "['11.00000000', '1.00000', '1.2415E-01', '2.5923E+01', '1.2415E-01', '3.9884E+00', '2.7065E+01', '1.0749E-01']\n",
      "['11.00000000', '1.00000', '1.2415E-01', '2.5656E+01', '1.2415E-01', '4.9896E+00', '2.7065E+01', '1.0294E-01']\n",
      "['11.00000000', '1.00000', '1.2415E-01', '2.5372E+01', '1.2415E-01', '6.0388E+00', '2.7065E+01', '9.8009E-02']\n"
     ]
    }
   ],
   "source": [
    "for row in f:\n",
    "    row = row[1:]\n",
    "    row = row.replace('  ',' ')\n",
    "    split_row = row.split(' ')\n",
    "    print(split_row)\n",
    "\n",
    "    WL.append(float(split_row[0]))\n",
    "    FFV.append(float(split_row[1]))\n",
    "    TOPDN.append(float(split_row[2]))\n",
    "    TOPUP.append(float(split_row[3]))\n",
    "    TOPDIR.append(float(split_row[4]))\n",
    "    BOTDN.append(float(split_row[5]))\n",
    "    BOTUP.append(float(split_row[6]))\n",
    "    BOTDIR.append(float(split_row[7]))"
   ]
  },
  {
   "cell_type": "markdown",
   "id": "9306041e-e569-4232-8eec-8ad149410d7a",
   "metadata": {},
   "source": [
    "#### Calculate the brightness temperature difference: "
   ]
  },
  {
   "cell_type": "markdown",
   "id": "3a089bf9-30b6-45ba-a05d-3c26e9a3dbff",
   "metadata": {},
   "source": [
    "* sbdart gives the flux density in w/m2/micron\n",
    "* this can be easily converted to brightness temperature ($T_B$) with Raleigh-Jean's law: $T_B = \\frac{\\lambda^2}{2k\\Omega}S$\n",
    "    * $\\lambda$: wavelength\n",
    "    * $k$: Boltzmann constant\n",
    "    * $\\Omega$: beam solid angle\n",
    "    * $S$: flux density"
   ]
  },
  {
   "cell_type": "code",
   "execution_count": 7,
   "id": "c9c75fdb-604d-43a3-b2b9-694f1f61b4c2",
   "metadata": {},
   "outputs": [
    {
     "data": {
      "text/plain": [
       "array([2.21832930e-32, 2.20280016e-32, 2.18468283e-32, 2.16431127e-32,\n",
       "       2.14201944e-32, 2.11830828e-32])"
      ]
     },
     "execution_count": 7,
     "metadata": {},
     "output_type": "execute_result"
    }
   ],
   "source": [
    "wl = 11e-6 #m\n",
    "k = 1.38e-23 #m2 kg s-2 K-1\n",
    "omega = 1 #m2 m-2\n",
    "S = np.array(TOPUP) #kg m2 s-3 m-2 um-1\n",
    "\n",
    "T_b = ((wl**2)/2*k*omega)*S\n",
    "T_b"
   ]
  },
  {
   "cell_type": "code",
   "execution_count": null,
   "id": "8618d81d-ae2a-48e2-8687-979ae6b1c4b6",
   "metadata": {},
   "outputs": [],
   "source": []
  },
  {
   "cell_type": "code",
   "execution_count": null,
   "id": "88152c1a-f0be-4018-9ced-5035665f2f57",
   "metadata": {},
   "outputs": [],
   "source": []
  },
  {
   "cell_type": "code",
   "execution_count": null,
   "id": "35c8aa1d-4759-4835-9b9b-7cb86b98a267",
   "metadata": {},
   "outputs": [],
   "source": []
  }
 ],
 "metadata": {
  "kernelspec": {
   "display_name": "Python 3 (ipykernel)",
   "language": "python",
   "name": "python3"
  },
  "language_info": {
   "codemirror_mode": {
    "name": "ipython",
    "version": 3
   },
   "file_extension": ".py",
   "mimetype": "text/x-python",
   "name": "python",
   "nbconvert_exporter": "python",
   "pygments_lexer": "ipython3",
   "version": "3.9.18"
  }
 },
 "nbformat": 4,
 "nbformat_minor": 5
}
