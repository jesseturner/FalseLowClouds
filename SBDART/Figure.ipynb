{
 "cells": [
  {
   "cell_type": "code",
   "execution_count": 1,
   "id": "96615494-2d15-42a6-83df-279be380b1b5",
   "metadata": {},
   "outputs": [],
   "source": [
    "from pylab import *  \n",
    "import numpy as np"
   ]
  },
  {
   "cell_type": "code",
   "execution_count": 2,
   "id": "c0270524-db38-4991-850a-9ff40a3ccac5",
   "metadata": {},
   "outputs": [],
   "source": [
    "#--- precipitable water vapor (g/cm2)\n",
    "uw = [0.0,0.25,0.5,0.75,1.0,1.25,1.5,1.75,2.0,2.25,2.5,2.75,3.0, 3.25, 3.5, 3.75, 4.0]\n",
    "\n",
    "#--- surface skin temperature (K)\n",
    "temps = [270, 275, 280, 285, 290, 295, 300]\n",
    "\n",
    "#--- folder path\n",
    "folder = 'figure/'"
   ]
  },
  {
   "cell_type": "code",
   "execution_count": 3,
   "id": "6557ace1-9372-4e79-8ab8-e53f961f3abc",
   "metadata": {},
   "outputs": [],
   "source": [
    "def read_sbdart_data(filename):\n",
    "    f_raw = loadtxt(filename,delimiter=\"\\t\",skiprows=3,dtype='str')\n",
    "    f = f_raw[::3]\n",
    "\n",
    "    WL=[] #--- wavelength (um)\n",
    "    FFV=[] #--- filter value\n",
    "    TOPDN=[] #--- downwelling flux to the top of the atmosphere (TOA, W/cm2/um)\n",
    "    TOPUP=[] #--- TOA upwelling flux\n",
    "    TOPDIR=[] #--- TOA direct flux\n",
    "    BOTDN=[] #--- downwelling flux at surface\n",
    "    BOTUP=[] #--- upwelling flux at surface\n",
    "    BOTDIR=[] #--- direct flux at surface\n",
    "\n",
    "    for row in f:\n",
    "        row = row[1:]\n",
    "        row = row.replace('  ',' ')\n",
    "        row = row.lstrip()\n",
    "        split_row = row.split(' ')\n",
    "        #print(split_row)\n",
    "    \n",
    "        WL.append(float(split_row[0]))\n",
    "        FFV.append(float(split_row[1]))\n",
    "        TOPDN.append(float(split_row[2]))\n",
    "        TOPUP.append(float(split_row[3]))\n",
    "        TOPDIR.append(float(split_row[4]))\n",
    "        BOTDN.append(float(split_row[5]))\n",
    "        BOTUP.append(float(split_row[6]))\n",
    "        BOTDIR.append(float(split_row[7]))\n",
    "\n",
    "    return TOPUP"
   ]
  },
  {
   "cell_type": "code",
   "execution_count": 4,
   "id": "80a28063-1eee-48e2-96a0-5357806f94a8",
   "metadata": {},
   "outputs": [],
   "source": [
    "flux_lw_290 = read_sbdart_data(folder+'11um_290')\n",
    "flux_sw_290 = read_sbdart_data(folder+'39um_290')"
   ]
  },
  {
   "cell_type": "code",
   "execution_count": 5,
   "id": "50c26f11-6288-4586-bede-c28017fb7139",
   "metadata": {},
   "outputs": [
    {
     "data": {
      "text/plain": [
       "[25.558,\n",
       " 25.624,\n",
       " 25.539,\n",
       " 25.424,\n",
       " 25.283,\n",
       " 25.116,\n",
       " 24.928,\n",
       " 24.721,\n",
       " 24.5,\n",
       " 24.267,\n",
       " 24.025,\n",
       " 23.777,\n",
       " 23.525,\n",
       " 23.272,\n",
       " 23.018,\n",
       " 22.766,\n",
       " 22.517]"
      ]
     },
     "execution_count": 5,
     "metadata": {},
     "output_type": "execute_result"
    }
   ],
   "source": [
    "flux_lw_290"
   ]
  },
  {
   "cell_type": "code",
   "execution_count": 6,
   "id": "dbb0b224-51e6-4ab6-ace3-fa99a09a5266",
   "metadata": {},
   "outputs": [
    {
     "data": {
      "text/plain": [
       "[1.1167,\n",
       " 1.1135,\n",
       " 1.1106,\n",
       " 1.1077,\n",
       " 1.1047,\n",
       " 1.1017,\n",
       " 1.0987,\n",
       " 1.0957,\n",
       " 1.0926,\n",
       " 1.0895,\n",
       " 1.0863,\n",
       " 1.0831,\n",
       " 1.0799,\n",
       " 1.0767,\n",
       " 1.0734,\n",
       " 1.0701,\n",
       " 1.0667]"
      ]
     },
     "execution_count": 6,
     "metadata": {},
     "output_type": "execute_result"
    }
   ],
   "source": [
    "flux_sw_290"
   ]
  },
  {
   "cell_type": "markdown",
   "id": "9306041e-e569-4232-8eec-8ad149410d7a",
   "metadata": {},
   "source": [
    "#### Calculate the brightness temperature difference: "
   ]
  },
  {
   "cell_type": "markdown",
   "id": "3a089bf9-30b6-45ba-a05d-3c26e9a3dbff",
   "metadata": {},
   "source": [
    "* sbdart gives the flux density in w/m2/micron\n",
    "* this can be easily converted to brightness temperature ($T_B$) with an inversion of Planck's equation: \n",
    "    * $\\lambda$: wavelength\n",
    "    * $\\Omega$: beam solid angle\n",
    "    * $S$: flux density\n",
    " \n",
    "$$\n",
    "T_b = \\frac{c_2}{\\lambda \\text{ ln}(\\frac{c_1}{\\lambda^5 S}+1)}\n",
    "$$"
   ]
  },
  {
   "cell_type": "code",
   "execution_count": 7,
   "id": "f2dd3069-434e-49c7-8b2e-e90dfa67b83d",
   "metadata": {},
   "outputs": [
    {
     "name": "stdout",
     "output_type": "stream",
     "text": [
      "c1: 119104393.40652297\n",
      "c2: 14387.68660333391\n"
     ]
    }
   ],
   "source": [
    "c = 2.99792458e8 #m/s\n",
    "h = 6.6260755e-34 #Js\n",
    "k = 1.380658e-23 #J/K\n",
    "\n",
    "c1 = 2e24*h*c*c\n",
    "print('c1:', c1)\n",
    "c2 = 1e6*h*c/k\n",
    "print('c2:', c2)"
   ]
  },
  {
   "cell_type": "code",
   "execution_count": 8,
   "id": "5865a20a-5220-4afb-9cd8-4021985b4dfa",
   "metadata": {},
   "outputs": [
    {
     "name": "stdout",
     "output_type": "stream",
     "text": [
      "T_b: 300.00000005078795\n"
     ]
    }
   ],
   "source": [
    "wl = 11 #micron\n",
    "S = 9.5734294 #W/m^2/sr/micron\n",
    "T_b = c2 / (wl * np.log(c1/((wl**5) * S) + 1) )\n",
    "print('T_b:', T_b)"
   ]
  },
  {
   "cell_type": "code",
   "execution_count": 9,
   "id": "bf16b0eb-7701-4af1-8fcd-1aa5abfcd5c4",
   "metadata": {},
   "outputs": [],
   "source": [
    "def flux_to_Tb(flux, wl):\n",
    "    #--- Original constants used\n",
    "    #c1 = 3.74e-22\n",
    "    #c2 = 0.0144\n",
    "    S = np.array(flux)/(np.pi) #W m-2 um-1\n",
    "    \n",
    "    T_b = c2/(wl*np.log(c1/((wl**5)*S)+1))\n",
    "    \n",
    "    return T_b"
   ]
  },
  {
   "cell_type": "code",
   "execution_count": 10,
   "id": "f00e873a-7b4a-4ac4-afc0-99a82081c83b",
   "metadata": {},
   "outputs": [
    {
     "name": "stdout",
     "output_type": "stream",
     "text": [
      "T_b: 300.00000005078795\n"
     ]
    }
   ],
   "source": [
    "S = 9.5734294*np.pi #W/m^2/sr/micron\n",
    "T_b = flux_to_Tb(S, 11)\n",
    "print('T_b:', T_b)"
   ]
  },
  {
   "cell_type": "code",
   "execution_count": 11,
   "id": "fa82aee2-1e57-4e38-a90c-2f94e5429d6a",
   "metadata": {},
   "outputs": [
    {
     "name": "stdout",
     "output_type": "stream",
     "text": [
      "T_b: [287.65343866 287.58908832 287.53063584 287.47205438 287.41131647\n",
      " 287.35043915 287.28942173 287.22826348 287.16491792 287.10142044\n",
      " 287.03571443 286.96984478 286.90381059 286.83761095 286.76916832\n",
      " 286.70054776 286.6296606 ]\n"
     ]
    }
   ],
   "source": [
    "S = np.array(flux_sw_290) #W/m^2/sr/micron\n",
    "T_b = flux_to_Tb(S, 3.9)\n",
    "print('T_b:', T_b)"
   ]
  },
  {
   "cell_type": "code",
   "execution_count": 12,
   "id": "7bb7c06b-7ebd-4115-89fa-629db29672e9",
   "metadata": {},
   "outputs": [
    {
     "data": {
      "text/plain": [
       "{(270, 0.0): 0.009707965056634293,\n",
       " (270, 0.25): 0.14801361422104264,\n",
       " (270, 0.5): 0.2680627786317018,\n",
       " (270, 0.75): 0.45627767391891894,\n",
       " (270, 1.0): 0.7027873544587919,\n",
       " (270, 1.25): 0.989222003502789,\n",
       " (270, 1.5): 1.2978122290942338,\n",
       " (270, 1.75): 1.6165183028380739,\n",
       " (270, 2.0): 1.9330736591639948,\n",
       " (270, 2.25): 2.2303641953899387,\n",
       " (270, 2.5): 2.5023672124613654,\n",
       " (270, 2.75): 2.7414335064011652,\n",
       " (270, 3.0): 2.944159724170504,\n",
       " (270, 3.25): 3.1058611188370264,\n",
       " (270, 3.5): 3.229296591592572,\n",
       " (270, 3.75): 3.315078967055399,\n",
       " (270, 4.0): 3.360092651691957,\n",
       " (275, 0.0): 0.5522226285789884,\n",
       " (275, 0.25): 0.7189233520064704,\n",
       " (275, 0.5): 0.7700217232743398,\n",
       " (275, 0.75): 0.8549014108898518,\n",
       " (275, 1.0): 0.9617443093273437,\n",
       " (275, 1.25): 1.0826373645206218,\n",
       " (275, 1.5): 1.2090183150474445,\n",
       " (275, 1.75): 1.3288557459782169,\n",
       " (275, 2.0): 1.4375499949240407,\n",
       " (275, 2.25): 1.528469408595015,\n",
       " (275, 2.5): 1.5938922869243015,\n",
       " (275, 2.75): 1.6314048981956262,\n",
       " (275, 3.0): 1.6428468271116685,\n",
       " (275, 3.25): 1.6208087063836842,\n",
       " (275, 3.5): 1.5734034512456105,\n",
       " (275, 3.75): 1.4946220517419988,\n",
       " (275, 4.0): 1.3879121838549509,\n",
       " (280, 0.0): 0.9980262532075699,\n",
       " (280, 0.25): 1.1881848466229599,\n",
       " (280, 0.5): 1.1724001150424783,\n",
       " (280, 0.75): 1.1508971473509177,\n",
       " (280, 1.0): 1.1212410002548836,\n",
       " (280, 1.25): 1.0807034387121917,\n",
       " (280, 1.5): 1.0238277284477135,\n",
       " (280, 1.75): 0.9505795160818593,\n",
       " (280, 2.0): 0.8560428660862271,\n",
       " (280, 2.25): 0.7365543574106255,\n",
       " (280, 2.5): 0.5956133111608324,\n",
       " (280, 2.75): 0.43254094322725223,\n",
       " (280, 3.0): 0.24721937705351138,\n",
       " (280, 3.25): 0.037343731197324814,\n",
       " (280, 3.5): -0.1895653147675489,\n",
       " (280, 3.75): -0.4358166501451137,\n",
       " (280, 4.0): -0.6993750682232758,\n",
       " (285, 0.0): 1.3667617657397955,\n",
       " (285, 0.25): 1.5742337386416807,\n",
       " (285, 0.5): 1.4909523917989986,\n",
       " (285, 0.75): 1.3684324970425905,\n",
       " (285, 1.0): 1.2043766181099045,\n",
       " (285, 1.25): 1.0063614439363846,\n",
       " (285, 1.5): 0.7717854323265101,\n",
       " (285, 1.75): 0.5029796211978805,\n",
       " (285, 2.0): 0.20465256804408227,\n",
       " (285, 2.25): -0.11796701695413958,\n",
       " (285, 2.5): -0.4651380410670072,\n",
       " (285, 2.75): -0.8344830027612034,\n",
       " (285, 3.0): -1.2182634480180923,\n",
       " (285, 3.25): -1.6193446446264943,\n",
       " (285, 3.5): -2.030122800620177,\n",
       " (285, 3.75): -2.447534425059473,\n",
       " (285, 4.0): -2.8748862031487192,\n",
       " (290, 0.0): 1.6724931154829505,\n",
       " (290, 0.25): 1.9001941695530604,\n",
       " (290, 0.5): 1.748225923711118,\n",
       " (290, 0.75): 1.5214803577755447,\n",
       " (290, 1.0): 1.2313701398562102,\n",
       " (290, 1.25): 0.875247480627479,\n",
       " (290, 1.5): 0.4649166386126353,\n",
       " (290, 1.75): 0.004718677166181351,\n",
       " (290, 2.0): -0.4913355953950145,\n",
       " (290, 2.25): -1.020772883058953,\n",
       " (290, 2.5): -1.574395395112333,\n",
       " (290, 2.75): -2.146963419829831,\n",
       " (290, 3.0): -2.7336262705105696,\n",
       " (290, 3.25): -3.3268050155697892,\n",
       " (290, 3.5): -3.9245479096712756,\n",
       " (290, 3.75): -4.521105643779663,\n",
       " (290, 4.0): -5.111703423714289,\n",
       " (295, 0.0): 1.932760602519295,\n",
       " (295, 0.25): 2.174523861628984,\n",
       " (295, 0.5): 1.9545682579470736,\n",
       " (295, 0.75): 1.6309845475784073,\n",
       " (295, 1.0): 1.2105363610158406,\n",
       " (295, 1.25): 0.7015681563356111,\n",
       " (295, 1.5): 0.11893464015673771,\n",
       " (295, 1.75): -0.5265115899882176,\n",
       " (295, 2.0): -1.2247709906379782,\n",
       " (295, 2.25): -1.9569107919096496,\n",
       " (295, 2.5): -2.7172620036465105,\n",
       " (295, 2.75): -3.493939678224308,\n",
       " (295, 3.0): -4.28305578340337,\n",
       " (295, 3.25): -5.069644317175289,\n",
       " (295, 3.5): -5.855436679747413,\n",
       " (295, 3.75): -6.632640095288309,\n",
       " (295, 4.0): -7.3966548066943005,\n",
       " (300, 0.0): 2.156651564659967,\n",
       " (300, 0.25): 2.4100905825612244,\n",
       " (300, 0.5): 2.1258627626430666,\n",
       " (300, 0.75): 1.7035157125230285,\n",
       " (300, 1.0): 1.155056731388413,\n",
       " (300, 1.25): 0.49609114544472277,\n",
       " (300, 1.5): -0.2568707821715748,\n",
       " (300, 1.75): -1.0871029302631428,\n",
       " (300, 2.0): -1.9766273193362167,\n",
       " (300, 2.25): -2.913551698289268,\n",
       " (300, 2.5): -3.877473336130379,\n",
       " (300, 2.75): -4.859442108374083,\n",
       " (300, 3.0): -5.849200446187922,\n",
       " (300, 3.25): -6.833055046523498,\n",
       " (300, 3.5): -7.809854638037848,\n",
       " (300, 3.75): -8.770273262101398,\n",
       " (300, 4.0): -9.70872841458214}"
      ]
     },
     "execution_count": 12,
     "metadata": {},
     "output_type": "execute_result"
    }
   ],
   "source": [
    "data = {}\n",
    "\n",
    "for t in temps:\n",
    "    flux_lw = read_sbdart_data(folder+'11um_'+str(t))\n",
    "    flux_sw = read_sbdart_data(folder+'39um_'+str(t))\n",
    "    \n",
    "    \n",
    "    BTD = flux_to_Tb(flux_lw, 11) - flux_to_Tb(flux_sw, 3.9)\n",
    "\n",
    "    for i in range(len(uw)):\n",
    "        data[t, uw[i]] = BTD[i]\n",
    "\n",
    "data"
   ]
  },
  {
   "cell_type": "code",
   "execution_count": 13,
   "id": "632df214-33a1-4816-ae37-a0615242144d",
   "metadata": {},
   "outputs": [],
   "source": [
    "x_values, y_values, values = zip(*[(x, y, value) for (x, y), value in data.items()])"
   ]
  },
  {
   "cell_type": "code",
   "execution_count": 14,
   "id": "532ecbb9-d342-472e-9d3c-0a864ea0190f",
   "metadata": {},
   "outputs": [],
   "source": [
    "btd_grid = np.array(values).reshape(len(temps), len(uw))\n",
    "uw_grid, temp_grid = np.meshgrid(uw, temps)"
   ]
  },
  {
   "cell_type": "code",
   "execution_count": 15,
   "id": "7d41ad3f-9ca4-40f3-b2f0-8756f3e6dbbc",
   "metadata": {},
   "outputs": [
    {
     "data": {
      "image/png": "[encoded data removed]",
      "text/plain": [
       "<Figure size 900x600 with 2 Axes>"
      ]
     },
     "metadata": {},
     "output_type": "display_data"
    }
   ],
   "source": [
    "fig,ax=plt.subplots(1, figsize=(9,6))\n",
    "cmap = plt.cm.Spectral_r\n",
    "levels = np.linspace(-3, 4, 21)\n",
    "\n",
    "c=ax.contourf(uw_grid, temp_grid, btd_grid, cmap=cmap, extend='both', levels=levels)\n",
    "clb=plt.colorbar(c, shrink=0.6, pad=0.02, ax=ax)\n",
    "ax.set_title('11um-3.9um BTD (alb=0.0)', fontsize=18)\n",
    "ax.set_ylabel('Sea surface temperature (K)', fontsize=12)\n",
    "ax.set_xlabel('Precipitable water vapor (g/cm2)', fontsize=12)\n",
    "clb.set_label('BTD (K)', fontsize=12)\n",
    "plt.savefig('sbdart_sst_wv.png', dpi=200, bbox_inches='tight')"
   ]
  },
  {
   "cell_type": "markdown",
   "id": "4b1800f0-7106-4336-86e9-cf1ff4718caf",
   "metadata": {},
   "source": [
    "Comparing brightness temperature in a dry atmosphere: "
   ]
  },
  {
   "cell_type": "code",
   "execution_count": 16,
   "id": "0cc68f24-5474-429b-9c27-c84c6ad24e84",
   "metadata": {},
   "outputs": [
    {
     "name": "stdout",
     "output_type": "stream",
     "text": [
      "T_b (3.9um, 290 K, no moisture): 287.6534386644598\n",
      "T_b (3.9um, 290 K, no moisture): 289.3259317799428\n"
     ]
    }
   ],
   "source": [
    "S_sw = np.array(flux_sw_290) #W/m^2/sr/micron\n",
    "T_b_sw = flux_to_Tb(S_sw, 3.9)\n",
    "print('T_b (3.9um, 290 K, no moisture):', T_b_sw[0])\n",
    "\n",
    "S_lw = np.array(flux_lw_290) #W/m^2/sr/micron\n",
    "T_b_lw = flux_to_Tb(S_lw, 11)\n",
    "print('T_b (3.9um, 290 K, no moisture):', T_b_lw[0])"
   ]
  },
  {
   "cell_type": "code",
   "execution_count": null,
   "id": "29c5ddb2-8710-4856-95e0-1f318700563d",
   "metadata": {},
   "outputs": [],
   "source": []
  }
 ],
 "metadata": {
  "kernelspec": {
   "display_name": "Python 3 (ipykernel)",
   "language": "python",
   "name": "python3"
  },
  "language_info": {
   "codemirror_mode": {
    "name": "ipython",
    "version": 3
   },
   "file_extension": ".py",
   "mimetype": "text/x-python",
   "name": "python",
   "nbconvert_exporter": "python",
   "pygments_lexer": "ipython3",
   "version": "3.9.18"
  }
 },
 "nbformat": 4,
 "nbformat_minor": 5
}
