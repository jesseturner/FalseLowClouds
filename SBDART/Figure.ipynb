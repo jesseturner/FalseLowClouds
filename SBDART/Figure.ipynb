{
 "cells": [
  {
   "cell_type": "code",
   "execution_count": 1,
   "id": "96615494-2d15-42a6-83df-279be380b1b5",
   "metadata": {},
   "outputs": [],
   "source": [
    "from pylab import *  \n",
    "import numpy as np"
   ]
  },
  {
   "cell_type": "code",
   "execution_count": 2,
   "id": "c0270524-db38-4991-850a-9ff40a3ccac5",
   "metadata": {},
   "outputs": [],
   "source": [
    "#--- precipitable water vapor (g/cm2)\n",
    "uw = [0.0,0.25,0.5,0.75,1.0,1.25,1.5,1.75,2.0,2.25,2.5,2.75,3.0, 3.25, 3.5, 3.75, 4.0]\n",
    "\n",
    "#--- surface skin temperature (K)\n",
    "temps = [270, 275, 280, 285, 290, 295, 300]\n",
    "\n",
    "#--- folder path\n",
    "folder = 'figure/'"
   ]
  },
  {
   "cell_type": "code",
   "execution_count": 3,
   "id": "6557ace1-9372-4e79-8ab8-e53f961f3abc",
   "metadata": {},
   "outputs": [],
   "source": [
    "def read_sbdart_data(filename):\n",
    "    f_raw = loadtxt(filename,delimiter=\"\\t\",skiprows=3,dtype='str')\n",
    "    f = f_raw[::3]\n",
    "\n",
    "    WL=[] #--- wavelength (um)\n",
    "    FFV=[] #--- filter value\n",
    "    TOPDN=[] #--- downwelling flux to the top of the atmosphere (TOA, W/cm2/um)\n",
    "    TOPUP=[] #--- TOA upwelling flux\n",
    "    TOPDIR=[] #--- TOA direct flux\n",
    "    BOTDN=[] #--- downwelling flux at surface\n",
    "    BOTUP=[] #--- upwelling flux at surface\n",
    "    BOTDIR=[] #--- direct flux at surface\n",
    "\n",
    "    for row in f:\n",
    "        row = row[1:]\n",
    "        row = row.replace('  ',' ')\n",
    "        row = row.lstrip()\n",
    "        split_row = row.split(' ')\n",
    "        #print(split_row)\n",
    "    \n",
    "        WL.append(float(split_row[0]))\n",
    "        FFV.append(float(split_row[1]))\n",
    "        TOPDN.append(float(split_row[2]))\n",
    "        TOPUP.append(float(split_row[3]))\n",
    "        TOPDIR.append(float(split_row[4]))\n",
    "        BOTDN.append(float(split_row[5]))\n",
    "        BOTUP.append(float(split_row[6]))\n",
    "        BOTDIR.append(float(split_row[7]))\n",
    "\n",
    "    return TOPUP"
   ]
  },
  {
   "cell_type": "code",
   "execution_count": 4,
   "id": "80a28063-1eee-48e2-96a0-5357806f94a8",
   "metadata": {},
   "outputs": [],
   "source": [
    "flux_lw_290 = read_sbdart_data(folder+'11um_290')\n",
    "flux_sw_290 = read_sbdart_data(folder+'39um_290')"
   ]
  },
  {
   "cell_type": "code",
   "execution_count": 5,
   "id": "50c26f11-6288-4586-bede-c28017fb7139",
   "metadata": {},
   "outputs": [
    {
     "data": {
      "text/plain": [
       "[25.567,\n",
       " 25.63,\n",
       " 25.55,\n",
       " 25.441,\n",
       " 25.307,\n",
       " 25.15,\n",
       " 24.973,\n",
       " 24.779,\n",
       " 24.571,\n",
       " 24.354,\n",
       " 24.128,\n",
       " 23.898,\n",
       " 23.665,\n",
       " 23.432,\n",
       " 23.198,\n",
       " 22.967,\n",
       " 22.739]"
      ]
     },
     "execution_count": 5,
     "metadata": {},
     "output_type": "execute_result"
    }
   ],
   "source": [
    "flux_lw_290"
   ]
  },
  {
   "cell_type": "code",
   "execution_count": 6,
   "id": "dbb0b224-51e6-4ab6-ace3-fa99a09a5266",
   "metadata": {},
   "outputs": [
    {
     "data": {
      "text/plain": [
       "[1.1213,\n",
       " 1.1182,\n",
       " 1.1154,\n",
       " 1.1126,\n",
       " 1.1097,\n",
       " 1.1069,\n",
       " 1.1039,\n",
       " 1.101,\n",
       " 1.098,\n",
       " 1.095,\n",
       " 1.092,\n",
       " 1.089,\n",
       " 1.0859,\n",
       " 1.0828,\n",
       " 1.0796,\n",
       " 1.0764,\n",
       " 1.0732]"
      ]
     },
     "execution_count": 6,
     "metadata": {},
     "output_type": "execute_result"
    }
   ],
   "source": [
    "flux_sw_290"
   ]
  },
  {
   "cell_type": "markdown",
   "id": "9306041e-e569-4232-8eec-8ad149410d7a",
   "metadata": {},
   "source": [
    "#### Calculate the brightness temperature difference: "
   ]
  },
  {
   "cell_type": "markdown",
   "id": "3a089bf9-30b6-45ba-a05d-3c26e9a3dbff",
   "metadata": {},
   "source": [
    "* sbdart gives the flux density in w/m2/micron\n",
    "* this can be easily converted to brightness temperature ($T_B$) with an inversion of Planck's equation: \n",
    "    * $\\lambda$: wavelength\n",
    "    * $\\Omega$: beam solid angle\n",
    "    * $S$: flux density\n",
    " \n",
    "$$\n",
    "T_b = \\frac{c_2}{\\lambda \\text{ ln}(\\frac{c_1}{\\lambda^5 S}+1)}\n",
    "$$"
   ]
  },
  {
   "cell_type": "code",
   "execution_count": 7,
   "id": "f2dd3069-434e-49c7-8b2e-e90dfa67b83d",
   "metadata": {},
   "outputs": [
    {
     "name": "stdout",
     "output_type": "stream",
     "text": [
      "c1: 119104393.40652297\n",
      "c2: 14387.68660333391\n"
     ]
    }
   ],
   "source": [
    "c = 2.99792458e8 #m/s\n",
    "h = 6.6260755e-34 #Js\n",
    "k = 1.380658e-23 #J/K\n",
    "\n",
    "c1 = 2e24*h*c*c\n",
    "print('c1:', c1)\n",
    "c2 = 1e6*h*c/k\n",
    "print('c2:', c2)"
   ]
  },
  {
   "cell_type": "code",
   "execution_count": 8,
   "id": "5865a20a-5220-4afb-9cd8-4021985b4dfa",
   "metadata": {},
   "outputs": [
    {
     "name": "stdout",
     "output_type": "stream",
     "text": [
      "T_b: 300.00000005078795\n"
     ]
    }
   ],
   "source": [
    "wl = 11 #micron\n",
    "S = 9.5734294 #W/m^2/sr/micron\n",
    "T_b = c2 / (wl * np.log(c1/((wl**5) * S) + 1) )\n",
    "print('T_b:', T_b)"
   ]
  },
  {
   "cell_type": "code",
   "execution_count": 9,
   "id": "bf16b0eb-7701-4af1-8fcd-1aa5abfcd5c4",
   "metadata": {},
   "outputs": [],
   "source": [
    "def flux_to_Tb(flux, wl):\n",
    "    #--- Original constants used\n",
    "    #c1 = 3.74e-22\n",
    "    #c2 = 0.0144\n",
    "    S = np.array(flux)/(np.pi) #W m-2 um-1\n",
    "    \n",
    "    T_b = c2/(wl*np.log(c1/((wl**5)*S)+1))\n",
    "    \n",
    "    return T_b"
   ]
  },
  {
   "cell_type": "code",
   "execution_count": 10,
   "id": "f00e873a-7b4a-4ac4-afc0-99a82081c83b",
   "metadata": {},
   "outputs": [
    {
     "name": "stdout",
     "output_type": "stream",
     "text": [
      "T_b: 300.00000005078795\n"
     ]
    }
   ],
   "source": [
    "S = 9.5734294*np.pi #W/m^2/sr/micron\n",
    "T_b = flux_to_Tb(S, 11)\n",
    "print('T_b:', T_b)"
   ]
  },
  {
   "cell_type": "code",
   "execution_count": 11,
   "id": "fa82aee2-1e57-4e38-a90c-2f94e5429d6a",
   "metadata": {},
   "outputs": [
    {
     "name": "stdout",
     "output_type": "stream",
     "text": [
      "T_b: [287.74567015 287.68354933 287.62731513 287.57096166 287.51246922\n",
      " 287.45587119 287.39509618 287.33621431 287.27516409 287.21397289\n",
      " 287.15263997 287.09116462 287.02748969 286.96366107 286.89761141\n",
      " 286.83139622 286.76501457]\n"
     ]
    }
   ],
   "source": [
    "S = np.array(flux_sw_290) #W/m^2/sr/micron\n",
    "T_b = flux_to_Tb(S, 3.9)\n",
    "print('T_b:', T_b)"
   ]
  },
  {
   "cell_type": "code",
   "execution_count": 12,
   "id": "7bb7c06b-7ebd-4115-89fa-629db29672e9",
   "metadata": {},
   "outputs": [
    {
     "data": {
      "text/plain": [
       "{(270, 0.0): -0.11902225887331497,\n",
       " (270, 0.25): 0.008619770980317298,\n",
       " (270, 0.5): 0.13684964550208178,\n",
       " (270, 0.75): 0.33874620327253524,\n",
       " (270, 1.0): 0.6022038560096235,\n",
       " (270, 1.25): 0.9109545177124119,\n",
       " (270, 1.5): 1.2505136968059105,\n",
       " (270, 1.75): 1.6028508579268532,\n",
       " (270, 2.0): 1.9523517021028738,\n",
       " (270, 2.25): 2.2881892545057667,\n",
       " (270, 2.5): 2.604721529686117,\n",
       " (270, 2.75): 2.8901962345420884,\n",
       " (270, 3.0): 3.139974880895977,\n",
       " (270, 3.25): 3.3536010499348095,\n",
       " (270, 3.5): 3.5289080883468955,\n",
       " (270, 3.75): 3.66657117649396,\n",
       " (270, 4.0): 3.7660259670188907,\n",
       " (275, 0.0): 0.44568399631788225,\n",
       " (275, 0.25): 0.6000827596536169,\n",
       " (275, 0.5): 0.6588821872024937,\n",
       " (275, 0.75): 0.7571257692620179,\n",
       " (275, 1.0): 0.8836512594881469,\n",
       " (275, 1.25): 1.0263078415590599,\n",
       " (275, 1.5): 1.1796930870419828,\n",
       " (275, 1.75): 1.332447143039019,\n",
       " (275, 2.0): 1.4764504114882016,\n",
       " (275, 2.25): 1.6057738747634858,\n",
       " (275, 2.5): 1.7120456330046636,\n",
       " (275, 2.75): 1.798503974443122,\n",
       " (275, 3.0): 1.8564520768617854,\n",
       " (275, 3.25): 1.8862974205430305,\n",
       " (275, 3.5): 1.888083413270806,\n",
       " (275, 3.75): 1.8646349304697765,\n",
       " (275, 4.0): 1.8128053622991729,\n",
       " (280, 0.0): 0.904180038181778,\n",
       " (280, 0.25): 1.0856454476860335,\n",
       " (280, 0.5): 1.077507781186796,\n",
       " (280, 0.75): 1.0693713042549007,\n",
       " (280, 1.0): 1.0582357283065562,\n",
       " (280, 1.25): 1.0386686959434996,\n",
       " (280, 1.5): 1.0112349710676085,\n",
       " (280, 1.75): 0.9677730114926817,\n",
       " (280, 2.0): 0.9076839978707767,\n",
       " (280, 2.25): 0.8287843308798415,\n",
       " (280, 2.5): 0.7310233351493025,\n",
       " (280, 2.75): 0.6110371541031441,\n",
       " (280, 3.0): 0.47233308808046104,\n",
       " (280, 3.25): 0.31396410723300505,\n",
       " (280, 3.5): 0.13943532296565309,\n",
       " (280, 3.75): -0.05192065720569872,\n",
       " (280, 4.0): -0.25991910438216337,\n",
       " (285, 0.0): 1.2851370493329455,\n",
       " (285, 0.25): 1.4871862481320477,\n",
       " (285, 0.5): 1.4114964406983859,\n",
       " (285, 0.75): 1.2994326612385407,\n",
       " (285, 1.0): 1.1560383210364193,\n",
       " (285, 1.25): 0.9761867237199908,\n",
       " (285, 1.5): 0.7677218931123662,\n",
       " (285, 1.75): 0.530200498815077,\n",
       " (285, 2.0): 0.26864032224739276,\n",
       " (285, 2.25): -0.016683446782110423,\n",
       " (285, 2.5): -0.3238398793727697,\n",
       " (285, 2.75): -0.6477490294055883,\n",
       " (285, 3.0): -0.9830270458750192,\n",
       " (285, 3.25): -1.3324712140120027,\n",
       " (285, 3.5): -1.6908861614779198,\n",
       " (285, 3.75): -2.0559337576441408,\n",
       " (285, 4.0): -2.424993665010561,\n",
       " (290, 0.0): 1.6025509558215276,\n",
       " (290, 0.25): 1.8205712603086681,\n",
       " (290, 0.5): 1.6788001393821332,\n",
       " (290, 0.75): 1.464798415875748,\n",
       " (290, 1.0): 1.1900153882232303,\n",
       " (290, 1.25): 0.854842479195213,\n",
       " (290, 1.5): 0.4722504921078894,\n",
       " (290, 1.75): 0.043100945300636795,\n",
       " (290, 2.0): -0.4215491534310445,\n",
       " (290, 2.25): -0.9115463456752764,\n",
       " (290, 2.5): -1.427283848543425,\n",
       " (290, 2.75): -1.9563085776273397,\n",
       " (290, 3.0): -2.494198577138093,\n",
       " (290, 3.25): -3.0353764644483476,\n",
       " (290, 3.5): -3.5804530124502776,\n",
       " (290, 3.75): -4.12105190989746,\n",
       " (290, 4.0): -4.657095294642772,\n",
       " (295, 0.0): 1.8706743835870157,\n",
       " (295, 0.25): 2.105740413018623,\n",
       " (295, 0.5): 1.8933901809842268,\n",
       " (295, 0.75): 1.582238235359739,\n",
       " (295, 1.0): 1.177432869976144,\n",
       " (295, 1.25): 0.6901360548112052,\n",
       " (295, 1.5): 0.1308624690883562,\n",
       " (295, 1.75): -0.48427781128884817,\n",
       " (295, 2.0): -1.1492983867572661,\n",
       " (295, 2.25): -1.8427380231186135,\n",
       " (295, 2.5): -2.5629982832474525,\n",
       " (295, 2.75): -3.297161106651231,\n",
       " (295, 3.0): -4.038004076483105,\n",
       " (295, 3.25): -4.777297653426501,\n",
       " (295, 3.5): -5.508132436206438,\n",
       " (295, 3.75): -6.2295226521977725,\n",
       " (295, 4.0): -6.9386545687916055,\n",
       " (300, 0.0): 2.099714608281886,\n",
       " (300, 0.25): 2.346905910162036,\n",
       " (300, 0.5): 2.070146592731305,\n",
       " (300, 0.75): 1.6607712210958994,\n",
       " (300, 1.0): 1.128347823759725,\n",
       " (300, 1.25): 0.49114457243501874,\n",
       " (300, 1.5): -0.23881718991441403,\n",
       " (300, 1.75): -1.0394545585692185,\n",
       " (300, 2.0): -1.8988151289921689,\n",
       " (300, 2.25): -2.7977992944049674,\n",
       " (300, 2.5): -3.7244984473078375,\n",
       " (300, 2.75): -4.662122484124552,\n",
       " (300, 3.0): -5.6017322685424915,\n",
       " (300, 3.25): -6.538434792046985,\n",
       " (300, 3.5): -7.463151000978485,\n",
       " (300, 3.75): -8.367995317540306,\n",
       " (300, 4.0): -9.25139723697896}"
      ]
     },
     "execution_count": 12,
     "metadata": {},
     "output_type": "execute_result"
    }
   ],
   "source": [
    "data = {}\n",
    "\n",
    "for t in temps:\n",
    "    flux_lw = read_sbdart_data(folder+'11um_'+str(t))\n",
    "    flux_sw = read_sbdart_data(folder+'39um_'+str(t))\n",
    "    \n",
    "    \n",
    "    BTD = flux_to_Tb(flux_lw, 11) - flux_to_Tb(flux_sw, 3.9)\n",
    "\n",
    "    for i in range(len(uw)):\n",
    "        data[t, uw[i]] = BTD[i]\n",
    "\n",
    "data"
   ]
  },
  {
   "cell_type": "code",
   "execution_count": 13,
   "id": "632df214-33a1-4816-ae37-a0615242144d",
   "metadata": {},
   "outputs": [],
   "source": [
    "x_values, y_values, values = zip(*[(x, y, value) for (x, y), value in data.items()])"
   ]
  },
  {
   "cell_type": "code",
   "execution_count": 14,
   "id": "532ecbb9-d342-472e-9d3c-0a864ea0190f",
   "metadata": {},
   "outputs": [],
   "source": [
    "btd_grid = np.array(values).reshape(len(temps), len(uw))\n",
    "uw_grid, temp_grid = np.meshgrid(uw, temps)"
   ]
  },
  {
   "cell_type": "code",
   "execution_count": 15,
   "id": "7d41ad3f-9ca4-40f3-b2f0-8756f3e6dbbc",
   "metadata": {},
   "outputs": [
    {
     "data": {
      "image/png": "[encoded data removed]",
      "text/plain": [
       "<Figure size 900x600 with 2 Axes>"
      ]
     },
     "metadata": {},
     "output_type": "display_data"
    }
   ],
   "source": [
    "fig,ax=plt.subplots(1, figsize=(9,6))\n",
    "cmap = plt.cm.Spectral_r\n",
    "levels = np.linspace(-3, 4, 21)\n",
    "\n",
    "c=ax.contourf(uw_grid, temp_grid, btd_grid, cmap=cmap, extend='both', levels=levels)\n",
    "clb=plt.colorbar(c, shrink=0.6, pad=0.02, ax=ax)\n",
    "ax.set_title('11um-3.9um BTD (Sea Water Albedo)', fontsize=18)\n",
    "ax.set_ylabel('Sea surface temperature (K)', fontsize=12)\n",
    "ax.set_xlabel('Precipitable water vapor (g/cm2)', fontsize=12)\n",
    "clb.set_label('BTD (K)', fontsize=12)\n",
    "plt.savefig('sbdart_sst_wv.png', dpi=200, bbox_inches='tight')"
   ]
  },
  {
   "cell_type": "code",
   "execution_count": null,
   "id": "8dcb2ac7-fe57-404e-be5d-aff208845462",
   "metadata": {},
   "outputs": [],
   "source": []
  },
  {
   "cell_type": "code",
   "execution_count": null,
   "id": "0cc68f24-5474-429b-9c27-c84c6ad24e84",
   "metadata": {},
   "outputs": [],
   "source": []
  },
  {
   "cell_type": "code",
   "execution_count": null,
   "id": "29c5ddb2-8710-4856-95e0-1f318700563d",
   "metadata": {},
   "outputs": [],
   "source": []
  }
 ],
 "metadata": {
  "kernelspec": {
   "display_name": "Python 3 (ipykernel)",
   "language": "python",
   "name": "python3"
  },
  "language_info": {
   "codemirror_mode": {
    "name": "ipython",
    "version": 3
   },
   "file_extension": ".py",
   "mimetype": "text/x-python",
   "name": "python",
   "nbconvert_exporter": "python",
   "pygments_lexer": "ipython3",
   "version": "3.9.18"
  }
 },
 "nbformat": 4,
 "nbformat_minor": 5
}
