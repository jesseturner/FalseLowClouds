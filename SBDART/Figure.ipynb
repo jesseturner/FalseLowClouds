{
 "cells": [
  {
   "cell_type": "code",
   "execution_count": 1,
   "id": "96615494-2d15-42a6-83df-279be380b1b5",
   "metadata": {},
   "outputs": [],
   "source": [
    "from pylab import *  \n",
    "import numpy as np"
   ]
  },
  {
   "cell_type": "code",
   "execution_count": 2,
   "id": "c0270524-db38-4991-850a-9ff40a3ccac5",
   "metadata": {},
   "outputs": [],
   "source": [
    "#--- precipitable water vapor (g/cm2)\n",
    "uw = [0.0,0.25,0.5,0.75,1.0,1.25,1.5,1.75,2.0,2.25,2.5,2.75,3.0, 3.25, 3.5, 3.75, 4.0]\n",
    "\n",
    "#--- surface skin temperature (K)\n",
    "temps = [270, 275, 280, 285, 290, 295, 300]\n",
    "\n",
    "#--- folder path\n",
    "folder = 'figure/'"
   ]
  },
  {
   "cell_type": "code",
   "execution_count": 3,
   "id": "6557ace1-9372-4e79-8ab8-e53f961f3abc",
   "metadata": {},
   "outputs": [],
   "source": [
    "def read_sbdart_data(filename):\n",
    "    f_raw = loadtxt(filename,delimiter=\"\\t\",skiprows=3,dtype='str')\n",
    "    f = f_raw[::3]\n",
    "\n",
    "    WL=[] #--- wavelength (um)\n",
    "    FFV=[] #--- filter value\n",
    "    TOPDN=[] #--- downwelling flux to the top of the atmosphere (TOA, W/cm2/um)\n",
    "    TOPUP=[] #--- TOA upwelling flux\n",
    "    TOPDIR=[] #--- TOA direct flux\n",
    "    BOTDN=[] #--- downwelling flux at surface\n",
    "    BOTUP=[] #--- upwelling flux at surface\n",
    "    BOTDIR=[] #--- direct flux at surface\n",
    "\n",
    "    for row in f:\n",
    "        row = row[1:]\n",
    "        row = row.replace('  ',' ')\n",
    "        row = row.lstrip()\n",
    "        split_row = row.split(' ')\n",
    "        #print(split_row)\n",
    "    \n",
    "        WL.append(float(split_row[0]))\n",
    "        FFV.append(float(split_row[1]))\n",
    "        TOPDN.append(float(split_row[2]))\n",
    "        TOPUP.append(float(split_row[3]))\n",
    "        TOPDIR.append(float(split_row[4]))\n",
    "        BOTDN.append(float(split_row[5]))\n",
    "        BOTUP.append(float(split_row[6]))\n",
    "        BOTDIR.append(float(split_row[7]))\n",
    "\n",
    "    return TOPUP"
   ]
  },
  {
   "cell_type": "code",
   "execution_count": 4,
   "id": "80a28063-1eee-48e2-96a0-5357806f94a8",
   "metadata": {},
   "outputs": [],
   "source": [
    "flux_lw_290 = read_sbdart_data(folder+'11um_290')\n",
    "flux_sw_290 = read_sbdart_data(folder+'39um_290')"
   ]
  },
  {
   "cell_type": "code",
   "execution_count": 5,
   "id": "50c26f11-6288-4586-bede-c28017fb7139",
   "metadata": {},
   "outputs": [
    {
     "data": {
      "text/plain": [
       "[25.567,\n",
       " 25.63,\n",
       " 25.55,\n",
       " 25.441,\n",
       " 25.307,\n",
       " 25.15,\n",
       " 24.973,\n",
       " 24.779,\n",
       " 24.571,\n",
       " 24.354,\n",
       " 24.128,\n",
       " 23.898,\n",
       " 23.665,\n",
       " 23.432,\n",
       " 23.198,\n",
       " 22.967,\n",
       " 22.739]"
      ]
     },
     "execution_count": 5,
     "metadata": {},
     "output_type": "execute_result"
    }
   ],
   "source": [
    "flux_lw_290"
   ]
  },
  {
   "cell_type": "code",
   "execution_count": 6,
   "id": "dbb0b224-51e6-4ab6-ace3-fa99a09a5266",
   "metadata": {},
   "outputs": [
    {
     "data": {
      "text/plain": [
       "[1.1213,\n",
       " 1.1182,\n",
       " 1.1154,\n",
       " 1.1126,\n",
       " 1.1097,\n",
       " 1.1069,\n",
       " 1.1039,\n",
       " 1.101,\n",
       " 1.098,\n",
       " 1.095,\n",
       " 1.092,\n",
       " 1.089,\n",
       " 1.0859,\n",
       " 1.0828,\n",
       " 1.0796,\n",
       " 1.0764,\n",
       " 1.0732]"
      ]
     },
     "execution_count": 6,
     "metadata": {},
     "output_type": "execute_result"
    }
   ],
   "source": [
    "flux_sw_290"
   ]
  },
  {
   "cell_type": "markdown",
   "id": "9306041e-e569-4232-8eec-8ad149410d7a",
   "metadata": {},
   "source": [
    "#### Calculate the brightness temperature difference: "
   ]
  },
  {
   "cell_type": "markdown",
   "id": "3a089bf9-30b6-45ba-a05d-3c26e9a3dbff",
   "metadata": {},
   "source": [
    "* sbdart gives the flux density in w/m2/micron\n",
    "* this can be easily converted to brightness temperature ($T_B$) with an inversion of Planck's equation: \n",
    "    * $\\lambda$: wavelength\n",
    "    * $\\Omega$: beam solid angle\n",
    "    * $S$: flux density\n",
    " \n",
    "$$\n",
    "T_b = \\frac{c_2}{\\lambda \\text{ ln}(\\frac{c_1}{\\lambda^5 S}+1)}\n",
    "$$"
   ]
  },
  {
   "cell_type": "code",
   "execution_count": 7,
   "id": "bf16b0eb-7701-4af1-8fcd-1aa5abfcd5c4",
   "metadata": {},
   "outputs": [],
   "source": [
    "def flux_to_Tb(flux, wl):\n",
    "    c1 = 3.74e-22\n",
    "    c2 = 0.0144\n",
    "    S = np.array(flux) #W m-2 um-1\n",
    "    \n",
    "    T_b = c2/(wl*np.log((c1/((wl**5)*S)+1)))\n",
    "    \n",
    "    return T_b"
   ]
  },
  {
   "cell_type": "code",
   "execution_count": 8,
   "id": "7bb7c06b-7ebd-4115-89fa-629db29672e9",
   "metadata": {},
   "outputs": [
    {
     "data": {
      "text/plain": [
       "{(270, 0.0): -0.10228614526283764,\n",
       " (270, 0.25): 0.02549584347286782,\n",
       " (270, 0.5): 0.1538661978397613,\n",
       " (270, 0.75): 0.35598045644672993,\n",
       " (270, 1.0): 0.6197203410561656,\n",
       " (270, 1.25): 0.928800864058644,\n",
       " (270, 1.5): 1.268722292328448,\n",
       " (270, 1.75): 1.6214352210890297,\n",
       " (270, 2.0): 1.971309095816423,\n",
       " (270, 2.25): 2.307505490597862,\n",
       " (270, 2.5): 2.624376494202693,\n",
       " (270, 2.75): 2.910157524580427,\n",
       " (270, 3.0): 3.16020510931628,\n",
       " (270, 3.25): 3.374062429056835,\n",
       " (270, 3.5): 3.5495604893352493,\n",
       " (270, 3.75): 3.687375113017879,\n",
       " (270, 4.0): 3.786941445081368,\n",
       " (275, 0.0): 0.46354079552986605,\n",
       " (275, 0.25): 0.6181036761670384,\n",
       " (275, 0.5): 0.6769670559687029,\n",
       " (275, 0.75): 0.7753160399071248,\n",
       " (275, 1.0): 0.9019766295443219,\n",
       " (275, 1.25): 1.044785342882733,\n",
       " (275, 1.5): 1.1983340414420809,\n",
       " (275, 1.75): 1.3512509462474327,\n",
       " (275, 2.0): 1.4954078893152314,\n",
       " (275, 2.25): 1.6248696649932413,\n",
       " (275, 2.5): 1.7312555753342167,\n",
       " (275, 2.75): 1.8178072627853226,\n",
       " (275, 3.0): 1.8758188069762127,\n",
       " (275, 3.25): 1.9056980700079862,\n",
       " (275, 3.5): 1.9074885026373067,\n",
       " (275, 3.75): 1.8840179468620022,\n",
       " (275, 4.0): 1.8321365292156315,\n",
       " (280, 0.0): 0.9230690723365456,\n",
       " (280, 0.25): 1.1047238479990824,\n",
       " (280, 0.5): 1.0965762580107707,\n",
       " (280, 0.75): 1.0884298584382464,\n",
       " (280, 1.0): 1.077281238343403,\n",
       " (280, 1.25): 1.057692322467119,\n",
       " (280, 1.5): 1.0302283981027927,\n",
       " (280, 1.75): 0.9867193333277555,\n",
       " (280, 2.0): 0.9265657517045724,\n",
       " (280, 2.25): 0.847581686431397,\n",
       " (280, 2.5): 0.7497164119204172,\n",
       " (280, 2.75): 0.6296026072263885,\n",
       " (280, 3.0): 0.49075116106706673,\n",
       " (280, 3.25): 0.33221415975407353,\n",
       " (280, 3.5): 0.1575003008571798,\n",
       " (280, 3.75): -0.034058432997653654,\n",
       " (280, 4.0): -0.24227714801065758,\n",
       " (285, 0.0): 1.304996850575776,\n",
       " (285, 0.25): 1.507254391475442,\n",
       " (285, 0.5): 1.4314801657106386,\n",
       " (285, 0.75): 1.3192935767214067,\n",
       " (285, 1.0): 1.1757433682160467,\n",
       " (285, 1.25): 0.9956974137960515,\n",
       " (285, 1.5): 0.7870079972838084,\n",
       " (285, 1.75): 0.5492313637938082,\n",
       " (285, 2.0): 0.2873906017415493,\n",
       " (285, 2.25): 0.0017611434447530883,\n",
       " (285, 2.5): -0.30572397141787633,\n",
       " (285, 2.75): -0.6299794280637911,\n",
       " (285, 3.0): -0.9656157207834895,\n",
       " (285, 3.25): -1.3154330742124216,\n",
       " (285, 3.5): -1.6742306329962275,\n",
       " (285, 3.75): -2.0396677670174768,\n",
       " (285, 4.0): -2.409121374766869,\n",
       " (290, 0.0): 1.6233321803524063,\n",
       " (290, 0.25): 1.841575277619313,\n",
       " (290, 0.5): 1.6996468528786863,\n",
       " (290, 0.75): 1.4854113890557414,\n",
       " (290, 1.0): 1.2103300754741895,\n",
       " (290, 1.25): 0.8747953032677174,\n",
       " (290, 1.5): 0.4917908594960636,\n",
       " (290, 1.75): 0.06217998871039754,\n",
       " (290, 2.0): -0.4029690910425643,\n",
       " (290, 2.25): -0.8934918993928136,\n",
       " (290, 2.5): -1.409782043183327,\n",
       " (290, 2.75): -1.9393732609025278,\n",
       " (290, 3.0): -2.4778391732414775,\n",
       " (290, 3.25): -3.019596243154581,\n",
       " (290, 3.5): -3.565256142483406,\n",
       " (290, 3.75): -4.106433463857627,\n",
       " (290, 4.0): -4.643050267686988,\n",
       " (295, 0.0): 1.8923405179626798,\n",
       " (295, 0.25): 2.1276454970191025,\n",
       " (295, 0.5): 1.9150601529901792,\n",
       " (295, 0.75): 1.6035680512512158,\n",
       " (295, 1.0): 1.1983234576221662,\n",
       " (295, 1.25): 0.7104995961227019,\n",
       " (295, 1.5): 0.15062304052173658,\n",
       " (295, 1.75): -0.4651796429846513,\n",
       " (295, 2.0): -1.1309149791492814,\n",
       " (295, 2.25): -1.8250996073142005,\n",
       " (295, 2.5): -2.5461326943353697,\n",
       " (295, 2.75): -3.281082917466904,\n",
       " (295, 3.0): -4.022720201660036,\n",
       " (295, 3.25): -4.762806078546589,\n",
       " (295, 3.5): -5.4944240702849925,\n",
       " (295, 3.75): -6.216587154398894,\n",
       " (295, 4.0): -6.92647864192412,\n",
       " (300, 0.0): 2.1222383065840518,\n",
       " (300, 0.25): 2.3696798787856324,\n",
       " (300, 0.5): 2.092613879940245,\n",
       " (300, 0.75): 1.6827909571231316,\n",
       " (300, 1.0): 1.1497888635256572,\n",
       " (300, 1.25): 0.5118957079770325,\n",
       " (300, 1.5): -0.21885425574595274,\n",
       " (300, 1.75): -1.0203549115338433,\n",
       " (300, 2.0): -1.8806406730885215,\n",
       " (300, 2.25): -2.7805917581001722,\n",
       " (300, 2.5): -3.708286670113125,\n",
       " (300, 2.75): -4.646917838676757,\n",
       " (300, 3.0): -5.587536259267779,\n",
       " (300, 3.25): -6.525243738941185,\n",
       " (300, 3.5): -7.4509518122633835,\n",
       " (300, 3.75): -8.356766584859429,\n",
       " (300, 4.0): -9.241115738755127}"
      ]
     },
     "execution_count": 8,
     "metadata": {},
     "output_type": "execute_result"
    }
   ],
   "source": [
    "data = {}\n",
    "\n",
    "for t in temps:\n",
    "    flux_lw = read_sbdart_data(folder+'11um_'+str(t))\n",
    "    flux_sw = read_sbdart_data(folder+'39um_'+str(t))\n",
    "    \n",
    "    \n",
    "    BTD = flux_to_Tb(flux_lw, 11e-6) - flux_to_Tb(flux_sw, 3.9e-6)\n",
    "    #print(BTD)\n",
    "\n",
    "    for i in range(len(uw)):\n",
    "        data[t, uw[i]] = BTD[i]\n",
    "\n",
    "data"
   ]
  },
  {
   "cell_type": "code",
   "execution_count": 9,
   "id": "632df214-33a1-4816-ae37-a0615242144d",
   "metadata": {},
   "outputs": [],
   "source": [
    "x_values, y_values, values = zip(*[(x, y, value) for (x, y), value in data.items()])"
   ]
  },
  {
   "cell_type": "code",
   "execution_count": 10,
   "id": "532ecbb9-d342-472e-9d3c-0a864ea0190f",
   "metadata": {},
   "outputs": [],
   "source": [
    "btd_grid = np.array(values).reshape(len(temps), len(uw))\n",
    "uw_grid, temp_grid = np.meshgrid(uw, temps)"
   ]
  },
  {
   "cell_type": "code",
   "execution_count": 11,
   "id": "7d41ad3f-9ca4-40f3-b2f0-8756f3e6dbbc",
   "metadata": {},
   "outputs": [
    {
     "data": {
      "image/png": "[encoded data removed]",
      "text/plain": [
       "<Figure size 900x600 with 2 Axes>"
      ]
     },
     "metadata": {},
     "output_type": "display_data"
    }
   ],
   "source": [
    "fig,ax=plt.subplots(1, figsize=(9,6))\n",
    "cmap = plt.cm.Spectral_r\n",
    "levels = np.linspace(-3, 4, 21)\n",
    "\n",
    "c=ax.contourf(uw_grid, temp_grid, btd_grid, cmap=cmap, extend='both', levels=levels)\n",
    "clb=plt.colorbar(c, shrink=0.6, pad=0.02, ax=ax)\n",
    "ax.set_title('11um-3.9um BTD (Sea Water Albedo)', fontsize=18)\n",
    "ax.set_ylabel('Sea surface temperature (K)', fontsize=12)\n",
    "ax.set_xlabel('Precipitable water vapor (g/cm2)', fontsize=12)\n",
    "clb.set_label('BTD (K)', fontsize=12)\n",
    "plt.savefig('sbdart_sst_wv.png', dpi=200, bbox_inches='tight')"
   ]
  },
  {
   "cell_type": "code",
   "execution_count": null,
   "id": "8dcb2ac7-fe57-404e-be5d-aff208845462",
   "metadata": {},
   "outputs": [],
   "source": []
  },
  {
   "cell_type": "code",
   "execution_count": null,
   "id": "0cc68f24-5474-429b-9c27-c84c6ad24e84",
   "metadata": {},
   "outputs": [],
   "source": []
  },
  {
   "cell_type": "code",
   "execution_count": null,
   "id": "29c5ddb2-8710-4856-95e0-1f318700563d",
   "metadata": {},
   "outputs": [],
   "source": []
  }
 ],
 "metadata": {
  "kernelspec": {
   "display_name": "Python 3 (ipykernel)",
   "language": "python",
   "name": "python3"
  },
  "language_info": {
   "codemirror_mode": {
    "name": "ipython",
    "version": 3
   },
   "file_extension": ".py",
   "mimetype": "text/x-python",
   "name": "python",
   "nbconvert_exporter": "python",
   "pygments_lexer": "ipython3",
   "version": "3.9.18"
  }
 },
 "nbformat": 4,
 "nbformat_minor": 5
}
