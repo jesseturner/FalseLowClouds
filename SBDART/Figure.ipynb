{
 "cells": [
  {
   "cell_type": "code",
   "execution_count": 1,
   "id": "96615494-2d15-42a6-83df-279be380b1b5",
   "metadata": {},
   "outputs": [],
   "source": [
    "from pylab import *  \n",
    "import numpy as np"
   ]
  },
  {
   "cell_type": "code",
   "execution_count": 2,
   "id": "c0270524-db38-4991-850a-9ff40a3ccac5",
   "metadata": {},
   "outputs": [],
   "source": [
    "#--- precipitable water vapor (g/cm2)\n",
    "uw = [0.0,0.25,0.5,0.75,1.0,1.25,1.5,1.75,2.0,2.25,2.5,2.75,3.0, 3.25, 3.5, 3.75, 4.0]\n",
    "\n",
    "#--- surface skin temperature (K)\n",
    "temps = [270, 275, 280, 285, 290, 295, 300]\n",
    "\n",
    "#--- folder path\n",
    "folder = 'figure/'"
   ]
  },
  {
   "cell_type": "code",
   "execution_count": 3,
   "id": "6557ace1-9372-4e79-8ab8-e53f961f3abc",
   "metadata": {},
   "outputs": [],
   "source": [
    "def read_sbdart_data(filename):\n",
    "    f_raw = loadtxt(filename,delimiter=\"\\t\",skiprows=3,dtype='str')\n",
    "    f = f_raw[::3]\n",
    "\n",
    "    WL=[] #--- wavelength (um)\n",
    "    FFV=[] #--- filter value\n",
    "    TOPDN=[] #--- downwelling flux to the top of the atmosphere (TOA, W/cm2/um)\n",
    "    TOPUP=[] #--- TOA upwelling flux\n",
    "    TOPDIR=[] #--- TOA direct flux\n",
    "    BOTDN=[] #--- downwelling flux at surface\n",
    "    BOTUP=[] #--- upwelling flux at surface\n",
    "    BOTDIR=[] #--- direct flux at surface\n",
    "\n",
    "    for row in f:\n",
    "        row = row[1:]\n",
    "        row = row.replace('  ',' ')\n",
    "        row = row.lstrip()\n",
    "        split_row = row.split(' ')\n",
    "        #print(split_row)\n",
    "    \n",
    "        WL.append(float(split_row[0]))\n",
    "        FFV.append(float(split_row[1]))\n",
    "        TOPDN.append(float(split_row[2]))\n",
    "        TOPUP.append(float(split_row[3]))\n",
    "        TOPDIR.append(float(split_row[4]))\n",
    "        BOTDN.append(float(split_row[5]))\n",
    "        BOTUP.append(float(split_row[6]))\n",
    "        BOTDIR.append(float(split_row[7]))\n",
    "\n",
    "    return TOPUP"
   ]
  },
  {
   "cell_type": "code",
   "execution_count": 4,
   "id": "80a28063-1eee-48e2-96a0-5357806f94a8",
   "metadata": {},
   "outputs": [],
   "source": [
    "flux_lw_290 = read_sbdart_data(folder+'11um_290')\n",
    "flux_sw_290 = read_sbdart_data(folder+'39um_290')"
   ]
  },
  {
   "cell_type": "code",
   "execution_count": 5,
   "id": "50c26f11-6288-4586-bede-c28017fb7139",
   "metadata": {},
   "outputs": [
    {
     "data": {
      "text/plain": [
       "[25.688,\n",
       " 25.721,\n",
       " 25.637,\n",
       " 25.522,\n",
       " 25.38,\n",
       " 25.212,\n",
       " 25.023,\n",
       " 24.815,\n",
       " 24.592,\n",
       " 24.358,\n",
       " 24.114,\n",
       " 23.865,\n",
       " 23.612,\n",
       " 23.357,\n",
       " 23.102,\n",
       " 22.849,\n",
       " 22.598]"
      ]
     },
     "execution_count": 5,
     "metadata": {},
     "output_type": "execute_result"
    }
   ],
   "source": [
    "flux_lw_290"
   ]
  },
  {
   "cell_type": "code",
   "execution_count": 6,
   "id": "dbb0b224-51e6-4ab6-ace3-fa99a09a5266",
   "metadata": {},
   "outputs": [
    {
     "data": {
      "text/plain": [
       "[1.1994,\n",
       " 1.1995,\n",
       " 1.1953,\n",
       " 1.1912,\n",
       " 1.1873,\n",
       " 1.1835,\n",
       " 1.1796,\n",
       " 1.1758,\n",
       " 1.172,\n",
       " 1.1681,\n",
       " 1.1643,\n",
       " 1.1604,\n",
       " 1.1566,\n",
       " 1.1527,\n",
       " 1.1488,\n",
       " 1.1448,\n",
       " 1.1409]"
      ]
     },
     "execution_count": 6,
     "metadata": {},
     "output_type": "execute_result"
    }
   ],
   "source": [
    "flux_sw_290"
   ]
  },
  {
   "cell_type": "markdown",
   "id": "9306041e-e569-4232-8eec-8ad149410d7a",
   "metadata": {},
   "source": [
    "#### Calculate the brightness temperature difference: "
   ]
  },
  {
   "cell_type": "markdown",
   "id": "3a089bf9-30b6-45ba-a05d-3c26e9a3dbff",
   "metadata": {},
   "source": [
    "* sbdart gives the flux density in w/m2/micron\n",
    "* this can be easily converted to brightness temperature ($T_B$) with an inversion of Planck's equation: \n",
    "    * $\\lambda$: wavelength\n",
    "    * $\\Omega$: beam solid angle\n",
    "    * $S$: flux density\n",
    " \n",
    "$$\n",
    "T_b = \\frac{c_2}{\\lambda \\text{ ln}(\\frac{c_1}{\\lambda^5 S}+1)}\n",
    "$$"
   ]
  },
  {
   "cell_type": "code",
   "execution_count": 7,
   "id": "f2dd3069-434e-49c7-8b2e-e90dfa67b83d",
   "metadata": {},
   "outputs": [
    {
     "name": "stdout",
     "output_type": "stream",
     "text": [
      "c1: 119104393.40652297\n",
      "c2: 14387.68660333391\n"
     ]
    }
   ],
   "source": [
    "c = 2.99792458e8 #m/s\n",
    "h = 6.6260755e-34 #Js\n",
    "k = 1.380658e-23 #J/K\n",
    "\n",
    "c1 = 2e24*h*c*c\n",
    "print('c1:', c1)\n",
    "c2 = 1e6*h*c/k\n",
    "print('c2:', c2)"
   ]
  },
  {
   "cell_type": "code",
   "execution_count": 8,
   "id": "5865a20a-5220-4afb-9cd8-4021985b4dfa",
   "metadata": {},
   "outputs": [
    {
     "name": "stdout",
     "output_type": "stream",
     "text": [
      "T_b: 300.00000005078795\n"
     ]
    }
   ],
   "source": [
    "wl = 11 #micron\n",
    "S = 9.5734294 #W/m^2/sr/micron\n",
    "T_b = c2 / (wl * np.log(c1/((wl**5) * S) + 1) )\n",
    "print('T_b:', T_b)"
   ]
  },
  {
   "cell_type": "code",
   "execution_count": 9,
   "id": "bf16b0eb-7701-4af1-8fcd-1aa5abfcd5c4",
   "metadata": {},
   "outputs": [],
   "source": [
    "def flux_to_Tb(flux, wl):\n",
    "    #--- Original constants used\n",
    "    #c1 = 3.74e-22\n",
    "    #c2 = 0.0144\n",
    "    S = np.array(flux)/(np.pi) #W m-2 um-1\n",
    "    \n",
    "    T_b = c2/(wl*np.log(c1/((wl**5)*S)+1))\n",
    "    \n",
    "    return T_b"
   ]
  },
  {
   "cell_type": "code",
   "execution_count": 10,
   "id": "f00e873a-7b4a-4ac4-afc0-99a82081c83b",
   "metadata": {},
   "outputs": [
    {
     "name": "stdout",
     "output_type": "stream",
     "text": [
      "T_b: 300.00000005078795\n"
     ]
    }
   ],
   "source": [
    "S = 9.5734294*np.pi #W/m^2/sr/micron\n",
    "T_b = flux_to_Tb(S, 11)\n",
    "print('T_b:', T_b)"
   ]
  },
  {
   "cell_type": "code",
   "execution_count": 11,
   "id": "fa82aee2-1e57-4e38-a90c-2f94e5429d6a",
   "metadata": {},
   "outputs": [
    {
     "name": "stdout",
     "output_type": "stream",
     "text": [
      "T_b: [289.26482804 289.26671901 289.18718363 289.10931431 289.03503347\n",
      " 288.96245909 288.88777022 288.81479586 288.74162231 288.66631477\n",
      " 288.59273391 288.51700576 288.44301256 288.36685861 288.29048696\n",
      " 288.2119295  288.13511267]\n"
     ]
    }
   ],
   "source": [
    "S = np.array(flux_sw_290) #W/m^2/sr/micron\n",
    "T_b = flux_to_Tb(S, 3.9)\n",
    "print('T_b:', T_b)"
   ]
  },
  {
   "cell_type": "code",
   "execution_count": 12,
   "id": "7bb7c06b-7ebd-4115-89fa-629db29672e9",
   "metadata": {},
   "outputs": [
    {
     "data": {
      "text/plain": [
       "{(270, 0.0): -0.09909552893071805,\n",
       " (270, 0.25): -0.05614907872558206,\n",
       " (270, 0.5): 0.04828175141454949,\n",
       " (270, 0.75): 0.22163331595112368,\n",
       " (270, 1.0): 0.45445425036251663,\n",
       " (270, 1.25): 0.7284006348626235,\n",
       " (270, 1.5): 1.0245186467327017,\n",
       " (270, 1.75): 1.3307933750847383,\n",
       " (270, 2.0): 1.6357899472789086,\n",
       " (270, 2.25): 1.9187043102377856,\n",
       " (270, 2.5): 2.17977820706858,\n",
       " (270, 2.75): 2.408432418155712,\n",
       " (270, 3.0): 2.5980008640243,\n",
       " (270, 3.25): 2.74997616696902,\n",
       " (270, 3.5): 2.8609488346051535,\n",
       " (270, 3.75): 2.9315362936459906,\n",
       " (270, 4.0): 2.9651710797674014,\n",
       " (275, 0.0): 0.07445531560489371,\n",
       " (275, 0.25): 0.13029559184496975,\n",
       " (275, 0.5): 0.1792428303183442,\n",
       " (275, 0.75): 0.2615810386820385,\n",
       " (275, 1.0): 0.36302204393251714,\n",
       " (275, 1.25): 0.48132463209879006,\n",
       " (275, 1.5): 0.6019435246591343,\n",
       " (275, 1.75): 0.719219287984231,\n",
       " (275, 2.0): 0.8250347475978401,\n",
       " (275, 2.25): 0.9081640941269598,\n",
       " (275, 2.5): 0.9711647522095177,\n",
       " (275, 2.75): 1.0031645505389406,\n",
       " (275, 3.0): 1.0098404734681026,\n",
       " (275, 3.25): 0.9831048857757878,\n",
       " (275, 3.5): 0.927920696549279,\n",
       " (275, 3.75): 0.8449178072982022,\n",
       " (275, 4.0): 0.733712925572263,\n",
       " (280, 0.0): 0.20406570020657,\n",
       " (280, 0.25): 0.2743128396722909,\n",
       " (280, 0.5): 0.2642796869413928,\n",
       " (280, 0.75): 0.24962127981393678,\n",
       " (280, 1.0): 0.22302441502785086,\n",
       " (280, 1.25): 0.18502303902755557,\n",
       " (280, 1.5): 0.1328849210291878,\n",
       " (280, 1.75): 0.058984347030161643,\n",
       " (280, 2.0): -0.034017521669738926,\n",
       " (280, 2.25): -0.15162764284946206,\n",
       " (280, 2.5): -0.29121687807798935,\n",
       " (280, 2.75): -0.4558949029309929,\n",
       " (280, 3.0): -0.6422298117166747,\n",
       " (280, 3.25): -0.8481647076959007,\n",
       " (280, 3.5): -1.0793302820407575,\n",
       " (280, 3.75): -1.324607548892402,\n",
       " (280, 4.0): -1.5896396336192424,\n",
       " (285, 0.0): 0.3044628556665998,\n",
       " (285, 0.25): 0.3806588426326698,\n",
       " (285, 0.5): 0.3117274515547024,\n",
       " (285, 0.75): 0.20074007356942047,\n",
       " (285, 1.0): 0.04909992128665408,\n",
       " (285, 1.25): -0.14250877867539202,\n",
       " (285, 1.5): -0.3715219315992613,\n",
       " (285, 1.75): -0.6325458665492079,\n",
       " (285, 2.0): -0.9234712418277695,\n",
       " (285, 2.25): -1.2443580810702315,\n",
       " (285, 2.5): -1.58736797392487,\n",
       " (285, 2.75): -1.9501006847646067,\n",
       " (285, 3.0): -2.3330257373907557,\n",
       " (285, 3.25): -2.7279075934465595,\n",
       " (285, 3.5): -3.1351383746145416,\n",
       " (285, 3.75): -3.5494873428941673,\n",
       " (285, 4.0): -3.973766429116438,\n",
       " (290, 0.0): 0.382625015303347,\n",
       " (290, 0.25): 0.4622025355114374,\n",
       " (290, 0.5): 0.3342455606971839,\n",
       " (290, 0.75): 0.12741514732596215,\n",
       " (290, 1.0): -0.15086312839127913,\n",
       " (290, 1.25): -0.4968659711559553,\n",
       " (290, 1.5): -0.8949960500715406,\n",
       " (290, 1.75): -1.344752338927833,\n",
       " (290, 2.0): -1.8348157741799014,\n",
       " (290, 2.25): -2.3537024961019597,\n",
       " (290, 2.5): -2.903228012944794,\n",
       " (290, 2.75): -3.4671428766711188,\n",
       " (290, 3.0): -4.0470364754170305,\n",
       " (290, 3.25): -4.634060424595987,\n",
       " (290, 3.5): -5.225082534726823,\n",
       " (290, 3.75): -5.812929723870354,\n",
       " (290, 4.0): -6.401507842411547,\n",
       " (295, 0.0): 0.44092839771275294,\n",
       " (295, 0.25): 0.5252858025144747,\n",
       " (295, 0.5): 0.3350404177328983,\n",
       " (295, 0.75): 0.03193906614063735,\n",
       " (295, 1.0): -0.37088599442995474,\n",
       " (295, 1.25): -0.8635353099918461,\n",
       " (295, 1.5): -1.4337212605789773,\n",
       " (295, 1.75): -2.0698635070921796,\n",
       " (295, 2.0): -2.7528715139692395,\n",
       " (295, 2.25): -3.4755248278507906,\n",
       " (295, 2.5): -4.2262944906393045,\n",
       " (295, 2.75): -4.995825986666318,\n",
       " (295, 3.0): -5.772832665648991,\n",
       " (295, 3.25): -6.554087767160468,\n",
       " (295, 3.5): -7.3294390807385525,\n",
       " (295, 3.75): -8.098744177825267,\n",
       " (295, 4.0): -8.856641132158302,\n",
       " (300, 0.0): 0.4877308369893285,\n",
       " (300, 0.25): 0.5738796908011068,\n",
       " (300, 0.5): 0.32135905525228736,\n",
       " (300, 0.75): -0.07639994991774302,\n",
       " (300, 1.0): -0.6025132551868069,\n",
       " (300, 1.25): -1.2438451348570538,\n",
       " (300, 1.5): -1.9816718454982833,\n",
       " (300, 1.75): -2.798948618916313,\n",
       " (300, 2.0): -3.6767097193563245,\n",
       " (300, 2.25): -4.59943772582136,\n",
       " (300, 2.5): -5.552913198214469,\n",
       " (300, 2.75): -6.5258583858258135,\n",
       " (300, 3.0): -7.504110639774353,\n",
       " (300, 3.25): -8.478990666416337,\n",
       " (300, 3.5): -9.444317571930469,\n",
       " (300, 3.75): -10.393334703154437,\n",
       " (300, 4.0): -11.323310294120347}"
      ]
     },
     "execution_count": 12,
     "metadata": {},
     "output_type": "execute_result"
    }
   ],
   "source": [
    "data = {}\n",
    "\n",
    "for t in temps:\n",
    "    flux_lw = read_sbdart_data(folder+'11um_'+str(t))\n",
    "    flux_sw = read_sbdart_data(folder+'39um_'+str(t))\n",
    "    \n",
    "    \n",
    "    BTD = flux_to_Tb(flux_lw, 11) - flux_to_Tb(flux_sw, 3.9)\n",
    "\n",
    "    for i in range(len(uw)):\n",
    "        data[t, uw[i]] = BTD[i]\n",
    "\n",
    "data"
   ]
  },
  {
   "cell_type": "code",
   "execution_count": 13,
   "id": "632df214-33a1-4816-ae37-a0615242144d",
   "metadata": {},
   "outputs": [],
   "source": [
    "x_values, y_values, values = zip(*[(x, y, value) for (x, y), value in data.items()])"
   ]
  },
  {
   "cell_type": "code",
   "execution_count": 14,
   "id": "532ecbb9-d342-472e-9d3c-0a864ea0190f",
   "metadata": {},
   "outputs": [],
   "source": [
    "btd_grid = np.array(values).reshape(len(temps), len(uw))\n",
    "uw_grid, temp_grid = np.meshgrid(uw, temps)"
   ]
  },
  {
   "cell_type": "code",
   "execution_count": 15,
   "id": "7d41ad3f-9ca4-40f3-b2f0-8756f3e6dbbc",
   "metadata": {},
   "outputs": [
    {
     "data": {
      "image/png": "[encoded data removed]",
      "text/plain": [
       "<Figure size 900x600 with 2 Axes>"
      ]
     },
     "metadata": {},
     "output_type": "display_data"
    }
   ],
   "source": [
    "fig,ax=plt.subplots(1, figsize=(9,6))\n",
    "cmap = plt.cm.Spectral_r\n",
    "levels = np.linspace(-3, 4, 21)\n",
    "\n",
    "c=ax.contourf(uw_grid, temp_grid, btd_grid, cmap=cmap, extend='both', levels=levels)\n",
    "clb=plt.colorbar(c, shrink=0.6, pad=0.02, ax=ax)\n",
    "ax.set_title('11um-3.9um BTD (alb=0.0)', fontsize=18)\n",
    "ax.set_ylabel('Sea surface temperature (K)', fontsize=12)\n",
    "ax.set_xlabel('Precipitable water vapor (g/cm2)', fontsize=12)\n",
    "clb.set_label('BTD (K)', fontsize=12)\n",
    "plt.savefig('sbdart_sst_wv.png', dpi=200, bbox_inches='tight')"
   ]
  },
  {
   "cell_type": "markdown",
   "id": "4b1800f0-7106-4336-86e9-cf1ff4718caf",
   "metadata": {},
   "source": [
    "Comparing brightness temperature in a dry atmosphere: "
   ]
  },
  {
   "cell_type": "code",
   "execution_count": 16,
   "id": "0cc68f24-5474-429b-9c27-c84c6ad24e84",
   "metadata": {},
   "outputs": [
    {
     "name": "stdout",
     "output_type": "stream",
     "text": [
      "T_b (3.9um, 290 K, no moisture): 289.2648280410971\n",
      "T_b (3.9um, 290 K, no moisture): 289.6474530564004\n"
     ]
    }
   ],
   "source": [
    "S_sw = np.array(flux_sw_290) #W/m^2/sr/micron\n",
    "T_b_sw = flux_to_Tb(S_sw, 3.9)\n",
    "print('T_b (3.9um, 290 K, no moisture):', T_b_sw[0])\n",
    "\n",
    "S_lw = np.array(flux_lw_290) #W/m^2/sr/micron\n",
    "T_b_lw = flux_to_Tb(S_lw, 11)\n",
    "print('T_b (3.9um, 290 K, no moisture):', T_b_lw[0])"
   ]
  },
  {
   "cell_type": "code",
   "execution_count": null,
   "id": "29c5ddb2-8710-4856-95e0-1f318700563d",
   "metadata": {},
   "outputs": [],
   "source": []
  }
 ],
 "metadata": {
  "kernelspec": {
   "display_name": "Python 3 (ipykernel)",
   "language": "python",
   "name": "python3"
  },
  "language_info": {
   "codemirror_mode": {
    "name": "ipython",
    "version": 3
   },
   "file_extension": ".py",
   "mimetype": "text/x-python",
   "name": "python",
   "nbconvert_exporter": "python",
   "pygments_lexer": "ipython3",
   "version": "3.9.18"
  }
 },
 "nbformat": 4,
 "nbformat_minor": 5
}
