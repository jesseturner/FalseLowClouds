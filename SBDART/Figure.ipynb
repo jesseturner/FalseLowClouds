{
 "cells": [
  {
   "cell_type": "code",
   "execution_count": 1,
   "id": "96615494-2d15-42a6-83df-279be380b1b5",
   "metadata": {},
   "outputs": [],
   "source": [
    "from pylab import *  \n",
    "import numpy as np"
   ]
  },
  {
   "cell_type": "code",
   "execution_count": 2,
   "id": "c0270524-db38-4991-850a-9ff40a3ccac5",
   "metadata": {},
   "outputs": [],
   "source": [
    "#--- precipitable water vapor (g/cm2)\n",
    "uw = [0.0,0.25,0.5,0.75,1.0,1.25,1.5,1.75,2.0,2.25,2.5,2.75,3.0, 3.25, 3.5, 3.75, 4.0]\n",
    "\n",
    "#--- surface skin temperature (K)\n",
    "temps = [270, 275, 280, 285, 290, 295, 300]\n",
    "\n",
    "#--- folder path\n",
    "folder = 'figure_alb_01/'"
   ]
  },
  {
   "cell_type": "code",
   "execution_count": 3,
   "id": "6557ace1-9372-4e79-8ab8-e53f961f3abc",
   "metadata": {},
   "outputs": [],
   "source": [
    "def read_sbdart_data(filename):\n",
    "    f_raw = loadtxt(filename,delimiter=\"\\t\",skiprows=3,dtype='str')\n",
    "    f = f_raw[::3]\n",
    "\n",
    "    WL=[] #--- wavelength (um)\n",
    "    FFV=[] #--- filter value\n",
    "    TOPDN=[] #--- downwelling flux to the top of the atmosphere (TOA, W/cm2/um)\n",
    "    TOPUP=[] #--- TOA upwelling flux\n",
    "    TOPDIR=[] #--- TOA direct flux\n",
    "    BOTDN=[] #--- downwelling flux at surface\n",
    "    BOTUP=[] #--- upwelling flux at surface\n",
    "    BOTDIR=[] #--- direct flux at surface\n",
    "\n",
    "    for row in f:\n",
    "        row = row[1:]\n",
    "        row = row.replace('  ',' ')\n",
    "        row = row.lstrip()\n",
    "        split_row = row.split(' ')\n",
    "        #print(split_row)\n",
    "    \n",
    "        WL.append(float(split_row[0]))\n",
    "        FFV.append(float(split_row[1]))\n",
    "        TOPDN.append(float(split_row[2]))\n",
    "        TOPUP.append(float(split_row[3]))\n",
    "        TOPDIR.append(float(split_row[4]))\n",
    "        BOTDN.append(float(split_row[5]))\n",
    "        BOTUP.append(float(split_row[6]))\n",
    "        BOTDIR.append(float(split_row[7]))\n",
    "\n",
    "    return TOPUP"
   ]
  },
  {
   "cell_type": "code",
   "execution_count": 4,
   "id": "80a28063-1eee-48e2-96a0-5357806f94a8",
   "metadata": {},
   "outputs": [],
   "source": [
    "flux_lw_290 = read_sbdart_data(folder+'11um_290')\n",
    "flux_sw_290 = read_sbdart_data(folder+'39um_290')"
   ]
  },
  {
   "cell_type": "code",
   "execution_count": 5,
   "id": "50c26f11-6288-4586-bede-c28017fb7139",
   "metadata": {},
   "outputs": [
    {
     "data": {
      "text/plain": [
       "[23.072,\n",
       " 23.14,\n",
       " 23.141,\n",
       " 23.143,\n",
       " 23.141,\n",
       " 23.132,\n",
       " 23.112,\n",
       " 23.078,\n",
       " 23.026,\n",
       " 22.957,\n",
       " 22.869,\n",
       " 22.763,\n",
       " 22.64,\n",
       " 22.503,\n",
       " 22.352,\n",
       " 22.19,\n",
       " 22.019]"
      ]
     },
     "execution_count": 5,
     "metadata": {},
     "output_type": "execute_result"
    }
   ],
   "source": [
    "flux_lw_290"
   ]
  },
  {
   "cell_type": "code",
   "execution_count": 6,
   "id": "dbb0b224-51e6-4ab6-ace3-fa99a09a5266",
   "metadata": {},
   "outputs": [
    {
     "data": {
      "text/plain": [
       "[1.0179,\n",
       " 1.0157,\n",
       " 1.0138,\n",
       " 1.0118,\n",
       " 1.0098,\n",
       " 1.0078,\n",
       " 1.0058,\n",
       " 1.0038,\n",
       " 1.0017,\n",
       " 0.9996,\n",
       " 0.99747,\n",
       " 0.99532,\n",
       " 0.99314,\n",
       " 0.99093,\n",
       " 0.98869,\n",
       " 0.98643,\n",
       " 0.98414]"
      ]
     },
     "execution_count": 6,
     "metadata": {},
     "output_type": "execute_result"
    }
   ],
   "source": [
    "flux_sw_290"
   ]
  },
  {
   "cell_type": "markdown",
   "id": "9306041e-e569-4232-8eec-8ad149410d7a",
   "metadata": {},
   "source": [
    "#### Calculate the brightness temperature difference: "
   ]
  },
  {
   "cell_type": "markdown",
   "id": "3a089bf9-30b6-45ba-a05d-3c26e9a3dbff",
   "metadata": {},
   "source": [
    "* sbdart gives the flux density in w/m2/micron\n",
    "* this can be easily converted to brightness temperature ($T_B$) with an inversion of Planck's equation: \n",
    "    * $\\lambda$: wavelength\n",
    "    * $\\Omega$: beam solid angle\n",
    "    * $S$: flux density\n",
    " \n",
    "$$\n",
    "T_b = \\frac{c_2}{\\lambda \\text{ ln}(\\frac{c_1}{\\lambda^5 S}+1)}\n",
    "$$"
   ]
  },
  {
   "cell_type": "code",
   "execution_count": 7,
   "id": "bf16b0eb-7701-4af1-8fcd-1aa5abfcd5c4",
   "metadata": {},
   "outputs": [],
   "source": [
    "def flux_to_Tb(flux, wl):\n",
    "    c1 = 3.74e-22\n",
    "    c2 = 0.0144\n",
    "    S = np.array(flux) #W m-2 um-1\n",
    "    \n",
    "    T_b = c2/(wl*np.log((c1/((wl**5)*S)+1)))\n",
    "    \n",
    "    return T_b"
   ]
  },
  {
   "cell_type": "code",
   "execution_count": 8,
   "id": "7bb7c06b-7ebd-4115-89fa-629db29672e9",
   "metadata": {},
   "outputs": [
    {
     "data": {
      "text/plain": [
       "{(270, 0.0): -3.9631474009528915,\n",
       " (270, 0.25): -3.8335565233069815,\n",
       " (270, 0.5): -3.5015075209825,\n",
       " (270, 0.75): -3.0170600790728486,\n",
       " (270, 1.0): -2.4144325119189034,\n",
       " (270, 1.25): -1.7304958393312972,\n",
       " (270, 1.5): -1.004270708175227,\n",
       " (270, 1.75): -0.2700347139401629,\n",
       " (270, 2.0): 0.4408663183416479,\n",
       " (270, 2.25): 1.1122840469017774,\n",
       " (270, 2.5): 1.720049550637441,\n",
       " (270, 2.75): 2.2609065577092906,\n",
       " (270, 3.0): 2.7210368526373827,\n",
       " (270, 3.25): 3.1043254407601353,\n",
       " (270, 3.5): 3.4127391008784684,\n",
       " (270, 3.75): 3.646774504282405,\n",
       " (270, 4.0): 3.8104860384569292,\n",
       " (275, 0.0): -3.4699451176267644,\n",
       " (275, 0.25): -3.309183289556586,\n",
       " (275, 0.5): -3.0516891223529683,\n",
       " (275, 0.75): -2.6780701416493002,\n",
       " (275, 1.0): -2.2201575392829795,\n",
       " (275, 1.25): -1.7086772347575447,\n",
       " (275, 1.5): -1.1711768405000385,\n",
       " (275, 1.75): -0.6345754605036404,\n",
       " (275, 2.0): -0.12514436901750514,\n",
       " (275, 2.25): 0.3434218825631774,\n",
       " (275, 2.5): 0.753702724971788,\n",
       " (275, 2.75): 1.1043600141994148,\n",
       " (275, 3.0): 1.38751322103235,\n",
       " (275, 3.25): 1.6009813536478532,\n",
       " (275, 3.5): 1.750667984920085,\n",
       " (275, 3.75): 1.8405242728447888,\n",
       " (275, 4.0): 1.8700739644634723,\n",
       " (280, 0.0): -3.09065647954651,\n",
       " (280, 0.25): -2.906328662649287,\n",
       " (280, 0.5): -2.717856199035964,\n",
       " (280, 0.75): -2.455758381942644,\n",
       " (280, 1.0): -2.1400580994370557,\n",
       " (280, 1.25): -1.7969357088554148,\n",
       " (280, 1.5): -1.443721300282391,\n",
       " (280, 1.75): -1.1034642051791366,\n",
       " (280, 2.0): -0.795149694562781,\n",
       " (280, 2.25): -0.5300215756498119,\n",
       " (280, 2.5): -0.3161365815086583,\n",
       " (280, 2.75): -0.15875003022313194,\n",
       " (280, 3.0): -0.06006770995941224,\n",
       " (280, 3.25): -0.017410067473576873,\n",
       " (280, 3.5): -0.030076310138269946,\n",
       " (280, 3.75): -0.09620042463797063,\n",
       " (280, 4.0): -0.20655147556925613,\n",
       " (285, 0.0): -2.8026498123381316,\n",
       " (285, 0.25): -2.5960429667088647,\n",
       " (285, 0.5): -2.480448535307005,\n",
       " (285, 0.75): -2.326527494194522,\n",
       " (285, 1.0): -2.150862265138926,\n",
       " (285, 1.25): -1.969696602978388,\n",
       " (285, 1.5): -1.7994329426467743,\n",
       " (285, 1.75): -1.6536522621693734,\n",
       " (285, 2.0): -1.5458813987840472,\n",
       " (285, 2.25): -1.4812057561942993,\n",
       " (285, 2.5): -1.465274422191385,\n",
       " (285, 2.75): -1.5035439225379719,\n",
       " (285, 3.0): -1.5903939035607095,\n",
       " (285, 3.25): -1.7259824746167283,\n",
       " (285, 3.5): -1.908065172863246,\n",
       " (285, 3.75): -2.131439491060121,\n",
       " (285, 4.0): -2.3878937311045547,\n",
       " (290, 0.0): -2.587922720245956,\n",
       " (290, 0.25): -2.361339838188144,\n",
       " (290, 0.5): -2.31729973703375,\n",
       " (290, 0.75): -2.2683833744359276,\n",
       " (290, 1.0): -2.229896911629396,\n",
       " (290, 1.25): -2.2097205300744918,\n",
       " (290, 1.5): -2.218376739309349,\n",
       " (290, 1.75): -2.2637984817736196,\n",
       " (290, 2.0): -2.354409731000885,\n",
       " (290, 2.25): -2.4899553157994205,\n",
       " (290, 2.5): -2.6752955579776767,\n",
       " (290, 2.75): -2.9083370690897823,\n",
       " (290, 3.0): -3.1865886408409096,\n",
       " (290, 3.25): -3.502476586500393,\n",
       " (290, 3.5): -3.856406420299038,\n",
       " (290, 3.75): -4.240984304914605,\n",
       " (290, 4.0): -4.650977136112942,\n",
       " (295, 0.0): -2.4302584455006695,\n",
       " (295, 0.25): -2.188784160634725,\n",
       " (295, 0.5): -2.214204363477279,\n",
       " (295, 0.75): -2.269760966144304,\n",
       " (295, 1.0): -2.3637865816382373,\n",
       " (295, 1.25): -2.498300430729387,\n",
       " (295, 1.5): -2.683653777366601,\n",
       " (295, 1.75): -2.9183357545205126,\n",
       " (295, 2.0): -3.20463283587992,\n",
       " (295, 2.25): -3.5430560640425597,\n",
       " (295, 2.5): -3.9271855972367007,\n",
       " (295, 2.75): -4.355036821677061,\n",
       " (295, 3.0): -4.823944150757029,\n",
       " (295, 3.25): -5.324112019292215,\n",
       " (295, 3.5): -5.854155169464775,\n",
       " (295, 3.75): -6.403326144775349,\n",
       " (295, 4.0): -6.97197205324386,\n",
       " (300, 0.0): -2.315611385179011,\n",
       " (300, 0.25): -2.0636822679887814,\n",
       " (300, 0.5): -2.156181302308198,\n",
       " (300, 0.75): -2.3155537297933506,\n",
       " (300, 1.0): -2.5390850698555028,\n",
       " (300, 1.25): -2.827296020408596,\n",
       " (300, 1.5): -3.184854702682003,\n",
       " (300, 1.75): -3.6060915037476775,\n",
       " (300, 2.0): -4.0844880160669845,\n",
       " (300, 2.25): -4.620049307519366,\n",
       " (300, 2.5): -5.204664616477203,\n",
       " (300, 2.75): -5.830819462279408,\n",
       " (300, 3.0): -6.492670917586963,\n",
       " (300, 3.25): -7.178252815861754,\n",
       " (300, 3.5): -7.8845959223043565,\n",
       " (300, 3.75): -8.60700129277592,\n",
       " (300, 4.0): -9.332153895892873}"
      ]
     },
     "execution_count": 8,
     "metadata": {},
     "output_type": "execute_result"
    }
   ],
   "source": [
    "data = {}\n",
    "\n",
    "for t in temps:\n",
    "    flux_lw = read_sbdart_data(folder+'11um_'+str(t))\n",
    "    flux_sw = read_sbdart_data(folder+'39um_'+str(t))\n",
    "    \n",
    "    \n",
    "    BTD = flux_to_Tb(flux_lw, 11e-6) - flux_to_Tb(flux_sw, 3.9e-6)\n",
    "    #print(BTD)\n",
    "\n",
    "    for i in range(len(uw)):\n",
    "        data[t, uw[i]] = BTD[i]\n",
    "\n",
    "data"
   ]
  },
  {
   "cell_type": "code",
   "execution_count": 9,
   "id": "632df214-33a1-4816-ae37-a0615242144d",
   "metadata": {},
   "outputs": [],
   "source": [
    "x_values, y_values, values = zip(*[(x, y, value) for (x, y), value in data.items()])"
   ]
  },
  {
   "cell_type": "code",
   "execution_count": 10,
   "id": "532ecbb9-d342-472e-9d3c-0a864ea0190f",
   "metadata": {},
   "outputs": [],
   "source": [
    "btd_grid = np.array(values).reshape(len(temps), len(uw))\n",
    "uw_grid, temp_grid = np.meshgrid(uw, temps)"
   ]
  },
  {
   "cell_type": "code",
   "execution_count": 11,
   "id": "7d41ad3f-9ca4-40f3-b2f0-8756f3e6dbbc",
   "metadata": {},
   "outputs": [
    {
     "data": {
      "image/png": "[encoded data removed]",
      "text/plain": [
       "<Figure size 900x600 with 2 Axes>"
      ]
     },
     "metadata": {},
     "output_type": "display_data"
    }
   ],
   "source": [
    "fig,ax=plt.subplots(1, figsize=(9,6))\n",
    "cmap = plt.cm.Spectral_r\n",
    "levels = np.linspace(-3, 4, 21)\n",
    "\n",
    "c=ax.contourf(uw_grid, temp_grid, btd_grid, cmap=cmap, extend='both', levels=levels)\n",
    "clb=plt.colorbar(c, shrink=0.6, pad=0.02, ax=ax)\n",
    "ax.set_title('11um-3.9um BTD (alb=0.05)', fontsize=18)\n",
    "ax.set_ylabel('Sea surface temperature (K)', fontsize=12)\n",
    "ax.set_xlabel('Precipitable water vapor (g/cm2)', fontsize=12)\n",
    "clb.set_label('BTD (K)', fontsize=12)\n",
    "plt.savefig('sbdart_sst_wv.png', dpi=200, bbox_inches='tight')"
   ]
  },
  {
   "cell_type": "code",
   "execution_count": null,
   "id": "8dcb2ac7-fe57-404e-be5d-aff208845462",
   "metadata": {},
   "outputs": [],
   "source": []
  },
  {
   "cell_type": "code",
   "execution_count": null,
   "id": "0cc68f24-5474-429b-9c27-c84c6ad24e84",
   "metadata": {},
   "outputs": [],
   "source": []
  },
  {
   "cell_type": "code",
   "execution_count": null,
   "id": "29c5ddb2-8710-4856-95e0-1f318700563d",
   "metadata": {},
   "outputs": [],
   "source": []
  }
 ],
 "metadata": {
  "kernelspec": {
   "display_name": "Python 3 (ipykernel)",
   "language": "python",
   "name": "python3"
  },
  "language_info": {
   "codemirror_mode": {
    "name": "ipython",
    "version": 3
   },
   "file_extension": ".py",
   "mimetype": "text/x-python",
   "name": "python",
   "nbconvert_exporter": "python",
   "pygments_lexer": "ipython3",
   "version": "3.9.18"
  }
 },
 "nbformat": 4,
 "nbformat_minor": 5
}
