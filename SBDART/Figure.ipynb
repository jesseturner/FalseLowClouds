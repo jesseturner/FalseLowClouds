{
 "cells": [
  {
   "cell_type": "code",
   "execution_count": 1,
   "id": "96615494-2d15-42a6-83df-279be380b1b5",
   "metadata": {},
   "outputs": [],
   "source": [
    "from pylab import *  \n",
    "import numpy as np"
   ]
  },
  {
   "cell_type": "code",
   "execution_count": 2,
   "id": "c0270524-db38-4991-850a-9ff40a3ccac5",
   "metadata": {},
   "outputs": [],
   "source": [
    "#--- precipitable water vapor (g/cm2)\n",
    "uw = [0.0,0.25,0.5,0.75,1.0,1.25,1.5,1.75,2.0,2.25,2.5,2.75,3.0, 3.25, 3.5, 3.75, 4.0]\n",
    "\n",
    "#--- surface skin temperature (K)\n",
    "temps = [270, 275, 280, 285, 290, 295, 300]\n",
    "\n",
    "#--- folder path\n",
    "folder = 'figure/'"
   ]
  },
  {
   "cell_type": "code",
   "execution_count": 3,
   "id": "6557ace1-9372-4e79-8ab8-e53f961f3abc",
   "metadata": {},
   "outputs": [],
   "source": [
    "def read_sbdart_data(filename):\n",
    "    f_raw = loadtxt(filename,delimiter=\"\\t\",skiprows=3,dtype='str')\n",
    "    f = f_raw[::3]\n",
    "\n",
    "    WL=[] #--- wavelength (um)\n",
    "    FFV=[] #--- filter value\n",
    "    TOPDN=[] #--- downwelling flux to the top of the atmosphere (TOA, W/cm2/um)\n",
    "    TOPUP=[] #--- TOA upwelling flux\n",
    "    TOPDIR=[] #--- TOA direct flux\n",
    "    BOTDN=[] #--- downwelling flux at surface\n",
    "    BOTUP=[] #--- upwelling flux at surface\n",
    "    BOTDIR=[] #--- direct flux at surface\n",
    "\n",
    "    for row in f:\n",
    "        row = row[1:]\n",
    "        row = row.replace('  ',' ')\n",
    "        row = row.lstrip()\n",
    "        split_row = row.split(' ')\n",
    "        #print(split_row)\n",
    "    \n",
    "        WL.append(float(split_row[0]))\n",
    "        FFV.append(float(split_row[1]))\n",
    "        TOPDN.append(float(split_row[2]))\n",
    "        TOPUP.append(float(split_row[3]))\n",
    "        TOPDIR.append(float(split_row[4]))\n",
    "        BOTDN.append(float(split_row[5]))\n",
    "        BOTUP.append(float(split_row[6]))\n",
    "        BOTDIR.append(float(split_row[7]))\n",
    "\n",
    "    return TOPUP"
   ]
  },
  {
   "cell_type": "code",
   "execution_count": 4,
   "id": "80a28063-1eee-48e2-96a0-5357806f94a8",
   "metadata": {},
   "outputs": [],
   "source": [
    "flux_lw_290 = read_sbdart_data(folder+'11um_290')\n",
    "flux_sw_290 = read_sbdart_data(folder+'39um_290')"
   ]
  },
  {
   "cell_type": "code",
   "execution_count": 5,
   "id": "50c26f11-6288-4586-bede-c28017fb7139",
   "metadata": {},
   "outputs": [
    {
     "data": {
      "text/plain": [
       "[25.58,\n",
       " 25.543,\n",
       " 25.445,\n",
       " 25.316,\n",
       " 25.16,\n",
       " 24.979,\n",
       " 24.778,\n",
       " 24.559,\n",
       " 24.327,\n",
       " 24.084,\n",
       " 23.834,\n",
       " 23.579,\n",
       " 23.322,\n",
       " 23.064,\n",
       " 22.808,\n",
       " 22.553,\n",
       " 22.303]"
      ]
     },
     "execution_count": 5,
     "metadata": {},
     "output_type": "execute_result"
    }
   ],
   "source": [
    "flux_lw_290"
   ]
  },
  {
   "cell_type": "code",
   "execution_count": 6,
   "id": "dbb0b224-51e6-4ab6-ace3-fa99a09a5266",
   "metadata": {},
   "outputs": [
    {
     "data": {
      "text/plain": [
       "[1.1994,\n",
       " 1.1995,\n",
       " 1.1953,\n",
       " 1.1912,\n",
       " 1.1873,\n",
       " 1.1835,\n",
       " 1.1796,\n",
       " 1.1758,\n",
       " 1.172,\n",
       " 1.1681,\n",
       " 1.1643,\n",
       " 1.1604,\n",
       " 1.1566,\n",
       " 1.1527,\n",
       " 1.1488,\n",
       " 1.1448,\n",
       " 1.1409]"
      ]
     },
     "execution_count": 6,
     "metadata": {},
     "output_type": "execute_result"
    }
   ],
   "source": [
    "flux_sw_290"
   ]
  },
  {
   "cell_type": "markdown",
   "id": "9306041e-e569-4232-8eec-8ad149410d7a",
   "metadata": {},
   "source": [
    "#### Calculate the brightness temperature difference: "
   ]
  },
  {
   "cell_type": "markdown",
   "id": "3a089bf9-30b6-45ba-a05d-3c26e9a3dbff",
   "metadata": {},
   "source": [
    "* sbdart gives the flux density in w/m2/micron\n",
    "* this can be easily converted to brightness temperature ($T_B$) with an inversion of Planck's equation: \n",
    "    * $\\lambda$: wavelength\n",
    "    * $\\Omega$: beam solid angle\n",
    "    * $S$: flux density\n",
    " \n",
    "$$\n",
    "T_b = \\frac{c_2}{\\lambda \\text{ ln}(\\frac{c_1}{\\lambda^5 S}+1)}\n",
    "$$"
   ]
  },
  {
   "cell_type": "code",
   "execution_count": 7,
   "id": "f2dd3069-434e-49c7-8b2e-e90dfa67b83d",
   "metadata": {},
   "outputs": [
    {
     "name": "stdout",
     "output_type": "stream",
     "text": [
      "c1: 119104393.40652297\n",
      "c2: 14387.68660333391\n"
     ]
    }
   ],
   "source": [
    "c = 2.99792458e8 #m/s\n",
    "h = 6.6260755e-34 #Js\n",
    "k = 1.380658e-23 #J/K\n",
    "\n",
    "c1 = 2e24*h*c*c\n",
    "print('c1:', c1)\n",
    "c2 = 1e6*h*c/k\n",
    "print('c2:', c2)"
   ]
  },
  {
   "cell_type": "code",
   "execution_count": 8,
   "id": "5865a20a-5220-4afb-9cd8-4021985b4dfa",
   "metadata": {},
   "outputs": [
    {
     "name": "stdout",
     "output_type": "stream",
     "text": [
      "T_b: 300.00000005078795\n"
     ]
    }
   ],
   "source": [
    "wl = 11 #micron\n",
    "S = 9.5734294 #W/m^2/sr/micron\n",
    "T_b = c2 / (wl * np.log(c1/((wl**5) * S) + 1) )\n",
    "print('T_b:', T_b)"
   ]
  },
  {
   "cell_type": "code",
   "execution_count": 9,
   "id": "bf16b0eb-7701-4af1-8fcd-1aa5abfcd5c4",
   "metadata": {},
   "outputs": [],
   "source": [
    "def flux_to_Tb(flux, wl):\n",
    "    #--- Original constants used\n",
    "    #c1 = 3.74e-22\n",
    "    #c2 = 0.0144\n",
    "    S = np.array(flux)/(np.pi) #W m-2 um-1\n",
    "    \n",
    "    T_b = c2/(wl*np.log(c1/((wl**5)*S)+1))\n",
    "    \n",
    "    return T_b"
   ]
  },
  {
   "cell_type": "code",
   "execution_count": 10,
   "id": "f00e873a-7b4a-4ac4-afc0-99a82081c83b",
   "metadata": {},
   "outputs": [
    {
     "name": "stdout",
     "output_type": "stream",
     "text": [
      "T_b: 300.00000005078795\n"
     ]
    }
   ],
   "source": [
    "S = 9.5734294*np.pi #W/m^2/sr/micron\n",
    "T_b = flux_to_Tb(S, 11)\n",
    "print('T_b:', T_b)"
   ]
  },
  {
   "cell_type": "code",
   "execution_count": 11,
   "id": "fa82aee2-1e57-4e38-a90c-2f94e5429d6a",
   "metadata": {},
   "outputs": [
    {
     "name": "stdout",
     "output_type": "stream",
     "text": [
      "T_b: [289.26482804 289.26671901 289.18718363 289.10931431 289.03503347\n",
      " 288.96245909 288.88777022 288.81479586 288.74162231 288.66631477\n",
      " 288.59273391 288.51700576 288.44301256 288.36685861 288.29048696\n",
      " 288.2119295  288.13511267]\n"
     ]
    }
   ],
   "source": [
    "S = np.array(flux_sw_290) #W/m^2/sr/micron\n",
    "T_b = flux_to_Tb(S, 3.9)\n",
    "print('T_b:', T_b)"
   ]
  },
  {
   "cell_type": "code",
   "execution_count": 12,
   "id": "7bb7c06b-7ebd-4115-89fa-629db29672e9",
   "metadata": {},
   "outputs": [
    {
     "data": {
      "text/plain": [
       "{(270, 0.0): -0.47796083006056733,\n",
       " (270, 0.25): -0.17008704175515277,\n",
       " (270, 0.5): -0.02652351142336329,\n",
       " (270, 0.75): 0.1798576255987996,\n",
       " (270, 1.0): 0.4395842309054956,\n",
       " (270, 1.25): 0.731363584891028,\n",
       " (270, 1.5): 1.0392754623415499,\n",
       " (270, 1.75): 1.3484314325207265,\n",
       " (270, 2.0): 1.6445748579451447,\n",
       " (270, 2.25): 1.9216219513319288,\n",
       " (270, 2.5): 2.165238752450591,\n",
       " (270, 2.75): 2.373641432040756,\n",
       " (270, 3.0): 2.5401636100818905,\n",
       " (270, 3.25): 2.666290706144707,\n",
       " (270, 3.5): 2.751478492431829,\n",
       " (270, 3.75): 2.7963114982669026,\n",
       " (270, 4.0): 2.8013175411073234,\n",
       " (275, 0.0): -0.21082298237712394,\n",
       " (275, 0.25): -0.060522712250531185,\n",
       " (275, 0.5): 0.008498913201151481,\n",
       " (275, 0.75): 0.10524255970898366,\n",
       " (275, 1.0): 0.2182445494383387,\n",
       " (275, 1.25): 0.3395909687590688,\n",
       " (275, 1.5): 0.4604161164277798,\n",
       " (275, 1.75): 0.5722358542016082,\n",
       " (275, 2.0): 0.6669419747910297,\n",
       " (275, 2.25): 0.7389502864491533,\n",
       " (275, 2.5): 0.7823537848830142,\n",
       " (275, 2.75): 0.7975399890594872,\n",
       " (275, 3.0): 0.7817211230358794,\n",
       " (275, 3.25): 0.7352322131519031,\n",
       " (275, 3.5): 0.6573893514838005,\n",
       " (275, 3.75): 0.5516221313313281,\n",
       " (275, 4.0): 0.420354707298884,\n",
       " (280, 0.0): 0.16611203745162584,\n",
       " (280, 0.25): 0.003185978120427535,\n",
       " (280, 0.5): -0.006927075426688134,\n",
       " (280, 0.75): -0.024389344028577398,\n",
       " (280, 1.0): -0.05382169087903321,\n",
       " (280, 1.25): -0.10284979469287236,\n",
       " (280, 1.5): -0.1660679846197013,\n",
       " (280, 1.75): -0.2538562721470612,\n",
       " (280, 2.0): -0.3635624394636352,\n",
       " (280, 2.25): -0.4952685316216048,\n",
       " (280, 2.5): -0.6545448222977939,\n",
       " (280, 2.75): -0.836327510011813,\n",
       " (280, 3.0): -1.0399199153104064,\n",
       " (280, 3.25): -1.2660215475071368,\n",
       " (280, 3.5): -1.5120345934085435,\n",
       " (280, 3.75): -1.7778399315043885,\n",
       " (280, 4.0): -2.0552737726333703,\n",
       " (285, 0.0): 0.0793621714199162,\n",
       " (285, 0.25): 0.026284952365301706,\n",
       " (285, 0.5): -0.05861928254688564,\n",
       " (285, 0.75): -0.1909591842988334,\n",
       " (285, 1.0): -0.36417508184598546,\n",
       " (285, 1.25): -0.5776091900627307,\n",
       " (285, 1.5): -0.8287136376572448,\n",
       " (285, 1.75): -1.1120977841220565,\n",
       " (285, 2.0): -1.425664167037155,\n",
       " (285, 2.25): -1.764205590647009,\n",
       " (285, 2.5): -2.127771407452201,\n",
       " (285, 2.75): -2.508662121189275,\n",
       " (285, 3.0): -2.9073290021098046,\n",
       " (285, 3.25): -3.31815990893557,\n",
       " (285, 3.5): -3.738853291074008,\n",
       " (285, 3.75): -4.166832761850799,\n",
       " (285, 4.0): -4.599475166220259,\n",
       " (290, 0.0): 0.11558081123479269,\n",
       " (290, 0.25): 0.022053896810348306,\n",
       " (290, 0.5): -0.14149053292015878,\n",
       " (290, 0.75): -0.3844138519377793,\n",
       " (290, 1.0): -0.6993244215079812,\n",
       " (290, 1.25): -1.080053500693623,\n",
       " (290, 1.5): -1.510976276777285,\n",
       " (290, 1.75): -1.9915878867282117,\n",
       " (290, 2.0): -2.5079747224150424,\n",
       " (290, 2.25): -3.0536713173912062,\n",
       " (290, 2.5): -3.6227750628488025,\n",
       " (290, 2.75): -4.20661796533966,\n",
       " (290, 3.0): -4.801566057194634,\n",
       " (290, 3.25): -5.401274747625109,\n",
       " (290, 3.5): -5.99988523735675,\n",
       " (290, 3.75): -6.598073172910631,\n",
       " (290, 4.0): -7.189077803028397,\n",
       " (295, 0.0): 0.15684891387132893,\n",
       " (295, 0.25): -0.005225202373878801,\n",
       " (295, 0.5): -0.2468133203848879,\n",
       " (295, 0.75): -0.6021527892568201,\n",
       " (295, 1.0): -1.05579221361711,\n",
       " (295, 1.25): -1.5978878978721127,\n",
       " (295, 1.5): -2.2113097668390083,\n",
       " (295, 1.75): -2.8843532469077786,\n",
       " (295, 2.0): -3.602670595904897,\n",
       " (295, 2.25): -4.356497252063264,\n",
       " (295, 2.5): -5.129136759830828,\n",
       " (295, 2.75): -5.918522468283584,\n",
       " (295, 3.0): -6.708151894757577,\n",
       " (295, 3.25): -7.499711230450032,\n",
       " (295, 3.5): -8.282898953502524,\n",
       " (295, 3.75): -9.054897219627094,\n",
       " (295, 4.0): -9.812796344494473,\n",
       " (300, 0.0): 0.2471063315547326,\n",
       " (300, 0.25): -0.05104836404888147,\n",
       " (300, 0.5): -0.3695472393001751,\n",
       " (300, 0.75): -0.8346303668278665,\n",
       " (300, 1.0): -1.4272623752207778,\n",
       " (300, 1.25): -2.1274345742806986,\n",
       " (300, 1.5): -2.9209774314133483,\n",
       " (300, 1.75): -3.783690520282107,\n",
       " (300, 2.0): -4.703409858007603,\n",
       " (300, 2.25): -5.659649097107263,\n",
       " (300, 2.5): -6.6402710424564475,\n",
       " (300, 2.75): -7.631261561873771,\n",
       " (300, 3.0): -8.623013663127722,\n",
       " (300, 3.25): -9.606635226798971,\n",
       " (300, 3.5): -10.575718808927945,\n",
       " (300, 3.75): -11.523297044117953,\n",
       " (300, 4.0): -12.449005285397845}"
      ]
     },
     "execution_count": 12,
     "metadata": {},
     "output_type": "execute_result"
    }
   ],
   "source": [
    "data = {}\n",
    "\n",
    "for t in temps:\n",
    "    flux_lw = read_sbdart_data(folder+'11um_'+str(t))\n",
    "    flux_sw = read_sbdart_data(folder+'39um_'+str(t))\n",
    "    \n",
    "    \n",
    "    BTD = flux_to_Tb(flux_lw, 11) - flux_to_Tb(flux_sw, 3.9)\n",
    "\n",
    "    for i in range(len(uw)):\n",
    "        data[t, uw[i]] = BTD[i]\n",
    "\n",
    "data"
   ]
  },
  {
   "cell_type": "code",
   "execution_count": 13,
   "id": "632df214-33a1-4816-ae37-a0615242144d",
   "metadata": {},
   "outputs": [],
   "source": [
    "x_values, y_values, values = zip(*[(x, y, value) for (x, y), value in data.items()])"
   ]
  },
  {
   "cell_type": "code",
   "execution_count": 14,
   "id": "532ecbb9-d342-472e-9d3c-0a864ea0190f",
   "metadata": {},
   "outputs": [],
   "source": [
    "btd_grid = np.array(values).reshape(len(temps), len(uw))\n",
    "uw_grid, temp_grid = np.meshgrid(uw, temps)"
   ]
  },
  {
   "cell_type": "code",
   "execution_count": 17,
   "id": "7d41ad3f-9ca4-40f3-b2f0-8756f3e6dbbc",
   "metadata": {},
   "outputs": [
    {
     "data": {
      "image/png": "[encoded data removed]",
      "text/plain": [
       "<Figure size 900x600 with 2 Axes>"
      ]
     },
     "metadata": {},
     "output_type": "display_data"
    }
   ],
   "source": [
    "fig,ax=plt.subplots(1, figsize=(9,6))\n",
    "cmap = plt.cm.bwr\n",
    "levels = np.linspace(-3, 3, 21)\n",
    "\n",
    "c=ax.contourf(uw_grid, temp_grid, btd_grid, cmap=cmap, extend='both', levels=levels)\n",
    "clb=plt.colorbar(c, shrink=0.6, pad=0.02, ax=ax)\n",
    "ax.set_title('11.2um-3.9um BTD', fontsize=18)\n",
    "ax.set_ylabel('Sea surface temperature (K)', fontsize=12)\n",
    "ax.set_xlabel('Precipitable water vapor (g/cm2)', fontsize=12)\n",
    "clb.set_label('BTD (K)', fontsize=12)\n",
    "plt.savefig('sbdart_sst_wv.png', dpi=200, bbox_inches='tight')"
   ]
  },
  {
   "cell_type": "markdown",
   "id": "4b1800f0-7106-4336-86e9-cf1ff4718caf",
   "metadata": {},
   "source": [
    "Comparing brightness temperature in a dry atmosphere: "
   ]
  },
  {
   "cell_type": "code",
   "execution_count": 16,
   "id": "0cc68f24-5474-429b-9c27-c84c6ad24e84",
   "metadata": {},
   "outputs": [
    {
     "name": "stdout",
     "output_type": "stream",
     "text": [
      "T_b (3.9um, 290 K, no moisture): 289.2648280410971\n",
      "T_b (3.9um, 290 K, no moisture): 289.38040885233187\n"
     ]
    }
   ],
   "source": [
    "S_sw = np.array(flux_sw_290) #W/m^2/sr/micron\n",
    "T_b_sw = flux_to_Tb(S_sw, 3.9)\n",
    "print('T_b (3.9um, 290 K, no moisture):', T_b_sw[0])\n",
    "\n",
    "S_lw = np.array(flux_lw_290) #W/m^2/sr/micron\n",
    "T_b_lw = flux_to_Tb(S_lw, 11)\n",
    "print('T_b (3.9um, 290 K, no moisture):', T_b_lw[0])"
   ]
  },
  {
   "cell_type": "code",
   "execution_count": null,
   "id": "29c5ddb2-8710-4856-95e0-1f318700563d",
   "metadata": {},
   "outputs": [],
   "source": []
  }
 ],
 "metadata": {
  "kernelspec": {
   "display_name": "Python 3 (ipykernel)",
   "language": "python",
   "name": "python3"
  },
  "language_info": {
   "codemirror_mode": {
    "name": "ipython",
    "version": 3
   },
   "file_extension": ".py",
   "mimetype": "text/x-python",
   "name": "python",
   "nbconvert_exporter": "python",
   "pygments_lexer": "ipython3",
   "version": "3.9.18"
  }
 },
 "nbformat": 4,
 "nbformat_minor": 5
}
