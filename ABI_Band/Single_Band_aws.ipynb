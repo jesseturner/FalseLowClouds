{
 "cells": [
  {
   "cell_type": "markdown",
   "id": "bc151cb5-191b-41f0-9352-9bea0826cd37",
   "metadata": {},
   "source": [
    "# Viewing an ABI band\n",
    "\n",
    "Without downloading the data from the cloud. All processing is done on Amazon Web Services.\n",
    "\n",
    "This code is inspired by Amy Huff and by Mya Sears: \n",
    "* https://github.com/modern-tools-workshop/AMS-python-workshop-2023/blob/main/download_satellite_data.ipynb\n",
    "* https://gitlab.cicsnc.org/workshop-development/ams-short-course/-/blob/main/course_materials/02_GOES_aws_classroom.ipynb?ref_type=head\n"
   ]
  },
  {
   "cell_type": "code",
   "execution_count": 1,
   "id": "1ac3e867-9463-4fd0-842d-d7df30ee0c58",
   "metadata": {
    "tags": []
   },
   "outputs": [],
   "source": [
    "#---Cloud search libraries\n",
    "import s3fs\n",
    "import requests\n",
    "from pathlib import Path\n",
    "import fnmatch\n",
    "\n",
    "#---Data libraries\n",
    "import xarray as xr\n",
    "import netCDF4\n",
    "import numpy as np\n",
    "import datetime\n",
    "\n",
    "#---Plotting libraries\n",
    "import matplotlib.pyplot as plt\n",
    "import cartopy.crs as ccrs\n",
    "import cartopy.feature as cfeature"
   ]
  },
  {
   "cell_type": "markdown",
   "id": "b9a3f048-a780-4c02-a94b-1406d958b693",
   "metadata": {},
   "source": [
    "**Hooking up the AWS S3 buckets:**"
   ]
  },
  {
   "cell_type": "code",
   "execution_count": 2,
   "id": "98e1b4b9-5385-4578-958f-ae7ea806fcf0",
   "metadata": {
    "tags": []
   },
   "outputs": [],
   "source": [
    "fs = s3fs.S3FileSystem(anon=True)"
   ]
  },
  {
   "cell_type": "markdown",
   "id": "8de4a1a1-da4a-4cff-a875-8e952008c618",
   "metadata": {},
   "source": [
    "**Viewing the products available:**"
   ]
  },
  {
   "cell_type": "code",
   "execution_count": 3,
   "id": "fb440ce2-9ef9-4548-b7b1-6006755d905c",
   "metadata": {
    "tags": []
   },
   "outputs": [
    {
     "name": "stdout",
     "output_type": "stream",
     "text": [
      "ABI-L1b-RadC\n",
      "ABI-L1b-RadF\n",
      "ABI-L1b-RadM\n",
      "ABI-L2-ACHA2KMC\n",
      "ABI-L2-ACHA2KMF\n",
      "ABI-L2-ACHA2KMM\n",
      "ABI-L2-ACHAC\n",
      "ABI-L2-ACHAF\n",
      "ABI-L2-ACHAM\n",
      "ABI-L2-ACHP2KMC\n",
      "ABI-L2-ACHP2KMF\n",
      "ABI-L2-ACHP2KMM\n",
      "ABI-L2-ACHTF\n",
      "ABI-L2-ACHTM\n",
      "ABI-L2-ACMC\n",
      "ABI-L2-ACMF\n",
      "ABI-L2-ACMM\n",
      "ABI-L2-ACTPC\n",
      "ABI-L2-ACTPF\n",
      "ABI-L2-ACTPM\n",
      "ABI-L2-ADPC\n",
      "ABI-L2-ADPF\n",
      "ABI-L2-ADPM\n",
      "ABI-L2-AICEF\n",
      "ABI-L2-AITAF\n",
      "ABI-L2-AODC\n",
      "ABI-L2-AODF\n",
      "ABI-L2-BRFC\n",
      "ABI-L2-BRFF\n",
      "ABI-L2-BRFM\n",
      "ABI-L2-CCLC\n",
      "ABI-L2-CCLF\n",
      "ABI-L2-CCLM\n",
      "ABI-L2-CMIPC\n",
      "ABI-L2-CMIPF\n",
      "ABI-L2-CMIPM\n",
      "ABI-L2-COD2KMF\n",
      "ABI-L2-CODC\n",
      "ABI-L2-CODF\n",
      "ABI-L2-CPSC\n",
      "ABI-L2-CPSF\n",
      "ABI-L2-CPSM\n",
      "ABI-L2-CTPC\n",
      "ABI-L2-CTPF\n",
      "ABI-L2-DMWC\n",
      "ABI-L2-DMWF\n",
      "ABI-L2-DMWM\n",
      "ABI-L2-DMWVC\n",
      "ABI-L2-DMWVF\n",
      "ABI-L2-DMWVM\n",
      "ABI-L2-DSIC\n",
      "ABI-L2-DSIF\n",
      "ABI-L2-DSIM\n",
      "ABI-L2-DSRC\n",
      "ABI-L2-DSRF\n",
      "ABI-L2-DSRM\n",
      "ABI-L2-FDCC\n",
      "ABI-L2-FDCF\n",
      "ABI-L2-FDCM\n",
      "ABI-L2-FSCC\n",
      "ABI-L2-FSCF\n",
      "ABI-L2-FSCM\n",
      "ABI-L2-LSAC\n",
      "ABI-L2-LSAF\n",
      "ABI-L2-LSAM\n",
      "ABI-L2-LST2KMF\n",
      "ABI-L2-LSTC\n",
      "ABI-L2-LSTF\n",
      "ABI-L2-LSTM\n",
      "ABI-L2-LVMPC\n",
      "ABI-L2-LVMPF\n",
      "ABI-L2-LVMPM\n",
      "ABI-L2-LVTPC\n",
      "ABI-L2-LVTPF\n",
      "ABI-L2-LVTPM\n",
      "ABI-L2-MCMIPC\n",
      "ABI-L2-MCMIPF\n",
      "ABI-L2-MCMIPM\n",
      "ABI-L2-RRQPEF\n",
      "ABI-L2-RSRC\n",
      "ABI-L2-RSRF\n",
      "ABI-L2-SSTF\n",
      "ABI-L2-TPWC\n",
      "ABI-L2-TPWF\n",
      "ABI-L2-TPWM\n",
      "ABI-L2-VAAF\n",
      "Beginners_Guide_to_GOES-R_Series_Data.pdf\n",
      "EXIS-L1b-SFEU\n",
      "EXIS-L1b-SFXR\n",
      "GLM-L2-LCFA\n",
      "MAG-L1b-GEOF\n",
      "SEIS-L1b-EHIS\n",
      "SEIS-L1b-MPSH\n",
      "SEIS-L1b-MPSL\n",
      "SEIS-L1b-SGPS\n",
      "SUVI-L1b-Fe093\n",
      "SUVI-L1b-Fe131\n",
      "SUVI-L1b-Fe171\n",
      "SUVI-L1b-Fe195\n",
      "SUVI-L1b-Fe284\n",
      "SUVI-L1b-He303\n",
      "Version1.1_Beginners_Guide_to_GOES-R_Series_Data.pdf\n",
      "index.html\n"
     ]
    }
   ],
   "source": [
    "bucket = 'noaa-goes16'\n",
    "\n",
    "products_path = bucket\n",
    "\n",
    "products = fs.ls(products_path)\n",
    "\n",
    "for product in products:\n",
    "    print(product.split('/')[-1])"
   ]
  },
  {
   "cell_type": "markdown",
   "id": "e89c58b5-7520-45f1-beea-d56a56b44663",
   "metadata": {},
   "source": [
    "**Set the datetime of interest:**"
   ]
  },
  {
   "cell_type": "code",
   "execution_count": 4,
   "id": "74beb524-f07e-4c98-bae1-a141f084990d",
   "metadata": {
    "tags": []
   },
   "outputs": [],
   "source": [
    "year = 2023\n",
    "month = 9\n",
    "day = 7\n",
    "hour = 0\n",
    "\n",
    "julian = datetime.datetime(year, month, day).strftime('%j')"
   ]
  },
  {
   "cell_type": "markdown",
   "id": "ea5fe754-8b3d-43d4-bed6-ce9a328db002",
   "metadata": {},
   "source": [
    "**Set the product of interest:**"
   ]
  },
  {
   "cell_type": "code",
   "execution_count": 5,
   "id": "a10a0d73-25fb-40db-83a6-9ee370838892",
   "metadata": {
    "tags": []
   },
   "outputs": [
    {
     "name": "stdout",
     "output_type": "stream",
     "text": [
      "Total number of files: 96 \n",
      "\n",
      "OR_ABI-L1b-RadF-M6C01_G16_s20232500000203_e20232500009511_c20232500009554.nc\n",
      "OR_ABI-L1b-RadF-M6C01_G16_s20232500010203_e20232500019511_c20232500019556.nc\n",
      "OR_ABI-L1b-RadF-M6C01_G16_s20232500020203_e20232500029511_c20232500029565.nc\n",
      "...\n",
      "OR_ABI-L1b-RadF-M6C16_G16_s20232500030203_e20232500039523_c20232500039573.nc\n",
      "OR_ABI-L1b-RadF-M6C16_G16_s20232500040203_e20232500049523_c20232500049551.nc\n",
      "OR_ABI-L1b-RadF-M6C16_G16_s20232500050203_e20232500059524_c20232500059557.nc\n"
     ]
    }
   ],
   "source": [
    "product = 'ABI-L1b-RadF'\n",
    "\n",
    "data_path = bucket + '/' + product + '/'  + str(year) + '/' + str(julian).zfill(3) + '/' + str(hour).zfill(2)\n",
    "\n",
    "files = fs.ls(data_path)\n",
    "\n",
    "print('Total number of files:', len(files), '\\n')\n",
    "\n",
    "for file in files[:3]:\n",
    "    print(file.split('/')[-1])\n",
    "print('...')\n",
    "for file in files[-3:]:\n",
    "    print(file.split('/')[-1])"
   ]
  },
  {
   "cell_type": "markdown",
   "id": "1c227b86-0d68-4c9e-8617-8574112452df",
   "metadata": {},
   "source": [
    "**Set the band of interest:**\n",
    "* returns the six ten-minute increments within the hour"
   ]
  },
  {
   "cell_type": "code",
   "execution_count": 6,
   "id": "b97544cf-d564-4ace-8fdd-8e8358909701",
   "metadata": {
    "tags": []
   },
   "outputs": [
    {
     "name": "stdout",
     "output_type": "stream",
     "text": [
      "OR_ABI-L1b-RadF-M6C07_G16_s20232500000203_e20232500009523_c20232500009560.nc\n",
      "OR_ABI-L1b-RadF-M6C07_G16_s20232500010203_e20232500019523_c20232500019568.nc\n",
      "OR_ABI-L1b-RadF-M6C07_G16_s20232500020203_e20232500029525_c20232500029569.nc\n",
      "OR_ABI-L1b-RadF-M6C07_G16_s20232500030203_e20232500039523_c20232500039553.nc\n",
      "OR_ABI-L1b-RadF-M6C07_G16_s20232500040203_e20232500049523_c20232500049563.nc\n",
      "OR_ABI-L1b-RadF-M6C07_G16_s20232500050203_e20232500059523_c20232500059570.nc\n"
     ]
    }
   ],
   "source": [
    "band = 7\n",
    "files_band = [file for file in files if fnmatch.fnmatchcase(file.split('/')[-1], \"OR_ABI-L1b-RadF-M6C\"+str(band).zfill(2)+\"*\")]\n",
    "\n",
    "for file in files_band:\n",
    "    print(file.split('/')[-1])"
   ]
  },
  {
   "cell_type": "markdown",
   "id": "d80a6c48-a0fa-4e91-9aa5-b40ecb59e7b9",
   "metadata": {},
   "source": [
    "**Choose the ten-minute window within the hour:**\n",
    "* ranging from 0 to 5"
   ]
  },
  {
   "cell_type": "code",
   "execution_count": 7,
   "id": "bdada67d-9672-4272-9e0d-497eee8223c6",
   "metadata": {
    "tags": []
   },
   "outputs": [
    {
     "name": "stdout",
     "output_type": "stream",
     "text": [
      "File selected:  OR_ABI-L1b-RadF-M6C07_G16_s20232500000203_e20232500009523_c20232500009560.nc\n"
     ]
    }
   ],
   "source": [
    "ten_min_window = 0\n",
    "file_sel = files_band[ten_min_window]\n",
    "print('File selected: ', file_sel.split('/')[-1])"
   ]
  },
  {
   "cell_type": "markdown",
   "id": "700dac10-459e-422f-b94e-5132c0f63047",
   "metadata": {},
   "source": [
    "**Get the selected file from AWS (no download):**\n",
    "* If response is 404, file is missing"
   ]
  },
  {
   "cell_type": "code",
   "execution_count": 8,
   "id": "0a984f67-3360-4091-8b14-d3c753a52894",
   "metadata": {
    "tags": []
   },
   "outputs": [],
   "source": [
    "resp = requests.get(f'https://'+bucket+'.s3.amazonaws.com/'+file_sel[12:])"
   ]
  },
  {
   "cell_type": "code",
   "execution_count": 9,
   "id": "d4294acf-165a-44cd-9d75-2512c35abfab",
   "metadata": {
    "tags": []
   },
   "outputs": [
    {
     "data": {
      "text/plain": [
       "<Response [200]>"
      ]
     },
     "execution_count": 9,
     "metadata": {},
     "output_type": "execute_result"
    }
   ],
   "source": [
    "resp"
   ]
  },
  {
   "cell_type": "markdown",
   "id": "a9301e01-d94c-42c3-8aa9-7261f952ee63",
   "metadata": {},
   "source": [
    "**Open as a netCDF with xarray:**"
   ]
  },
  {
   "cell_type": "code",
   "execution_count": 10,
   "id": "f1b2828f-f7e2-459d-b33d-e67ecbb74aac",
   "metadata": {
    "tags": []
   },
   "outputs": [],
   "source": [
    "nc = netCDF4.Dataset(file_sel, memory = resp.content)"
   ]
  },
  {
   "cell_type": "code",
   "execution_count": 11,
   "id": "4c019fcc-5dfa-4f06-b954-f2a93272fed7",
   "metadata": {
    "tags": []
   },
   "outputs": [],
   "source": [
    "ds = xr.open_dataset(xr.backends.NetCDF4DataStore(nc))"
   ]
  },
  {
   "cell_type": "markdown",
   "id": "79ef7445-b6e6-43b9-bede-c9f2dd6ad57f",
   "metadata": {},
   "source": [
    "**Functions to add latitude and longitude:**"
   ]
  },
  {
   "cell_type": "code",
   "execution_count": 12,
   "id": "218ff492-e8bc-4bad-a09c-6804b2e380b2",
   "metadata": {},
   "outputs": [],
   "source": [
    "def calc_latlon(ds):\n",
    "    # The math for this function was taken from \n",
    "    # https://makersportal.com/blog/2018/11/25/goes-r-satellite-latitude-and-longitude-grid-projection-algorithm\n",
    "    x = ds.x\n",
    "    y = ds.y\n",
    "    goes_imager_projection = ds.goes_imager_projection\n",
    "    \n",
    "    x,y = np.meshgrid(x,y)\n",
    "    \n",
    "    r_eq = goes_imager_projection.attrs[\"semi_major_axis\"]\n",
    "    r_pol = goes_imager_projection.attrs[\"semi_minor_axis\"]\n",
    "    l_0 = goes_imager_projection.attrs[\"longitude_of_projection_origin\"] * (np.pi/180)\n",
    "    h_sat = goes_imager_projection.attrs[\"perspective_point_height\"]\n",
    "    H = r_eq + h_sat\n",
    "    \n",
    "    a = np.sin(x)**2 + (np.cos(x)**2 * (np.cos(y)**2 + (r_eq**2 / r_pol**2) * np.sin(y)**2))\n",
    "    b = -2 * H * np.cos(x) * np.cos(y)\n",
    "    c = H**2 - r_eq**2\n",
    "    \n",
    "    #--- Added absolute to remove error\n",
    "    r_s = (-b - np.sqrt(np.absolute(b**2 - 4*a*c)))/(2*a)\n",
    "    \n",
    "    s_x = r_s * np.cos(x) * np.cos(y)\n",
    "    s_y = -r_s * np.sin(x)\n",
    "    s_z = r_s * np.cos(x) * np.sin(y)\n",
    "    \n",
    "    lat = np.arctan((r_eq**2 / r_pol**2) * (s_z / np.sqrt((H-s_x)**2 +s_y**2))) * (180/np.pi)\n",
    "    lon = (l_0 - np.arctan(s_y / (H-s_x))) * (180/np.pi)\n",
    "    \n",
    "    ds = ds.assign_coords({\n",
    "        \"lat\":([\"y\",\"x\"],lat),\n",
    "        \"lon\":([\"y\",\"x\"],lon)\n",
    "    })\n",
    "    ds.lat.attrs[\"units\"] = \"degrees_north\"\n",
    "    ds.lon.attrs[\"units\"] = \"degrees_east\"\n",
    "    return ds\n",
    "\n",
    "\n",
    "\n",
    "def get_xy_from_latlon(ds, lats, lons):\n",
    "    lat1, lat2 = lats\n",
    "    lon1, lon2 = lons\n",
    "\n",
    "    lat = ds.lat.data\n",
    "    lon = ds.lon.data\n",
    "    \n",
    "    x = ds.x.data\n",
    "    y = ds.y.data\n",
    "    \n",
    "    x,y = np.meshgrid(x,y)\n",
    "    \n",
    "    x = x[(lat >= lat1) & (lat <= lat2) & (lon >= lon1) & (lon <= lon2)]\n",
    "    y = y[(lat >= lat1) & (lat <= lat2) & (lon >= lon1) & (lon <= lon2)] \n",
    "    \n",
    "    return ((min(x), max(x)), (min(y), max(y)))"
   ]
  },
  {
   "cell_type": "markdown",
   "id": "ee3af71c-db2c-4b61-ad83-d13fec1c7612",
   "metadata": {},
   "source": [
    "**Limiting the view to a certain range:**"
   ]
  },
  {
   "cell_type": "code",
   "execution_count": 13,
   "id": "b009c124-3dd9-4796-b20d-f29c7bbad1d4",
   "metadata": {
    "tags": []
   },
   "outputs": [],
   "source": [
    "min_lon = -71.5\n",
    "min_lat = 38\n",
    "max_lon = -65\n",
    "max_lat = 42.5\n",
    "lats = (min_lat, max_lat)\n",
    "lons = (min_lon, max_lon)"
   ]
  },
  {
   "cell_type": "markdown",
   "id": "0df50d54-52dc-4acc-841a-046a3724ce62",
   "metadata": {},
   "source": [
    "**Running the lat/lon calculations:**"
   ]
  },
  {
   "cell_type": "code",
   "execution_count": 14,
   "id": "bc351dac-ceb9-4a2f-923b-325ba25d065c",
   "metadata": {
    "tags": []
   },
   "outputs": [],
   "source": [
    "ds_07 = calc_latlon(ds)\n",
    "\n",
    "#---This is needed to convert the lat/lon range into the x/y dimensions\n",
    "#------The dataset will only filter by the official dimensions\n",
    "((x1,x2), (y1, y2)) = get_xy_from_latlon(ds_07, lats, lons)"
   ]
  },
  {
   "cell_type": "code",
   "execution_count": 15,
   "id": "fe330c6f-45c7-426e-86a8-b97df92d62a6",
   "metadata": {
    "tags": []
   },
   "outputs": [],
   "source": [
    "subset_07 = ds_07.sel(x=slice(x1, x2), y=slice(y2, y1))"
   ]
  },
  {
   "cell_type": "markdown",
   "id": "c2532f63-e6a0-4535-8f20-5d8bd24b8369",
   "metadata": {},
   "source": [
    "**Getting the wavelength and datetime strings:**"
   ]
  },
  {
   "cell_type": "code",
   "execution_count": 23,
   "id": "0ee6d4c9-0132-4e5d-b37b-be82bbc40e09",
   "metadata": {
    "tags": []
   },
   "outputs": [],
   "source": [
    "dt_str = np.datetime_as_string(ds_07.t.values, unit='s')\n",
    "wl = str(ds_07.band_wavelength.values[0])"
   ]
  },
  {
   "cell_type": "markdown",
   "id": "3c23a352-1c08-4a0c-b5ef-adae0816cb9b",
   "metadata": {},
   "source": [
    "**Plotting the band image:**"
   ]
  },
  {
   "cell_type": "code",
   "execution_count": 24,
   "id": "fefa4ce6-84a2-4d2b-b7c4-5b34927ff68b",
   "metadata": {
    "tags": []
   },
   "outputs": [
    {
     "data": {
      "text/plain": [
       "<cartopy.mpl.feature_artist.FeatureArtist at 0x7f21911a4d90>"
      ]
     },
     "execution_count": 24,
     "metadata": {},
     "output_type": "execute_result"
    },
    {
     "data": {
      "image/png": "[encoded data removed]",
      "text/plain": [
       "<Figure size 1200x1200 with 2 Axes>"
      ]
     },
     "metadata": {},
     "output_type": "display_data"
    }
   ],
   "source": [
    "projection=ccrs.PlateCarree()\n",
    "fig,ax=plt.subplots(1, figsize=(12,12),subplot_kw={'projection': projection})\n",
    "cmap = plt.cm.Wistia\n",
    "#levels=np.linspace(270, 320, 15)\n",
    "\n",
    "c=ax.contourf(subset_07.lon, subset_07.lat, subset_07.Rad, cmap=cmap)#, levels=levels)\n",
    "clb=plt.colorbar(c, shrink=0.3, pad=0.02, ax=ax)\n",
    "ax.set_title('ABI '+wl+' $\\mu$m ('+dt_str+')')\n",
    "clb.set_label('Radiance')\n",
    "\n",
    "ax.add_feature(cfeature.STATES)"
   ]
  },
  {
   "cell_type": "code",
   "execution_count": null,
   "id": "aecacc28-b14e-455e-8ca0-039b8e97e178",
   "metadata": {},
   "outputs": [],
   "source": []
  }
 ],
 "metadata": {
  "kernelspec": {
   "display_name": "Python 3 (ipykernel)",
   "language": "python",
   "name": "python3"
  },
  "language_info": {
   "codemirror_mode": {
    "name": "ipython",
    "version": 3
   },
   "file_extension": ".py",
   "mimetype": "text/x-python",
   "name": "python",
   "nbconvert_exporter": "python",
   "pygments_lexer": "ipython3",
   "version": "3.11.7"
  }
 },
 "nbformat": 4,
 "nbformat_minor": 5
}
