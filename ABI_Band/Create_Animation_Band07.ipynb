{
 "cells": [
  {
   "cell_type": "code",
   "execution_count": null,
   "id": "cbaaeda7-fdba-4d67-9185-fe427920a563",
   "metadata": {},
   "outputs": [],
   "source": [
    "import pickle\n",
    "import matplotlib.pyplot as plt\n",
    "import cartopy.crs as ccrs\n",
    "import cartopy.feature as cfeature\n",
    "import imageio\n",
    "import os\n",
    "import io\n",
    "import numpy as np"
   ]
  },
  {
   "cell_type": "code",
   "execution_count": null,
   "id": "041297e3-e43a-40d4-90a5-4645192458da",
   "metadata": {},
   "outputs": [],
   "source": [
    "#---Georges Bank\n",
    "# min_lon = -71.5\n",
    "# min_lat = 38\n",
    "# max_lon = -65\n",
    "# max_lat = 42.5\n",
    "\n",
    "#---Gulf Stream\n",
    "min_lon = -77\n",
    "min_lat = 33\n",
    "max_lon = -50\n",
    "max_lat = 45"
   ]
  },
  {
   "cell_type": "code",
   "execution_count": null,
   "id": "d01c8790-a0dd-438d-a2c8-65dcafb7eba6",
   "metadata": {},
   "outputs": [],
   "source": [
    "band07_path = \"band07_data/20230915/\"\n",
    "\n",
    "date = '2023_09_15'\n",
    "\n",
    "filename = 'goes_e_band07_'+date+'_00H_00M'\n",
    "\n",
    "datetime = filename[14:]"
   ]
  },
  {
   "cell_type": "code",
   "execution_count": null,
   "id": "bcd69972-9de4-4e5f-b9f8-003493f6e8bc",
   "metadata": {},
   "outputs": [],
   "source": [
    "file = open(band07_path+filename, 'rb')\n",
    "BT = pickle.load(file)\n",
    "file.close()"
   ]
  },
  {
   "cell_type": "code",
   "execution_count": null,
   "id": "e0d94a58-7ebe-4707-a8ae-5e94285bca13",
   "metadata": {},
   "outputs": [],
   "source": [
    "BT_c = BT.where((BT.lat>min_lat) & (BT.lat<max_lat) & (BT.lon>min_lon) & (BT.lon<max_lon))\n",
    "BT_c = BT_c.dropna(dim=\"y\", how=\"all\")\n",
    "BT_c = BT_c.dropna(dim=\"x\", how=\"all\")"
   ]
  },
  {
   "cell_type": "code",
   "execution_count": null,
   "id": "a869c317-4265-4d96-ba16-809089b2ca09",
   "metadata": {},
   "outputs": [],
   "source": [
    "projection=ccrs.PlateCarree()\n",
    "fig,ax=plt.subplots(1, figsize=(12,12),subplot_kw={'projection': projection})\n",
    "cmap = plt.cm.PuBu\n",
    "levels=np.linspace(270, 320, 15)\n",
    "\n",
    "c=ax.contourf(BT_c.lon, BT_c.lat, BT_c[0], cmap=cmap, levels=levels)\n",
    "clb=plt.colorbar(c, shrink=0.3, pad=0.02, ax=ax)\n",
    "ax.set_title('ABI 3.9 $\\mu$m ('+datetime+')')\n",
    "clb.set_label('BT (K)')\n",
    "\n",
    "ax.add_feature(cfeature.STATES)"
   ]
  },
  {
   "cell_type": "code",
   "execution_count": null,
   "id": "df089849-62ef-4a04-be94-b6bb6eb72f59",
   "metadata": {},
   "outputs": [],
   "source": [
    "def create_frame(filename):\n",
    "    \n",
    "    #---Open Band 07 file\n",
    "    file = open(band07_path+filename, 'rb')\n",
    "    BT = pickle.load(file)\n",
    "    file.close()\n",
    "    \n",
    "    #---Crop image to the region of interest\n",
    "    BT_c = BT.where((BT.lat>min_lat) & (BT.lat<max_lat) & (BT.lon>min_lon) & (BT.lon<max_lon))\n",
    "    BT_c = BT_c.dropna(dim=\"y\", how=\"all\")\n",
    "    BT_c = BT_c.dropna(dim=\"x\", how=\"all\")\n",
    "    \n",
    "    #---Create figure for timestamp\n",
    "    projection=ccrs.PlateCarree()\n",
    "    fig,ax=plt.subplots(1, figsize=(12,6),subplot_kw={'projection': projection})\n",
    "    cmap = plt.cm.PuBu\n",
    "    \n",
    "    c=ax.contourf(BT_c.lon, BT_c.lat, BT_c[0], cmap=cmap, levels=levels)\n",
    "    clb=plt.colorbar(c, shrink=0.3, pad=0.02, ax=ax)\n",
    "    datetime = filename[12:]\n",
    "    ax.set_title('ABI 3.9 $\\mu$m ('+datetime+')')\n",
    "    clb.set_label('BT (K)')\n",
    "    ax.add_feature(cfeature.STATES)\n",
    "    \n",
    "    # Save the current figure to a BytesIO buffer\n",
    "    buf = io.BytesIO()\n",
    "    plt.savefig(buf, format='png')\n",
    "    buf.seek(0)\n",
    "\n",
    "    # Read the BytesIO buffer and return as an image\n",
    "    frame = imageio.imread(buf)\n",
    "\n",
    "    # Clear the current figure to avoid overlapping plots\n",
    "    plt.clf()\n",
    "\n",
    "    return frame"
   ]
  },
  {
   "cell_type": "code",
   "execution_count": null,
   "id": "29314439-bf55-4b11-9e9f-aeb81f6e7303",
   "metadata": {},
   "outputs": [],
   "source": [
    "file_list = os.listdir(band07_path)\n",
    "file_list.sort()\n",
    "\n",
    "anim_list = []\n",
    "\n",
    "for filename in file_list:\n",
    "    \n",
    "    if filename[0:26] == 'goes_e_band07_'+date+'_0':\n",
    "        anim_list += [filename]"
   ]
  },
  {
   "cell_type": "code",
   "execution_count": null,
   "id": "212baac7-2791-48cd-8d96-e5393ee8eb5c",
   "metadata": {},
   "outputs": [],
   "source": [
    "anim_list"
   ]
  },
  {
   "cell_type": "code",
   "execution_count": null,
   "id": "725e8977-d559-4670-be01-5d6b70e52e17",
   "metadata": {},
   "outputs": [],
   "source": [
    "frames = []\n",
    "for filename in anim_list:\n",
    "    frame = create_frame(filename)\n",
    "    frames.append(frame)"
   ]
  },
  {
   "cell_type": "code",
   "execution_count": null,
   "id": "9061b105-6a2b-49b6-89de-d5ed1d8c4eb5",
   "metadata": {},
   "outputs": [],
   "source": [
    "imageio.mimsave('band07_'+band07_path[12:20]+'.gif', frames, loop=0, duration=100)"
   ]
  },
  {
   "cell_type": "code",
   "execution_count": null,
   "id": "9408d2fb-3ddd-4dbe-bd96-7bc4a456fa50",
   "metadata": {},
   "outputs": [],
   "source": []
  }
 ],
 "metadata": {
  "kernelspec": {
   "display_name": "Python 3 (ipykernel)",
   "language": "python",
   "name": "python3"
  },
  "language_info": {
   "codemirror_mode": {
    "name": "ipython",
    "version": 3
   },
   "file_extension": ".py",
   "mimetype": "text/x-python",
   "name": "python",
   "nbconvert_exporter": "python",
   "pygments_lexer": "ipython3",
   "version": "3.11.7"
  }
 },
 "nbformat": 4,
 "nbformat_minor": 5
}
