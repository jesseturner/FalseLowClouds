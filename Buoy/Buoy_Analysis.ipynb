{
 "cells": [
  {
   "cell_type": "code",
   "execution_count": 1,
   "id": "b45c6821",
   "metadata": {},
   "outputs": [],
   "source": [
    "import pandas as pd\n",
    "import matplotlib.pyplot as plt\n",
    "import datetime\n",
    "import matplotlib.dates as mdates"
   ]
  },
  {
   "cell_type": "markdown",
   "id": "6cc04023",
   "metadata": {},
   "source": [
    "Data from National Data Buoy Center (NDBC)\n",
    "* https://www.ndbc.noaa.gov\n",
    "* station 44008 (Georges Bank)\n",
    "* historical standard meteorological data"
   ]
  },
  {
   "cell_type": "markdown",
   "id": "09ca614e",
   "metadata": {},
   "source": [
    "Georges Bank (44008):\n",
    "* All of 2022 data:\n",
    "    * missing air temperature after May\n",
    "* Jan & Feb 2023 data:\n",
    "    * missing all air temperature"
   ]
  },
  {
   "cell_type": "code",
   "execution_count": 2,
   "id": "a51bcb63",
   "metadata": {},
   "outputs": [],
   "source": [
    "#data = pd.read_csv('44008h2022.txt', delim_whitespace=True, header=1)\n",
    "#data = pd.read_csv('44008_Jan2023.txt', delim_whitespace=True, header=1)\n",
    "#data = pd.read_csv('44008_Feb2023.txt', delim_whitespace=True, header=1)"
   ]
  },
  {
   "cell_type": "markdown",
   "id": "1fce7d5d",
   "metadata": {},
   "source": [
    "Delaware Bay (44009): \n",
    "* Feb 2023 data: "
   ]
  },
  {
   "cell_type": "code",
   "execution_count": 3,
   "id": "5457d45e",
   "metadata": {},
   "outputs": [],
   "source": [
    "data = pd.read_csv('44009_Feb2023.txt', delim_whitespace=True, header=1)"
   ]
  },
  {
   "cell_type": "code",
   "execution_count": 4,
   "id": "97c9421a",
   "metadata": {},
   "outputs": [],
   "source": [
    "df = data[['#yr', 'mo', 'dy', 'hr', 'mn', 'degC', 'degC.1']]"
   ]
  },
  {
   "cell_type": "code",
   "execution_count": 5,
   "id": "09408b28",
   "metadata": {},
   "outputs": [],
   "source": [
    "df = df.rename(columns={'#yr':'YY', 'mo':'MM', 'dy':'DD', \n",
    "                            'hr':'hh', 'mn':'mm', 'degC':'ATMP', 'degC.1':'WTMP'})"
   ]
  },
  {
   "cell_type": "code",
   "execution_count": 6,
   "id": "b5884e9d",
   "metadata": {},
   "outputs": [],
   "source": [
    "df_date = pd.to_datetime(df['YY'].astype(str) + ' ' + df['MM'].astype(str) + ' ' + df['DD'].astype(str) \n",
    "                      + ' ' + df['hh'].astype(str) + ' ' + df['mm'].astype(str), format='%Y %m %d %H %M')\n",
    "\n",
    "df['datetime'] = df_date"
   ]
  },
  {
   "cell_type": "code",
   "execution_count": 7,
   "id": "7f7d7526",
   "metadata": {},
   "outputs": [
    {
     "data": {
      "text/html": [
       "<div>\n",
       "<style scoped>\n",
       "    .dataframe tbody tr th:only-of-type {\n",
       "        vertical-align: middle;\n",
       "    }\n",
       "\n",
       "    .dataframe tbody tr th {\n",
       "        vertical-align: top;\n",
       "    }\n",
       "\n",
       "    .dataframe thead th {\n",
       "        text-align: right;\n",
       "    }\n",
       "</style>\n",
       "<table border=\"1\" class=\"dataframe\">\n",
       "  <thead>\n",
       "    <tr style=\"text-align: right;\">\n",
       "      <th></th>\n",
       "      <th>YY</th>\n",
       "      <th>MM</th>\n",
       "      <th>DD</th>\n",
       "      <th>hh</th>\n",
       "      <th>mm</th>\n",
       "      <th>ATMP</th>\n",
       "      <th>WTMP</th>\n",
       "      <th>datetime</th>\n",
       "    </tr>\n",
       "  </thead>\n",
       "  <tbody>\n",
       "    <tr>\n",
       "      <th>0</th>\n",
       "      <td>2023</td>\n",
       "      <td>2</td>\n",
       "      <td>1</td>\n",
       "      <td>0</td>\n",
       "      <td>0</td>\n",
       "      <td>4.3</td>\n",
       "      <td>8.5</td>\n",
       "      <td>2023-02-01 00:00:00</td>\n",
       "    </tr>\n",
       "    <tr>\n",
       "      <th>1</th>\n",
       "      <td>2023</td>\n",
       "      <td>2</td>\n",
       "      <td>1</td>\n",
       "      <td>0</td>\n",
       "      <td>10</td>\n",
       "      <td>4.4</td>\n",
       "      <td>8.5</td>\n",
       "      <td>2023-02-01 00:10:00</td>\n",
       "    </tr>\n",
       "    <tr>\n",
       "      <th>2</th>\n",
       "      <td>2023</td>\n",
       "      <td>2</td>\n",
       "      <td>1</td>\n",
       "      <td>0</td>\n",
       "      <td>20</td>\n",
       "      <td>4.4</td>\n",
       "      <td>8.5</td>\n",
       "      <td>2023-02-01 00:20:00</td>\n",
       "    </tr>\n",
       "    <tr>\n",
       "      <th>3</th>\n",
       "      <td>2023</td>\n",
       "      <td>2</td>\n",
       "      <td>1</td>\n",
       "      <td>0</td>\n",
       "      <td>30</td>\n",
       "      <td>4.4</td>\n",
       "      <td>8.5</td>\n",
       "      <td>2023-02-01 00:30:00</td>\n",
       "    </tr>\n",
       "    <tr>\n",
       "      <th>4</th>\n",
       "      <td>2023</td>\n",
       "      <td>2</td>\n",
       "      <td>1</td>\n",
       "      <td>0</td>\n",
       "      <td>40</td>\n",
       "      <td>4.4</td>\n",
       "      <td>8.4</td>\n",
       "      <td>2023-02-01 00:40:00</td>\n",
       "    </tr>\n",
       "    <tr>\n",
       "      <th>...</th>\n",
       "      <td>...</td>\n",
       "      <td>...</td>\n",
       "      <td>...</td>\n",
       "      <td>...</td>\n",
       "      <td>...</td>\n",
       "      <td>...</td>\n",
       "      <td>...</td>\n",
       "      <td>...</td>\n",
       "    </tr>\n",
       "    <tr>\n",
       "      <th>4025</th>\n",
       "      <td>2023</td>\n",
       "      <td>2</td>\n",
       "      <td>28</td>\n",
       "      <td>23</td>\n",
       "      <td>10</td>\n",
       "      <td>7.3</td>\n",
       "      <td>7.5</td>\n",
       "      <td>2023-02-28 23:10:00</td>\n",
       "    </tr>\n",
       "    <tr>\n",
       "      <th>4026</th>\n",
       "      <td>2023</td>\n",
       "      <td>2</td>\n",
       "      <td>28</td>\n",
       "      <td>23</td>\n",
       "      <td>20</td>\n",
       "      <td>7.3</td>\n",
       "      <td>7.5</td>\n",
       "      <td>2023-02-28 23:20:00</td>\n",
       "    </tr>\n",
       "    <tr>\n",
       "      <th>4027</th>\n",
       "      <td>2023</td>\n",
       "      <td>2</td>\n",
       "      <td>28</td>\n",
       "      <td>23</td>\n",
       "      <td>30</td>\n",
       "      <td>7.3</td>\n",
       "      <td>7.5</td>\n",
       "      <td>2023-02-28 23:30:00</td>\n",
       "    </tr>\n",
       "    <tr>\n",
       "      <th>4028</th>\n",
       "      <td>2023</td>\n",
       "      <td>2</td>\n",
       "      <td>28</td>\n",
       "      <td>23</td>\n",
       "      <td>40</td>\n",
       "      <td>7.3</td>\n",
       "      <td>7.5</td>\n",
       "      <td>2023-02-28 23:40:00</td>\n",
       "    </tr>\n",
       "    <tr>\n",
       "      <th>4029</th>\n",
       "      <td>2023</td>\n",
       "      <td>2</td>\n",
       "      <td>28</td>\n",
       "      <td>23</td>\n",
       "      <td>50</td>\n",
       "      <td>7.3</td>\n",
       "      <td>7.5</td>\n",
       "      <td>2023-02-28 23:50:00</td>\n",
       "    </tr>\n",
       "  </tbody>\n",
       "</table>\n",
       "<p>4030 rows × 8 columns</p>\n",
       "</div>"
      ],
      "text/plain": [
       "        YY  MM  DD  hh  mm  ATMP  WTMP            datetime\n",
       "0     2023   2   1   0   0   4.3   8.5 2023-02-01 00:00:00\n",
       "1     2023   2   1   0  10   4.4   8.5 2023-02-01 00:10:00\n",
       "2     2023   2   1   0  20   4.4   8.5 2023-02-01 00:20:00\n",
       "3     2023   2   1   0  30   4.4   8.5 2023-02-01 00:30:00\n",
       "4     2023   2   1   0  40   4.4   8.4 2023-02-01 00:40:00\n",
       "...    ...  ..  ..  ..  ..   ...   ...                 ...\n",
       "4025  2023   2  28  23  10   7.3   7.5 2023-02-28 23:10:00\n",
       "4026  2023   2  28  23  20   7.3   7.5 2023-02-28 23:20:00\n",
       "4027  2023   2  28  23  30   7.3   7.5 2023-02-28 23:30:00\n",
       "4028  2023   2  28  23  40   7.3   7.5 2023-02-28 23:40:00\n",
       "4029  2023   2  28  23  50   7.3   7.5 2023-02-28 23:50:00\n",
       "\n",
       "[4030 rows x 8 columns]"
      ]
     },
     "execution_count": 7,
     "metadata": {},
     "output_type": "execute_result"
    }
   ],
   "source": [
    "df"
   ]
  },
  {
   "cell_type": "markdown",
   "id": "f430db05",
   "metadata": {},
   "source": [
    "Filtering out entries where either air or water temperature is missing:"
   ]
  },
  {
   "cell_type": "code",
   "execution_count": 8,
   "id": "5d312c24",
   "metadata": {},
   "outputs": [],
   "source": [
    "df = df[(df['ATMP'] != 999.0) & (df['WTMP'] != 999.0)]"
   ]
  },
  {
   "cell_type": "code",
   "execution_count": 9,
   "id": "0b7a98dc",
   "metadata": {},
   "outputs": [
    {
     "data": {
      "text/plain": [
       "array([2])"
      ]
     },
     "execution_count": 9,
     "metadata": {},
     "output_type": "execute_result"
    }
   ],
   "source": [
    "df['MM'].unique()"
   ]
  },
  {
   "cell_type": "code",
   "execution_count": 15,
   "id": "c2a8ad6b",
   "metadata": {},
   "outputs": [],
   "source": [
    "buoy_num = 44009\n",
    "mon_str = 2\n",
    "day_str = 7"
   ]
  },
  {
   "cell_type": "code",
   "execution_count": 16,
   "id": "24faaabf",
   "metadata": {},
   "outputs": [],
   "source": [
    "day = df[(df['MM'] == mon_str) & (df['DD'] == day_str)]"
   ]
  },
  {
   "cell_type": "code",
   "execution_count": 17,
   "id": "bff54ade",
   "metadata": {},
   "outputs": [
    {
     "data": {
      "text/html": [
       "<div>\n",
       "<style scoped>\n",
       "    .dataframe tbody tr th:only-of-type {\n",
       "        vertical-align: middle;\n",
       "    }\n",
       "\n",
       "    .dataframe tbody tr th {\n",
       "        vertical-align: top;\n",
       "    }\n",
       "\n",
       "    .dataframe thead th {\n",
       "        text-align: right;\n",
       "    }\n",
       "</style>\n",
       "<table border=\"1\" class=\"dataframe\">\n",
       "  <thead>\n",
       "    <tr style=\"text-align: right;\">\n",
       "      <th></th>\n",
       "      <th>YY</th>\n",
       "      <th>MM</th>\n",
       "      <th>DD</th>\n",
       "      <th>hh</th>\n",
       "      <th>mm</th>\n",
       "      <th>ATMP</th>\n",
       "      <th>WTMP</th>\n",
       "      <th>datetime</th>\n",
       "    </tr>\n",
       "  </thead>\n",
       "  <tbody>\n",
       "    <tr>\n",
       "      <th>864</th>\n",
       "      <td>2023</td>\n",
       "      <td>2</td>\n",
       "      <td>7</td>\n",
       "      <td>0</td>\n",
       "      <td>0</td>\n",
       "      <td>6.9</td>\n",
       "      <td>7.4</td>\n",
       "      <td>2023-02-07 00:00:00</td>\n",
       "    </tr>\n",
       "    <tr>\n",
       "      <th>865</th>\n",
       "      <td>2023</td>\n",
       "      <td>2</td>\n",
       "      <td>7</td>\n",
       "      <td>0</td>\n",
       "      <td>10</td>\n",
       "      <td>6.9</td>\n",
       "      <td>7.4</td>\n",
       "      <td>2023-02-07 00:10:00</td>\n",
       "    </tr>\n",
       "    <tr>\n",
       "      <th>866</th>\n",
       "      <td>2023</td>\n",
       "      <td>2</td>\n",
       "      <td>7</td>\n",
       "      <td>0</td>\n",
       "      <td>20</td>\n",
       "      <td>6.9</td>\n",
       "      <td>7.4</td>\n",
       "      <td>2023-02-07 00:20:00</td>\n",
       "    </tr>\n",
       "    <tr>\n",
       "      <th>867</th>\n",
       "      <td>2023</td>\n",
       "      <td>2</td>\n",
       "      <td>7</td>\n",
       "      <td>0</td>\n",
       "      <td>30</td>\n",
       "      <td>6.9</td>\n",
       "      <td>7.4</td>\n",
       "      <td>2023-02-07 00:30:00</td>\n",
       "    </tr>\n",
       "    <tr>\n",
       "      <th>868</th>\n",
       "      <td>2023</td>\n",
       "      <td>2</td>\n",
       "      <td>7</td>\n",
       "      <td>0</td>\n",
       "      <td>40</td>\n",
       "      <td>6.9</td>\n",
       "      <td>7.1</td>\n",
       "      <td>2023-02-07 00:40:00</td>\n",
       "    </tr>\n",
       "    <tr>\n",
       "      <th>...</th>\n",
       "      <td>...</td>\n",
       "      <td>...</td>\n",
       "      <td>...</td>\n",
       "      <td>...</td>\n",
       "      <td>...</td>\n",
       "      <td>...</td>\n",
       "      <td>...</td>\n",
       "      <td>...</td>\n",
       "    </tr>\n",
       "    <tr>\n",
       "      <th>1003</th>\n",
       "      <td>2023</td>\n",
       "      <td>2</td>\n",
       "      <td>7</td>\n",
       "      <td>23</td>\n",
       "      <td>10</td>\n",
       "      <td>6.6</td>\n",
       "      <td>7.3</td>\n",
       "      <td>2023-02-07 23:10:00</td>\n",
       "    </tr>\n",
       "    <tr>\n",
       "      <th>1004</th>\n",
       "      <td>2023</td>\n",
       "      <td>2</td>\n",
       "      <td>7</td>\n",
       "      <td>23</td>\n",
       "      <td>20</td>\n",
       "      <td>6.6</td>\n",
       "      <td>7.3</td>\n",
       "      <td>2023-02-07 23:20:00</td>\n",
       "    </tr>\n",
       "    <tr>\n",
       "      <th>1005</th>\n",
       "      <td>2023</td>\n",
       "      <td>2</td>\n",
       "      <td>7</td>\n",
       "      <td>23</td>\n",
       "      <td>30</td>\n",
       "      <td>6.7</td>\n",
       "      <td>7.3</td>\n",
       "      <td>2023-02-07 23:30:00</td>\n",
       "    </tr>\n",
       "    <tr>\n",
       "      <th>1006</th>\n",
       "      <td>2023</td>\n",
       "      <td>2</td>\n",
       "      <td>7</td>\n",
       "      <td>23</td>\n",
       "      <td>40</td>\n",
       "      <td>6.8</td>\n",
       "      <td>7.3</td>\n",
       "      <td>2023-02-07 23:40:00</td>\n",
       "    </tr>\n",
       "    <tr>\n",
       "      <th>1007</th>\n",
       "      <td>2023</td>\n",
       "      <td>2</td>\n",
       "      <td>7</td>\n",
       "      <td>23</td>\n",
       "      <td>50</td>\n",
       "      <td>6.9</td>\n",
       "      <td>7.3</td>\n",
       "      <td>2023-02-07 23:50:00</td>\n",
       "    </tr>\n",
       "  </tbody>\n",
       "</table>\n",
       "<p>144 rows × 8 columns</p>\n",
       "</div>"
      ],
      "text/plain": [
       "        YY  MM  DD  hh  mm  ATMP  WTMP            datetime\n",
       "864   2023   2   7   0   0   6.9   7.4 2023-02-07 00:00:00\n",
       "865   2023   2   7   0  10   6.9   7.4 2023-02-07 00:10:00\n",
       "866   2023   2   7   0  20   6.9   7.4 2023-02-07 00:20:00\n",
       "867   2023   2   7   0  30   6.9   7.4 2023-02-07 00:30:00\n",
       "868   2023   2   7   0  40   6.9   7.1 2023-02-07 00:40:00\n",
       "...    ...  ..  ..  ..  ..   ...   ...                 ...\n",
       "1003  2023   2   7  23  10   6.6   7.3 2023-02-07 23:10:00\n",
       "1004  2023   2   7  23  20   6.6   7.3 2023-02-07 23:20:00\n",
       "1005  2023   2   7  23  30   6.7   7.3 2023-02-07 23:30:00\n",
       "1006  2023   2   7  23  40   6.8   7.3 2023-02-07 23:40:00\n",
       "1007  2023   2   7  23  50   6.9   7.3 2023-02-07 23:50:00\n",
       "\n",
       "[144 rows x 8 columns]"
      ]
     },
     "execution_count": 17,
     "metadata": {},
     "output_type": "execute_result"
    }
   ],
   "source": [
    "day"
   ]
  },
  {
   "cell_type": "code",
   "execution_count": 18,
   "id": "63b99d1c",
   "metadata": {},
   "outputs": [
    {
     "data": {
      "image/png": "[encoded data removed]",
      "text/plain": [
       "<Figure size 576x288 with 1 Axes>"
      ]
     },
     "metadata": {
      "needs_background": "light"
     },
     "output_type": "display_data"
    }
   ],
   "source": [
    "atmp = day['ATMP']\n",
    "wtmp = day['WTMP']\n",
    "dt = day['datetime']\n",
    "\n",
    "fig, ax = plt.subplots(1, figsize=(8,4))\n",
    "ax.plot(dt, atmp, c='#7F58AF', label='4m T')\n",
    "ax.plot(dt, wtmp, c='#64C5EB', label='SST')\n",
    "ax.legend()\n",
    "\n",
    "myFmt = mdates.DateFormatter('%H')\n",
    "ax.xaxis.set_major_formatter(myFmt)\n",
    "\n",
    "ax.set_xlabel('Time (UTC)')\n",
    "ax.set_ylabel('Temperature (C)')\n",
    "ax.set_title('Buoy: ' + str(buoy_num) + ' 2023/' + str(mon_str) + '/' + str(day_str))\n",
    "plt.show()"
   ]
  },
  {
   "cell_type": "markdown",
   "id": "8002d6a4",
   "metadata": {},
   "source": [
    "Compare this inversion against the FLC case on Feb 28 2023"
   ]
  },
  {
   "cell_type": "code",
   "execution_count": 19,
   "id": "3220b52a",
   "metadata": {},
   "outputs": [
    {
     "name": "stdout",
     "output_type": "stream",
     "text": [
      "Hour 0: 864   -0.5\n",
      "dtype: float64\n",
      "Hour 1: 870   -0.2\n",
      "dtype: float64\n",
      "Hour 2: 876   -0.3\n",
      "dtype: float64\n",
      "Hour 3: 882   -0.5\n",
      "dtype: float64\n",
      "Hour 4: 888   -0.8\n",
      "dtype: float64\n",
      "Hour 5: 894   -1.0\n",
      "dtype: float64\n",
      "Hour 6: 900   -1.2\n",
      "dtype: float64\n",
      "Hour 7: 906   -1.7\n",
      "dtype: float64\n",
      "Hour 8: 912   -2.1\n",
      "dtype: float64\n",
      "Hour 9: 918   -2.2\n",
      "dtype: float64\n",
      "Hour 10: 924   -2.4\n",
      "dtype: float64\n",
      "Hour 11: 930   -2.7\n",
      "dtype: float64\n",
      "Hour 12: 936   -2.7\n",
      "dtype: float64\n"
     ]
    }
   ],
   "source": [
    "for i in range(13):\n",
    "    hr_str = i\n",
    "\n",
    "    select = day[(day['hh'] == hr_str) & (day['mm'] == 0)]\n",
    "\n",
    "    print(\"Hour \" + str(i) + \": \" + str(select['ATMP'] - select['WTMP']))"
   ]
  },
  {
   "cell_type": "code",
   "execution_count": null,
   "id": "338e018a",
   "metadata": {},
   "outputs": [],
   "source": []
  }
 ],
 "metadata": {
  "kernelspec": {
   "display_name": "Python 3 (ipykernel)",
   "language": "python",
   "name": "python3"
  },
  "language_info": {
   "codemirror_mode": {
    "name": "ipython",
    "version": 3
   },
   "file_extension": ".py",
   "mimetype": "text/x-python",
   "name": "python",
   "nbconvert_exporter": "python",
   "pygments_lexer": "ipython3",
   "version": "3.10.9"
  }
 },
 "nbformat": 4,
 "nbformat_minor": 5
}
