{
 "cells": [
  {
   "cell_type": "code",
   "execution_count": 1,
   "id": "a4384df8-f547-43a9-989a-6986e15d6c7c",
   "metadata": {},
   "outputs": [],
   "source": [
    "from PIL import Image"
   ]
  },
  {
   "cell_type": "code",
   "execution_count": 2,
   "id": "08fe4587-4ad4-4dc1-a362-7ae57b59ebbd",
   "metadata": {},
   "outputs": [],
   "source": [
    "image_path1 = 'sample_images/geocolor_20220716060021.jpg'"
   ]
  },
  {
   "cell_type": "code",
   "execution_count": 3,
   "id": "8d0d9e1f-70b7-40c4-ae9f-722c145cbade",
   "metadata": {},
   "outputs": [
    {
     "name": "stderr",
     "output_type": "stream",
     "text": [
      "/home/jturner/miniconda3/lib/python3.9/site-packages/PIL/Image.py:3157: DecompressionBombWarning: Image size (117679104 pixels) exceeds limit of 89478485 pixels, could be decompression bomb DOS attack.\n",
      "  warnings.warn(\n"
     ]
    }
   ],
   "source": [
    "image1 = Image.open(image_path1)"
   ]
  },
  {
   "cell_type": "code",
   "execution_count": 4,
   "id": "8512b478-3334-4c68-98af-62b4c95e694b",
   "metadata": {},
   "outputs": [],
   "source": [
    "crop_box = (5250, 1000, 6500, 1750) # Specify the crop box as (left, top, right, bottom)"
   ]
  },
  {
   "cell_type": "code",
   "execution_count": 5,
   "id": "3fd3d1c3-7efe-4462-81e8-a5331ecf9310",
   "metadata": {},
   "outputs": [],
   "source": [
    "cropped_image1 = image1.crop(crop_box)"
   ]
  },
  {
   "cell_type": "code",
   "execution_count": 6,
   "id": "394b26d5-eeb7-48e9-9406-ee91ef39e63a",
   "metadata": {},
   "outputs": [],
   "source": [
    "cropped_image1.save('cropped_image_20220716_06.jpg')"
   ]
  },
  {
   "cell_type": "code",
   "execution_count": null,
   "id": "ab5531dd-ad63-4b79-9c77-68dd3baeef21",
   "metadata": {},
   "outputs": [],
   "source": []
  }
 ],
 "metadata": {
  "kernelspec": {
   "display_name": "Python 3 (ipykernel)",
   "language": "python",
   "name": "python3"
  },
  "language_info": {
   "codemirror_mode": {
    "name": "ipython",
    "version": 3
   },
   "file_extension": ".py",
   "mimetype": "text/x-python",
   "name": "python",
   "nbconvert_exporter": "python",
   "pygments_lexer": "ipython3",
   "version": "3.9.18"
  }
 },
 "nbformat": 4,
 "nbformat_minor": 5
}
