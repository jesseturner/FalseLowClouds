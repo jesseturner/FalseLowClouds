{
 "cells": [
  {
   "cell_type": "markdown",
   "id": "aee91493",
   "metadata": {},
   "source": [
    "Mean temperature and moisture of the marine boundary layer, up to 2 km\n",
    "\n",
    "MLB (GFS)\n",
    "* https://registry.opendata.aws/noaa-gfs-bdp-pds/\n",
    "* Resources on AWS -> Explore -> Browse Bucket\n",
    "* Search -> 20230219\n",
    "* gfs.20230219/\n",
    "* 00/\n",
    "* atmos/\n",
    "* gfs.t00z.pgrb2.0p25.f000\n",
    "    * no forcast (t00z)\n",
    "    * 0.25 resolution\n",
    "    * Inventory of file: https://www.nco.ncep.noaa.gov/pmb/products/gfs/gfs.t00z.pgrb2.0p25.anl.shtml"
   ]
  },
  {
   "cell_type": "code",
   "execution_count": null,
   "id": "34731258",
   "metadata": {},
   "outputs": [],
   "source": [
    "import xarray as xr\n",
    "import matplotlib.pyplot as plt\n",
    "import numpy as np\n",
    "import cartopy.crs as ccrs\n",
    "import cartopy.feature as cfeature"
   ]
  },
  {
   "cell_type": "code",
   "execution_count": null,
   "id": "25582d97",
   "metadata": {
    "scrolled": false
   },
   "outputs": [],
   "source": [
    "fname = \"/Volumes/Turner2/FalseLowClouds/Analysis/Model/gfs.t00z.pgrb2.0p25.f000\"\n",
    "\n",
    "ds = xr.open_dataset(fname, engine=\"cfgrib\",backend_kwargs={'filter_by_keys': {'typeOfLevel':'isobaricInhPa'}})\n",
    "ds"
   ]
  },
  {
   "cell_type": "code",
   "execution_count": null,
   "id": "218c165f",
   "metadata": {
    "scrolled": false
   },
   "outputs": [],
   "source": [
    "min_lon = -109 + 360\n",
    "min_lat = 24\n",
    "max_lon = -81 + 360\n",
    "max_lat = 10.4\n",
    "\n",
    "cropped_ds = ds.sel(latitude=slice(min_lat,max_lat), longitude=slice(min_lon,max_lon))\n",
    "\n",
    "#---MBL\n",
    "min_press = 850 #mb\n",
    "max_press = 1000 #mb\n",
    "\n",
    "cropped_ds = cropped_ds.sel(isobaricInhPa=slice(max_press,min_press))\n",
    "\n",
    "#---mean across MBL\n",
    "cropped_ds = cropped_ds.mean(dim='isobaricInhPa')\n",
    "\n",
    "cropped_ds =  cropped_ds.squeeze()\n",
    "cropped_ds"
   ]
  },
  {
   "cell_type": "code",
   "execution_count": null,
   "id": "e56a9ead",
   "metadata": {},
   "outputs": [],
   "source": [
    "projection=ccrs.PlateCarree()\n",
    "fig,ax=plt.subplots(1, figsize=(12,12),subplot_kw={'projection': projection})\n",
    "cmap = plt.cm.RdYlBu_r\n",
    "\n",
    "ax.coastlines(resolution='110m')\n",
    "ax.add_feature(cfeature.BORDERS)\n",
    "c=ax.contourf(cropped_ds.longitude, cropped_ds.latitude, cropped_ds.t, cmap=cmap)\n",
    "clb=plt.colorbar(c, shrink=0.3, pad=0.02, ax=ax)\n",
    "ax.set_title('MBL Temperature (GFS) (Mean '+str(max_press)+'mb to '+str(min_press)+'mb)')\n",
    "clb.set_label('Temperature (K)')"
   ]
  },
  {
   "cell_type": "code",
   "execution_count": null,
   "id": "ead860c1",
   "metadata": {},
   "outputs": [],
   "source": [
    "projection=ccrs.PlateCarree()\n",
    "fig,ax=plt.subplots(1, figsize=(12,12),subplot_kw={'projection': projection})\n",
    "cmap = plt.cm.Greens\n",
    "\n",
    "ax.coastlines(resolution='110m')\n",
    "ax.add_feature(cfeature.BORDERS)\n",
    "c=ax.contourf(cropped_ds.longitude, cropped_ds.latitude, cropped_ds.r, cmap=cmap)\n",
    "clb=plt.colorbar(c, shrink=0.3, pad=0.02, ax=ax)\n",
    "ax.set_title('MLB Relative Humidity (GFS) (Mean '+str(max_press)+'mb to '+str(min_press)+'mb)')\n",
    "clb.set_label('%')"
   ]
  },
  {
   "cell_type": "code",
   "execution_count": null,
   "id": "7f9be160",
   "metadata": {},
   "outputs": [],
   "source": [
    "projection=ccrs.PlateCarree()\n",
    "fig,ax=plt.subplots(1, figsize=(12,12),subplot_kw={'projection': projection})\n",
    "cmap = plt.cm.Greens\n",
    "\n",
    "ax.coastlines(resolution='110m')\n",
    "ax.add_feature(cfeature.BORDERS)\n",
    "c=ax.contourf(cropped_ds.longitude, cropped_ds.latitude, cropped_ds.q, cmap=cmap)\n",
    "clb=plt.colorbar(c, shrink=0.3, pad=0.02, ax=ax)\n",
    "ax.set_title('MLB Specific Humidity (GFS) (Mean '+str(max_press)+'mb to '+str(min_press)+'mb)')\n",
    "clb.set_label('kg kg-1')"
   ]
  },
  {
   "cell_type": "code",
   "execution_count": null,
   "id": "44d3375b",
   "metadata": {},
   "outputs": [],
   "source": []
  }
 ],
 "metadata": {
  "kernelspec": {
   "display_name": "Python 3 (ipykernel)",
   "language": "python",
   "name": "python3"
  },
  "language_info": {
   "codemirror_mode": {
    "name": "ipython",
    "version": 3
   },
   "file_extension": ".py",
   "mimetype": "text/x-python",
   "name": "python",
   "nbconvert_exporter": "python",
   "pygments_lexer": "ipython3",
   "version": "3.9.0"
  }
 },
 "nbformat": 4,
 "nbformat_minor": 5
}
