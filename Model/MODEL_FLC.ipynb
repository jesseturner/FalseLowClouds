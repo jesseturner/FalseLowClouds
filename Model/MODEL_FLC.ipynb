{
 "cells": [
  {
   "cell_type": "markdown",
   "id": "489bf433",
   "metadata": {},
   "source": [
    "## MBL Temp (GFS) - SST (NOAA)"
   ]
  },
  {
   "cell_type": "code",
   "execution_count": 2,
   "id": "77520e2c",
   "metadata": {},
   "outputs": [],
   "source": [
    "import xarray as xr\n",
    "import matplotlib.pyplot as plt\n",
    "import numpy as np\n",
    "import cartopy.crs as ccrs\n",
    "import cartopy.feature as cfeature\n",
    "import pandas as pd\n",
    "import datetime\n",
    "\n",
    "root = \"/home/jturner/false_low_clouds_2023\""
   ]
  },
  {
   "cell_type": "markdown",
   "id": "00fe74ce",
   "metadata": {},
   "source": [
    "**Date for figures**"
   ]
  },
  {
   "cell_type": "code",
   "execution_count": 3,
   "id": "1b4eb1aa",
   "metadata": {},
   "outputs": [],
   "source": [
    "#date = '20230411_00z'\n",
    "#date = '20230402_00z'\n",
    "#date = '20230322_00z'\n",
    "\n",
    "#---Oaxaca\n",
    "#date = '20230219_00z'\n",
    "date = '20230222_00z'"
   ]
  },
  {
   "cell_type": "markdown",
   "id": "262692b5",
   "metadata": {},
   "source": [
    "**SST for 20230411_00z**\n",
    "* labeled as \"preliminary\""
   ]
  },
  {
   "cell_type": "code",
   "execution_count": 4,
   "id": "0083405c",
   "metadata": {},
   "outputs": [
    {
     "ename": "FileNotFoundError",
     "evalue": "[Errno 2] No such file or directory: b'/Volumes/Turner2/FalseLowClouds/Analysis/Model/Oaxaca/20230222/oisst-avhrr-v02r01.20230222.nc'",
     "output_type": "error",
     "traceback": [
      "\u001b[0;31m---------------------------------------------------------------------------\u001b[0m",
      "\u001b[0;31mKeyError\u001b[0m                                  Traceback (most recent call last)",
      "File \u001b[0;32m~/miniconda3/lib/python3.9/site-packages/xarray/backends/file_manager.py:199\u001b[0m, in \u001b[0;36mCachingFileManager._acquire_with_cache_info\u001b[0;34m(self, needs_lock)\u001b[0m\n\u001b[1;32m    198\u001b[0m \u001b[38;5;28;01mtry\u001b[39;00m:\n\u001b[0;32m--> 199\u001b[0m     file \u001b[38;5;241m=\u001b[39m \u001b[38;5;28;43mself\u001b[39;49m\u001b[38;5;241;43m.\u001b[39;49m\u001b[43m_cache\u001b[49m\u001b[43m[\u001b[49m\u001b[38;5;28;43mself\u001b[39;49m\u001b[38;5;241;43m.\u001b[39;49m\u001b[43m_key\u001b[49m\u001b[43m]\u001b[49m\n\u001b[1;32m    200\u001b[0m \u001b[38;5;28;01mexcept\u001b[39;00m \u001b[38;5;167;01mKeyError\u001b[39;00m:\n",
      "File \u001b[0;32m~/miniconda3/lib/python3.9/site-packages/xarray/backends/lru_cache.py:53\u001b[0m, in \u001b[0;36mLRUCache.__getitem__\u001b[0;34m(self, key)\u001b[0m\n\u001b[1;32m     52\u001b[0m \u001b[38;5;28;01mwith\u001b[39;00m \u001b[38;5;28mself\u001b[39m\u001b[38;5;241m.\u001b[39m_lock:\n\u001b[0;32m---> 53\u001b[0m     value \u001b[38;5;241m=\u001b[39m \u001b[38;5;28;43mself\u001b[39;49m\u001b[38;5;241;43m.\u001b[39;49m\u001b[43m_cache\u001b[49m\u001b[43m[\u001b[49m\u001b[43mkey\u001b[49m\u001b[43m]\u001b[49m\n\u001b[1;32m     54\u001b[0m     \u001b[38;5;28mself\u001b[39m\u001b[38;5;241m.\u001b[39m_cache\u001b[38;5;241m.\u001b[39mmove_to_end(key)\n",
      "\u001b[0;31mKeyError\u001b[0m: [<class 'netCDF4._netCDF4.Dataset'>, ('/Volumes/Turner2/FalseLowClouds/Analysis/Model/Oaxaca/20230222/oisst-avhrr-v02r01.20230222.nc',), 'r', (('clobber', True), ('diskless', False), ('format', 'NETCDF4'), ('persist', False))]",
      "\nDuring handling of the above exception, another exception occurred:\n",
      "\u001b[0;31mFileNotFoundError\u001b[0m                         Traceback (most recent call last)",
      "Cell \u001b[0;32mIn[4], line 10\u001b[0m\n\u001b[1;32m      1\u001b[0m \u001b[38;5;66;03m#fname_sst = \"/Volumes/Turner2/FalseLowClouds/Analysis/Model/Gulf_Stream/20230411/oisst-avhrr-v02r01.20230411_preliminary.nc\"\u001b[39;00m\n\u001b[1;32m      2\u001b[0m \u001b[38;5;66;03m#fname_sst = \"/Volumes/Turner2/FalseLowClouds/Analysis/Model/Gulf_Stream/20230402/oisst-avhrr-v02r01.20230402_preliminary.nc\"\u001b[39;00m\n\u001b[1;32m      3\u001b[0m \u001b[38;5;66;03m#fname_sst = \"/Volumes/Turner2/FalseLowClouds/Analysis/Model/Gulf_Stream/20230322/oisst-avhrr-v02r01.20230322.nc\"\u001b[39;00m\n\u001b[1;32m      4\u001b[0m \n\u001b[1;32m      5\u001b[0m \u001b[38;5;66;03m#---Oaxaca\u001b[39;00m\n\u001b[1;32m      6\u001b[0m \u001b[38;5;66;03m#fname_sst = \"/Volumes/Turner2/FalseLowClouds/Analysis/Model/Oaxaca/20230219/oisst-avhrr-v02r01.20230219.nc\"\u001b[39;00m\n\u001b[1;32m      7\u001b[0m fname_sst \u001b[38;5;241m=\u001b[39m \u001b[38;5;124m\"\u001b[39m\u001b[38;5;124m/Volumes/Turner2/FalseLowClouds/Analysis/Model/Oaxaca/20230222/oisst-avhrr-v02r01.20230222.nc\u001b[39m\u001b[38;5;124m\"\u001b[39m\n\u001b[0;32m---> 10\u001b[0m ds_sst \u001b[38;5;241m=\u001b[39m \u001b[43mxr\u001b[49m\u001b[38;5;241;43m.\u001b[39;49m\u001b[43mopen_dataset\u001b[49m\u001b[43m(\u001b[49m\u001b[43mfname_sst\u001b[49m\u001b[43m)\u001b[49m\n\u001b[1;32m     11\u001b[0m ds_sst \u001b[38;5;241m=\u001b[39m  ds_sst\u001b[38;5;241m.\u001b[39msqueeze()\n\u001b[1;32m     12\u001b[0m ds_sst\n",
      "File \u001b[0;32m~/miniconda3/lib/python3.9/site-packages/xarray/backends/api.py:508\u001b[0m, in \u001b[0;36mopen_dataset\u001b[0;34m(filename_or_obj, group, decode_cf, mask_and_scale, decode_times, autoclose, concat_characters, decode_coords, engine, chunks, lock, cache, drop_variables, backend_kwargs, use_cftime, decode_timedelta)\u001b[0m\n\u001b[1;32m    506\u001b[0m     engine \u001b[38;5;241m=\u001b[39m _get_default_engine(filename_or_obj, allow_remote\u001b[38;5;241m=\u001b[39m\u001b[38;5;28;01mTrue\u001b[39;00m)\n\u001b[1;32m    507\u001b[0m \u001b[38;5;28;01mif\u001b[39;00m engine \u001b[38;5;241m==\u001b[39m \u001b[38;5;124m\"\u001b[39m\u001b[38;5;124mnetcdf4\u001b[39m\u001b[38;5;124m\"\u001b[39m:\n\u001b[0;32m--> 508\u001b[0m     store \u001b[38;5;241m=\u001b[39m \u001b[43mbackends\u001b[49m\u001b[38;5;241;43m.\u001b[39;49m\u001b[43mNetCDF4DataStore\u001b[49m\u001b[38;5;241;43m.\u001b[39;49m\u001b[43mopen\u001b[49m\u001b[43m(\u001b[49m\n\u001b[1;32m    509\u001b[0m \u001b[43m        \u001b[49m\u001b[43mfilename_or_obj\u001b[49m\u001b[43m,\u001b[49m\u001b[43m \u001b[49m\u001b[43mgroup\u001b[49m\u001b[38;5;241;43m=\u001b[39;49m\u001b[43mgroup\u001b[49m\u001b[43m,\u001b[49m\u001b[43m \u001b[49m\u001b[43mlock\u001b[49m\u001b[38;5;241;43m=\u001b[39;49m\u001b[43mlock\u001b[49m\u001b[43m,\u001b[49m\u001b[43m \u001b[49m\u001b[38;5;241;43m*\u001b[39;49m\u001b[38;5;241;43m*\u001b[39;49m\u001b[43mbackend_kwargs\u001b[49m\n\u001b[1;32m    510\u001b[0m \u001b[43m    \u001b[49m\u001b[43m)\u001b[49m\n\u001b[1;32m    511\u001b[0m \u001b[38;5;28;01melif\u001b[39;00m engine \u001b[38;5;241m==\u001b[39m \u001b[38;5;124m\"\u001b[39m\u001b[38;5;124mscipy\u001b[39m\u001b[38;5;124m\"\u001b[39m:\n\u001b[1;32m    512\u001b[0m     store \u001b[38;5;241m=\u001b[39m backends\u001b[38;5;241m.\u001b[39mScipyDataStore(filename_or_obj, \u001b[38;5;241m*\u001b[39m\u001b[38;5;241m*\u001b[39mbackend_kwargs)\n",
      "File \u001b[0;32m~/miniconda3/lib/python3.9/site-packages/xarray/backends/netCDF4_.py:358\u001b[0m, in \u001b[0;36mNetCDF4DataStore.open\u001b[0;34m(cls, filename, mode, format, group, clobber, diskless, persist, lock, lock_maker, autoclose)\u001b[0m\n\u001b[1;32m    352\u001b[0m kwargs \u001b[38;5;241m=\u001b[39m \u001b[38;5;28mdict\u001b[39m(\n\u001b[1;32m    353\u001b[0m     clobber\u001b[38;5;241m=\u001b[39mclobber, diskless\u001b[38;5;241m=\u001b[39mdiskless, persist\u001b[38;5;241m=\u001b[39mpersist, \u001b[38;5;28mformat\u001b[39m\u001b[38;5;241m=\u001b[39m\u001b[38;5;28mformat\u001b[39m\n\u001b[1;32m    354\u001b[0m )\n\u001b[1;32m    355\u001b[0m manager \u001b[38;5;241m=\u001b[39m CachingFileManager(\n\u001b[1;32m    356\u001b[0m     netCDF4\u001b[38;5;241m.\u001b[39mDataset, filename, mode\u001b[38;5;241m=\u001b[39mmode, kwargs\u001b[38;5;241m=\u001b[39mkwargs\n\u001b[1;32m    357\u001b[0m )\n\u001b[0;32m--> 358\u001b[0m \u001b[38;5;28;01mreturn\u001b[39;00m \u001b[38;5;28;43mcls\u001b[39;49m\u001b[43m(\u001b[49m\u001b[43mmanager\u001b[49m\u001b[43m,\u001b[49m\u001b[43m \u001b[49m\u001b[43mgroup\u001b[49m\u001b[38;5;241;43m=\u001b[39;49m\u001b[43mgroup\u001b[49m\u001b[43m,\u001b[49m\u001b[43m \u001b[49m\u001b[43mmode\u001b[49m\u001b[38;5;241;43m=\u001b[39;49m\u001b[43mmode\u001b[49m\u001b[43m,\u001b[49m\u001b[43m \u001b[49m\u001b[43mlock\u001b[49m\u001b[38;5;241;43m=\u001b[39;49m\u001b[43mlock\u001b[49m\u001b[43m,\u001b[49m\u001b[43m \u001b[49m\u001b[43mautoclose\u001b[49m\u001b[38;5;241;43m=\u001b[39;49m\u001b[43mautoclose\u001b[49m\u001b[43m)\u001b[49m\n",
      "File \u001b[0;32m~/miniconda3/lib/python3.9/site-packages/xarray/backends/netCDF4_.py:314\u001b[0m, in \u001b[0;36mNetCDF4DataStore.__init__\u001b[0;34m(self, manager, group, mode, lock, autoclose)\u001b[0m\n\u001b[1;32m    312\u001b[0m \u001b[38;5;28mself\u001b[39m\u001b[38;5;241m.\u001b[39m_group \u001b[38;5;241m=\u001b[39m group\n\u001b[1;32m    313\u001b[0m \u001b[38;5;28mself\u001b[39m\u001b[38;5;241m.\u001b[39m_mode \u001b[38;5;241m=\u001b[39m mode\n\u001b[0;32m--> 314\u001b[0m \u001b[38;5;28mself\u001b[39m\u001b[38;5;241m.\u001b[39mformat \u001b[38;5;241m=\u001b[39m \u001b[38;5;28;43mself\u001b[39;49m\u001b[38;5;241;43m.\u001b[39;49m\u001b[43mds\u001b[49m\u001b[38;5;241m.\u001b[39mdata_model\n\u001b[1;32m    315\u001b[0m \u001b[38;5;28mself\u001b[39m\u001b[38;5;241m.\u001b[39m_filename \u001b[38;5;241m=\u001b[39m \u001b[38;5;28mself\u001b[39m\u001b[38;5;241m.\u001b[39mds\u001b[38;5;241m.\u001b[39mfilepath()\n\u001b[1;32m    316\u001b[0m \u001b[38;5;28mself\u001b[39m\u001b[38;5;241m.\u001b[39mis_remote \u001b[38;5;241m=\u001b[39m is_remote_uri(\u001b[38;5;28mself\u001b[39m\u001b[38;5;241m.\u001b[39m_filename)\n",
      "File \u001b[0;32m~/miniconda3/lib/python3.9/site-packages/xarray/backends/netCDF4_.py:367\u001b[0m, in \u001b[0;36mNetCDF4DataStore.ds\u001b[0;34m(self)\u001b[0m\n\u001b[1;32m    365\u001b[0m \u001b[38;5;129m@property\u001b[39m\n\u001b[1;32m    366\u001b[0m \u001b[38;5;28;01mdef\u001b[39;00m \u001b[38;5;21mds\u001b[39m(\u001b[38;5;28mself\u001b[39m):\n\u001b[0;32m--> 367\u001b[0m     \u001b[38;5;28;01mreturn\u001b[39;00m \u001b[38;5;28;43mself\u001b[39;49m\u001b[38;5;241;43m.\u001b[39;49m\u001b[43m_acquire\u001b[49m\u001b[43m(\u001b[49m\u001b[43m)\u001b[49m\n",
      "File \u001b[0;32m~/miniconda3/lib/python3.9/site-packages/xarray/backends/netCDF4_.py:361\u001b[0m, in \u001b[0;36mNetCDF4DataStore._acquire\u001b[0;34m(self, needs_lock)\u001b[0m\n\u001b[1;32m    360\u001b[0m \u001b[38;5;28;01mdef\u001b[39;00m \u001b[38;5;21m_acquire\u001b[39m(\u001b[38;5;28mself\u001b[39m, needs_lock\u001b[38;5;241m=\u001b[39m\u001b[38;5;28;01mTrue\u001b[39;00m):\n\u001b[0;32m--> 361\u001b[0m     \u001b[38;5;28;01mwith\u001b[39;00m \u001b[38;5;28mself\u001b[39m\u001b[38;5;241m.\u001b[39m_manager\u001b[38;5;241m.\u001b[39macquire_context(needs_lock) \u001b[38;5;28;01mas\u001b[39;00m root:\n\u001b[1;32m    362\u001b[0m         ds \u001b[38;5;241m=\u001b[39m _nc4_require_group(root, \u001b[38;5;28mself\u001b[39m\u001b[38;5;241m.\u001b[39m_group, \u001b[38;5;28mself\u001b[39m\u001b[38;5;241m.\u001b[39m_mode)\n\u001b[1;32m    363\u001b[0m     \u001b[38;5;28;01mreturn\u001b[39;00m ds\n",
      "File \u001b[0;32m~/miniconda3/lib/python3.9/contextlib.py:117\u001b[0m, in \u001b[0;36m_GeneratorContextManager.__enter__\u001b[0;34m(self)\u001b[0m\n\u001b[1;32m    115\u001b[0m \u001b[38;5;28;01mdel\u001b[39;00m \u001b[38;5;28mself\u001b[39m\u001b[38;5;241m.\u001b[39margs, \u001b[38;5;28mself\u001b[39m\u001b[38;5;241m.\u001b[39mkwds, \u001b[38;5;28mself\u001b[39m\u001b[38;5;241m.\u001b[39mfunc\n\u001b[1;32m    116\u001b[0m \u001b[38;5;28;01mtry\u001b[39;00m:\n\u001b[0;32m--> 117\u001b[0m     \u001b[38;5;28;01mreturn\u001b[39;00m \u001b[38;5;28;43mnext\u001b[39;49m\u001b[43m(\u001b[49m\u001b[38;5;28;43mself\u001b[39;49m\u001b[38;5;241;43m.\u001b[39;49m\u001b[43mgen\u001b[49m\u001b[43m)\u001b[49m\n\u001b[1;32m    118\u001b[0m \u001b[38;5;28;01mexcept\u001b[39;00m \u001b[38;5;167;01mStopIteration\u001b[39;00m:\n\u001b[1;32m    119\u001b[0m     \u001b[38;5;28;01mraise\u001b[39;00m \u001b[38;5;167;01mRuntimeError\u001b[39;00m(\u001b[38;5;124m\"\u001b[39m\u001b[38;5;124mgenerator didn\u001b[39m\u001b[38;5;124m'\u001b[39m\u001b[38;5;124mt yield\u001b[39m\u001b[38;5;124m\"\u001b[39m) \u001b[38;5;28;01mfrom\u001b[39;00m \u001b[38;5;28mNone\u001b[39m\n",
      "File \u001b[0;32m~/miniconda3/lib/python3.9/site-packages/xarray/backends/file_manager.py:187\u001b[0m, in \u001b[0;36mCachingFileManager.acquire_context\u001b[0;34m(self, needs_lock)\u001b[0m\n\u001b[1;32m    184\u001b[0m \u001b[38;5;129m@contextlib\u001b[39m\u001b[38;5;241m.\u001b[39mcontextmanager\n\u001b[1;32m    185\u001b[0m \u001b[38;5;28;01mdef\u001b[39;00m \u001b[38;5;21macquire_context\u001b[39m(\u001b[38;5;28mself\u001b[39m, needs_lock\u001b[38;5;241m=\u001b[39m\u001b[38;5;28;01mTrue\u001b[39;00m):\n\u001b[1;32m    186\u001b[0m     \u001b[38;5;124;03m\"\"\"Context manager for acquiring a file.\"\"\"\u001b[39;00m\n\u001b[0;32m--> 187\u001b[0m     file, cached \u001b[38;5;241m=\u001b[39m \u001b[38;5;28;43mself\u001b[39;49m\u001b[38;5;241;43m.\u001b[39;49m\u001b[43m_acquire_with_cache_info\u001b[49m\u001b[43m(\u001b[49m\u001b[43mneeds_lock\u001b[49m\u001b[43m)\u001b[49m\n\u001b[1;32m    188\u001b[0m     \u001b[38;5;28;01mtry\u001b[39;00m:\n\u001b[1;32m    189\u001b[0m         \u001b[38;5;28;01myield\u001b[39;00m file\n",
      "File \u001b[0;32m~/miniconda3/lib/python3.9/site-packages/xarray/backends/file_manager.py:205\u001b[0m, in \u001b[0;36mCachingFileManager._acquire_with_cache_info\u001b[0;34m(self, needs_lock)\u001b[0m\n\u001b[1;32m    203\u001b[0m     kwargs \u001b[38;5;241m=\u001b[39m kwargs\u001b[38;5;241m.\u001b[39mcopy()\n\u001b[1;32m    204\u001b[0m     kwargs[\u001b[38;5;124m\"\u001b[39m\u001b[38;5;124mmode\u001b[39m\u001b[38;5;124m\"\u001b[39m] \u001b[38;5;241m=\u001b[39m \u001b[38;5;28mself\u001b[39m\u001b[38;5;241m.\u001b[39m_mode\n\u001b[0;32m--> 205\u001b[0m file \u001b[38;5;241m=\u001b[39m \u001b[38;5;28;43mself\u001b[39;49m\u001b[38;5;241;43m.\u001b[39;49m\u001b[43m_opener\u001b[49m\u001b[43m(\u001b[49m\u001b[38;5;241;43m*\u001b[39;49m\u001b[38;5;28;43mself\u001b[39;49m\u001b[38;5;241;43m.\u001b[39;49m\u001b[43m_args\u001b[49m\u001b[43m,\u001b[49m\u001b[43m \u001b[49m\u001b[38;5;241;43m*\u001b[39;49m\u001b[38;5;241;43m*\u001b[39;49m\u001b[43mkwargs\u001b[49m\u001b[43m)\u001b[49m\n\u001b[1;32m    206\u001b[0m \u001b[38;5;28;01mif\u001b[39;00m \u001b[38;5;28mself\u001b[39m\u001b[38;5;241m.\u001b[39m_mode \u001b[38;5;241m==\u001b[39m \u001b[38;5;124m\"\u001b[39m\u001b[38;5;124mw\u001b[39m\u001b[38;5;124m\"\u001b[39m:\n\u001b[1;32m    207\u001b[0m     \u001b[38;5;66;03m# ensure file doesn't get overriden when opened again\u001b[39;00m\n\u001b[1;32m    208\u001b[0m     \u001b[38;5;28mself\u001b[39m\u001b[38;5;241m.\u001b[39m_mode \u001b[38;5;241m=\u001b[39m \u001b[38;5;124m\"\u001b[39m\u001b[38;5;124ma\u001b[39m\u001b[38;5;124m\"\u001b[39m\n",
      "File \u001b[0;32msrc/netCDF4/_netCDF4.pyx:2307\u001b[0m, in \u001b[0;36mnetCDF4._netCDF4.Dataset.__init__\u001b[0;34m()\u001b[0m\n",
      "File \u001b[0;32msrc/netCDF4/_netCDF4.pyx:1925\u001b[0m, in \u001b[0;36mnetCDF4._netCDF4._ensure_nc_success\u001b[0;34m()\u001b[0m\n",
      "\u001b[0;31mFileNotFoundError\u001b[0m: [Errno 2] No such file or directory: b'/Volumes/Turner2/FalseLowClouds/Analysis/Model/Oaxaca/20230222/oisst-avhrr-v02r01.20230222.nc'"
     ]
    }
   ],
   "source": [
    "#fname_sst = \"/Volumes/Turner2/FalseLowClouds/Analysis/Model/Gulf_Stream/20230411/oisst-avhrr-v02r01.20230411_preliminary.nc\"\n",
    "#fname_sst = \"/Volumes/Turner2/FalseLowClouds/Analysis/Model/Gulf_Stream/20230402/oisst-avhrr-v02r01.20230402_preliminary.nc\"\n",
    "#fname_sst = \"/Volumes/Turner2/FalseLowClouds/Analysis/Model/Gulf_Stream/20230322/oisst-avhrr-v02r01.20230322.nc\"\n",
    "\n",
    "#---Oaxaca\n",
    "#fname_sst = \"/Volumes/Turner2/FalseLowClouds/Analysis/Model/Oaxaca/20230219/oisst-avhrr-v02r01.20230219.nc\"\n",
    "fname_sst = \"/Volumes/Turner2/FalseLowClouds/Analysis/Model/Oaxaca/20230222/oisst-avhrr-v02r01.20230222.nc\"\n",
    "\n",
    "\n",
    "ds_sst = xr.open_dataset(fname_sst)\n",
    "ds_sst =  ds_sst.squeeze()\n",
    "ds_sst"
   ]
  },
  {
   "cell_type": "code",
   "execution_count": null,
   "id": "af9df83b",
   "metadata": {
    "scrolled": true
   },
   "outputs": [],
   "source": [
    "#fname_mbl = \"/Volumes/Turner2/FalseLowClouds/Analysis/Model/Gulf_Stream/20230411/gfs.t00z.pgrb2.0p25.f000\"\n",
    "#fname_mbl = \"/Volumes/Turner2/FalseLowClouds/Analysis/Model/Gulf_Stream/20230402/gfs.t00z.pgrb2.0p25.f000\"\n",
    "#fname_mbl = \"/Volumes/Turner2/FalseLowClouds/Analysis/Model/Gulf_Stream/20230322/gfs.t00z.pgrb2.0p25.f000\"\n",
    "\n",
    "#---Oaxaca\n",
    "fname_mbl = \"/Volumes/Turner2/FalseLowClouds/Analysis/Model/Oaxaca/20230222/gfs.t00z.pgrb2.0p25.f000\"\n",
    "\n",
    "ds_mbl = xr.open_dataset(fname_mbl, engine=\"cfgrib\",backend_kwargs={'filter_by_keys': {'typeOfLevel':'isobaricInhPa'}})\n",
    "ds_mbl"
   ]
  },
  {
   "cell_type": "markdown",
   "id": "66fea18d",
   "metadata": {},
   "source": [
    "Gulf Stream Coordinates"
   ]
  },
  {
   "cell_type": "code",
   "execution_count": null,
   "id": "40db18ec",
   "metadata": {},
   "outputs": [],
   "source": [
    "# min_lon = -83 + 360\n",
    "# min_lat = 50\n",
    "# max_lon = -51 + 360\n",
    "# max_lat = 26"
   ]
  },
  {
   "cell_type": "markdown",
   "id": "53d271c0",
   "metadata": {},
   "source": [
    "Oaxaca Coordinates"
   ]
  },
  {
   "cell_type": "code",
   "execution_count": null,
   "id": "107ae8c1",
   "metadata": {},
   "outputs": [],
   "source": [
    "min_lon = -110 + 360\n",
    "min_lat = 21.8\n",
    "max_lon = -87.7 + 360\n",
    "max_lat = 9.42"
   ]
  },
  {
   "cell_type": "code",
   "execution_count": null,
   "id": "3e5af887",
   "metadata": {},
   "outputs": [],
   "source": [
    "min_press = 850 #mb\n",
    "max_press = 1000 #mb"
   ]
  },
  {
   "cell_type": "code",
   "execution_count": null,
   "id": "a6637a2d",
   "metadata": {},
   "outputs": [],
   "source": [
    "cropped_ds_sst = ds_sst.sel(lat=slice(max_lat,min_lat), lon=slice(min_lon,max_lon))\n",
    "cropped_ds_sst.sst.values = cropped_ds_sst.sst.values+273.15"
   ]
  },
  {
   "cell_type": "code",
   "execution_count": null,
   "id": "ca0c01ed",
   "metadata": {
    "scrolled": false
   },
   "outputs": [],
   "source": [
    "cropped_ds_mbl = ds_mbl.sel(latitude=slice(min_lat,max_lat), longitude=slice(min_lon,max_lon))\n",
    "\n",
    "cropped_ds_mbl = cropped_ds_mbl.sel(isobaricInhPa=slice(max_press,min_press))\n",
    "\n",
    "mean_ds_mbl = cropped_ds_mbl.mean(dim='isobaricInhPa')\n",
    "\n",
    "mean_ds_mbl = mean_ds_mbl.squeeze()\n",
    "mean_ds_mbl = mean_ds_mbl.reindex(latitude=mean_ds_mbl.latitude[::-1])"
   ]
  },
  {
   "cell_type": "code",
   "execution_count": null,
   "id": "479567c3",
   "metadata": {},
   "outputs": [],
   "source": [
    "max_ds_mbl = cropped_ds_mbl.max(dim='isobaricInhPa')\n",
    "\n",
    "max_ds_mbl = max_ds_mbl.squeeze()\n",
    "max_ds_mbl = max_ds_mbl.reindex(latitude=max_ds_mbl.latitude[::-1])"
   ]
  },
  {
   "cell_type": "code",
   "execution_count": null,
   "id": "74752c8d",
   "metadata": {},
   "outputs": [],
   "source": [
    "#Trims off the extra lat and lon point on the MBL data\n",
    "\n",
    "begin = cropped_ds_sst.sst.shape[0]\n",
    "end = cropped_ds_sst.sst.shape[1]\n",
    "\n",
    "diff = mean_ds_mbl.t[0:begin,0:end].values - cropped_ds_sst.sst[:,:].values"
   ]
  },
  {
   "cell_type": "code",
   "execution_count": null,
   "id": "e5580295",
   "metadata": {},
   "outputs": [],
   "source": [
    "projection=ccrs.PlateCarree()\n",
    "fig,ax=plt.subplots(1, figsize=(12,12),subplot_kw={'projection': projection})\n",
    "cmap = plt.cm.PiYG_r\n",
    "\n",
    "ax.coastlines(resolution='110m')\n",
    "ax.add_feature(cfeature.BORDERS)\n",
    "c=ax.contourf(cropped_ds_sst.lon, cropped_ds_sst.lat, cropped_ds_sst.sst, cmap=cmap)\n",
    "clb=plt.colorbar(c, shrink=0.3, pad=0.02, ax=ax)\n",
    "ax.set_title('SST ('+ date+')')\n",
    "clb.set_label('Temperature (K)')"
   ]
  },
  {
   "cell_type": "code",
   "execution_count": null,
   "id": "692237ac",
   "metadata": {},
   "outputs": [],
   "source": [
    "projection=ccrs.PlateCarree()\n",
    "fig,ax=plt.subplots(1, figsize=(12,12),subplot_kw={'projection': projection})\n",
    "cmap = plt.cm.RdYlBu_r\n",
    "\n",
    "ax.coastlines(resolution='110m')\n",
    "ax.add_feature(cfeature.BORDERS)\n",
    "c=ax.contourf(cropped_ds_sst.lon, cropped_ds_sst.lat, diff, cmap=cmap)\n",
    "clb=plt.colorbar(c, shrink=0.3, pad=0.02, ax=ax)\n",
    "ax.set_title('Averaged MBL Temp - SST ('+date+')')\n",
    "clb.set_label('Temperature (K)')"
   ]
  },
  {
   "cell_type": "markdown",
   "id": "faa00bbf",
   "metadata": {},
   "source": [
    "**Normalizing the temperature difference**\n",
    "* Set normalization range to [bottom limit,2]\n",
    "* Pegging a bottom limit for temperature difference"
   ]
  },
  {
   "cell_type": "code",
   "execution_count": null,
   "id": "d3964a72",
   "metadata": {},
   "outputs": [],
   "source": [
    "bottom_lim = -4\n",
    "\n",
    "diff_np = np.asarray(diff).copy()\n",
    "under_zero = diff_np < bottom_lim\n",
    "diff_np[under_zero] = bottom_lim"
   ]
  },
  {
   "cell_type": "code",
   "execution_count": null,
   "id": "83fac61b",
   "metadata": {},
   "outputs": [],
   "source": [
    "top_T = 4\n",
    "\n",
    "diff_norm = diff_np/(top_T - bottom_lim)"
   ]
  },
  {
   "cell_type": "markdown",
   "id": "94c973c4",
   "metadata": {},
   "source": [
    "**Normalizing the specific humidity**"
   ]
  },
  {
   "cell_type": "code",
   "execution_count": null,
   "id": "ba756a95",
   "metadata": {},
   "outputs": [],
   "source": [
    "projection=ccrs.PlateCarree()\n",
    "fig,ax=plt.subplots(1, figsize=(12,12),subplot_kw={'projection': projection})\n",
    "cmap = plt.cm.Greens\n",
    "\n",
    "ax.coastlines(resolution='110m')\n",
    "ax.add_feature(cfeature.BORDERS)\n",
    "c=ax.contourf(max_ds_mbl.longitude, max_ds_mbl.latitude, max_ds_mbl.q, cmap=cmap)\n",
    "clb=plt.colorbar(c, shrink=0.3, pad=0.02, ax=ax)\n",
    "ax.set_title('Specific Humidity (Max in MBL) ('+date+')')\n",
    "clb.set_label('kg kg$^{-1}$')"
   ]
  },
  {
   "cell_type": "code",
   "execution_count": null,
   "id": "019c03f5",
   "metadata": {},
   "outputs": [],
   "source": [
    "top_q = 0.016\n",
    "bottom_q = 0.000\n",
    "q_norm = (max_ds_mbl.q[0:begin,0:end].values)/(top_q - bottom_q)\n",
    "q_norm_av = (mean_ds_mbl.q[0:begin,0:end].values)/(top_q - bottom_q)"
   ]
  },
  {
   "cell_type": "markdown",
   "id": "b83f048b",
   "metadata": {},
   "source": [
    "**Finding the FLC index**\n",
    "* normalized temperature difference times normalized relative humidity"
   ]
  },
  {
   "cell_type": "code",
   "execution_count": null,
   "id": "6e065383",
   "metadata": {},
   "outputs": [],
   "source": [
    "flc_index = diff_norm*q_norm"
   ]
  },
  {
   "cell_type": "code",
   "execution_count": null,
   "id": "2985b610",
   "metadata": {},
   "outputs": [],
   "source": [
    "projection=ccrs.PlateCarree()\n",
    "fig,ax=plt.subplots(1, figsize=(12,12),subplot_kw={'projection': projection})\n",
    "cmap = plt.cm.Spectral_r\n",
    "#cmap.set_over('maroon')\n",
    "levels = np.linspace(-0.5, 0.5, 21)\n",
    "\n",
    "ax.coastlines(resolution='110m')\n",
    "ax.add_feature(cfeature.BORDERS)\n",
    "c=ax.contourf(cropped_ds_sst.lon, cropped_ds_sst.lat, flc_index, cmap=cmap, levels=levels, extend='both')\n",
    "clb=plt.colorbar(c, shrink=0.3, pad=0.02, ax=ax)\n",
    "ax.set_title('FLC Index (T diff > '+str(bottom_lim)+') ('+date+')')\n",
    "clb.set_label('%')"
   ]
  },
  {
   "cell_type": "markdown",
   "id": "b0d5cc0d",
   "metadata": {},
   "source": [
    "## Time Lapse FLC"
   ]
  },
  {
   "cell_type": "markdown",
   "id": "6d50598f",
   "metadata": {},
   "source": [
    "**Loading and prepping data**\n",
    "\n",
    "Allows me to delete the large grib file in favor of two smaller pickle files"
   ]
  },
  {
   "cell_type": "code",
   "execution_count": null,
   "id": "ad37e536",
   "metadata": {},
   "outputs": [],
   "source": [
    "root = \"/Volumes/Turner2/FalseLowClouds/Analysis/Model/Time_Lapse/\"\n",
    "\n",
    "date = '20230219'"
   ]
  },
  {
   "cell_type": "code",
   "execution_count": null,
   "id": "20e1634d",
   "metadata": {},
   "outputs": [],
   "source": [
    "gfs_file = root+date+\"/gfs.t00z.pgrb2.0p25.f000\"\n",
    "\n",
    "gfs_ds = xr.open_dataset(gfs_file, engine=\"cfgrib\",backend_kwargs={'filter_by_keys': {'typeOfLevel':'isobaricInhPa'}})"
   ]
  },
  {
   "cell_type": "markdown",
   "id": "440d3a7c",
   "metadata": {},
   "source": [
    "Mean and max for the GFS to the marine boundary layer:"
   ]
  },
  {
   "cell_type": "code",
   "execution_count": null,
   "id": "20186693",
   "metadata": {},
   "outputs": [],
   "source": [
    "min_press = 850 #mb\n",
    "max_press = 1000 #mb\n",
    "\n",
    "gfs_ds = gfs_ds.sel(isobaricInhPa=slice(max_press,min_press))\n",
    "\n",
    "gfs_ds_mean = gfs_ds.mean(dim='isobaricInhPa')\n",
    "gfs_ds_mean = gfs_ds_mean.squeeze()\n",
    "gfs_ds_mean = gfs_ds_mean.reindex(latitude=gfs_ds_mean.latitude[::-1])\n",
    "\n",
    "gfs_ds_max = gfs_ds.max(dim='isobaricInhPa')\n",
    "gfs_ds_max = gfs_ds_max.squeeze()\n",
    "gfs_ds_max = gfs_ds_max.reindex(latitude=gfs_ds_max.latitude[::-1])"
   ]
  },
  {
   "cell_type": "markdown",
   "id": "bc0a49c6",
   "metadata": {},
   "source": [
    "Creating and saving the T-diff:"
   ]
  },
  {
   "cell_type": "code",
   "execution_count": null,
   "id": "d4516e73",
   "metadata": {},
   "outputs": [],
   "source": [
    "t = gfs_ds_mean.t\n",
    "\n",
    "t.to_netcdf(root+date+'/t_'+date+'.nc')"
   ]
  },
  {
   "cell_type": "markdown",
   "id": "e1257eb3",
   "metadata": {},
   "source": [
    "Saving the moisture:\n",
    "* currently using max in layer"
   ]
  },
  {
   "cell_type": "code",
   "execution_count": null,
   "id": "174cd755",
   "metadata": {},
   "outputs": [],
   "source": [
    "q = gfs_ds_max.q\n",
    "\n",
    "q.to_netcdf(root+date+'/q_'+date+'.nc')"
   ]
  },
  {
   "cell_type": "markdown",
   "id": "abba75e3",
   "metadata": {},
   "source": [
    "**Loading pre-made data**"
   ]
  },
  {
   "cell_type": "code",
   "execution_count": null,
   "id": "8ae835e8",
   "metadata": {},
   "outputs": [],
   "source": [
    "root = \"/Volumes/Turner2/FalseLowClouds/Analysis/Model/Time_Lapse/\"\n",
    "\n",
    "date = '20230219'\n",
    "\n",
    "sst_file = root+date+\"/oisst-avhrr-v02r01.\"+date+\".nc\"\n",
    "\n",
    "sst_ds = xr.open_dataset(sst_file)\n",
    "sst_ds =  sst_ds.squeeze()\n",
    "sst_ds.sst.values = sst_ds.sst.values+273.15"
   ]
  },
  {
   "cell_type": "code",
   "execution_count": null,
   "id": "31220de9",
   "metadata": {},
   "outputs": [],
   "source": [
    "t = xr.open_dataset(root+date+'/t_'+date+'.nc')\n",
    "q = xr.open_dataset(root+date+'/q_'+date+'.nc')"
   ]
  },
  {
   "cell_type": "code",
   "execution_count": null,
   "id": "bd844864",
   "metadata": {},
   "outputs": [],
   "source": [
    "min_lon = -102 + 360\n",
    "min_lat = 23\n",
    "max_lon = -81 + 360\n",
    "max_lat = 5"
   ]
  },
  {
   "cell_type": "code",
   "execution_count": null,
   "id": "b6e2706c",
   "metadata": {},
   "outputs": [],
   "source": [
    "sst_ds = sst_ds.sel(lat=slice(max_lat,min_lat), lon=slice(min_lon,max_lon))\n",
    "t = t.sel(latitude=slice(max_lat,min_lat), longitude=slice(min_lon,max_lon))\n",
    "q = q.sel(latitude=slice(max_lat,min_lat), longitude=slice(min_lon,max_lon))"
   ]
  },
  {
   "cell_type": "code",
   "execution_count": null,
   "id": "c4c8f64f",
   "metadata": {},
   "outputs": [],
   "source": [
    "begin = sst_ds.sst.shape[0]\n",
    "end = sst_ds.sst.shape[1]\n",
    "\n",
    "dims = t.t[0:begin,0:end]\n",
    "\n",
    "diff = t.t[0:begin,0:end].values - sst_ds.sst[:,:].values"
   ]
  },
  {
   "cell_type": "code",
   "execution_count": null,
   "id": "5c97f133",
   "metadata": {},
   "outputs": [],
   "source": [
    "bottom_lim = -4\n",
    "\n",
    "diff_np = np.asarray(diff).copy()\n",
    "under_zero = diff_np < bottom_lim\n",
    "diff_np[under_zero] = bottom_lim"
   ]
  },
  {
   "cell_type": "code",
   "execution_count": null,
   "id": "ff694728",
   "metadata": {},
   "outputs": [],
   "source": [
    "top_T = 4\n",
    "\n",
    "diff_norm = diff_np/(top_T - bottom_lim)"
   ]
  },
  {
   "cell_type": "code",
   "execution_count": null,
   "id": "8f375058",
   "metadata": {},
   "outputs": [],
   "source": [
    "top_q = 0.016\n",
    "bottom_q = 0.000\n",
    "q_norm = (q.q[0:begin,0:end].values)/(top_q - bottom_q)\n",
    "q_norm_av = (q.q[0:begin,0:end].values)/(top_q - bottom_q)"
   ]
  },
  {
   "cell_type": "code",
   "execution_count": null,
   "id": "413c8dd5",
   "metadata": {},
   "outputs": [],
   "source": [
    "flc_index = diff_norm*q_norm"
   ]
  },
  {
   "cell_type": "code",
   "execution_count": null,
   "id": "3920b1d4",
   "metadata": {},
   "outputs": [],
   "source": [
    "projection=ccrs.PlateCarree()\n",
    "fig,ax=plt.subplots(1, figsize=(12,12),subplot_kw={'projection': projection})\n",
    "cmap = plt.cm.Spectral_r\n",
    "levels = np.linspace(-0.5, 0.5, 21)\n",
    "\n",
    "ax.coastlines(resolution='110m')\n",
    "ax.add_feature(cfeature.BORDERS)\n",
    "c=ax.contourf(dims.longitude, dims.latitude, flc_index, cmap=cmap, levels=levels, extend='both')\n",
    "clb=plt.colorbar(c, shrink=0.3, pad=0.02, ax=ax)\n",
    "ax.set_title('FLC Index ('+date+')')\n",
    "clb.set_label('%')\n",
    "\n",
    "plt.savefig('/Users/jesseturner/Downloads/flc_index_'+date+'.png', dpi=300)"
   ]
  },
  {
   "cell_type": "markdown",
   "id": "2386478d",
   "metadata": {},
   "source": [
    "**Bulk loading pre-made data**"
   ]
  },
  {
   "cell_type": "code",
   "execution_count": null,
   "id": "fa9d78a5",
   "metadata": {},
   "outputs": [],
   "source": [
    "def FLC_warn_xarray(date):\n",
    "    \n",
    "    sst_file = root+date+\"/oisst-avhrr-v02r01.\"+date+\".nc\"\n",
    "    sst_ds = xr.open_dataset(sst_file)\n",
    "    sst_ds =  sst_ds.squeeze()\n",
    "    sst_ds.sst.values = sst_ds.sst.values+273.15\n",
    "    \n",
    "    t = xr.open_dataset(root+date+'/t_'+date+'.nc')\n",
    "    q = xr.open_dataset(root+date+'/q_'+date+'.nc')\n",
    "    \n",
    "#---Northeast US\n",
    "    min_lon = -83 + 360\n",
    "    min_lat = 50\n",
    "    max_lon = -51 + 360\n",
    "    max_lat = 26\n",
    "    \n",
    "#---Central America\n",
    "#     min_lon = -102 + 360\n",
    "#     min_lat = 23\n",
    "#     max_lon = -81 + 360\n",
    "#     max_lat = 5\n",
    "\n",
    "    sst_ds = sst_ds.sel(lat=slice(max_lat,min_lat), lon=slice(min_lon,max_lon))\n",
    "    t = t.sel(latitude=slice(max_lat,min_lat), longitude=slice(min_lon,max_lon))\n",
    "    q = q.sel(latitude=slice(max_lat,min_lat), longitude=slice(min_lon,max_lon))\n",
    "\n",
    "    begin = sst_ds.sst.shape[0]\n",
    "    end = sst_ds.sst.shape[1]\n",
    "\n",
    "    dims = t.t[0:begin,0:end]\n",
    "\n",
    "    diff = t.t[0:begin,0:end].values - sst_ds.sst[:,:].values\n",
    "\n",
    "    bottom_lim = -4\n",
    "\n",
    "    diff_np = np.asarray(diff).copy()\n",
    "    under_zero = diff_np < bottom_lim\n",
    "    diff_np[under_zero] = bottom_lim\n",
    "\n",
    "    top_T = 4\n",
    "\n",
    "    diff_norm = diff_np/(top_T - bottom_lim)\n",
    "\n",
    "    top_q = 0.016\n",
    "    bottom_q = 0.000\n",
    "    q_norm = (q.q[0:begin,0:end].values)/(top_q - bottom_q)\n",
    "    q_norm_av = (q.q[0:begin,0:end].values)/(top_q - bottom_q)\n",
    "\n",
    "    flc_index = diff_norm*q_norm\n",
    "\n",
    "    #---Building the xarray dataset\n",
    "    \n",
    "    row_meshgrid, col_meshgrid = np.meshgrid(dims.latitude, dims.longitude, indexing='ij')\n",
    "\n",
    "    ds = xr.Dataset(\n",
    "        data_vars=dict(\n",
    "            flc_index=([\"x\",\"y\"], flc_index)\n",
    "        ),\n",
    "        coords=dict(\n",
    "            latitude=([\"x\",\"y\"], row_meshgrid),\n",
    "            longitude=([\"x\",\"y\"], col_meshgrid),\n",
    "        ),\n",
    "        attrs=dict(description=\"FLC index in the US Atlantic region\"),\n",
    "    )\n",
    "    \n",
    "    ds = ds.expand_dims(dim={\"time\": 1})\n",
    "    \n",
    "    return ds"
   ]
  },
  {
   "cell_type": "markdown",
   "id": "41a8c2b6",
   "metadata": {},
   "source": [
    "Add the datetimes in here: "
   ]
  },
  {
   "cell_type": "code",
   "execution_count": null,
   "id": "454295df",
   "metadata": {},
   "outputs": [],
   "source": [
    "root = \"/Volumes/Turner2/FalseLowClouds/Analysis/Model/Time_Lapse/\"\n",
    "\n",
    "FLC_3d_xarray = [FLC_warn_xarray('20230322'), FLC_warn_xarray('20230323'), \n",
    "                FLC_warn_xarray('20230324'), FLC_warn_xarray('20230325'),\n",
    "                FLC_warn_xarray('20230326'), FLC_warn_xarray('20230327'),\n",
    "                FLC_warn_xarray('20230328'), FLC_warn_xarray('20230329'),\n",
    "                FLC_warn_xarray('20230330'), FLC_warn_xarray('20230331'),\n",
    "                FLC_warn_xarray('20230401'), FLC_warn_xarray('20230402'),\n",
    "                FLC_warn_xarray('20230403'), FLC_warn_xarray('20230404'),\n",
    "                FLC_warn_xarray('20230405'), FLC_warn_xarray('20230406'),\n",
    "                FLC_warn_xarray('20230407'), FLC_warn_xarray('20230408'),\n",
    "                FLC_warn_xarray('20230409'), FLC_warn_xarray('20230410'),\n",
    "                FLC_warn_xarray('20230411'), FLC_warn_xarray('20230412'),]\n",
    "\n",
    "dates = [datetime.datetime(2023, 3, 22), datetime.datetime(2023, 3, 23), \n",
    "        datetime.datetime(2023, 3, 24), datetime.datetime(2023, 3, 25),\n",
    "        datetime.datetime(2023, 3, 26), datetime.datetime(2023, 3, 27),\n",
    "        datetime.datetime(2023, 3, 28), datetime.datetime(2023, 3, 29),\n",
    "        datetime.datetime(2023, 3, 30), datetime.datetime(2023, 3, 31),\n",
    "        datetime.datetime(2023, 4, 1), datetime.datetime(2023, 4, 2),\n",
    "        datetime.datetime(2023, 4, 3), datetime.datetime(2023, 4, 4),\n",
    "        datetime.datetime(2023, 4, 5), datetime.datetime(2023, 4, 6),\n",
    "        datetime.datetime(2023, 4, 7), datetime.datetime(2023, 4, 8),\n",
    "        datetime.datetime(2023, 4, 9), datetime.datetime(2023, 4, 10),\n",
    "        datetime.datetime(2023, 4, 11), datetime.datetime(2023, 4, 12),]"
   ]
  },
  {
   "cell_type": "code",
   "execution_count": null,
   "id": "b9d669a9",
   "metadata": {},
   "outputs": [],
   "source": [
    "da_concat = xr.concat(FLC_3d_xarray, pd.Index(dates, name='time'))"
   ]
  },
  {
   "cell_type": "code",
   "execution_count": null,
   "id": "9ff68a97",
   "metadata": {},
   "outputs": [],
   "source": [
    "tot = da_concat.sum(dim='time')"
   ]
  },
  {
   "cell_type": "code",
   "execution_count": null,
   "id": "b58fbe00",
   "metadata": {},
   "outputs": [],
   "source": [
    "flc_above = tot.flc_index.where(tot.flc_index > 0.1)"
   ]
  },
  {
   "cell_type": "code",
   "execution_count": null,
   "id": "be9665ed",
   "metadata": {},
   "outputs": [],
   "source": [
    "projection=ccrs.PlateCarree()\n",
    "fig,ax=plt.subplots(1, figsize=(12,12),subplot_kw={'projection': projection})\n",
    "cmap = plt.cm.cool\n",
    "levels = np.linspace(0, np.amax(flc_above), 21)\n",
    "\n",
    "ax.coastlines(resolution='110m')\n",
    "ax.add_feature(cfeature.BORDERS)\n",
    "c=ax.contourf(flc_above.longitude[0,:], flc_above.latitude[:,0], flc_above, cmap=cmap, levels=levels, extend='both')\n",
    "clb=plt.colorbar(c, shrink=0.3, pad=0.02, ax=ax)\n",
    "ax.set_title('Total FLC Index > 0.1')\n",
    "clb.set_label('Total FLC')"
   ]
  },
  {
   "cell_type": "code",
   "execution_count": null,
   "id": "ec63ca9f",
   "metadata": {},
   "outputs": [],
   "source": [
    "projection=ccrs.PlateCarree()\n",
    "fig,ax=plt.subplots(1, figsize=(12,12),subplot_kw={'projection': projection})\n",
    "cmap = plt.cm.Spectral_r\n",
    "#levels = np.linspace(-np.amax(tot.flc_index), np.amax(tot.flc_index), 35)\n",
    "#---since Central America values are negative\n",
    "levels = np.linspace(-12, 12, 71)\n",
    "\n",
    "ax.coastlines(resolution='110m')\n",
    "ax.add_feature(cfeature.BORDERS)\n",
    "c=ax.contourf(tot.longitude[0,:], tot.latitude[:,0], tot.flc_index, cmap=cmap, levels=levels, extend='both')\n",
    "\n",
    "#---hacky way of adding white = 0\n",
    "white_levels = [-.1,.1]\n",
    "c_white=ax.contourf(tot.longitude[0,:], tot.latitude[:,0], tot.flc_index, levels=white_levels, colors='w')\n",
    "\n",
    "clb=plt.colorbar(c, shrink=0.3, pad=0.02, ax=ax)\n",
    "ax.set_title('Total FLC Index')\n",
    "clb.set_label('Total FLC')\n",
    "\n",
    "#plt.savefig('/Users/jturner/Downloads/total_flc_index_CentralAmerica.png', dpi=300)"
   ]
  },
  {
   "cell_type": "code",
   "execution_count": null,
   "id": "469fe4a0",
   "metadata": {},
   "outputs": [],
   "source": [
    "flc_above = []\n",
    "da_tot_area = []\n",
    "flc_above = da_concat.flc_index.where(da_concat.flc_index > 0.1)\n",
    "da_tot_area = flc_above.sum(dim='x').sum(dim='y')\n",
    "\n",
    "plt.bar(da_tot_area['time'], da_tot_area)\n",
    "\n",
    "# add labels and title\n",
    "plt.xlabel('Date')\n",
    "plt.ylabel('Total Warning')\n",
    "plt.title('FLC Warnings in Northeast US')\n",
    "plt.xticks(rotation=45)\n",
    "\n",
    "plt.tight_layout()\n",
    "plt.savefig('/Users/jturner/Downloads/total_flc_index_bar_NortheastUS.png', dpi=300)"
   ]
  },
  {
   "cell_type": "code",
   "execution_count": null,
   "id": "b19a2681",
   "metadata": {},
   "outputs": [],
   "source": []
  }
 ],
 "metadata": {
  "kernelspec": {
   "display_name": "Python 3 (ipykernel)",
   "language": "python",
   "name": "python3"
  },
  "language_info": {
   "codemirror_mode": {
    "name": "ipython",
    "version": 3
   },
   "file_extension": ".py",
   "mimetype": "text/x-python",
   "name": "python",
   "nbconvert_exporter": "python",
   "pygments_lexer": "ipython3",
   "version": "3.9.0"
  }
 },
 "nbformat": 4,
 "nbformat_minor": 5
}
