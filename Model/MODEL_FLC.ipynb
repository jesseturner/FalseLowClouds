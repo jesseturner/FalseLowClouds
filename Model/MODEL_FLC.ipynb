{
 "cells": [
  {
   "cell_type": "markdown",
   "id": "489bf433",
   "metadata": {},
   "source": [
    "## MBL Temp (GFS) - SST (NOAA)"
   ]
  },
  {
   "cell_type": "code",
   "execution_count": 1,
   "id": "77520e2c",
   "metadata": {},
   "outputs": [],
   "source": [
    "import xarray as xr\n",
    "import matplotlib.pyplot as plt\n",
    "import numpy as np\n",
    "import cartopy.crs as ccrs\n",
    "import cartopy.feature as cfeature\n",
    "import pandas as pd\n",
    "import datetime\n",
    "\n",
    "root = \"/home/jturner/false_low_clouds_2023/Model/Time_Lapse/\""
   ]
  },
  {
   "cell_type": "markdown",
   "id": "b0d5cc0d",
   "metadata": {},
   "source": [
    "## Time Lapse FLC"
   ]
  },
  {
   "cell_type": "markdown",
   "id": "6d50598f",
   "metadata": {},
   "source": [
    "**Loading and prepping data**\n",
    "\n",
    "Allows me to delete the large grib file in favor of two smaller pickle files"
   ]
  },
  {
   "cell_type": "code",
   "execution_count": null,
   "id": "ad37e536",
   "metadata": {},
   "outputs": [],
   "source": [
    "date = '20230420'"
   ]
  },
  {
   "cell_type": "code",
   "execution_count": null,
   "id": "20e1634d",
   "metadata": {
    "scrolled": true
   },
   "outputs": [],
   "source": [
    "gfs_file = root+date+\"/gfs.t00z.pgrb2.0p25.f000\"\n",
    "\n",
    "gfs_ds = xr.open_dataset(gfs_file, engine=\"cfgrib\",backend_kwargs={'filter_by_keys': {'typeOfLevel':'isobaricInhPa'}})"
   ]
  },
  {
   "cell_type": "markdown",
   "id": "440d3a7c",
   "metadata": {},
   "source": [
    "Mean and max for the GFS to the marine boundary layer:"
   ]
  },
  {
   "cell_type": "code",
   "execution_count": null,
   "id": "20186693",
   "metadata": {},
   "outputs": [],
   "source": [
    "min_press = 850 #mb\n",
    "max_press = 1000 #mb\n",
    "\n",
    "gfs_ds = gfs_ds.sel(isobaricInhPa=slice(max_press,min_press))\n",
    "\n",
    "gfs_ds_mean = gfs_ds.mean(dim='isobaricInhPa')\n",
    "gfs_ds_mean = gfs_ds_mean.squeeze()\n",
    "gfs_ds_mean = gfs_ds_mean.reindex(latitude=gfs_ds_mean.latitude[::-1])\n",
    "\n",
    "gfs_ds_max = gfs_ds.max(dim='isobaricInhPa')\n",
    "gfs_ds_max = gfs_ds_max.squeeze()\n",
    "gfs_ds_max = gfs_ds_max.reindex(latitude=gfs_ds_max.latitude[::-1])"
   ]
  },
  {
   "cell_type": "markdown",
   "id": "bc0a49c6",
   "metadata": {},
   "source": [
    "Creating and saving the T-diff:"
   ]
  },
  {
   "cell_type": "code",
   "execution_count": null,
   "id": "d4516e73",
   "metadata": {},
   "outputs": [],
   "source": [
    "t = gfs_ds_mean.t\n",
    "\n",
    "t.to_netcdf(root+date+'/t_'+date+'.nc')"
   ]
  },
  {
   "cell_type": "markdown",
   "id": "e1257eb3",
   "metadata": {},
   "source": [
    "Saving the moisture:\n",
    "* currently using max in layer"
   ]
  },
  {
   "cell_type": "code",
   "execution_count": null,
   "id": "174cd755",
   "metadata": {},
   "outputs": [],
   "source": [
    "q = gfs_ds_max.q\n",
    "\n",
    "q.to_netcdf(root+date+'/q_'+date+'.nc')"
   ]
  },
  {
   "cell_type": "markdown",
   "id": "abba75e3",
   "metadata": {},
   "source": [
    "**Loading pre-made data**"
   ]
  },
  {
   "cell_type": "code",
   "execution_count": null,
   "id": "8ae835e8",
   "metadata": {},
   "outputs": [],
   "source": [
    "date = '20230219'\n",
    "\n",
    "sst_file = root+date+\"/oisst-avhrr-v02r01.\"+date+\".nc\"\n",
    "\n",
    "sst_ds = xr.open_dataset(sst_file)\n",
    "sst_ds =  sst_ds.squeeze()\n",
    "sst_ds.sst.values = sst_ds.sst.values+273.15"
   ]
  },
  {
   "cell_type": "code",
   "execution_count": null,
   "id": "31220de9",
   "metadata": {},
   "outputs": [],
   "source": [
    "t = xr.open_dataset(root+date+'/t_'+date+'.nc')\n",
    "q = xr.open_dataset(root+date+'/q_'+date+'.nc')"
   ]
  },
  {
   "cell_type": "code",
   "execution_count": null,
   "id": "bd844864",
   "metadata": {},
   "outputs": [],
   "source": [
    "min_lon = -102 + 360\n",
    "min_lat = 23\n",
    "max_lon = -81 + 360\n",
    "max_lat = 5"
   ]
  },
  {
   "cell_type": "code",
   "execution_count": null,
   "id": "b6e2706c",
   "metadata": {},
   "outputs": [],
   "source": [
    "sst_ds = sst_ds.sel(lat=slice(max_lat,min_lat), lon=slice(min_lon,max_lon))\n",
    "t = t.sel(latitude=slice(max_lat,min_lat), longitude=slice(min_lon,max_lon))\n",
    "q = q.sel(latitude=slice(max_lat,min_lat), longitude=slice(min_lon,max_lon))"
   ]
  },
  {
   "cell_type": "code",
   "execution_count": null,
   "id": "c4c8f64f",
   "metadata": {},
   "outputs": [],
   "source": [
    "begin = sst_ds.sst.shape[0]\n",
    "end = sst_ds.sst.shape[1]\n",
    "\n",
    "dims = t.t[0:begin,0:end]\n",
    "\n",
    "diff = t.t[0:begin,0:end].values - sst_ds.sst[:,:].values"
   ]
  },
  {
   "cell_type": "code",
   "execution_count": null,
   "id": "5c97f133",
   "metadata": {},
   "outputs": [],
   "source": [
    "bottom_lim = -4\n",
    "\n",
    "diff_np = np.asarray(diff).copy()\n",
    "under_zero = diff_np < bottom_lim\n",
    "diff_np[under_zero] = bottom_lim"
   ]
  },
  {
   "cell_type": "code",
   "execution_count": null,
   "id": "ff694728",
   "metadata": {},
   "outputs": [],
   "source": [
    "top_T = 4\n",
    "\n",
    "diff_norm = diff_np/(top_T - bottom_lim)"
   ]
  },
  {
   "cell_type": "code",
   "execution_count": null,
   "id": "8f375058",
   "metadata": {},
   "outputs": [],
   "source": [
    "top_q = 0.016\n",
    "bottom_q = 0.000\n",
    "q_norm = (q.q[0:begin,0:end].values)/(top_q - bottom_q)\n",
    "q_norm_av = (q.q[0:begin,0:end].values)/(top_q - bottom_q)"
   ]
  },
  {
   "cell_type": "code",
   "execution_count": null,
   "id": "413c8dd5",
   "metadata": {},
   "outputs": [],
   "source": [
    "flc_index = diff_norm*q_norm"
   ]
  },
  {
   "cell_type": "code",
   "execution_count": null,
   "id": "3920b1d4",
   "metadata": {},
   "outputs": [],
   "source": [
    "projection=ccrs.PlateCarree()\n",
    "fig,ax=plt.subplots(1, figsize=(12,12),subplot_kw={'projection': projection})\n",
    "cmap = plt.cm.Spectral_r\n",
    "levels = np.linspace(-0.5, 0.5, 21)\n",
    "\n",
    "ax.coastlines(resolution='110m')\n",
    "ax.add_feature(cfeature.BORDERS)\n",
    "c=ax.contourf(dims.longitude, dims.latitude, flc_index, cmap=cmap, levels=levels, extend='both')\n",
    "clb=plt.colorbar(c, shrink=0.3, pad=0.02, ax=ax)\n",
    "ax.set_title('FLC Index ('+date+')')\n",
    "clb.set_label('%')\n",
    "\n",
    "#plt.savefig('/Users/jesseturner/Downloads/flc_index_'+date+'.png', dpi=300)"
   ]
  },
  {
   "cell_type": "markdown",
   "id": "2386478d",
   "metadata": {},
   "source": [
    "**Bulk loading pre-made data**"
   ]
  },
  {
   "cell_type": "code",
   "execution_count": null,
   "id": "fa9d78a5",
   "metadata": {},
   "outputs": [],
   "source": [
    "def FLC_warn_xarray(date):\n",
    "    \n",
    "    sst_file = root+date+\"/oisst-avhrr-v02r01.\"+date+\".nc\"\n",
    "    sst_ds = xr.open_dataset(sst_file)\n",
    "    sst_ds =  sst_ds.squeeze()\n",
    "    sst_ds.sst.values = sst_ds.sst.values+273.15\n",
    "    \n",
    "    t = xr.open_dataset(root+date+'/t_'+date+'.nc')\n",
    "    q = xr.open_dataset(root+date+'/q_'+date+'.nc')\n",
    "    \n",
    "#---Northeast US\n",
    "    min_lon = -83 + 360\n",
    "    min_lat = 50\n",
    "    max_lon = -51 + 360\n",
    "    max_lat = 26\n",
    "    \n",
    "#---Central America\n",
    "#     min_lon = -102 + 360\n",
    "#     min_lat = 23\n",
    "#     max_lon = -81 + 360\n",
    "#     max_lat = 5\n",
    "\n",
    "    sst_ds = sst_ds.sel(lat=slice(max_lat,min_lat), lon=slice(min_lon,max_lon))\n",
    "    t = t.sel(latitude=slice(max_lat,min_lat), longitude=slice(min_lon,max_lon))\n",
    "    q = q.sel(latitude=slice(max_lat,min_lat), longitude=slice(min_lon,max_lon))\n",
    "\n",
    "    begin = sst_ds.sst.shape[0]\n",
    "    end = sst_ds.sst.shape[1]\n",
    "\n",
    "    dims = t.t[0:begin,0:end]\n",
    "\n",
    "    diff = t.t[0:begin,0:end].values - sst_ds.sst[:,:].values\n",
    "\n",
    "    bottom_lim = -4\n",
    "\n",
    "    diff_np = np.asarray(diff).copy()\n",
    "    under_zero = diff_np < bottom_lim\n",
    "    diff_np[under_zero] = bottom_lim\n",
    "\n",
    "    top_T = 4\n",
    "\n",
    "    diff_norm = diff_np/(top_T - bottom_lim)\n",
    "\n",
    "    top_q = 0.016\n",
    "    bottom_q = 0.000\n",
    "    q_norm = (q.q[0:begin,0:end].values)/(top_q - bottom_q)\n",
    "    q_norm_av = (q.q[0:begin,0:end].values)/(top_q - bottom_q)\n",
    "\n",
    "    flc_index = diff_norm*q_norm\n",
    "\n",
    "    #---Building the xarray dataset\n",
    "    \n",
    "    row_meshgrid, col_meshgrid = np.meshgrid(dims.latitude, dims.longitude, indexing='ij')\n",
    "\n",
    "    ds = xr.Dataset(\n",
    "        data_vars=dict(\n",
    "            flc_index=([\"x\",\"y\"], flc_index)\n",
    "        ),\n",
    "        coords=dict(\n",
    "            latitude=([\"x\",\"y\"], row_meshgrid),\n",
    "            longitude=([\"x\",\"y\"], col_meshgrid),\n",
    "        ),\n",
    "        attrs=dict(description=\"FLC index in the US Atlantic region\"),\n",
    "    )\n",
    "    \n",
    "    ds = ds.expand_dims(dim={\"time\": 1})\n",
    "    \n",
    "    return ds"
   ]
  },
  {
   "cell_type": "markdown",
   "id": "41a8c2b6",
   "metadata": {},
   "source": [
    "Add the datetimes in here: "
   ]
  },
  {
   "cell_type": "code",
   "execution_count": null,
   "id": "454295df",
   "metadata": {},
   "outputs": [],
   "source": [
    "FLC_3d_xarray = [FLC_warn_xarray('20230322'), FLC_warn_xarray('20230323'), \n",
    "                FLC_warn_xarray('20230324'), FLC_warn_xarray('20230325'),\n",
    "                FLC_warn_xarray('20230326'), FLC_warn_xarray('20230327'),\n",
    "                FLC_warn_xarray('20230328'), FLC_warn_xarray('20230329'),\n",
    "                FLC_warn_xarray('20230330'), FLC_warn_xarray('20230331'),\n",
    "                FLC_warn_xarray('20230401'), FLC_warn_xarray('20230402'),\n",
    "                FLC_warn_xarray('20230403'), FLC_warn_xarray('20230404'),\n",
    "                FLC_warn_xarray('20230405'), FLC_warn_xarray('20230406'),\n",
    "                FLC_warn_xarray('20230407'), FLC_warn_xarray('20230408'),\n",
    "                FLC_warn_xarray('20230409'), FLC_warn_xarray('20230410'),\n",
    "                FLC_warn_xarray('20230411'), FLC_warn_xarray('20230412'),\n",
    "                FLC_warn_xarray('20230413'), FLC_warn_xarray('20230414'),\n",
    "                FLC_warn_xarray('20230415')]\n",
    "\n",
    "dates = [datetime.datetime(2023, 3, 22), datetime.datetime(2023, 3, 23), \n",
    "        datetime.datetime(2023, 3, 24), datetime.datetime(2023, 3, 25),\n",
    "        datetime.datetime(2023, 3, 26), datetime.datetime(2023, 3, 27),\n",
    "        datetime.datetime(2023, 3, 28), datetime.datetime(2023, 3, 29),\n",
    "        datetime.datetime(2023, 3, 30), datetime.datetime(2023, 3, 31),\n",
    "        datetime.datetime(2023, 4, 1), datetime.datetime(2023, 4, 2),\n",
    "        datetime.datetime(2023, 4, 3), datetime.datetime(2023, 4, 4),\n",
    "        datetime.datetime(2023, 4, 5), datetime.datetime(2023, 4, 6),\n",
    "        datetime.datetime(2023, 4, 7), datetime.datetime(2023, 4, 8),\n",
    "        datetime.datetime(2023, 4, 9), datetime.datetime(2023, 4, 10),\n",
    "        datetime.datetime(2023, 4, 11), datetime.datetime(2023, 4, 12),\n",
    "        datetime.datetime(2023, 4, 13), datetime.datetime(2023, 4, 14),\n",
    "        datetime.datetime(2023, 4, 15)]"
   ]
  },
  {
   "cell_type": "code",
   "execution_count": null,
   "id": "b9d669a9",
   "metadata": {},
   "outputs": [],
   "source": [
    "da_concat = xr.concat(FLC_3d_xarray, pd.Index(dates, name='time'))"
   ]
  },
  {
   "cell_type": "code",
   "execution_count": null,
   "id": "9ff68a97",
   "metadata": {},
   "outputs": [],
   "source": [
    "tot = da_concat.sum(dim='time')"
   ]
  },
  {
   "cell_type": "code",
   "execution_count": null,
   "id": "b58fbe00",
   "metadata": {},
   "outputs": [],
   "source": [
    "flc_above = tot.flc_index.where(tot.flc_index > 0.1)"
   ]
  },
  {
   "cell_type": "code",
   "execution_count": null,
   "id": "be9665ed",
   "metadata": {},
   "outputs": [],
   "source": [
    "projection=ccrs.PlateCarree()\n",
    "fig,ax=plt.subplots(1, figsize=(12,12),subplot_kw={'projection': projection})\n",
    "cmap = plt.cm.cool\n",
    "levels = np.linspace(0, np.amax(flc_above), 21)\n",
    "\n",
    "ax.coastlines(resolution='110m')\n",
    "ax.add_feature(cfeature.BORDERS)\n",
    "c=ax.contourf(flc_above.longitude[0,:], flc_above.latitude[:,0], flc_above, cmap=cmap, levels=levels, extend='both')\n",
    "clb=plt.colorbar(c, shrink=0.3, pad=0.02, ax=ax)\n",
    "ax.set_title('Total FLC Index > 0.1')\n",
    "clb.set_label('Total FLC')"
   ]
  },
  {
   "cell_type": "code",
   "execution_count": null,
   "id": "ec63ca9f",
   "metadata": {},
   "outputs": [],
   "source": [
    "projection=ccrs.PlateCarree()\n",
    "fig,ax=plt.subplots(1, figsize=(12,12),subplot_kw={'projection': projection})\n",
    "cmap = plt.cm.Spectral_r\n",
    "levels = np.linspace(-np.amax(tot.flc_index), np.amax(tot.flc_index), 35)\n",
    "#---since Central America values are negative\n",
    "#levels = np.linspace(-12, 12, 71)\n",
    "\n",
    "ax.coastlines(resolution='110m')\n",
    "ax.add_feature(cfeature.BORDERS)\n",
    "c=ax.contourf(tot.longitude[0,:], tot.latitude[:,0], tot.flc_index, cmap=cmap, levels=levels, extend='both')\n",
    "\n",
    "#---hacky way of adding white = 0\n",
    "white_levels = [-.1,.1]\n",
    "c_white=ax.contourf(tot.longitude[0,:], tot.latitude[:,0], tot.flc_index, levels=white_levels, colors='w')\n",
    "\n",
    "clb=plt.colorbar(c, shrink=0.3, pad=0.02, ax=ax)\n",
    "ax.set_title('Total FLC Index')\n",
    "clb.set_label('Total FLC')\n",
    "\n",
    "#plt.savefig('/Users/jturner/Downloads/total_flc_index_CentralAmerica.png', dpi=300)"
   ]
  },
  {
   "cell_type": "code",
   "execution_count": null,
   "id": "469fe4a0",
   "metadata": {},
   "outputs": [],
   "source": [
    "flc_above = []\n",
    "da_tot_area = []\n",
    "flc_above = da_concat.flc_index.where(da_concat.flc_index > 0.1)\n",
    "da_tot_area = flc_above.sum(dim='x').sum(dim='y')\n",
    "\n",
    "plt.bar(da_tot_area['time'], da_tot_area)\n",
    "\n",
    "# add labels and title\n",
    "plt.xlabel('Date')\n",
    "plt.ylabel('Total Warning')\n",
    "plt.title('FLC Warnings in Northeast US')\n",
    "plt.xticks(rotation=45)\n",
    "\n",
    "plt.tight_layout()\n",
    "#plt.savefig('/Users/jturner/Downloads/total_flc_index_bar_NortheastUS.png', dpi=300)"
   ]
  },
  {
   "cell_type": "code",
   "execution_count": null,
   "id": "6c5d70e2",
   "metadata": {},
   "outputs": [],
   "source": []
  }
 ],
 "metadata": {
  "kernelspec": {
   "display_name": "Python 3 (ipykernel)",
   "language": "python",
   "name": "python3"
  },
  "language_info": {
   "codemirror_mode": {
    "name": "ipython",
    "version": 3
   },
   "file_extension": ".py",
   "mimetype": "text/x-python",
   "name": "python",
   "nbconvert_exporter": "python",
   "pygments_lexer": "ipython3",
   "version": "3.9.0"
  }
 },
 "nbformat": 4,
 "nbformat_minor": 5
}
