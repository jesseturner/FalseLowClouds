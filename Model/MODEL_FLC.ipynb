{
 "cells": [
  {
   "cell_type": "markdown",
   "id": "489bf433",
   "metadata": {},
   "source": [
    "# Official False Low Clouds Index\n",
    "* SST (NOAA)\n",
    "* air temp and moisture (GFS)\n",
    "* data repackaged into more efficient netcdf files\n",
    "* netcdf files are read for the FLC index"
   ]
  },
  {
   "cell_type": "code",
   "execution_count": null,
   "id": "77520e2c",
   "metadata": {},
   "outputs": [],
   "source": [
    "import xarray as xr\n",
    "import matplotlib.pyplot as plt\n",
    "import numpy as np\n",
    "import cartopy.crs as ccrs\n",
    "import cartopy.feature as cfeature\n",
    "import pandas as pd\n",
    "import datetime\n",
    "import os\n",
    "\n",
    "time = \"00z\"\n",
    "\n",
    "root = \"/home/jturner/false_low_clouds_2023/Model/Time_Lapse/time_\"+time+\"/\"\n",
    "\n",
    "#ftime = \"03z\"\n",
    "#root = \"/home/jturner/false_low_clouds_2023/Model/Forecast/time_\"+time+\"_\"+ftime+\"/\""
   ]
  },
  {
   "cell_type": "markdown",
   "id": "abba75e3",
   "metadata": {},
   "source": [
    "# Run analysis of processed data"
   ]
  },
  {
   "cell_type": "code",
   "execution_count": null,
   "id": "8ae835e8",
   "metadata": {},
   "outputs": [],
   "source": [
    "date = '20220914'\n",
    "\n",
    "sst_file = root+date+\"/oisst-avhrr-v02r01.\"+date+\".nc\"\n",
    "\n",
    "sst_ds = xr.open_dataset(sst_file)\n",
    "sst_ds =  sst_ds.squeeze()\n",
    "sst_ds.sst.values = sst_ds.sst.values+273.15"
   ]
  },
  {
   "cell_type": "code",
   "execution_count": null,
   "id": "31220de9",
   "metadata": {},
   "outputs": [],
   "source": [
    "t = xr.open_dataset(root+date+'/t_'+date+'.nc')\n",
    "q = xr.open_dataset(root+date+'/q_'+date+'.nc')"
   ]
  },
  {
   "cell_type": "markdown",
   "id": "726728e0",
   "metadata": {},
   "source": [
    "Region for analysis:"
   ]
  },
  {
   "cell_type": "code",
   "execution_count": null,
   "id": "bd844864",
   "metadata": {},
   "outputs": [],
   "source": [
    "min_lon = -126 + 360\n",
    "min_lat = 24.5\n",
    "max_lon = -64 + 360\n",
    "max_lat = 49.5"
   ]
  },
  {
   "cell_type": "code",
   "execution_count": null,
   "id": "b6e2706c",
   "metadata": {},
   "outputs": [],
   "source": [
    "sst_ds = sst_ds.sel(lat=slice(min_lat,max_lat), lon=slice(min_lon,max_lon))\n",
    "t = t.sel(latitude=slice(min_lat,max_lat), longitude=slice(min_lon,max_lon))\n",
    "q = q.sel(latitude=slice(min_lat,max_lat), longitude=slice(min_lon,max_lon))"
   ]
  },
  {
   "cell_type": "code",
   "execution_count": null,
   "id": "c4c8f64f",
   "metadata": {},
   "outputs": [],
   "source": [
    "begin = sst_ds.sst.shape[0]\n",
    "end = sst_ds.sst.shape[1]\n",
    "\n",
    "dims = t.t[0:begin,0:end]\n",
    "\n",
    "diff = t.t[0:begin,0:end].values - sst_ds.sst[:,:].values"
   ]
  },
  {
   "cell_type": "code",
   "execution_count": null,
   "id": "5c97f133",
   "metadata": {},
   "outputs": [],
   "source": [
    "bottom_lim = -4\n",
    "\n",
    "diff_np = np.asarray(diff).copy()\n",
    "under_zero = diff_np < bottom_lim\n",
    "diff_np[under_zero] = bottom_lim"
   ]
  },
  {
   "cell_type": "code",
   "execution_count": null,
   "id": "ff694728",
   "metadata": {},
   "outputs": [],
   "source": [
    "top_T = 4\n",
    "\n",
    "diff_norm = diff_np/(top_T - bottom_lim)"
   ]
  },
  {
   "cell_type": "code",
   "execution_count": null,
   "id": "8f375058",
   "metadata": {},
   "outputs": [],
   "source": [
    "top_q = 0.016\n",
    "bottom_q = 0.000\n",
    "q_norm = (q.q[0:begin,0:end].values)/(top_q - bottom_q)\n",
    "q_norm_av = (q.q[0:begin,0:end].values)/(top_q - bottom_q)"
   ]
  },
  {
   "cell_type": "code",
   "execution_count": null,
   "id": "413c8dd5",
   "metadata": {},
   "outputs": [],
   "source": [
    "flc_index = diff_norm*q_norm"
   ]
  },
  {
   "cell_type": "code",
   "execution_count": null,
   "id": "3920b1d4",
   "metadata": {},
   "outputs": [],
   "source": [
    "projection=ccrs.PlateCarree()\n",
    "fig,ax=plt.subplots(1, figsize=(12,12),subplot_kw={'projection': projection})\n",
    "cmap = plt.cm.Spectral_r\n",
    "levels = np.linspace(-0.5, 0.5, 31)\n",
    "\n",
    "c=ax.contourf(dims.longitude, dims.latitude, flc_index, cmap=cmap, levels=levels, extend='both')\n",
    "clb=plt.colorbar(c, shrink=0.3, pad=0.02, ax=ax)\n",
    "ax.set_title('FLC Index ('+date+' '+ time+')')\n",
    "clb.set_label('')\n",
    "\n",
    "#ax.coastlines(resolution='110m')\n",
    "#ax.add_feature(cfeature.BORDERS)\n",
    "ax.add_feature(cfeature.STATES)\n",
    "\n",
    "#plt.savefig('/Users/jesseturner/Downloads/flc_index_'+date+'.png', dpi=300)"
   ]
  },
  {
   "cell_type": "markdown",
   "id": "2386478d",
   "metadata": {},
   "source": [
    "**Bulk loading pre-made data**"
   ]
  },
  {
   "cell_type": "code",
   "execution_count": null,
   "id": "fa9d78a5",
   "metadata": {},
   "outputs": [],
   "source": [
    "def FLC_warn_xarray(date):\n",
    "    \n",
    "    sst_file = root+date+\"/oisst-avhrr-v02r01.\"+date+\".nc\"\n",
    "    sst_ds = xr.open_dataset(sst_file)\n",
    "    sst_ds =  sst_ds.squeeze()\n",
    "    sst_ds.sst.values = sst_ds.sst.values+273.15\n",
    "    \n",
    "    t = xr.open_dataset(root+date+'/t_'+date+'.nc')\n",
    "    q = xr.open_dataset(root+date+'/q_'+date+'.nc')\n",
    "    \n",
    "#---Region for analysis\n",
    "    min_lon = -126 + 360\n",
    "    min_lat = 24.5\n",
    "    max_lon = -64 + 360\n",
    "    max_lat = 49.5\n",
    "    \n",
    "    sst_ds = sst_ds.sel(lat=slice(min_lat,max_lat), lon=slice(min_lon,max_lon))\n",
    "    t = t.sel(latitude=slice(min_lat,max_lat), longitude=slice(min_lon,max_lon))\n",
    "    q = q.sel(latitude=slice(min_lat,max_lat), longitude=slice(min_lon,max_lon))\n",
    "\n",
    "    begin = sst_ds.sst.shape[0]\n",
    "    end = sst_ds.sst.shape[1]\n",
    "\n",
    "    dims = t.t[0:begin,0:end]\n",
    "\n",
    "    diff = t.t[0:begin,0:end].values - sst_ds.sst[:,:].values\n",
    "\n",
    "    bottom_lim = -4\n",
    "\n",
    "    diff_np = np.asarray(diff).copy()\n",
    "    under_zero = diff_np < bottom_lim\n",
    "    diff_np[under_zero] = bottom_lim\n",
    "\n",
    "    top_T = 4\n",
    "\n",
    "    diff_norm = diff_np/(top_T - bottom_lim)\n",
    "\n",
    "    top_q = 0.016\n",
    "    bottom_q = 0.000\n",
    "    q_norm = (q.q[0:begin,0:end].values)/(top_q - bottom_q)\n",
    "    q_norm_av = (q.q[0:begin,0:end].values)/(top_q - bottom_q)\n",
    "\n",
    "    flc_index = diff_norm*q_norm\n",
    "\n",
    "    #---Building the xarray dataset\n",
    "    \n",
    "    row_meshgrid, col_meshgrid = np.meshgrid(dims.latitude, dims.longitude, indexing='ij')\n",
    "\n",
    "    ds = xr.Dataset(\n",
    "        data_vars=dict(\n",
    "            flc_index=([\"x\",\"y\"], flc_index)\n",
    "        ),\n",
    "        coords=dict(\n",
    "            latitude=([\"x\",\"y\"], row_meshgrid),\n",
    "            longitude=([\"x\",\"y\"], col_meshgrid),\n",
    "        ),\n",
    "        attrs=dict(description=\"FLC index in the designated region\"),\n",
    "    )\n",
    "    \n",
    "    ds = ds.expand_dims(dim={\"time\": 1})\n",
    "    \n",
    "    return ds"
   ]
  },
  {
   "cell_type": "markdown",
   "id": "41a8c2b6",
   "metadata": {},
   "source": [
    "Add the datetimes in here, set to the year in question: "
   ]
  },
  {
   "cell_type": "code",
   "execution_count": null,
   "id": "aaa262f6",
   "metadata": {},
   "outputs": [],
   "source": [
    "FLC_3d_xarray = []\n",
    "dates = []\n",
    "\n",
    "for filename in os.listdir(root):\n",
    "    #print(filename)\n",
    "    if (filename[0:4] == '2023'): \n",
    "        FLC_3d_xarray.append(FLC_warn_xarray(filename))\n",
    "        \n",
    "        dates.append(datetime.datetime(int(filename[0:4]), int(filename[4:6]), int(filename[6:8])))\n",
    "    "
   ]
  },
  {
   "cell_type": "code",
   "execution_count": null,
   "id": "b9d669a9",
   "metadata": {},
   "outputs": [],
   "source": [
    "da_concat = xr.concat(FLC_3d_xarray, pd.Index(dates, name='time'))"
   ]
  },
  {
   "cell_type": "code",
   "execution_count": null,
   "id": "9ff68a97",
   "metadata": {},
   "outputs": [],
   "source": [
    "tot = da_concat.sum(dim='time')"
   ]
  },
  {
   "cell_type": "code",
   "execution_count": null,
   "id": "b58fbe00",
   "metadata": {},
   "outputs": [],
   "source": [
    "flc_above = tot.flc_index.where(tot.flc_index > 0.15)"
   ]
  },
  {
   "cell_type": "code",
   "execution_count": null,
   "id": "be9665ed",
   "metadata": {},
   "outputs": [],
   "source": [
    "projection=ccrs.PlateCarree()\n",
    "fig,ax=plt.subplots(1, figsize=(12,12),subplot_kw={'projection': projection})\n",
    "cmap = plt.cm.cool\n",
    "levels = np.linspace(0, np.amax(flc_above), 21)\n",
    "\n",
    "ax.coastlines(resolution='110m')\n",
    "ax.add_feature(cfeature.BORDERS)\n",
    "c=ax.contourf(flc_above.longitude[0,:], flc_above.latitude[:,0], flc_above, cmap=cmap, levels=levels, extend='both')\n",
    "clb=plt.colorbar(c, shrink=0.3, pad=0.02, ax=ax)\n",
    "ax.set_title('Total FLC Index > 0.15')\n",
    "clb.set_label('Total FLC')"
   ]
  },
  {
   "cell_type": "code",
   "execution_count": null,
   "id": "ec63ca9f",
   "metadata": {
    "scrolled": false
   },
   "outputs": [],
   "source": [
    "projection=ccrs.PlateCarree()\n",
    "fig,ax=plt.subplots(1, figsize=(12,12),subplot_kw={'projection': projection})\n",
    "cmap = plt.cm.Spectral_r\n",
    "levels = np.linspace(-np.amax(tot.flc_index), np.amax(tot.flc_index), 35)\n",
    "#---since Central America values are negative\n",
    "#levels = np.linspace(-12, 12, 71)\n",
    "\n",
    "c=ax.contourf(tot.longitude[0,:], tot.latitude[:,0], tot.flc_index, cmap=cmap, levels=levels, extend='both')\n",
    "\n",
    "#---hacky way of adding white = 0\n",
    "#------causes issues with cropping\n",
    "# white_levels = [-.1,.1]\n",
    "# c_white=ax.contourf(tot.longitude[0,:], tot.latitude[:,0], tot.flc_index, levels=white_levels, colors='w')\n",
    "\n",
    "clb=plt.colorbar(c, shrink=0.3, pad=0.02, ax=ax)\n",
    "ax.set_title('Total FLC Index')\n",
    "clb.set_label('Total FLC')\n",
    "\n",
    "#ax.coastlines(resolution='110m')\n",
    "#ax.add_feature(cfeature.BORDERS)\n",
    "ax.add_feature(cfeature.STATES)\n",
    "\n",
    "#plt.savefig('/Users/jturner/Downloads/total_flc_index_CentralAmerica.png', dpi=300)"
   ]
  },
  {
   "cell_type": "code",
   "execution_count": null,
   "id": "469fe4a0",
   "metadata": {},
   "outputs": [],
   "source": [
    "flc_above = []\n",
    "da_tot_area = []\n",
    "flc_above = da_concat.flc_index.where(da_concat.flc_index > 0.1)\n",
    "da_tot_area = flc_above.sum(dim='x').sum(dim='y')\n",
    "\n",
    "plt.bar(da_tot_area['time'], da_tot_area)\n",
    "\n",
    "# add labels and title\n",
    "plt.xlabel('Date')\n",
    "plt.ylabel('Total Pixels with FLC')\n",
    "plt.title('FLC Warnings (Georges Bank)')\n",
    "plt.xticks(rotation=45)\n",
    "\n",
    "plt.tight_layout()\n",
    "#plt.savefig('/Users/jturner/Downloads/total_flc_index_bar_NortheastUS.png', dpi=300)"
   ]
  },
  {
   "cell_type": "code",
   "execution_count": null,
   "id": "626d3121",
   "metadata": {},
   "outputs": [],
   "source": [
    "da_tot_area[da_tot_area == da_tot_area.max()]"
   ]
  },
  {
   "cell_type": "code",
   "execution_count": null,
   "id": "ac216ab1",
   "metadata": {},
   "outputs": [],
   "source": []
  }
 ],
 "metadata": {
  "kernelspec": {
   "display_name": "Python 3 (ipykernel)",
   "language": "python",
   "name": "python3"
  },
  "language_info": {
   "codemirror_mode": {
    "name": "ipython",
    "version": 3
   },
   "file_extension": ".py",
   "mimetype": "text/x-python",
   "name": "python",
   "nbconvert_exporter": "python",
   "pygments_lexer": "ipython3",
   "version": "3.9.0"
  }
 },
 "nbformat": 4,
 "nbformat_minor": 5
}
