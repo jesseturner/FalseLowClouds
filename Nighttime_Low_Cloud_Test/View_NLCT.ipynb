{
 "cells": [
  {
   "cell_type": "code",
   "execution_count": null,
   "id": "ba5501c7",
   "metadata": {},
   "outputs": [],
   "source": [
    "import xarray as xr\n",
    "import matplotlib.pyplot as plt\n",
    "import cartopy.crs as ccrs\n",
    "import cartopy.feature as cfeature\n",
    "import pickle\n",
    "import numpy as np\n",
    "import os\n",
    "import io\n",
    "import imageio"
   ]
  },
  {
   "cell_type": "code",
   "execution_count": null,
   "id": "959c97d7",
   "metadata": {},
   "outputs": [],
   "source": [
    "date = \"20230912\"\n",
    "nlct_path = \"nlct_data/\"+date+\"/\""
   ]
  },
  {
   "cell_type": "markdown",
   "id": "a82710ec-bcdd-488f-8619-1f45f1fc921c",
   "metadata": {},
   "source": [
    "### Plot image"
   ]
  },
  {
   "cell_type": "code",
   "execution_count": null,
   "id": "02650ec2",
   "metadata": {},
   "outputs": [],
   "source": [
    "filename = 'goes_e_ntlc_'+date[0:4]+'_'+date[4:6]+'_'+date[6:8]+'_00H_00M'\n",
    "\n",
    "file = open(nlct_path+filename, 'rb')\n",
    "BTD = pickle.load(file)\n",
    "file.close()"
   ]
  },
  {
   "cell_type": "code",
   "execution_count": null,
   "id": "748e3661-3e04-40e5-9b33-cae3996c93e3",
   "metadata": {},
   "outputs": [],
   "source": [
    "#---Northeast US\n",
    "# min_lon = -83\n",
    "# min_lat = 26\n",
    "# max_lon = -51\n",
    "# max_lat = 50\n",
    "\n",
    "#---Chilean Coast\n",
    "# min_lon = -95\n",
    "# min_lat = -37\n",
    "# max_lon = -65\n",
    "# max_lat = -10\n",
    "\n",
    "#--- Oaxaca\n",
    "# min_lon = -109\n",
    "# min_lat = 10\n",
    "# max_lon = -81\n",
    "# max_lat = 24\n",
    "\n",
    "#---Georges Bank\n",
    "min_lon = -71.5\n",
    "min_lat = 37\n",
    "max_lon = -64\n",
    "max_lat = 42.5"
   ]
  },
  {
   "cell_type": "code",
   "execution_count": null,
   "id": "0e28b7e5-0439-41d6-a430-eebdaf5dfe11",
   "metadata": {},
   "outputs": [],
   "source": [
    "BTD_masked = BTD[0].where(BTD[0] >= 0, 0)"
   ]
  },
  {
   "cell_type": "code",
   "execution_count": null,
   "id": "d28f0913",
   "metadata": {
    "tags": []
   },
   "outputs": [],
   "source": [
    "projection=ccrs.PlateCarree()\n",
    "fig,ax=plt.subplots(1, figsize=(12,12),subplot_kw={'projection': projection})\n",
    "cmap = plt.cm.PuBu\n",
    "levels = np.linspace(0, 6, 11)\n",
    "\n",
    "ax.set_extent([min_lon, max_lon, min_lat, max_lat])\n",
    "c=ax.contourf(BTD.lon, BTD.lat, BTD[0], cmap=cmap, extend='neither', levels=levels)\n",
    "clb=plt.colorbar(c, shrink=0.3, pad=0.02, ax=ax)\n",
    "ax.set_title('Nighttime Low Cloud Test (11-3.9 $\\mu$m) ('+filename[12:]+')')\n",
    "clb.set_label('BTD (K)')\n",
    "\n",
    "ax.coastlines(resolution='50m', color='black', linewidth=1)"
   ]
  },
  {
   "cell_type": "markdown",
   "id": "e90b072c-123a-4a16-9da1-539e7c08fcaa",
   "metadata": {},
   "source": [
    "### Create Animation"
   ]
  },
  {
   "cell_type": "code",
   "execution_count": null,
   "id": "323e421c-1e0f-4afe-a731-f05d0ae1264e",
   "metadata": {},
   "outputs": [],
   "source": [
    "def create_frame(filename):\n",
    "    \n",
    "    #---Open Band 07 file\n",
    "    file = open(nlct_path+filename, 'rb')\n",
    "    BT = pickle.load(file)\n",
    "    file.close()\n",
    "    \n",
    "    #---Crop image to the region of interest\n",
    "    BT_c = BT.where((BT.lat>min_lat) & (BT.lat<max_lat) & (BT.lon>min_lon) & (BT.lon<max_lon))\n",
    "    BT_c = BT_c.dropna(dim=\"y\", how=\"all\")\n",
    "    BT_c = BT_c.dropna(dim=\"x\", how=\"all\")\n",
    "    \n",
    "    #---Set positive values to zero\n",
    "    BTD_c = BT_c[0].where(BT_c[0] >= 0, 0)\n",
    "    \n",
    "    #---Create figure for timestamp\n",
    "    projection=ccrs.PlateCarree()\n",
    "    fig,ax=plt.subplots(1, figsize=(12,12),subplot_kw={'projection': projection})\n",
    "    cmap = plt.cm.PuBu\n",
    "    \n",
    "    c=ax.contourf(BT_c.lon, BT_c.lat, BT_c[0], cmap=cmap, levels=levels)\n",
    "    clb=plt.colorbar(c, shrink=0.3, pad=0.02, ax=ax)\n",
    "    datetime = filename[12:]\n",
    "    ax.set_title('ABI NLCT ('+datetime+')', fontsize=30)\n",
    "    clb.set_label('BTD (K)')\n",
    "    ax.add_feature(cfeature.STATES)\n",
    "\n",
    "    # Save the current figure to a BytesIO buffer\n",
    "    buf = io.BytesIO()\n",
    "    plt.savefig(buf, format='png')\n",
    "    buf.seek(0)\n",
    "    \n",
    "    fig.subplots_adjust(left=0, bottom=0, right=1, top=1, wspace=None, hspace=None)\n",
    "\n",
    "\n",
    "    # Read the BytesIO buffer and return as an image\n",
    "    frame = imageio.imread(buf)\n",
    "\n",
    "    # Clear the current figure to avoid overlapping plots\n",
    "    plt.clf()\n",
    "\n",
    "    return frame"
   ]
  },
  {
   "cell_type": "code",
   "execution_count": null,
   "id": "37ca844e-1642-47fd-b687-627dc69b635e",
   "metadata": {},
   "outputs": [],
   "source": [
    "file_list = os.listdir(nlct_path)\n",
    "file_list.sort()\n",
    "\n",
    "anim_list = []\n",
    "\n",
    "for filename in file_list:\n",
    "    #---Add to only view 'top of the hour'\n",
    "    #if filename.endswith(\"00M\"):\n",
    "    anim_list.append(filename)"
   ]
  },
  {
   "cell_type": "code",
   "execution_count": null,
   "id": "95f4328c-1836-4944-bd52-35fa452c5a8c",
   "metadata": {},
   "outputs": [],
   "source": [
    "anim_list"
   ]
  },
  {
   "cell_type": "code",
   "execution_count": null,
   "id": "44f33e20-c298-4dd9-8be8-e08b2fe09914",
   "metadata": {},
   "outputs": [],
   "source": [
    "frames = []\n",
    "for filename in anim_list:\n",
    "    frame = create_frame(filename)\n",
    "    frames.append(frame)"
   ]
  },
  {
   "cell_type": "code",
   "execution_count": null,
   "id": "206993a5-4283-4d69-8a0b-7b5a6d2533bc",
   "metadata": {},
   "outputs": [],
   "source": [
    "duration = 500 #ms\n",
    "\n",
    "imageio.mimsave('nlct_'+nlct_path[10:18]+'.gif', frames, loop=0, duration=duration)"
   ]
  },
  {
   "cell_type": "code",
   "execution_count": null,
   "id": "15a6badb-e8a2-4b0c-8978-4a6ed8c22f31",
   "metadata": {},
   "outputs": [],
   "source": []
  },
  {
   "cell_type": "code",
   "execution_count": null,
   "id": "d21494d0-c6bc-4feb-8fac-2719a80e1344",
   "metadata": {},
   "outputs": [],
   "source": []
  }
 ],
 "metadata": {
  "kernelspec": {
   "display_name": "Python 3 (ipykernel)",
   "language": "python",
   "name": "python3"
  },
  "language_info": {
   "codemirror_mode": {
    "name": "ipython",
    "version": 3
   },
   "file_extension": ".py",
   "mimetype": "text/x-python",
   "name": "python",
   "nbconvert_exporter": "python",
   "pygments_lexer": "ipython3",
   "version": "3.9.0"
  }
 },
 "nbformat": 4,
 "nbformat_minor": 5
}
