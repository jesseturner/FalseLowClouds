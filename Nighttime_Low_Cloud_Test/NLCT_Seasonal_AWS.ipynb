{
 "cells": [
  {
   "cell_type": "markdown",
   "id": "e45ece16-6514-45a8-8e61-a893d76fd556",
   "metadata": {},
   "source": [
    "## seasonal patterns of NLCT events"
   ]
  },
  {
   "cell_type": "markdown",
   "id": "e70dbaeb-4594-4408-ba40-6e2e1936a68b",
   "metadata": {},
   "source": [
    "* 2023 Dec 22: fixed to only ingest NCLT data in netcdf form (previously would use picked xarray data)"
   ]
  },
  {
   "cell_type": "code",
   "execution_count": 1,
   "id": "87a0a865-edbb-4b13-81ba-8deead148d5e",
   "metadata": {
    "tags": []
   },
   "outputs": [],
   "source": [
    "#---Cloud search libraries\n",
    "import s3fs\n",
    "import requests\n",
    "import fnmatch\n",
    "\n",
    "#---Data libraries\n",
    "import xarray as xr\n",
    "import netCDF4\n",
    "import numpy as np\n",
    "import datetime\n",
    "\n",
    "#---Plotting libraries\n",
    "import matplotlib.pyplot as plt\n",
    "import cartopy.crs as ccrs\n",
    "import cartopy.feature as cfeature"
   ]
  },
  {
   "cell_type": "code",
   "execution_count": 2,
   "id": "cea23fd5-8b70-4c8c-aa45-8aea3db2bb9b",
   "metadata": {},
   "outputs": [],
   "source": [
    "# import glob\n",
    "# import xarray as xr\n",
    "# import pickle\n",
    "# import cartopy.crs as ccrs\n",
    "# import cartopy.feature as cfeature\n",
    "# import matplotlib.pyplot as plt\n",
    "# import numpy as np"
   ]
  },
  {
   "cell_type": "markdown",
   "id": "727f9a92-d336-4acb-88b4-2958cfdf79a9",
   "metadata": {},
   "source": [
    "**Hooking up the AWS S3 buckets:**"
   ]
  },
  {
   "cell_type": "code",
   "execution_count": 3,
   "id": "894254f8-c94e-422d-ba73-9405045336ba",
   "metadata": {
    "tags": []
   },
   "outputs": [],
   "source": [
    "fs = s3fs.S3FileSystem(anon=True)"
   ]
  },
  {
   "cell_type": "markdown",
   "id": "386dc604-c9a4-4117-9fa2-23949aae83c0",
   "metadata": {},
   "source": [
    "**Set the datetime range of interest:**"
   ]
  },
  {
   "cell_type": "code",
   "execution_count": 4,
   "id": "dfb3eb08-becd-49fe-8d8c-33a1b3057424",
   "metadata": {
    "tags": []
   },
   "outputs": [],
   "source": [
    "year = 2023\n",
    "month = 1\n",
    "month_name = 'Jan'\n",
    "day_start = 1\n",
    "day_end = 31\n",
    "hour = 7"
   ]
  },
  {
   "cell_type": "markdown",
   "id": "ca577512-ae5c-4d97-aca4-2081f6bbbbc1",
   "metadata": {},
   "source": [
    "**Getting GOES-16 radiance data:**"
   ]
  },
  {
   "cell_type": "code",
   "execution_count": 5,
   "id": "2188bd13-2b6c-488d-b41c-0661b9c66097",
   "metadata": {
    "tags": []
   },
   "outputs": [],
   "source": [
    "bucket = 'noaa-goes16'\n",
    "product = 'ABI-L1b-RadF'"
   ]
  },
  {
   "cell_type": "markdown",
   "id": "207b165e-ea43-4c11-9e15-055175faaea1",
   "metadata": {},
   "source": [
    "**Gathering a month of top-of-the-hour data from ABI band 07 and band 14:**"
   ]
  },
  {
   "cell_type": "code",
   "execution_count": 6,
   "id": "219c817d-f43c-4526-94b3-4d66ef929a68",
   "metadata": {
    "tags": []
   },
   "outputs": [],
   "source": [
    "b07_data = []\n",
    "b14_data = []\n",
    "\n",
    "for i in range(day_end-(day_start-1)):\n",
    "    day = i+1\n",
    "    julian = datetime.datetime(year, month, day).strftime('%j')\n",
    "    data_path = bucket + '/' + product + '/'  + str(year) + '/' + str(julian).zfill(3) + '/' + str(hour).zfill(2)\n",
    "    files = fs.ls(data_path)\n",
    "    \n",
    "    files_b07 = [file for file in files if fnmatch.fnmatchcase(file.split('/')[-1], \"OR_ABI-L1b-RadF-M6C07\".zfill(2)+\"*\")]\n",
    "    files_b14 = [file for file in files if fnmatch.fnmatchcase(file.split('/')[-1], \"OR_ABI-L1b-RadF-M6C14\".zfill(2)+\"*\")]\n",
    "\n",
    "    #---index of 0 to get top-of-the-hour\n",
    "    b07_data.append(files_b07[0])\n",
    "    b14_data.append(files_b07[0])"
   ]
  },
  {
   "cell_type": "code",
   "execution_count": 7,
   "id": "ef078844-e997-4c84-8bb6-10ec5fbc6f3d",
   "metadata": {
    "tags": []
   },
   "outputs": [
    {
     "data": {
      "text/plain": [
       "['noaa-goes16/ABI-L1b-RadF/2023/001/07/OR_ABI-L1b-RadF-M6C07_G16_s20230010700208_e20230010709529_c20230010709574.nc',\n",
       " 'noaa-goes16/ABI-L1b-RadF/2023/002/07/OR_ABI-L1b-RadF-M6C07_G16_s20230020700209_e20230020709530_c20230020709566.nc',\n",
       " 'noaa-goes16/ABI-L1b-RadF/2023/003/07/OR_ABI-L1b-RadF-M6C07_G16_s20230030700209_e20230030709529_c20230030709549.nc',\n",
       " 'noaa-goes16/ABI-L1b-RadF/2023/004/07/OR_ABI-L1b-RadF-M6C07_G16_s20230040700210_e20230040709529_c20230040709548.nc',\n",
       " 'noaa-goes16/ABI-L1b-RadF/2023/005/07/OR_ABI-L1b-RadF-M6C07_G16_s20230050700210_e20230050709530_c20230050709551.nc',\n",
       " 'noaa-goes16/ABI-L1b-RadF/2023/006/07/OR_ABI-L1b-RadF-M6C07_G16_s20230060700211_e20230060709535_c20230060709560.nc',\n",
       " 'noaa-goes16/ABI-L1b-RadF/2023/007/07/OR_ABI-L1b-RadF-M6C07_G16_s20230070700211_e20230070709533_c20230070709571.nc',\n",
       " 'noaa-goes16/ABI-L1b-RadF/2023/008/07/OR_ABI-L1b-RadF-M6C07_G16_s20230080700205_e20230080709525_c20230080709570.nc',\n",
       " 'noaa-goes16/ABI-L1b-RadF/2023/009/07/OR_ABI-L1b-RadF-M6C07_G16_s20230090700205_e20230090709528_c20230090709577.nc',\n",
       " 'noaa-goes16/ABI-L1b-RadF/2023/010/07/OR_ABI-L1b-RadF-M6C07_G16_s20230100700206_e20230100709526_c20230100709589.nc',\n",
       " 'noaa-goes16/ABI-L1b-RadF/2023/011/07/OR_ABI-L1b-RadF-M6C07_G16_s20230110700206_e20230110709530_c20230110709566.nc',\n",
       " 'noaa-goes16/ABI-L1b-RadF/2023/012/07/OR_ABI-L1b-RadF-M6C07_G16_s20230120700207_e20230120709526_c20230120709571.nc',\n",
       " 'noaa-goes16/ABI-L1b-RadF/2023/013/07/OR_ABI-L1b-RadF-M6C07_G16_s20230130700207_e20230130709529_c20230130709566.nc',\n",
       " 'noaa-goes16/ABI-L1b-RadF/2023/014/07/OR_ABI-L1b-RadF-M6C07_G16_s20230140700208_e20230140709532_c20230140709572.nc',\n",
       " 'noaa-goes16/ABI-L1b-RadF/2023/015/07/OR_ABI-L1b-RadF-M6C07_G16_s20230150700208_e20230150709532_c20230150709574.nc',\n",
       " 'noaa-goes16/ABI-L1b-RadF/2023/016/07/OR_ABI-L1b-RadF-M6C07_G16_s20230160700209_e20230160709528_c20230160709581.nc',\n",
       " 'noaa-goes16/ABI-L1b-RadF/2023/017/07/OR_ABI-L1b-RadF-M6C07_G16_s20230170700209_e20230170709530_c20230170709570.nc',\n",
       " 'noaa-goes16/ABI-L1b-RadF/2023/018/07/OR_ABI-L1b-RadF-M6C07_G16_s20230180700210_e20230180709530_c20230180709579.nc',\n",
       " 'noaa-goes16/ABI-L1b-RadF/2023/019/07/OR_ABI-L1b-RadF-M6C07_G16_s20230190700210_e20230190709534_c20230190709578.nc',\n",
       " 'noaa-goes16/ABI-L1b-RadF/2023/020/07/OR_ABI-L1b-RadF-M6C07_G16_s20230200700211_e20230200709534_c20230200709570.nc',\n",
       " 'noaa-goes16/ABI-L1b-RadF/2023/021/07/OR_ABI-L1b-RadF-M6C07_G16_s20230210700211_e20230210709531_c20230210709584.nc',\n",
       " 'noaa-goes16/ABI-L1b-RadF/2023/022/07/OR_ABI-L1b-RadF-M6C07_G16_s20230220700205_e20230220709527_c20230220709560.nc',\n",
       " 'noaa-goes16/ABI-L1b-RadF/2023/023/07/OR_ABI-L1b-RadF-M6C07_G16_s20230230700205_e20230230709525_c20230230709566.nc',\n",
       " 'noaa-goes16/ABI-L1b-RadF/2023/024/07/OR_ABI-L1b-RadF-M6C07_G16_s20230240700206_e20230240709526_c20230240709565.nc',\n",
       " 'noaa-goes16/ABI-L1b-RadF/2023/025/07/OR_ABI-L1b-RadF-M6C07_G16_s20230250700206_e20230250709531_c20230250709552.nc',\n",
       " 'noaa-goes16/ABI-L1b-RadF/2023/026/07/OR_ABI-L1b-RadF-M6C07_G16_s20230260700207_e20230260709528_c20230260709563.nc',\n",
       " 'noaa-goes16/ABI-L1b-RadF/2023/027/07/OR_ABI-L1b-RadF-M6C07_G16_s20230270700207_e20230270709528_c20230270709571.nc',\n",
       " 'noaa-goes16/ABI-L1b-RadF/2023/028/07/OR_ABI-L1b-RadF-M6C07_G16_s20230280700208_e20230280709532_c20230280709552.nc',\n",
       " 'noaa-goes16/ABI-L1b-RadF/2023/029/07/OR_ABI-L1b-RadF-M6C07_G16_s20230290700208_e20230290709528_c20230290710001.nc',\n",
       " 'noaa-goes16/ABI-L1b-RadF/2023/030/07/OR_ABI-L1b-RadF-M6C07_G16_s20230300700208_e20230300709530_c20230300709550.nc',\n",
       " 'noaa-goes16/ABI-L1b-RadF/2023/031/07/OR_ABI-L1b-RadF-M6C07_G16_s20230310700209_e20230310709528_c20230310709576.nc']"
      ]
     },
     "execution_count": 7,
     "metadata": {},
     "output_type": "execute_result"
    }
   ],
   "source": [
    "b07_data"
   ]
  },
  {
   "cell_type": "markdown",
   "id": "858d8985-0928-4eae-bd46-0297b73f6235",
   "metadata": {},
   "source": [
    "# Below this is all old code:"
   ]
  },
  {
   "cell_type": "markdown",
   "id": "59ef65d6-87e1-4103-8952-876d768f4bf5",
   "metadata": {},
   "source": [
    "Creating seasonal average for month: "
   ]
  },
  {
   "cell_type": "code",
   "execution_count": null,
   "id": "ab35c4db-540e-4660-a3d8-1cd5ca7f60ab",
   "metadata": {},
   "outputs": [],
   "source": [
    "files = sorted(glob.glob(nlct_path+'202?'+month+'*/*'+hour+'H_00M.nc'))"
   ]
  },
  {
   "cell_type": "code",
   "execution_count": null,
   "id": "8e03ba40-5f95-47cf-b767-876844391f54",
   "metadata": {},
   "outputs": [],
   "source": [
    "for file in files: \n",
    "    print(file.split('/')[-2])\n",
    "\n",
    "count = len(files)\n",
    "print(count)"
   ]
  },
  {
   "cell_type": "markdown",
   "id": "0689f15e-8e34-4e9d-b3e7-387ae9c4b1f1",
   "metadata": {},
   "source": [
    "Each NLCT file is a saved xarray DataArray, they need the dictionary to be appended into a Dataset:"
   ]
  },
  {
   "cell_type": "code",
   "execution_count": null,
   "id": "c665295f-3b60-4f94-af2d-584d7c22c08e",
   "metadata": {
    "tags": []
   },
   "outputs": [],
   "source": [
    "datasets = []\n",
    "\n",
    "for file in files:\n",
    "    ds = xr.open_dataset(file)\n",
    "    ds['__xarray_dataarray_variable__'] = xr.where(ds['__xarray_dataarray_variable__'] < 0, 0, ds['__xarray_dataarray_variable__'])\n",
    "    datasets.append(ds)\n",
    "    \n",
    "nlct_ds = xr.concat(datasets, dim='time')"
   ]
  },
  {
   "cell_type": "code",
   "execution_count": null,
   "id": "fa432796-d2f1-4b6b-b1bf-db37324df698",
   "metadata": {},
   "outputs": [],
   "source": [
    "#--- No cropping\n",
    "# max_x = np.max(nlct_ds.x.values)\n",
    "# min_x = np.min(nlct_ds.x.values)\n",
    "# max_y = np.max(nlct_ds.y.values)\n",
    "# min_y = np.min(nlct_ds.y.values)\n",
    "\n",
    "#--- Oaxaca cropping adjustments\n",
    "max_x = np.max(nlct_ds.x.values) -0.025 \n",
    "min_x = np.min(nlct_ds.x.values) +0.025\n",
    "max_y = np.max(nlct_ds.y.values) -0.005\n",
    "min_y = np.min(nlct_ds.y.values) +0.005\n",
    "\n",
    "x_range = slice(min_x, max_x)\n",
    "y_range = slice(max_y, min_y)\n",
    "\n",
    "nlct_ds_sm = nlct_ds.sel(x=x_range, y=y_range)"
   ]
  },
  {
   "cell_type": "code",
   "execution_count": null,
   "id": "6b225270-32fd-47a7-a951-d4046e5f6c66",
   "metadata": {},
   "outputs": [],
   "source": [
    "btd_tot = nlct_ds_sm['__xarray_dataarray_variable__'].sum(dim='time')\n",
    "btd_mean = btd_tot/count"
   ]
  },
  {
   "cell_type": "code",
   "execution_count": null,
   "id": "61b26edb-b17c-4ef0-8987-61d8cbd4b1ab",
   "metadata": {},
   "outputs": [],
   "source": [
    "overall_mean = btd_mean.mean(dim='y')\n",
    "overall_mean = overall_mean.mean(dim='x')"
   ]
  },
  {
   "cell_type": "code",
   "execution_count": null,
   "id": "8030bac0-e1b4-459c-b377-9e5f24cbb9d4",
   "metadata": {},
   "outputs": [],
   "source": [
    "high_lim = overall_mean.values\n",
    "low_lim = overall_mean.values"
   ]
  },
  {
   "cell_type": "code",
   "execution_count": null,
   "id": "d133e44a-2ecd-46d6-b7b1-4f5e540859e3",
   "metadata": {},
   "outputs": [],
   "source": [
    "projection=ccrs.PlateCarree()\n",
    "fig,ax=plt.subplots(1, figsize=(12,12),subplot_kw={'projection': projection})\n",
    "cmap = plt.cm.Spectral_r\n",
    "levels = np.linspace(0, 1, 21)\n",
    "\n",
    "#--- Falklands needs set extent\n",
    "# min_lon = -75\n",
    "# min_lat = -58\n",
    "# max_lon = -50\n",
    "# max_lat = -35\n",
    "# ax.set_extent([min_lon, max_lon, min_lat, max_lat])\n",
    "\n",
    "c=ax.contourf(btd_mean.lon, btd_mean.lat, btd_mean, cmap=cmap, extend='both', levels=levels)\n",
    "clb=plt.colorbar(c, shrink=0.3, pad=0.02, ax=ax)\n",
    "ax.set_title('Average '+month_name+' NLCT Positive BTD (2022-2023)', fontsize=24)\n",
    "clb.set_label('BTD (K)')\n",
    "\n",
    "ax.add_feature(cfeature.STATES)\n",
    "ax.add_feature(cfeature.BORDERS)\n",
    "ax.add_feature(cfeature.COASTLINE)\n",
    "\n",
    "#plt.savefig('NLCT_Seasonal/'+month_name+'_nclt.png', bbox_inches='tight')"
   ]
  },
  {
   "cell_type": "markdown",
   "id": "22cfc2c9-1c4e-4916-b054-191fe507729f",
   "metadata": {},
   "source": [
    "### Running climatology for multiple months"
   ]
  },
  {
   "cell_type": "code",
   "execution_count": null,
   "id": "19e33c41-61b3-4c39-afcf-18e5fc334d61",
   "metadata": {},
   "outputs": [],
   "source": [
    "def Calc_BTD_mean(month_id):\n",
    "    \n",
    "    #--- Create month number\n",
    "    month_num = str(month_id+1).zfill(2)\n",
    "    \n",
    "    print(month_num)\n",
    "    files = sorted(glob.glob(nlct_path+'202?'+month_num+'*/*'+hour+'H_00M.nc'))\n",
    "    count = len(files)\n",
    "    datasets = []\n",
    "\n",
    "    for file in files:\n",
    "        ds = xr.open_dataset(file)\n",
    "        #--- Set negative values to zero\n",
    "        ds['__xarray_dataarray_variable__'] = xr.where(ds['__xarray_dataarray_variable__'] < 0, 0, ds['__xarray_dataarray_variable__'])\n",
    "        datasets.append(ds)\n",
    "\n",
    "    nlct_ds = xr.concat(datasets, dim='time')\n",
    "    nlct_ds_sm = nlct_ds.sel(x=x_range, y=y_range)\n",
    "    btd_tot = nlct_ds_sm['__xarray_dataarray_variable__'].sum(dim='time')\n",
    "    btd_mean = btd_tot/count\n",
    "    \n",
    "    return btd_mean"
   ]
  },
  {
   "cell_type": "markdown",
   "id": "8c29bd02-df58-46f2-ba27-b32ed5a43620",
   "metadata": {},
   "source": [
    "Throws an error if there is not data for each month\n",
    "\n",
    "Settings for Gulf Stream: \n",
    "* num_rows = 6\n",
    "* num_cols = 2\n",
    "* figsize = (12, 16)"
   ]
  },
  {
   "cell_type": "code",
   "execution_count": null,
   "id": "4f3b421e-6ffd-48f3-8343-7b2b46658c80",
   "metadata": {},
   "outputs": [],
   "source": [
    "months = ['Jan', 'Feb', 'Mar', 'Apr', 'May', 'Jun', 'Jul', 'Aug', 'Sep', 'Oct', 'Nov', 'Dec']\n",
    "\n",
    "#--- Calculate the number of rows and columns for the subplots\n",
    "num_months = len(months)\n",
    "num_rows = int(num_months**0.5)\n",
    "num_cols = (num_months + num_rows - 1) // num_rows\n",
    "\n",
    "#--- Create a figure and an array of subplots\n",
    "projection=ccrs.PlateCarree()\n",
    "fig, axes = plt.subplots(num_rows, num_cols, figsize=(12, 16), subplot_kw={'projection': projection})\n",
    "cmap = plt.cm.Spectral_r\n",
    "levels = np.linspace(0, 1, 21)\n",
    "\n",
    "#--- Flatten the 2D array of subplots to simplify indexing\n",
    "axes = axes.flatten()\n",
    "\n",
    "#--- Falklands needs set extent\n",
    "# min_lon = -75\n",
    "# min_lat = -58\n",
    "# max_lon = -50\n",
    "# max_lat = -35\n",
    "\n",
    "for i, month in enumerate(months):\n",
    "    #--- Falklands needs set extent\n",
    "    #axes[i].set_extent([min_lon, max_lon, min_lat, max_lat])\n",
    "    \n",
    "    btd_mean = Calc_BTD_mean(i)\n",
    "    c=axes[i].contourf(btd_mean.lon, btd_mean.lat, btd_mean, cmap=cmap, extend='both', levels=levels)\n",
    "    axes[i].set_title(month, fontsize=14)\n",
    "    axes[i].add_feature(cfeature.STATES)\n",
    "    axes[i].add_feature(cfeature.BORDERS)\n",
    "    axes[i].add_feature(cfeature.COASTLINE)\n",
    "\n",
    "    \n",
    "cbar = plt.colorbar(c, ax=axes, orientation='vertical', fraction=0.02, pad=0.1)\n",
    "cbar.set_label('BTD (K)')  \n",
    "\n",
    "    \n",
    "fig.suptitle('Composite NLCT Positive BTD (2022-2023)', fontsize=24)\n",
    "fig.set_dpi(200)\n",
    "plt.savefig('nclt_seasonal_'+region+'.png', dpi=200, bbox_inches='tight')"
   ]
  },
  {
   "cell_type": "code",
   "execution_count": null,
   "id": "502c7168-6001-4ea2-a1ab-098a8eb9b1d4",
   "metadata": {},
   "outputs": [],
   "source": []
  },
  {
   "cell_type": "code",
   "execution_count": null,
   "id": "431b38f8-2b20-4556-9ae3-983b970c1079",
   "metadata": {},
   "outputs": [],
   "source": []
  },
  {
   "cell_type": "code",
   "execution_count": null,
   "id": "08aeef0a-9aba-4566-b153-fc5bbf798cbc",
   "metadata": {},
   "outputs": [],
   "source": []
  }
 ],
 "metadata": {
  "kernelspec": {
   "display_name": "Python 3 (ipykernel)",
   "language": "python",
   "name": "python3"
  },
  "language_info": {
   "codemirror_mode": {
    "name": "ipython",
    "version": 3
   },
   "file_extension": ".py",
   "mimetype": "text/x-python",
   "name": "python",
   "nbconvert_exporter": "python",
   "pygments_lexer": "ipython3",
   "version": "3.11.7"
  }
 },
 "nbformat": 4,
 "nbformat_minor": 5
}
