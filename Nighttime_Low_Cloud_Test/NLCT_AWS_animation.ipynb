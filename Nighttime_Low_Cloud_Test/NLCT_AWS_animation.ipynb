{
 "cells": [
  {
   "cell_type": "markdown",
   "id": "e45ece16-6514-45a8-8e61-a893d76fd556",
   "metadata": {},
   "source": [
    "# NLCT (11-3.9um BTD) visualized"
   ]
  },
  {
   "cell_type": "markdown",
   "id": "558ca3ac-4931-42c6-8fa0-3cb73b54f01c",
   "metadata": {},
   "source": [
    "### Can visualize the daily NLCT, or the longterm average. Data is accessed from Amazon Web Solutions."
   ]
  },
  {
   "cell_type": "code",
   "execution_count": 1,
   "id": "87a0a865-edbb-4b13-81ba-8deead148d5e",
   "metadata": {
    "tags": []
   },
   "outputs": [],
   "source": [
    "#---Cloud search libraries\n",
    "import s3fs\n",
    "import requests\n",
    "import fnmatch\n",
    "\n",
    "#---Data libraries\n",
    "import xarray as xr\n",
    "import netCDF4\n",
    "import numpy as np\n",
    "import datetime\n",
    "\n",
    "#---Plotting libraries\n",
    "import matplotlib.pyplot as plt\n",
    "import cartopy.crs as ccrs\n",
    "import cartopy.feature as cfeature\n",
    "import io\n",
    "import imageio"
   ]
  },
  {
   "cell_type": "markdown",
   "id": "727f9a92-d336-4acb-88b4-2958cfdf79a9",
   "metadata": {},
   "source": [
    "**Hooking up the AWS S3 buckets:**"
   ]
  },
  {
   "cell_type": "code",
   "execution_count": 2,
   "id": "894254f8-c94e-422d-ba73-9405045336ba",
   "metadata": {
    "tags": []
   },
   "outputs": [],
   "source": [
    "fs = s3fs.S3FileSystem(anon=True)"
   ]
  },
  {
   "cell_type": "markdown",
   "id": "386dc604-c9a4-4117-9fa2-23949aae83c0",
   "metadata": {},
   "source": [
    "**Set the datetime range of interest:**"
   ]
  },
  {
   "cell_type": "code",
   "execution_count": 3,
   "id": "dfb3eb08-becd-49fe-8d8c-33a1b3057424",
   "metadata": {
    "tags": []
   },
   "outputs": [],
   "source": [
    "year = 2023\n",
    "month = 9\n",
    "month_name = 'Sep'\n",
    "day_start = 15\n",
    "day_end = 16\n",
    "hour = 6"
   ]
  },
  {
   "cell_type": "markdown",
   "id": "ca577512-ae5c-4d97-aca4-2081f6bbbbc1",
   "metadata": {},
   "source": [
    "**Getting GOES-16 radiance data:**"
   ]
  },
  {
   "cell_type": "code",
   "execution_count": 4,
   "id": "2188bd13-2b6c-488d-b41c-0661b9c66097",
   "metadata": {
    "tags": []
   },
   "outputs": [],
   "source": [
    "bucket = 'noaa-goes16'\n",
    "product = 'ABI-L1b-RadF'"
   ]
  },
  {
   "cell_type": "markdown",
   "id": "207b165e-ea43-4c11-9e15-055175faaea1",
   "metadata": {},
   "source": [
    "**Gathering a month of top-of-the-hour data from ABI band 07 and band 14:**"
   ]
  },
  {
   "cell_type": "code",
   "execution_count": 5,
   "id": "1c83d0c1-b5af-4b9b-8399-486180942ff7",
   "metadata": {},
   "outputs": [
    {
     "data": {
      "text/plain": [
       "range(0, 12)"
      ]
     },
     "execution_count": 5,
     "metadata": {},
     "output_type": "execute_result"
    }
   ],
   "source": [
    "range(day_end-(day_start-1))"
   ]
  },
  {
   "cell_type": "code",
   "execution_count": 6,
   "id": "219c817d-f43c-4526-94b3-4d66ef929a68",
   "metadata": {
    "tags": []
   },
   "outputs": [],
   "source": [
    "b07_data = []\n",
    "b14_data = []\n",
    "day = day_start\n",
    "\n",
    "for i in range(day_end-(day_start-1)):\n",
    "    julian = datetime.datetime(year, month, day).strftime('%j')\n",
    "    data_path = bucket + '/' + product + '/'  + str(year) + '/' + str(julian).zfill(3) + '/' + str(hour).zfill(2)\n",
    "    files = fs.ls(data_path)\n",
    "    \n",
    "    files_b07 = [file for file in files if fnmatch.fnmatchcase(file.split('/')[-1], \"OR_ABI-L1b-RadF-M6C07\".zfill(2)+\"*\")]\n",
    "    files_b14 = [file for file in files if fnmatch.fnmatchcase(file.split('/')[-1], \"OR_ABI-L1b-RadF-M6C14\".zfill(2)+\"*\")]\n",
    "\n",
    "    #---index of 0 to get top-of-the-hour\n",
    "    b07_data.append(files_b07[0])\n",
    "    b14_data.append(files_b14[0])\n",
    "\n",
    "    day = day+1"
   ]
  },
  {
   "cell_type": "code",
   "execution_count": 7,
   "id": "ef078844-e997-4c84-8bb6-10ec5fbc6f3d",
   "metadata": {
    "tags": []
   },
   "outputs": [
    {
     "data": {
      "text/plain": [
       "['noaa-goes16/ABI-L1b-RadF/2023/253/06/OR_ABI-L1b-RadF-M6C07_G16_s20232530600206_e20232530609526_c20232530609562.nc',\n",
       " 'noaa-goes16/ABI-L1b-RadF/2023/254/06/OR_ABI-L1b-RadF-M6C07_G16_s20232540600207_e20232540609527_c20232540609557.nc',\n",
       " 'noaa-goes16/ABI-L1b-RadF/2023/255/06/OR_ABI-L1b-RadF-M6C07_G16_s20232550600207_e20232550609526_c20232550609575.nc',\n",
       " 'noaa-goes16/ABI-L1b-RadF/2023/256/06/OR_ABI-L1b-RadF-M6C07_G16_s20232560600207_e20232560609526_c20232560609561.nc',\n",
       " 'noaa-goes16/ABI-L1b-RadF/2023/257/06/OR_ABI-L1b-RadF-M6C07_G16_s20232570600207_e20232570609526_c20232570609566.nc',\n",
       " 'noaa-goes16/ABI-L1b-RadF/2023/258/06/OR_ABI-L1b-RadF-M6C07_G16_s20232580600208_e20232580609530_c20232580609569.nc',\n",
       " 'noaa-goes16/ABI-L1b-RadF/2023/259/06/OR_ABI-L1b-RadF-M6C07_G16_s20232590600208_e20232590609528_c20232590609560.nc',\n",
       " 'noaa-goes16/ABI-L1b-RadF/2023/260/06/OR_ABI-L1b-RadF-M6C07_G16_s20232600600205_e20232600609524_c20232600609566.nc',\n",
       " 'noaa-goes16/ABI-L1b-RadF/2023/261/06/OR_ABI-L1b-RadF-M6C07_G16_s20232610600205_e20232610609525_c20232610609572.nc',\n",
       " 'noaa-goes16/ABI-L1b-RadF/2023/262/06/OR_ABI-L1b-RadF-M6C07_G16_s20232620600205_e20232620609525_c20232620609570.nc',\n",
       " 'noaa-goes16/ABI-L1b-RadF/2023/263/06/OR_ABI-L1b-RadF-M6C07_G16_s20232630600206_e20232630609526_c20232630609572.nc',\n",
       " 'noaa-goes16/ABI-L1b-RadF/2023/264/06/OR_ABI-L1b-RadF-M6C07_G16_s20232640600206_e20232640609526_c20232640609565.nc']"
      ]
     },
     "execution_count": 7,
     "metadata": {},
     "output_type": "execute_result"
    }
   ],
   "source": [
    "b07_data"
   ]
  },
  {
   "cell_type": "markdown",
   "id": "66be68cf-1812-4e51-8086-50f55be0394b",
   "metadata": {},
   "source": [
    "**Functions for calculating geostationary lat/lon:**"
   ]
  },
  {
   "cell_type": "code",
   "execution_count": 8,
   "id": "bff0246d-6ccd-4dca-95aa-b886aef33ef5",
   "metadata": {},
   "outputs": [],
   "source": [
    "def calc_latlon(ds):\n",
    "    # The math for this function was taken from \n",
    "    # https://makersportal.com/blog/2018/11/25/goes-r-satellite-latitude-and-longitude-grid-projection-algorithm\n",
    "    x = ds.x\n",
    "    y = ds.y\n",
    "    goes_imager_projection = ds.goes_imager_projection\n",
    "    \n",
    "    x,y = np.meshgrid(x,y)\n",
    "    \n",
    "    r_eq = goes_imager_projection.attrs[\"semi_major_axis\"]\n",
    "    r_pol = goes_imager_projection.attrs[\"semi_minor_axis\"]\n",
    "    l_0 = goes_imager_projection.attrs[\"longitude_of_projection_origin\"] * (np.pi/180)\n",
    "    h_sat = goes_imager_projection.attrs[\"perspective_point_height\"]\n",
    "    H = r_eq + h_sat\n",
    "    \n",
    "    a = np.sin(x)**2 + (np.cos(x)**2 * (np.cos(y)**2 + (r_eq**2 / r_pol**2) * np.sin(y)**2))\n",
    "    b = -2 * H * np.cos(x) * np.cos(y)\n",
    "    c = H**2 - r_eq**2\n",
    "    \n",
    "    #--- Added absolute to remove error\n",
    "    r_s = (-b - np.sqrt(np.absolute(b**2 - 4*a*c)))/(2*a)\n",
    "    \n",
    "    s_x = r_s * np.cos(x) * np.cos(y)\n",
    "    s_y = -r_s * np.sin(x)\n",
    "    s_z = r_s * np.cos(x) * np.sin(y)\n",
    "    \n",
    "    lat = np.arctan((r_eq**2 / r_pol**2) * (s_z / np.sqrt((H-s_x)**2 +s_y**2))) * (180/np.pi)\n",
    "    lon = (l_0 - np.arctan(s_y / (H-s_x))) * (180/np.pi)\n",
    "    \n",
    "    ds = ds.assign_coords({\n",
    "        \"lat\":([\"y\",\"x\"],lat),\n",
    "        \"lon\":([\"y\",\"x\"],lon)\n",
    "    })\n",
    "    ds.lat.attrs[\"units\"] = \"degrees_north\"\n",
    "    ds.lon.attrs[\"units\"] = \"degrees_east\"\n",
    "    return ds\n",
    "\n",
    "\n",
    "\n",
    "def get_xy_from_latlon(ds, lats, lons):\n",
    "    lat1, lat2 = lats\n",
    "    lon1, lon2 = lons\n",
    "\n",
    "    lat = ds.lat.data\n",
    "    lon = ds.lon.data\n",
    "    \n",
    "    x = ds.x.data\n",
    "    y = ds.y.data\n",
    "    \n",
    "    x,y = np.meshgrid(x,y)\n",
    "    \n",
    "    x = x[(lat >= lat1) & (lat <= lat2) & (lon >= lon1) & (lon <= lon2)]\n",
    "    y = y[(lat >= lat1) & (lat <= lat2) & (lon >= lon1) & (lon <= lon2)] \n",
    "    \n",
    "    return ((min(x), max(x)), (min(y), max(y)))"
   ]
  },
  {
   "cell_type": "markdown",
   "id": "b3a22337-4122-4c10-9ac8-a3b65f8e1012",
   "metadata": {},
   "source": [
    "**Setting the lat/lon range of the imagery:**"
   ]
  },
  {
   "cell_type": "code",
   "execution_count": 9,
   "id": "159794ba-06fa-4155-b745-9a27814f8158",
   "metadata": {},
   "outputs": [],
   "source": [
    "#--- Georges Bank\n",
    "min_lon = -71.5\n",
    "min_lat = 37\n",
    "max_lon = -64\n",
    "max_lat = 42.5\n",
    "\n",
    "#---Gulf Stream\n",
    "# min_lon = -77\n",
    "# min_lat = 33\n",
    "# max_lon = -50\n",
    "# max_lat = 45\n",
    "\n",
    "#--- Oaxaca\n",
    "# min_lon = -109\n",
    "# min_lat = 10\n",
    "# max_lon = -81\n",
    "# max_lat = 24\n",
    "\n",
    "lats = (min_lat, max_lat)\n",
    "lons = (min_lon, max_lon)"
   ]
  },
  {
   "cell_type": "markdown",
   "id": "b88b5cba-67bc-4765-99c8-442de1d763ce",
   "metadata": {},
   "source": [
    "**Function for creating the 11um - 3.9um BTD:**"
   ]
  },
  {
   "cell_type": "code",
   "execution_count": 10,
   "id": "29c9e10a-adf2-4092-bf84-b83f63d87b47",
   "metadata": {},
   "outputs": [],
   "source": [
    "def create_BTD(data_07, data_14, filename):\n",
    "\n",
    "    year = filename[27:31]\n",
    "    jul_day = filename[31:34]\n",
    "    h = filename[34:36]\n",
    "    m = filename[36:38]\n",
    "\n",
    "    print('Processing 07 band for '+year+'-'+jul_day+' '+h+':'+m)\n",
    "\n",
    "    ds_07 = calc_latlon(data_07)\n",
    "\n",
    "    ((x1,x2), (y1, y2)) = get_xy_from_latlon(ds_07, lats, lons)\n",
    "\n",
    "    subset_07 = ds_07.sel(x=slice(x1, x2), y=slice(y2, y1))\n",
    "\n",
    "    print('Processing 14 band for '+year+'-'+jul_day+' '+h+':'+m)\n",
    "\n",
    "    ds_14 = calc_latlon(data_14)\n",
    "\n",
    "    ((x1,x2), (y1, y2)) = get_xy_from_latlon(ds_14, lats, lons)\n",
    "\n",
    "    subset_14 = ds_14.sel(x=slice(x1, x2), y=slice(y2, y1))\n",
    "\n",
    "    #--- Calculate BTD and take product of the data over time\n",
    "    T_07 = (subset_07.planck_fk2/(np.log((subset_07.planck_fk1/subset_07.Rad)+1)) - subset_07.planck_bc1)/subset_07.planck_bc2\n",
    "    T_14 = (subset_14.planck_fk2/(np.log((subset_14.planck_fk1/subset_14.Rad)+1)) - subset_14.planck_bc1)/subset_14.planck_bc2\n",
    "\n",
    "    BTD = T_14 - T_07\n",
    "    \n",
    "    yr_m_d = datetime.datetime.strptime(year+jul_day, '%Y%j').date()\n",
    "    time_delta = datetime.timedelta(hours=int(h), minutes=int(m))\n",
    "    dt = datetime.datetime.combine(yr_m_d, datetime.datetime.min.time()) + time_delta\n",
    "    BTD = BTD.expand_dims({'time':[dt]})\n",
    "    \n",
    "    return BTD"
   ]
  },
  {
   "cell_type": "markdown",
   "id": "d09e8f3d-c060-4ed0-8ab7-a9c78c74f72d",
   "metadata": {},
   "source": [
    "**Single day NLCT: Choose date from list, accessing from AWS, then processing to create the BTD:**"
   ]
  },
  {
   "cell_type": "code",
   "execution_count": 11,
   "id": "98c18521-a3d2-4ab8-af78-18519f1bb9f2",
   "metadata": {},
   "outputs": [],
   "source": [
    "date_index = 0\n",
    "\n",
    "resp = requests.get(f'https://'+bucket+'.s3.amazonaws.com/'+b07_data[date_index][12:])\n",
    "if str(resp) != '<Response [200]>':\n",
    "    print('b07 file not found in AWS servers')\n",
    "\n",
    "nc_07 = netCDF4.Dataset(b07_data[date_index], memory = resp.content)\n",
    "ds_07 = xr.open_dataset(xr.backends.NetCDF4DataStore(nc_07))\n",
    "\n",
    "resp = requests.get(f'https://'+bucket+'.s3.amazonaws.com/'+b14_data[date_index][12:])\n",
    "if str(resp) != '<Response [200]>':\n",
    "    print('b14 file not found in AWS servers')\n",
    "\n",
    "nc_14 = netCDF4.Dataset(b14_data[date_index], memory = resp.content)\n",
    "ds_14 = xr.open_dataset(xr.backends.NetCDF4DataStore(nc_14))\n",
    "\n",
    "filename = b07_data[date_index].split('/')[-1]"
   ]
  },
  {
   "cell_type": "code",
   "execution_count": 12,
   "id": "d4440aa6-7ff5-4d13-8381-dcf4ef80d75e",
   "metadata": {},
   "outputs": [
    {
     "name": "stdout",
     "output_type": "stream",
     "text": [
      "Processing 07 band for 2023-253 06:00\n",
      "Processing 14 band for 2023-253 06:00\n"
     ]
    }
   ],
   "source": [
    "BTD = create_BTD(ds_07, ds_14, filename)"
   ]
  },
  {
   "cell_type": "code",
   "execution_count": 13,
   "id": "42c637d3-c957-4689-a85b-da340e945e31",
   "metadata": {},
   "outputs": [
    {
     "data": {
      "text/plain": [
       "<cartopy.mpl.feature_artist.FeatureArtist at 0x7f8b55199d50>"
      ]
     },
     "execution_count": 13,
     "metadata": {},
     "output_type": "execute_result"
    },
    {
     "data": {
      "image/png": "[encoded data removed]",
      "text/plain": [
       "<Figure size 1200x1200 with 2 Axes>"
      ]
     },
     "metadata": {},
     "output_type": "display_data"
    }
   ],
   "source": [
    "dt = BTD.time.values[0]\n",
    "date_str = np.datetime_as_string(dt)[:10]\n",
    "time_str = np.datetime_as_string(dt)[11:16]\n",
    "\n",
    "\n",
    "projection=ccrs.PlateCarree()\n",
    "fig,ax=plt.subplots(1, figsize=(12,12),subplot_kw={'projection': projection})\n",
    "cmap = plt.cm.Spectral_r\n",
    "levels = np.linspace(0, np.max(BTD), 21)\n",
    "\n",
    "c=ax.contourf(BTD.lon, BTD.lat, BTD[0], cmap=cmap, extend='both', levels=levels)\n",
    "clb=plt.colorbar(c, shrink=0.3, pad=0.02, ax=ax)\n",
    "ax.set_title('11um - 3.9um BTD ('+date_str +' '+time_str+' UTC)', fontsize=18)\n",
    "clb.set_label('BTD (K)')\n",
    "\n",
    "ax.add_feature(cfeature.STATES)\n",
    "ax.add_feature(cfeature.BORDERS)\n",
    "ax.add_feature(cfeature.COASTLINE)\n",
    "\n",
    "#plt.savefig(\"sample_images/nlct_\"+date_str[0:4]+date_str[5:7]+date_str[8:10]+\"_\"+time_str[0:2], bbox_inches='tight')"
   ]
  },
  {
   "cell_type": "code",
   "execution_count": 14,
   "id": "4c278927-8ceb-428b-99e6-4642cdafc350",
   "metadata": {},
   "outputs": [],
   "source": [
    "def create_frame(b07_data, b14_data):\n",
    "    \n",
    "    #---Open Band 07 file\n",
    "    resp = requests.get(f'https://'+bucket+'.s3.amazonaws.com/'+b07_data[12:])\n",
    "    if str(resp) != '<Response [200]>':\n",
    "        print('b07 file not found in AWS servers')\n",
    "    \n",
    "    nc_07 = netCDF4.Dataset(b07_data, memory = resp.content)\n",
    "    ds_07 = xr.open_dataset(xr.backends.NetCDF4DataStore(nc_07))\n",
    "\n",
    "    #---Open Band 14 file\n",
    "    resp = requests.get(f'https://'+bucket+'.s3.amazonaws.com/'+b14_data[12:])\n",
    "    if str(resp) != '<Response [200]>':\n",
    "        print('b14 file not found in AWS servers')\n",
    "    \n",
    "    nc_14 = netCDF4.Dataset(b14_data, memory = resp.content)\n",
    "    ds_14 = xr.open_dataset(xr.backends.NetCDF4DataStore(nc_14))\n",
    "\n",
    "    #---Create B14-B07 BTD\n",
    "    filename = b07_data.split('/')[-1]\n",
    "    BTD = create_BTD(ds_07, ds_14, filename)\n",
    "    \n",
    "    #---Create figure for timestamp\n",
    "    dt = BTD.time.values[0]\n",
    "    date_str = np.datetime_as_string(dt)[:10]\n",
    "    time_str = np.datetime_as_string(dt)[11:16]\n",
    "\n",
    "    projection=ccrs.PlateCarree()\n",
    "    fig,ax=plt.subplots(1, figsize=(12,12),subplot_kw={'projection': projection})\n",
    "    cmap = plt.cm.Spectral_r\n",
    "    levels = np.linspace(0, np.max(BTD), 21)\n",
    "    \n",
    "    c=ax.contourf(BTD.lon, BTD.lat, BTD[0], cmap=cmap, extend='both', levels=levels)\n",
    "    clb=plt.colorbar(c, shrink=0.3, pad=0.02, ax=ax)\n",
    "    ax.set_title('11um - 3.9um BTD ('+date_str +' '+time_str+' UTC)', fontsize=18)\n",
    "    clb.set_label('BTD (K)')\n",
    "    \n",
    "    ax.add_feature(cfeature.STATES)\n",
    "    ax.add_feature(cfeature.BORDERS)\n",
    "    ax.add_feature(cfeature.COASTLINE)\n",
    "    \n",
    "    # Save the current figure to a BytesIO buffer\n",
    "    buf = io.BytesIO()\n",
    "    plt.savefig(buf, format='png')\n",
    "    buf.seek(0)\n",
    "\n",
    "    # Read the BytesIO buffer and return as an image\n",
    "    frame = imageio.imread(buf)\n",
    "\n",
    "    # Clear the current figure to avoid overlapping plots\n",
    "    plt.clf()\n",
    "\n",
    "    return frame"
   ]
  },
  {
   "cell_type": "code",
   "execution_count": 15,
   "id": "4204ba7a-720a-4611-a737-8b8915499ca0",
   "metadata": {},
   "outputs": [
    {
     "name": "stdout",
     "output_type": "stream",
     "text": [
      "Processing 07 band for 2023-253 06:00\n",
      "Processing 14 band for 2023-253 06:00\n"
     ]
    },
    {
     "name": "stderr",
     "output_type": "stream",
     "text": [
      "/tmp/ipykernel_27776/3680109955.py:48: DeprecationWarning: Starting with ImageIO v3 the behavior of this function will switch to that of iio.v3.imread. To keep the current behavior (and make this warning disappear) use `import imageio.v2 as imageio` or call `imageio.v2.imread` directly.\n",
      "  frame = imageio.imread(buf)\n"
     ]
    },
    {
     "name": "stdout",
     "output_type": "stream",
     "text": [
      "Processing 07 band for 2023-254 06:00\n",
      "Processing 14 band for 2023-254 06:00\n"
     ]
    },
    {
     "name": "stderr",
     "output_type": "stream",
     "text": [
      "/tmp/ipykernel_27776/3680109955.py:48: DeprecationWarning: Starting with ImageIO v3 the behavior of this function will switch to that of iio.v3.imread. To keep the current behavior (and make this warning disappear) use `import imageio.v2 as imageio` or call `imageio.v2.imread` directly.\n",
      "  frame = imageio.imread(buf)\n"
     ]
    },
    {
     "name": "stdout",
     "output_type": "stream",
     "text": [
      "Processing 07 band for 2023-255 06:00\n",
      "Processing 14 band for 2023-255 06:00\n"
     ]
    },
    {
     "name": "stderr",
     "output_type": "stream",
     "text": [
      "/tmp/ipykernel_27776/3680109955.py:48: DeprecationWarning: Starting with ImageIO v3 the behavior of this function will switch to that of iio.v3.imread. To keep the current behavior (and make this warning disappear) use `import imageio.v2 as imageio` or call `imageio.v2.imread` directly.\n",
      "  frame = imageio.imread(buf)\n"
     ]
    },
    {
     "name": "stdout",
     "output_type": "stream",
     "text": [
      "Processing 07 band for 2023-256 06:00\n",
      "Processing 14 band for 2023-256 06:00\n"
     ]
    },
    {
     "name": "stderr",
     "output_type": "stream",
     "text": [
      "/tmp/ipykernel_27776/3680109955.py:48: DeprecationWarning: Starting with ImageIO v3 the behavior of this function will switch to that of iio.v3.imread. To keep the current behavior (and make this warning disappear) use `import imageio.v2 as imageio` or call `imageio.v2.imread` directly.\n",
      "  frame = imageio.imread(buf)\n"
     ]
    },
    {
     "name": "stdout",
     "output_type": "stream",
     "text": [
      "Processing 07 band for 2023-257 06:00\n",
      "Processing 14 band for 2023-257 06:00\n"
     ]
    },
    {
     "name": "stderr",
     "output_type": "stream",
     "text": [
      "/tmp/ipykernel_27776/3680109955.py:48: DeprecationWarning: Starting with ImageIO v3 the behavior of this function will switch to that of iio.v3.imread. To keep the current behavior (and make this warning disappear) use `import imageio.v2 as imageio` or call `imageio.v2.imread` directly.\n",
      "  frame = imageio.imread(buf)\n"
     ]
    },
    {
     "name": "stdout",
     "output_type": "stream",
     "text": [
      "Processing 07 band for 2023-258 06:00\n",
      "Processing 14 band for 2023-258 06:00\n"
     ]
    },
    {
     "name": "stderr",
     "output_type": "stream",
     "text": [
      "/tmp/ipykernel_27776/3680109955.py:48: DeprecationWarning: Starting with ImageIO v3 the behavior of this function will switch to that of iio.v3.imread. To keep the current behavior (and make this warning disappear) use `import imageio.v2 as imageio` or call `imageio.v2.imread` directly.\n",
      "  frame = imageio.imread(buf)\n"
     ]
    },
    {
     "name": "stdout",
     "output_type": "stream",
     "text": [
      "Processing 07 band for 2023-259 06:00\n",
      "Processing 14 band for 2023-259 06:00\n"
     ]
    },
    {
     "name": "stderr",
     "output_type": "stream",
     "text": [
      "/tmp/ipykernel_27776/3680109955.py:48: DeprecationWarning: Starting with ImageIO v3 the behavior of this function will switch to that of iio.v3.imread. To keep the current behavior (and make this warning disappear) use `import imageio.v2 as imageio` or call `imageio.v2.imread` directly.\n",
      "  frame = imageio.imread(buf)\n"
     ]
    },
    {
     "name": "stdout",
     "output_type": "stream",
     "text": [
      "Processing 07 band for 2023-260 06:00\n",
      "Processing 14 band for 2023-260 06:00\n"
     ]
    },
    {
     "name": "stderr",
     "output_type": "stream",
     "text": [
      "/tmp/ipykernel_27776/3680109955.py:48: DeprecationWarning: Starting with ImageIO v3 the behavior of this function will switch to that of iio.v3.imread. To keep the current behavior (and make this warning disappear) use `import imageio.v2 as imageio` or call `imageio.v2.imread` directly.\n",
      "  frame = imageio.imread(buf)\n"
     ]
    },
    {
     "name": "stdout",
     "output_type": "stream",
     "text": [
      "Processing 07 band for 2023-261 06:00\n",
      "Processing 14 band for 2023-261 06:00\n"
     ]
    },
    {
     "name": "stderr",
     "output_type": "stream",
     "text": [
      "/tmp/ipykernel_27776/3680109955.py:48: DeprecationWarning: Starting with ImageIO v3 the behavior of this function will switch to that of iio.v3.imread. To keep the current behavior (and make this warning disappear) use `import imageio.v2 as imageio` or call `imageio.v2.imread` directly.\n",
      "  frame = imageio.imread(buf)\n"
     ]
    },
    {
     "name": "stdout",
     "output_type": "stream",
     "text": [
      "Processing 07 band for 2023-262 06:00\n",
      "Processing 14 band for 2023-262 06:00\n"
     ]
    },
    {
     "name": "stderr",
     "output_type": "stream",
     "text": [
      "/tmp/ipykernel_27776/3680109955.py:48: DeprecationWarning: Starting with ImageIO v3 the behavior of this function will switch to that of iio.v3.imread. To keep the current behavior (and make this warning disappear) use `import imageio.v2 as imageio` or call `imageio.v2.imread` directly.\n",
      "  frame = imageio.imread(buf)\n"
     ]
    },
    {
     "name": "stdout",
     "output_type": "stream",
     "text": [
      "Processing 07 band for 2023-263 06:00\n",
      "Processing 14 band for 2023-263 06:00\n"
     ]
    },
    {
     "name": "stderr",
     "output_type": "stream",
     "text": [
      "/tmp/ipykernel_27776/3680109955.py:48: DeprecationWarning: Starting with ImageIO v3 the behavior of this function will switch to that of iio.v3.imread. To keep the current behavior (and make this warning disappear) use `import imageio.v2 as imageio` or call `imageio.v2.imread` directly.\n",
      "  frame = imageio.imread(buf)\n"
     ]
    },
    {
     "name": "stdout",
     "output_type": "stream",
     "text": [
      "Processing 07 band for 2023-264 06:00\n",
      "Processing 14 band for 2023-264 06:00\n"
     ]
    },
    {
     "name": "stderr",
     "output_type": "stream",
     "text": [
      "/tmp/ipykernel_27776/3680109955.py:48: DeprecationWarning: Starting with ImageIO v3 the behavior of this function will switch to that of iio.v3.imread. To keep the current behavior (and make this warning disappear) use `import imageio.v2 as imageio` or call `imageio.v2.imread` directly.\n",
      "  frame = imageio.imread(buf)\n"
     ]
    },
    {
     "data": {
      "text/plain": [
       "<Figure size 1200x1200 with 0 Axes>"
      ]
     },
     "metadata": {},
     "output_type": "display_data"
    },
    {
     "data": {
      "text/plain": [
       "<Figure size 1200x1200 with 0 Axes>"
      ]
     },
     "metadata": {},
     "output_type": "display_data"
    },
    {
     "data": {
      "text/plain": [
       "<Figure size 1200x1200 with 0 Axes>"
      ]
     },
     "metadata": {},
     "output_type": "display_data"
    },
    {
     "data": {
      "text/plain": [
       "<Figure size 1200x1200 with 0 Axes>"
      ]
     },
     "metadata": {},
     "output_type": "display_data"
    },
    {
     "data": {
      "text/plain": [
       "<Figure size 1200x1200 with 0 Axes>"
      ]
     },
     "metadata": {},
     "output_type": "display_data"
    },
    {
     "data": {
      "text/plain": [
       "<Figure size 1200x1200 with 0 Axes>"
      ]
     },
     "metadata": {},
     "output_type": "display_data"
    },
    {
     "data": {
      "text/plain": [
       "<Figure size 1200x1200 with 0 Axes>"
      ]
     },
     "metadata": {},
     "output_type": "display_data"
    },
    {
     "data": {
      "text/plain": [
       "<Figure size 1200x1200 with 0 Axes>"
      ]
     },
     "metadata": {},
     "output_type": "display_data"
    },
    {
     "data": {
      "text/plain": [
       "<Figure size 1200x1200 with 0 Axes>"
      ]
     },
     "metadata": {},
     "output_type": "display_data"
    },
    {
     "data": {
      "text/plain": [
       "<Figure size 1200x1200 with 0 Axes>"
      ]
     },
     "metadata": {},
     "output_type": "display_data"
    },
    {
     "data": {
      "text/plain": [
       "<Figure size 1200x1200 with 0 Axes>"
      ]
     },
     "metadata": {},
     "output_type": "display_data"
    },
    {
     "data": {
      "text/plain": [
       "<Figure size 1200x1200 with 0 Axes>"
      ]
     },
     "metadata": {},
     "output_type": "display_data"
    }
   ],
   "source": [
    "frames = []\n",
    "for i in range(len(b07_data)):\n",
    "    frame = create_frame(b07_data[i], b14_data[i])\n",
    "    frames.append(frame)"
   ]
  },
  {
   "cell_type": "code",
   "execution_count": 18,
   "id": "5f9b6acd-829d-405f-836e-93dee7f6d780",
   "metadata": {},
   "outputs": [],
   "source": [
    "imageio.mimsave('nlct_hurricane_ian.gif', frames, loop=0, duration=1000)"
   ]
  },
  {
   "cell_type": "code",
   "execution_count": null,
   "id": "91e11326-402f-45be-9879-b38a99ba7a4b",
   "metadata": {},
   "outputs": [],
   "source": []
  }
 ],
 "metadata": {
  "kernelspec": {
   "display_name": "Python 3 (ipykernel)",
   "language": "python",
   "name": "python3"
  },
  "language_info": {
   "codemirror_mode": {
    "name": "ipython",
    "version": 3
   },
   "file_extension": ".py",
   "mimetype": "text/x-python",
   "name": "python",
   "nbconvert_exporter": "python",
   "pygments_lexer": "ipython3",
   "version": "3.11.7"
  }
 },
 "nbformat": 4,
 "nbformat_minor": 5
}
