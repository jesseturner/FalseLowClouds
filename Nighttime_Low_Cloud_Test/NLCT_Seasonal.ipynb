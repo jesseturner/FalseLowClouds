{
 "cells": [
  {
   "cell_type": "markdown",
   "id": "e45ece16-6514-45a8-8e61-a893d76fd556",
   "metadata": {},
   "source": [
    "## seasonal patterns of NLCT events"
   ]
  },
  {
   "cell_type": "markdown",
   "id": "e70dbaeb-4594-4408-ba40-6e2e1936a68b",
   "metadata": {},
   "source": [
    "* 2023 Dec 22: fixed to only ingest NCLT data in netcdf form (previously would use picked xarray data)"
   ]
  },
  {
   "cell_type": "code",
   "execution_count": null,
   "id": "cea23fd5-8b70-4c8c-aa45-8aea3db2bb9b",
   "metadata": {},
   "outputs": [],
   "source": [
    "import glob\n",
    "import xarray as xr\n",
    "import pickle\n",
    "import cartopy.crs as ccrs\n",
    "import cartopy.feature as cfeature\n",
    "import matplotlib.pyplot as plt\n",
    "import numpy as np"
   ]
  },
  {
   "cell_type": "code",
   "execution_count": null,
   "id": "3b12df6e-9fa2-495f-8a9b-738695248ff6",
   "metadata": {},
   "outputs": [],
   "source": [
    "region = \"georges_bank\"\n",
    "nlct_path = \"/mnt/data2/jturner/nlct_data/\"+region+\"/\""
   ]
  },
  {
   "cell_type": "markdown",
   "id": "59ef65d6-87e1-4103-8952-876d768f4bf5",
   "metadata": {},
   "source": [
    "Creating seasonal average for month: "
   ]
  },
  {
   "cell_type": "code",
   "execution_count": null,
   "id": "c597db97-88ea-4ef9-85f6-97ee50a7f5ee",
   "metadata": {},
   "outputs": [],
   "source": [
    "month = '01' #mm\n",
    "month_name = 'Jan'"
   ]
  },
  {
   "cell_type": "code",
   "execution_count": null,
   "id": "ab35c4db-540e-4660-a3d8-1cd5ca7f60ab",
   "metadata": {},
   "outputs": [],
   "source": [
    "files = sorted(glob.glob(nlct_path+'202?'+month+'*/*06H_00M.nc'))"
   ]
  },
  {
   "cell_type": "code",
   "execution_count": null,
   "id": "8e03ba40-5f95-47cf-b767-876844391f54",
   "metadata": {},
   "outputs": [],
   "source": [
    "for file in files: \n",
    "    print(file.split('/')[-2])\n",
    "\n",
    "count = len(files)\n",
    "print(count)"
   ]
  },
  {
   "cell_type": "markdown",
   "id": "0689f15e-8e34-4e9d-b3e7-387ae9c4b1f1",
   "metadata": {},
   "source": [
    "Each NLCT file is a saved xarray DataArray, they need the dictionary to be appended into a Dataset:"
   ]
  },
  {
   "cell_type": "code",
   "execution_count": null,
   "id": "c665295f-3b60-4f94-af2d-584d7c22c08e",
   "metadata": {
    "tags": []
   },
   "outputs": [],
   "source": [
    "datasets = []\n",
    "\n",
    "for file in files:\n",
    "    ds = xr.open_dataset(file)\n",
    "    ds['__xarray_dataarray_variable__'] = xr.where(ds['__xarray_dataarray_variable__'] < 0, 0, ds['__xarray_dataarray_variable__'])\n",
    "    datasets.append(ds)\n",
    "    \n",
    "nlct_ds = xr.concat(datasets, dim='time')"
   ]
  },
  {
   "cell_type": "code",
   "execution_count": null,
   "id": "fa432796-d2f1-4b6b-b1bf-db37324df698",
   "metadata": {},
   "outputs": [],
   "source": [
    "#--- Georges Bank, Falkland no cropping\n",
    "max_x = np.max(nlct_ds.x.values)\n",
    "min_x = np.min(nlct_ds.x.values)\n",
    "max_y = np.max(nlct_ds.y.values)\n",
    "min_y = np.min(nlct_ds.y.values)\n",
    "\n",
    "#--- Oaxaca cropping adjustments\n",
    "# max_x = np.max(nlct_ds.x.values) -0.025 \n",
    "# min_x = np.min(nlct_ds.x.values) +0.025\n",
    "# max_y = np.max(nlct_ds.y.values) -0.005\n",
    "# min_y = np.min(nlct_ds.y.values) +0.005\n",
    "\n",
    "x_range = slice(min_x, max_x)\n",
    "y_range = slice(max_y, min_y)\n",
    "\n",
    "nlct_ds_sm = nlct_ds.sel(x=x_range, y=y_range)"
   ]
  },
  {
   "cell_type": "code",
   "execution_count": null,
   "id": "6b225270-32fd-47a7-a951-d4046e5f6c66",
   "metadata": {},
   "outputs": [],
   "source": [
    "btd_tot = nlct_ds_sm['__xarray_dataarray_variable__'].sum(dim='time')\n",
    "btd_mean = btd_tot/count"
   ]
  },
  {
   "cell_type": "code",
   "execution_count": null,
   "id": "61b26edb-b17c-4ef0-8987-61d8cbd4b1ab",
   "metadata": {},
   "outputs": [],
   "source": [
    "overall_mean = btd_mean.mean(dim='y')\n",
    "overall_mean = overall_mean.mean(dim='x')"
   ]
  },
  {
   "cell_type": "code",
   "execution_count": null,
   "id": "8030bac0-e1b4-459c-b377-9e5f24cbb9d4",
   "metadata": {},
   "outputs": [],
   "source": [
    "high_lim = overall_mean.values\n",
    "low_lim = overall_mean.values"
   ]
  },
  {
   "cell_type": "code",
   "execution_count": null,
   "id": "d133e44a-2ecd-46d6-b7b1-4f5e540859e3",
   "metadata": {},
   "outputs": [],
   "source": [
    "projection=ccrs.PlateCarree()\n",
    "fig,ax=plt.subplots(1, figsize=(12,12),subplot_kw={'projection': projection})\n",
    "cmap = plt.cm.Spectral_r\n",
    "levels = np.linspace(0, 1, 21)\n",
    "\n",
    "#--- Falklands needs set extent\n",
    "# min_lon = -75\n",
    "# min_lat = -58\n",
    "# max_lon = -50\n",
    "# max_lat = -35\n",
    "# ax.set_extent([min_lon, max_lon, min_lat, max_lat])\n",
    "\n",
    "c=ax.contourf(btd_mean.lon, btd_mean.lat, btd_mean, cmap=cmap, extend='both', levels=levels)\n",
    "clb=plt.colorbar(c, shrink=0.3, pad=0.02, ax=ax)\n",
    "ax.set_title('Average '+month_name+' NLCT Positive BTD (2022-2023)', fontsize=24)\n",
    "clb.set_label('BTD (K)')\n",
    "\n",
    "ax.add_feature(cfeature.STATES)\n",
    "ax.add_feature(cfeature.BORDERS)\n",
    "ax.add_feature(cfeature.COASTLINE)\n",
    "\n",
    "#plt.savefig('NLCT_Seasonal/'+month_name+'_nclt.png', bbox_inches='tight')"
   ]
  },
  {
   "cell_type": "markdown",
   "id": "22cfc2c9-1c4e-4916-b054-191fe507729f",
   "metadata": {},
   "source": [
    "### Running climatology for multiple months"
   ]
  },
  {
   "cell_type": "code",
   "execution_count": null,
   "id": "19e33c41-61b3-4c39-afcf-18e5fc334d61",
   "metadata": {},
   "outputs": [],
   "source": [
    "def Calc_BTD_mean(month_id):\n",
    "    \n",
    "    #--- Create month number\n",
    "    month_num = str(month_id+1).zfill(2)\n",
    "    \n",
    "    print(month_num)\n",
    "    files = sorted(glob.glob(nlct_path+'202?'+month_num+'*/*06H_00M.nc'))\n",
    "    count = len(files)\n",
    "    datasets = []\n",
    "\n",
    "    for file in files:\n",
    "        ds = xr.open_dataset(file)\n",
    "        #--- Set negative values to zero\n",
    "        ds['__xarray_dataarray_variable__'] = xr.where(ds['__xarray_dataarray_variable__'] < 0, 0, ds['__xarray_dataarray_variable__'])\n",
    "        datasets.append(ds)\n",
    "\n",
    "    nlct_ds = xr.concat(datasets, dim='time')\n",
    "    nlct_ds_sm = nlct_ds.sel(x=x_range, y=y_range)\n",
    "    btd_tot = nlct_ds_sm['__xarray_dataarray_variable__'].sum(dim='time')\n",
    "    btd_mean = btd_tot/count\n",
    "    \n",
    "    return btd_mean"
   ]
  },
  {
   "cell_type": "markdown",
   "id": "8c29bd02-df58-46f2-ba27-b32ed5a43620",
   "metadata": {},
   "source": [
    "Throws an error if there is not data for each month"
   ]
  },
  {
   "cell_type": "code",
   "execution_count": null,
   "id": "4f3b421e-6ffd-48f3-8343-7b2b46658c80",
   "metadata": {},
   "outputs": [],
   "source": [
    "months = ['Jan', 'Feb', 'Mar', 'Apr', 'May', 'Jun', 'Jul', 'Aug', 'Sep', 'Oct', 'Nov', 'Dec']\n",
    "\n",
    "#--- Calculate the number of rows and columns for the subplots\n",
    "num_months = len(months)\n",
    "num_rows = int(num_months**0.5)\n",
    "num_cols = (num_months + num_rows - 1) // num_rows\n",
    "\n",
    "#--- Create a figure and an array of subplots\n",
    "projection=ccrs.PlateCarree()\n",
    "fig, axes = plt.subplots(num_rows, num_cols, figsize=(12, 8), subplot_kw={'projection': projection})\n",
    "cmap = plt.cm.Spectral_r\n",
    "levels = np.linspace(0, 1, 21)\n",
    "\n",
    "#--- Flatten the 2D array of subplots to simplify indexing\n",
    "axes = axes.flatten()\n",
    "\n",
    "#--- Falklands needs set extent\n",
    "min_lon = -75\n",
    "min_lat = -58\n",
    "max_lon = -50\n",
    "max_lat = -35\n",
    "\n",
    "for i, month in enumerate(months):\n",
    "    #--- Falklands needs set extent\n",
    "    #axes[i].set_extent([min_lon, max_lon, min_lat, max_lat])\n",
    "    \n",
    "    btd_mean = Calc_BTD_mean(i)\n",
    "    c=axes[i].contourf(btd_mean.lon, btd_mean.lat, btd_mean, cmap=cmap, extend='both', levels=levels)\n",
    "    axes[i].set_title(month, fontsize=14)\n",
    "    axes[i].add_feature(cfeature.STATES)\n",
    "    axes[i].add_feature(cfeature.BORDERS)\n",
    "    axes[i].add_feature(cfeature.COASTLINE)\n",
    "\n",
    "    \n",
    "cbar = plt.colorbar(c, ax=axes, orientation='vertical', fraction=0.02, pad=0.1)\n",
    "cbar.set_label('BTD (K)')  \n",
    "\n",
    "    \n",
    "fig.suptitle('Composite NLCT Positive BTD (2022-2023)', fontsize=24)\n",
    "fig.set_dpi(200)\n",
    "plt.savefig('nclt_seasonal_'+region+'.png', dpi=200, bbox_inches='tight')"
   ]
  },
  {
   "cell_type": "code",
   "execution_count": null,
   "id": "502c7168-6001-4ea2-a1ab-098a8eb9b1d4",
   "metadata": {},
   "outputs": [],
   "source": []
  },
  {
   "cell_type": "code",
   "execution_count": null,
   "id": "431b38f8-2b20-4556-9ae3-983b970c1079",
   "metadata": {},
   "outputs": [],
   "source": []
  },
  {
   "cell_type": "code",
   "execution_count": null,
   "id": "08aeef0a-9aba-4566-b153-fc5bbf798cbc",
   "metadata": {},
   "outputs": [],
   "source": []
  }
 ],
 "metadata": {
  "kernelspec": {
   "display_name": "Python 3 (ipykernel)",
   "language": "python",
   "name": "python3"
  },
  "language_info": {
   "codemirror_mode": {
    "name": "ipython",
    "version": 3
   },
   "file_extension": ".py",
   "mimetype": "text/x-python",
   "name": "python",
   "nbconvert_exporter": "python",
   "pygments_lexer": "ipython3",
   "version": "3.11.7"
  }
 },
 "nbformat": 4,
 "nbformat_minor": 5
}
