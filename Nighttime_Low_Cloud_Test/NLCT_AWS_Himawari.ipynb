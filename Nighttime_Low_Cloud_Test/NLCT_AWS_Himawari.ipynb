{
 "cells": [
  {
   "cell_type": "markdown",
   "id": "e45ece16-6514-45a8-8e61-a893d76fd556",
   "metadata": {},
   "source": [
    "# NLCT (11-3.9um BTD) visualized from Himawari"
   ]
  },
  {
   "cell_type": "markdown",
   "id": "558ca3ac-4931-42c6-8fa0-3cb73b54f01c",
   "metadata": {},
   "source": [
    "### Can visualize the daily NLCT, or the longterm average. Data is accessed from Amazon Web Solutions.\n",
    "* Dan Lindsey's presentation on AHI data on AWS: https://docs.opendata.aws/noaa-himawari/2020July08_NOAA_Himawari.pdf"
   ]
  },
  {
   "cell_type": "code",
   "execution_count": 1,
   "id": "87a0a865-edbb-4b13-81ba-8deead148d5e",
   "metadata": {
    "tags": []
   },
   "outputs": [],
   "source": [
    "#---Cloud search libraries\n",
    "import s3fs\n",
    "import requests\n",
    "import fnmatch\n",
    "\n",
    "#---Data libraries\n",
    "import xarray as xr\n",
    "import netCDF4\n",
    "import numpy as np\n",
    "import datetime\n",
    "\n",
    "#---Plotting libraries\n",
    "import matplotlib.pyplot as plt\n",
    "import cartopy.crs as ccrs\n",
    "import cartopy.feature as cfeature"
   ]
  },
  {
   "cell_type": "markdown",
   "id": "727f9a92-d336-4acb-88b4-2958cfdf79a9",
   "metadata": {},
   "source": [
    "**Hooking up the AWS S3 buckets:**"
   ]
  },
  {
   "cell_type": "code",
   "execution_count": 2,
   "id": "894254f8-c94e-422d-ba73-9405045336ba",
   "metadata": {
    "tags": []
   },
   "outputs": [],
   "source": [
    "fs = s3fs.S3FileSystem(anon=True)"
   ]
  },
  {
   "cell_type": "markdown",
   "id": "386dc604-c9a4-4117-9fa2-23949aae83c0",
   "metadata": {},
   "source": [
    "**Set the datetime range of interest:**"
   ]
  },
  {
   "cell_type": "code",
   "execution_count": 3,
   "id": "dfb3eb08-becd-49fe-8d8c-33a1b3057424",
   "metadata": {
    "tags": []
   },
   "outputs": [],
   "source": [
    "year = 2024\n",
    "month = 2\n",
    "month_name = 'Feb'\n",
    "day_start = 14\n",
    "day_end = 14\n",
    "hour = 7"
   ]
  },
  {
   "cell_type": "markdown",
   "id": "ca577512-ae5c-4d97-aca4-2081f6bbbbc1",
   "metadata": {},
   "source": [
    "**Getting Himawari products:**"
   ]
  },
  {
   "cell_type": "code",
   "execution_count": 4,
   "id": "3261b961-680b-4fe7-b569-ca5ab870d12a",
   "metadata": {},
   "outputs": [],
   "source": [
    "products = fs.ls('noaa-himawari9')"
   ]
  },
  {
   "cell_type": "code",
   "execution_count": 5,
   "id": "f9907a05-2e02-4a65-bf44-7a5c9e2f7707",
   "metadata": {},
   "outputs": [
    {
     "data": {
      "text/plain": [
       "['noaa-himawari9/AHI-L1b-FLDK',\n",
       " 'noaa-himawari9/AHI-L1b-Japan',\n",
       " 'noaa-himawari9/AHI-L1b-Target',\n",
       " 'noaa-himawari9/AHI-L2-FLDK-Clouds',\n",
       " 'noaa-himawari9/AHI-L2-FLDK-ISatSS',\n",
       " 'noaa-himawari9/AHI-L2-FLDK-Winds',\n",
       " 'noaa-himawari9/index.html']"
      ]
     },
     "execution_count": 5,
     "metadata": {},
     "output_type": "execute_result"
    }
   ],
   "source": [
    "products"
   ]
  },
  {
   "cell_type": "markdown",
   "id": "767e3fec-2004-4054-b067-ad2cd6777ca8",
   "metadata": {},
   "source": [
    "**Getting Himawari radiance data:**"
   ]
  },
  {
   "cell_type": "code",
   "execution_count": 6,
   "id": "2188bd13-2b6c-488d-b41c-0661b9c66097",
   "metadata": {
    "tags": []
   },
   "outputs": [],
   "source": [
    "bucket = 'noaa-himawari9'\n",
    "product = 'AHI-L1b-FLDK'"
   ]
  },
  {
   "cell_type": "markdown",
   "id": "207b165e-ea43-4c11-9e15-055175faaea1",
   "metadata": {},
   "source": [
    "**Gathering a month of top-of-the-hour data from ABI band 07 and band 14:**\n",
    "* currently grappling S0110, from a range of S0210, S0310, S0410 ... S1010"
   ]
  },
  {
   "cell_type": "code",
   "execution_count": 7,
   "id": "1c83d0c1-b5af-4b9b-8399-486180942ff7",
   "metadata": {},
   "outputs": [
    {
     "data": {
      "text/plain": [
       "range(0, 1)"
      ]
     },
     "execution_count": 7,
     "metadata": {},
     "output_type": "execute_result"
    }
   ],
   "source": [
    "range(day_end-(day_start-1))"
   ]
  },
  {
   "cell_type": "code",
   "execution_count": 8,
   "id": "219c817d-f43c-4526-94b3-4d66ef929a68",
   "metadata": {
    "tags": []
   },
   "outputs": [],
   "source": [
    "b07_data = []\n",
    "b14_data = []\n",
    "day = day_start\n",
    "\n",
    "for i in range(day_end-(day_start-1)):\n",
    "    julian = datetime.datetime(year, month, day).strftime('%j')\n",
    "    data_path = bucket + '/' + product + '/'  + str(year) + '/' + str(month).zfill(2) + '/' + str(day) + '/' + str(hour).zfill(2) + '00'\n",
    "    files = fs.ls(data_path)\n",
    "\n",
    "    files_b07 = [file for file in files if fnmatch.fnmatchcase(file.split('/')[-1], \"*B07_FLDK_R20_S0110.DAT.bz2\")]\n",
    "    files_b14 = [file for file in files if fnmatch.fnmatchcase(file.split('/')[-1], \"*B14_FLDK_R20_S0110.DAT.bz2\")]\n",
    "\n",
    "    #---index of 0 to get top-of-the-hour\n",
    "    b07_data.append(files_b07[0])\n",
    "    b14_data.append(files_b14[0])\n",
    "\n",
    "    day = day+1"
   ]
  },
  {
   "cell_type": "code",
   "execution_count": 9,
   "id": "ef078844-e997-4c84-8bb6-10ec5fbc6f3d",
   "metadata": {
    "tags": []
   },
   "outputs": [
    {
     "data": {
      "text/plain": [
       "['noaa-himawari9/AHI-L1b-FLDK/2024/02/14/0700/HS_H09_20240214_0700_B14_FLDK_R20_S0110.DAT.bz2']"
      ]
     },
     "execution_count": 9,
     "metadata": {},
     "output_type": "execute_result"
    }
   ],
   "source": [
    "b14_data"
   ]
  },
  {
   "cell_type": "markdown",
   "id": "66be68cf-1812-4e51-8086-50f55be0394b",
   "metadata": {},
   "source": [
    "**Functions for calculating geostationary lat/lon:**"
   ]
  },
  {
   "cell_type": "code",
   "execution_count": 10,
   "id": "bff0246d-6ccd-4dca-95aa-b886aef33ef5",
   "metadata": {},
   "outputs": [],
   "source": [
    "def calc_latlon(ds):\n",
    "    # The math for this function was taken from \n",
    "    # https://makersportal.com/blog/2018/11/25/goes-r-satellite-latitude-and-longitude-grid-projection-algorithm\n",
    "    x = ds.x\n",
    "    y = ds.y\n",
    "    goes_imager_projection = ds.goes_imager_projection\n",
    "    \n",
    "    x,y = np.meshgrid(x,y)\n",
    "    \n",
    "    r_eq = goes_imager_projection.attrs[\"semi_major_axis\"]\n",
    "    r_pol = goes_imager_projection.attrs[\"semi_minor_axis\"]\n",
    "    l_0 = goes_imager_projection.attrs[\"longitude_of_projection_origin\"] * (np.pi/180)\n",
    "    h_sat = goes_imager_projection.attrs[\"perspective_point_height\"]\n",
    "    H = r_eq + h_sat\n",
    "    \n",
    "    a = np.sin(x)**2 + (np.cos(x)**2 * (np.cos(y)**2 + (r_eq**2 / r_pol**2) * np.sin(y)**2))\n",
    "    b = -2 * H * np.cos(x) * np.cos(y)\n",
    "    c = H**2 - r_eq**2\n",
    "    \n",
    "    #--- Added absolute to remove error\n",
    "    r_s = (-b - np.sqrt(np.absolute(b**2 - 4*a*c)))/(2*a)\n",
    "    \n",
    "    s_x = r_s * np.cos(x) * np.cos(y)\n",
    "    s_y = -r_s * np.sin(x)\n",
    "    s_z = r_s * np.cos(x) * np.sin(y)\n",
    "    \n",
    "    lat = np.arctan((r_eq**2 / r_pol**2) * (s_z / np.sqrt((H-s_x)**2 +s_y**2))) * (180/np.pi)\n",
    "    lon = (l_0 - np.arctan(s_y / (H-s_x))) * (180/np.pi)\n",
    "    \n",
    "    ds = ds.assign_coords({\n",
    "        \"lat\":([\"y\",\"x\"],lat),\n",
    "        \"lon\":([\"y\",\"x\"],lon)\n",
    "    })\n",
    "    ds.lat.attrs[\"units\"] = \"degrees_north\"\n",
    "    ds.lon.attrs[\"units\"] = \"degrees_east\"\n",
    "    return ds\n",
    "\n",
    "\n",
    "\n",
    "def get_xy_from_latlon(ds, lats, lons):\n",
    "    lat1, lat2 = lats\n",
    "    lon1, lon2 = lons\n",
    "\n",
    "    lat = ds.lat.data\n",
    "    lon = ds.lon.data\n",
    "    \n",
    "    x = ds.x.data\n",
    "    y = ds.y.data\n",
    "    \n",
    "    x,y = np.meshgrid(x,y)\n",
    "    \n",
    "    x = x[(lat >= lat1) & (lat <= lat2) & (lon >= lon1) & (lon <= lon2)]\n",
    "    y = y[(lat >= lat1) & (lat <= lat2) & (lon >= lon1) & (lon <= lon2)] \n",
    "    \n",
    "    return ((min(x), max(x)), (min(y), max(y)))"
   ]
  },
  {
   "cell_type": "markdown",
   "id": "b3a22337-4122-4c10-9ac8-a3b65f8e1012",
   "metadata": {},
   "source": [
    "**Setting the lat/lon range of the imagery:**"
   ]
  },
  {
   "cell_type": "code",
   "execution_count": 11,
   "id": "159794ba-06fa-4155-b745-9a27814f8158",
   "metadata": {},
   "outputs": [],
   "source": [
    "#--- Kuroshio\n",
    "min_lon = 125\n",
    "min_lat = 30\n",
    "max_lon = 46\n",
    "max_lat = 154\n",
    "\n",
    "lats = (min_lat, max_lat)\n",
    "lons = (min_lon, max_lon)"
   ]
  },
  {
   "cell_type": "markdown",
   "id": "b88b5cba-67bc-4765-99c8-442de1d763ce",
   "metadata": {},
   "source": [
    "**Function for creating the 11um - 3.9um BTD:**"
   ]
  },
  {
   "cell_type": "code",
   "execution_count": 12,
   "id": "29c9e10a-adf2-4092-bf84-b83f63d87b47",
   "metadata": {},
   "outputs": [],
   "source": [
    "def create_BTD(data_07, data_14, filename):\n",
    "\n",
    "    year = filename[27:31]\n",
    "    jul_day = filename[31:34]\n",
    "    h = filename[34:36]\n",
    "    m = filename[36:38]\n",
    "\n",
    "    print('Processing 07 band for '+year+'-'+jul_day+' '+h+':'+m)\n",
    "\n",
    "    ds_07 = calc_latlon(data_07)\n",
    "\n",
    "    ((x1,x2), (y1, y2)) = get_xy_from_latlon(ds_07, lats, lons)\n",
    "\n",
    "    subset_07 = ds_07.sel(x=slice(x1, x2), y=slice(y2, y1))\n",
    "\n",
    "    print('Processing 14 band for '+year+'-'+jul_day+' '+h+':'+m)\n",
    "\n",
    "    ds_14 = calc_latlon(data_14)\n",
    "\n",
    "    ((x1,x2), (y1, y2)) = get_xy_from_latlon(ds_14, lats, lons)\n",
    "\n",
    "    subset_14 = ds_14.sel(x=slice(x1, x2), y=slice(y2, y1))\n",
    "\n",
    "    #--- Calculate BTD and take product of the data over time\n",
    "    T_07 = (subset_07.planck_fk2/(np.log((subset_07.planck_fk1/subset_07.Rad)+1)) - subset_07.planck_bc1)/subset_07.planck_bc2\n",
    "    T_14 = (subset_14.planck_fk2/(np.log((subset_14.planck_fk1/subset_14.Rad)+1)) - subset_14.planck_bc1)/subset_14.planck_bc2\n",
    "\n",
    "    BTD = T_14 - T_07\n",
    "    \n",
    "    yr_m_d = datetime.datetime.strptime(year+jul_day, '%Y%j').date()\n",
    "    time_delta = datetime.timedelta(hours=int(h), minutes=int(m))\n",
    "    dt = datetime.datetime.combine(yr_m_d, datetime.datetime.min.time()) + time_delta\n",
    "    BTD = BTD.expand_dims({'time':[dt]})\n",
    "    \n",
    "    return BTD"
   ]
  },
  {
   "cell_type": "markdown",
   "id": "d09e8f3d-c060-4ed0-8ab7-a9c78c74f72d",
   "metadata": {},
   "source": [
    "**Single day NLCT: Choose date from list, accessing from AWS, then processing to create the BTD:**\n",
    "\n",
    "* Stuck here. The Himawari data is in a compressed bz2 format, which uncompressed to some sort of binary.\n",
    "* There is code available to convert Himawari data to netcdf (https://www.data.jma.go.jp/mscweb/en/himawari89/space_segment/spsg_sample.html)"
   ]
  },
  {
   "cell_type": "code",
   "execution_count": 13,
   "id": "c11f6d0b-2165-498c-95eb-ca99cb8ada92",
   "metadata": {},
   "outputs": [],
   "source": [
    "import bz2"
   ]
  },
  {
   "cell_type": "code",
   "execution_count": 14,
   "id": "c4dd4096-1a32-456d-85d4-915b379a50ae",
   "metadata": {},
   "outputs": [],
   "source": [
    "resp = requests.get(f'https://'+bucket+'.s3.amazonaws.com/'+b07_data[0][15:])\n",
    "\n",
    "nc_07 = bz2.decompress(resp.content)"
   ]
  },
  {
   "cell_type": "code",
   "execution_count": 24,
   "id": "98c18521-a3d2-4ab8-af78-18519f1bb9f2",
   "metadata": {},
   "outputs": [
    {
     "ename": "TypeError",
     "evalue": "filename must be a str, bytes, file or PathLike object",
     "output_type": "error",
     "traceback": [
      "\u001b[0;31m---------------------------------------------------------------------------\u001b[0m",
      "\u001b[0;31mTypeError\u001b[0m                                 Traceback (most recent call last)",
      "Cell \u001b[0;32mIn[24], line 7\u001b[0m\n\u001b[1;32m      4\u001b[0m \u001b[38;5;28;01mif\u001b[39;00m \u001b[38;5;28mstr\u001b[39m(resp) \u001b[38;5;241m!=\u001b[39m \u001b[38;5;124m'\u001b[39m\u001b[38;5;124m<Response [200]>\u001b[39m\u001b[38;5;124m'\u001b[39m:\n\u001b[1;32m      5\u001b[0m     \u001b[38;5;28mprint\u001b[39m(\u001b[38;5;124m'\u001b[39m\u001b[38;5;124mb07 file not found in AWS servers\u001b[39m\u001b[38;5;124m'\u001b[39m)\n\u001b[0;32m----> 7\u001b[0m \u001b[38;5;28;01mwith\u001b[39;00m bz2\u001b[38;5;241m.\u001b[39mopen(resp, \u001b[38;5;124m'\u001b[39m\u001b[38;5;124mrt\u001b[39m\u001b[38;5;124m'\u001b[39m) \u001b[38;5;28;01mas\u001b[39;00m bz2_file:\n\u001b[1;32m      8\u001b[0m     nc_07 \u001b[38;5;241m=\u001b[39m netCDF4\u001b[38;5;241m.\u001b[39mDataset(b07_data[date_index], memory \u001b[38;5;241m=\u001b[39m bz2_file\u001b[38;5;241m.\u001b[39mcontent)\n\u001b[1;32m     10\u001b[0m ds_07 \u001b[38;5;241m=\u001b[39m xr\u001b[38;5;241m.\u001b[39mopen_dataset(xr\u001b[38;5;241m.\u001b[39mbackends\u001b[38;5;241m.\u001b[39mNetCDF4DataStore(bz2_file))\n",
      "File \u001b[0;32m~/miniconda3/envs/flc_env/lib/python3.11/bz2.py:304\u001b[0m, in \u001b[0;36mopen\u001b[0;34m(filename, mode, compresslevel, encoding, errors, newline)\u001b[0m\n\u001b[1;32m    301\u001b[0m         \u001b[38;5;28;01mraise\u001b[39;00m \u001b[38;5;167;01mValueError\u001b[39;00m(\u001b[38;5;124m\"\u001b[39m\u001b[38;5;124mArgument \u001b[39m\u001b[38;5;124m'\u001b[39m\u001b[38;5;124mnewline\u001b[39m\u001b[38;5;124m'\u001b[39m\u001b[38;5;124m not supported in binary mode\u001b[39m\u001b[38;5;124m\"\u001b[39m)\n\u001b[1;32m    303\u001b[0m bz_mode \u001b[38;5;241m=\u001b[39m mode\u001b[38;5;241m.\u001b[39mreplace(\u001b[38;5;124m\"\u001b[39m\u001b[38;5;124mt\u001b[39m\u001b[38;5;124m\"\u001b[39m, \u001b[38;5;124m\"\u001b[39m\u001b[38;5;124m\"\u001b[39m)\n\u001b[0;32m--> 304\u001b[0m binary_file \u001b[38;5;241m=\u001b[39m BZ2File(filename, bz_mode, compresslevel\u001b[38;5;241m=\u001b[39mcompresslevel)\n\u001b[1;32m    306\u001b[0m \u001b[38;5;28;01mif\u001b[39;00m \u001b[38;5;124m\"\u001b[39m\u001b[38;5;124mt\u001b[39m\u001b[38;5;124m\"\u001b[39m \u001b[38;5;129;01min\u001b[39;00m mode:\n\u001b[1;32m    307\u001b[0m     encoding \u001b[38;5;241m=\u001b[39m io\u001b[38;5;241m.\u001b[39mtext_encoding(encoding)\n",
      "File \u001b[0;32m~/miniconda3/envs/flc_env/lib/python3.11/bz2.py:88\u001b[0m, in \u001b[0;36mBZ2File.__init__\u001b[0;34m(self, filename, mode, compresslevel)\u001b[0m\n\u001b[1;32m     86\u001b[0m     \u001b[38;5;28mself\u001b[39m\u001b[38;5;241m.\u001b[39m_mode \u001b[38;5;241m=\u001b[39m mode_code\n\u001b[1;32m     87\u001b[0m \u001b[38;5;28;01melse\u001b[39;00m:\n\u001b[0;32m---> 88\u001b[0m     \u001b[38;5;28;01mraise\u001b[39;00m \u001b[38;5;167;01mTypeError\u001b[39;00m(\u001b[38;5;124m\"\u001b[39m\u001b[38;5;124mfilename must be a str, bytes, file or PathLike object\u001b[39m\u001b[38;5;124m\"\u001b[39m)\n\u001b[1;32m     90\u001b[0m \u001b[38;5;28;01mif\u001b[39;00m \u001b[38;5;28mself\u001b[39m\u001b[38;5;241m.\u001b[39m_mode \u001b[38;5;241m==\u001b[39m _MODE_READ:\n\u001b[1;32m     91\u001b[0m     raw \u001b[38;5;241m=\u001b[39m _compression\u001b[38;5;241m.\u001b[39mDecompressReader(\u001b[38;5;28mself\u001b[39m\u001b[38;5;241m.\u001b[39m_fp,\n\u001b[1;32m     92\u001b[0m         BZ2Decompressor, trailing_error\u001b[38;5;241m=\u001b[39m\u001b[38;5;167;01mOSError\u001b[39;00m)\n",
      "\u001b[0;31mTypeError\u001b[0m: filename must be a str, bytes, file or PathLike object"
     ]
    }
   ],
   "source": [
    "date_index = 0\n",
    "\n",
    "resp = requests.get(f'https://'+bucket+'.s3.amazonaws.com/'+b07_data[date_index][15:])\n",
    "if str(resp) != '<Response [200]>':\n",
    "    print('b07 file not found in AWS servers')\n",
    "\n",
    "nc_07 = netCDF4.Dataset(b07_data[date_index], memory = resp.content)\n",
    "ds_07 = xr.open_dataset(xr.backends.NetCDF4DataStore(nc_07))\n",
    "\n",
    "resp = requests.get(f'https://'+bucket+'.s3.amazonaws.com/'+b14_data[date_index][15:])\n",
    "if str(resp) != '<Response [200]>':\n",
    "    print('b14 file not found in AWS servers')\n",
    "\n",
    "nc_14 = netCDF4.Dataset(b14_data[date_index], memory = resp.content)\n",
    "ds_14 = xr.open_dataset(xr.backends.NetCDF4DataStore(nc_14))\n",
    "\n",
    "filename = b07_data[date_index].split('/')[-1]"
   ]
  },
  {
   "cell_type": "code",
   "execution_count": null,
   "id": "d4440aa6-7ff5-4d13-8381-dcf4ef80d75e",
   "metadata": {},
   "outputs": [],
   "source": [
    "BTD = create_BTD(ds_07, ds_14, filename)"
   ]
  },
  {
   "cell_type": "code",
   "execution_count": null,
   "id": "42c637d3-c957-4689-a85b-da340e945e31",
   "metadata": {},
   "outputs": [],
   "source": [
    "dt = BTD.time.values[0]\n",
    "date_str = np.datetime_as_string(dt)[:10]\n",
    "time_str = np.datetime_as_string(dt)[11:16]\n",
    "\n",
    "\n",
    "projection=ccrs.PlateCarree()\n",
    "fig,ax=plt.subplots(1, figsize=(12,12),subplot_kw={'projection': projection})\n",
    "cmap = plt.cm.Spectral_r\n",
    "levels = np.linspace(0, np.max(BTD), 21)\n",
    "\n",
    "c=ax.contourf(BTD.lon, BTD.lat, BTD[0], cmap=cmap, extend='both', levels=levels)\n",
    "clb=plt.colorbar(c, shrink=0.3, pad=0.02, ax=ax)\n",
    "ax.set_title('11um - 3.9um BTD ('+date_str +' '+time_str+' UTC)', fontsize=18)\n",
    "clb.set_label('BTD (K)')\n",
    "\n",
    "ax.add_feature(cfeature.STATES)\n",
    "ax.add_feature(cfeature.BORDERS)\n",
    "ax.add_feature(cfeature.COASTLINE)\n",
    "\n",
    "#plt.savefig(\"sample_images/nlct_\"+date_str[0:4]+date_str[5:7]+date_str[8:10]+\"_\"+time_str[0:2], bbox_inches='tight')"
   ]
  },
  {
   "cell_type": "markdown",
   "id": "3c2eac5b-b19a-4a36-abb8-a641fc277a22",
   "metadata": {},
   "source": [
    "**Average NLCT: Run over the time selected, accessing from AWS, the processing to create the BTD:**"
   ]
  },
  {
   "cell_type": "code",
   "execution_count": null,
   "id": "777d1597-3a06-4dfe-96be-958629038b20",
   "metadata": {},
   "outputs": [],
   "source": [
    "BTD_ds = []\n",
    "\n",
    "for i in range(len(b07_data)):\n",
    "    resp = requests.get(f'https://'+bucket+'.s3.amazonaws.com/'+b07_data[i][12:])\n",
    "    if str(resp) != '<Response [200]>':\n",
    "            print('b07 file not found in AWS servers')\n",
    "\n",
    "    resp = requests.get(f'https://'+bucket+'.s3.amazonaws.com/'+b14_data[i][12:])\n",
    "    if str(resp) != '<Response [200]>':\n",
    "            print('b14 file not found in AWS servers')\n",
    "    \n",
    "    nc_07 = netCDF4.Dataset(b07_data[i], memory = resp.content)\n",
    "    ds_07 = xr.open_dataset(xr.backends.NetCDF4DataStore(nc_07))\n",
    "\n",
    "    nc_14 = netCDF4.Dataset(b14_data[i], memory = resp.content)\n",
    "    ds_14 = xr.open_dataset(xr.backends.NetCDF4DataStore(nc_14))\n",
    "\n",
    "    filename = b07_data[i].split('/')[-1]\n",
    "\n",
    "    BTD = create_BTD(ds_07, ds_14, filename)\n",
    "\n",
    "    BTD_ds.append(BTD)"
   ]
  },
  {
   "cell_type": "code",
   "execution_count": null,
   "id": "fdd8472b-2d14-454c-8061-c3566b640dab",
   "metadata": {},
   "outputs": [],
   "source": [
    "nlct_ds = xr.concat(BTD_ds, dim='time')"
   ]
  },
  {
   "cell_type": "code",
   "execution_count": null,
   "id": "bd5f368e-b4d6-4b77-b50b-cfb9d80ad238",
   "metadata": {},
   "outputs": [],
   "source": [
    "nlct_ds"
   ]
  },
  {
   "cell_type": "markdown",
   "id": "ada0f2ee-b46a-46e3-8e3e-82aa58b785e6",
   "metadata": {},
   "source": [
    "**Calculating the average BTD over the time range:**"
   ]
  },
  {
   "cell_type": "code",
   "execution_count": null,
   "id": "bdf1a35c-d525-4408-9f70-b935bbbbe175",
   "metadata": {},
   "outputs": [],
   "source": [
    "count = len(nlct_ds.time)\n",
    "btd_tot = nlct_ds.sum(dim='time')\n",
    "btd_mean = btd_tot/count"
   ]
  },
  {
   "cell_type": "code",
   "execution_count": null,
   "id": "eae236a5-150d-41bf-a68d-026160e56bd3",
   "metadata": {},
   "outputs": [],
   "source": [
    "overall_mean = btd_mean.mean(dim='y')\n",
    "overall_mean = overall_mean.mean(dim='x')"
   ]
  },
  {
   "cell_type": "code",
   "execution_count": null,
   "id": "d1a4efe6-cdb0-4491-a795-18f70adaaaa2",
   "metadata": {},
   "outputs": [],
   "source": [
    "high_lim = overall_mean.values\n",
    "low_lim = overall_mean.values"
   ]
  },
  {
   "cell_type": "code",
   "execution_count": null,
   "id": "29ff11c1-43b3-47fc-8d57-cac181b835cf",
   "metadata": {},
   "outputs": [],
   "source": [
    "projection=ccrs.PlateCarree()\n",
    "fig,ax=plt.subplots(1, figsize=(12,12),subplot_kw={'projection': projection})\n",
    "cmap = plt.cm.Spectral_r\n",
    "levels = np.linspace(0, 1, 21)\n",
    "\n",
    "c=ax.contourf(btd_mean.lon, btd_mean.lat, btd_mean, cmap=cmap, extend='both', levels=levels)\n",
    "clb=plt.colorbar(c, shrink=0.3, pad=0.02, ax=ax)\n",
    "ax.set_title('Average '+month_name+' NLCT Positive BTD (2022-2023)', fontsize=24)\n",
    "clb.set_label('BTD (K)')\n",
    "\n",
    "ax.add_feature(cfeature.STATES)\n",
    "ax.add_feature(cfeature.BORDERS)\n",
    "ax.add_feature(cfeature.COASTLINE)"
   ]
  },
  {
   "cell_type": "code",
   "execution_count": null,
   "id": "91e11326-402f-45be-9879-b38a99ba7a4b",
   "metadata": {},
   "outputs": [],
   "source": []
  }
 ],
 "metadata": {
  "kernelspec": {
   "display_name": "Python 3 (ipykernel)",
   "language": "python",
   "name": "python3"
  },
  "language_info": {
   "codemirror_mode": {
    "name": "ipython",
    "version": 3
   },
   "file_extension": ".py",
   "mimetype": "text/x-python",
   "name": "python",
   "nbconvert_exporter": "python",
   "pygments_lexer": "ipython3",
   "version": "3.11.7"
  }
 },
 "nbformat": 4,
 "nbformat_minor": 5
}
