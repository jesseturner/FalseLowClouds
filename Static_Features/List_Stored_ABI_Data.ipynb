{
 "cells": [
  {
   "cell_type": "code",
   "execution_count": 1,
   "id": "c1eb19c1",
   "metadata": {},
   "outputs": [],
   "source": [
    "import os"
   ]
  },
  {
   "cell_type": "code",
   "execution_count": 2,
   "id": "ca4a4d3e",
   "metadata": {},
   "outputs": [],
   "source": [
    "abi_path = \"/home/jturner/false_low_clouds_2023/Static_Features/20220914\""
   ]
  },
  {
   "cell_type": "markdown",
   "id": "5b0e6bc3",
   "metadata": {},
   "source": [
    "Data copied over from smiller2 source:"
   ]
  },
  {
   "cell_type": "code",
   "execution_count": 3,
   "id": "0959758b",
   "metadata": {},
   "outputs": [
    {
     "name": "stdout",
     "output_type": "stream",
     "text": [
      "OR_ABI-L1b-RadF-M6C07_G16_s20222570020204_e20222570029523_c20222570029566.nc\n",
      "OR_ABI-L1b-RadF-M6C07_G16_s20222570140204_e20222570149523_c20222570149565.nc\n",
      "OR_ABI-L1b-RadF-M6C07_G16_s20222570240204_e20222570249524_c20222570249569.nc\n",
      "OR_ABI-L1b-RadF-M6C07_G16_s20222570200204_e20222570209524_c20222570209566.nc\n",
      "OR_ABI-L1b-RadF-M6C07_G16_s20222570340204_e20222570349523_c20222570349566.nc\n",
      "OR_ABI-L1b-RadF-M6C07_G16_s20222570030204_e20222570039524_c20222570039566.nc\n",
      "OR_ABI-L1b-RadF-M6C07_G16_s20222570110204_e20222570119524_c20222570119568.nc\n",
      "OR_ABI-L1b-RadF-M6C07_G16_s20222570210204_e20222570219523_c20222570219565.nc\n",
      "OR_ABI-L1b-RadF-M6C07_G16_s20222570310204_e20222570319524_c20222570319568.nc\n",
      "OR_ABI-L1b-RadF-M6C07_G16_s20222570330204_e20222570339523_c20222570339569.nc\n",
      "OR_ABI-L1b-RadF-M6C07_G16_s20222570000204_e20222570009524_c20222570009562.nc\n",
      "OR_ABI-L1b-RadF-M6C07_G16_s20222570010204_e20222570019524_c20222570019569.nc\n",
      "OR_ABI-L1b-RadF-M6C07_G16_s20222570150204_e20222570159523_c20222570159564.nc\n",
      "OR_ABI-L1b-RadF-M6C07_G16_s20222570350204_e20222570359524_c20222570359568.nc\n",
      "OR_ABI-L1b-RadF-M6C07_G16_s20222570230204_e20222570239524_c20222570239573.nc\n",
      "OR_ABI-L1b-RadF-M6C07_G16_s20222570220204_e20222570229523_c20222570229565.nc\n",
      "OR_ABI-L1b-RadF-M6C07_G16_s20222570130204_e20222570139523_c20222570139566.nc\n",
      "OR_ABI-L1b-RadF-M6C07_G16_s20222570300204_e20222570309523_c20222570309565.nc\n",
      "OR_ABI-L1b-RadF-M6C07_G16_s20222570100204_e20222570109523_c20222570109564.nc\n",
      "OR_ABI-L1b-RadF-M6C07_G16_s20222570040204_e20222570049524_c20222570049568.nc\n",
      "OR_ABI-L1b-RadF-M6C07_G16_s20222570250204_e20222570259523_c20222570259564.nc\n",
      "OR_ABI-L1b-RadF-M6C07_G16_s20222570320204_e20222570329524_c20222570329568.nc\n",
      "OR_ABI-L1b-RadF-M6C07_G16_s20222570050204_e20222570059523_c20222570059568.nc\n",
      "OR_ABI-L1b-RadF-M6C07_G16_s20222570120204_e20222570129524_c20222570129565.nc\n"
     ]
    }
   ],
   "source": [
    "filenames = os.listdir(abi_path)\n",
    "for filename in filenames: \n",
    "    \n",
    "    #--- To avoid duplicates, loop through only Band 07 data\n",
    "    if filename[0:21] == 'OR_ABI-L1b-RadF-M6C07':\n",
    "        print(filename)"
   ]
  },
  {
   "cell_type": "code",
   "execution_count": null,
   "id": "22fa270c",
   "metadata": {},
   "outputs": [],
   "source": []
  }
 ],
 "metadata": {
  "kernelspec": {
   "display_name": "Python 3 (ipykernel)",
   "language": "python",
   "name": "python3"
  },
  "language_info": {
   "codemirror_mode": {
    "name": "ipython",
    "version": 3
   },
   "file_extension": ".py",
   "mimetype": "text/x-python",
   "name": "python",
   "nbconvert_exporter": "python",
   "pygments_lexer": "ipython3",
   "version": "3.9.0"
  }
 },
 "nbformat": 4,
 "nbformat_minor": 5
}
