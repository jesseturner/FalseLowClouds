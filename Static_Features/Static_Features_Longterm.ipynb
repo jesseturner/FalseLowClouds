{
 "cells": [
  {
   "cell_type": "code",
   "execution_count": 1,
   "id": "45066ae2-64fe-452e-be40-eaaf763b3af3",
   "metadata": {},
   "outputs": [],
   "source": [
    "import os\n",
    "import pickle\n",
    "import timeit\n",
    "from datetime import datetime, timedelta\n",
    "import numpy as np\n",
    "from tqdm import tqdm\n",
    "import pandas as pd\n",
    "import matplotlib.pyplot as plt"
   ]
  },
  {
   "cell_type": "code",
   "execution_count": 2,
   "id": "c93c4e57-e764-4ba9-9d2e-12e0c33f0652",
   "metadata": {},
   "outputs": [],
   "source": [
    "nlct_dir_path = \"/mnt/data2/jturner/nlct_data/georges_bank/\""
   ]
  },
  {
   "cell_type": "code",
   "execution_count": 3,
   "id": "23ae7ded-cb52-4978-b2ef-42d28b90a72c",
   "metadata": {},
   "outputs": [
    {
     "data": {
      "text/plain": [
       "['20230101',\n",
       " '20230102',\n",
       " '20230103',\n",
       " '20230104',\n",
       " '20230105',\n",
       " '20230106',\n",
       " '20230107',\n",
       " '20230108',\n",
       " '20230109',\n",
       " '20230110',\n",
       " '20230111',\n",
       " '20230112',\n",
       " '20230113',\n",
       " '20230114',\n",
       " '20230115',\n",
       " '20230116',\n",
       " '20230117',\n",
       " '20230118',\n",
       " '20230119',\n",
       " '20230120',\n",
       " '20230121',\n",
       " '20230122',\n",
       " '20230123',\n",
       " '20230124',\n",
       " '20230125',\n",
       " '20230126',\n",
       " '20230127',\n",
       " '20230128',\n",
       " '20230129',\n",
       " '20230130',\n",
       " '20230131',\n",
       " '20230201',\n",
       " '20230202',\n",
       " '20230203',\n",
       " '20230204',\n",
       " '20230205',\n",
       " '20230206',\n",
       " '20230207',\n",
       " '20230208',\n",
       " '20230209',\n",
       " '20230210',\n",
       " '20230211',\n",
       " '20230212',\n",
       " '20230213',\n",
       " '20230214',\n",
       " '20230215',\n",
       " '20230216',\n",
       " '20230217',\n",
       " '20230218',\n",
       " '20230219',\n",
       " '20230220',\n",
       " '20230221',\n",
       " '20230222',\n",
       " '20230223',\n",
       " '20230224',\n",
       " '20230225',\n",
       " '20230226',\n",
       " '20230227',\n",
       " '20230228',\n",
       " '20230301',\n",
       " '20230302',\n",
       " '20230303',\n",
       " '20230304',\n",
       " '20230305',\n",
       " '20230306',\n",
       " '20230307',\n",
       " '20230308',\n",
       " '20230309',\n",
       " '20230310',\n",
       " '20230311',\n",
       " '20230312',\n",
       " '20230313',\n",
       " '20230314',\n",
       " '20230315',\n",
       " '20230316',\n",
       " '20230317',\n",
       " '20230318',\n",
       " '20230319',\n",
       " '20230320',\n",
       " '20230321',\n",
       " '20230322',\n",
       " '20230323',\n",
       " '20230324',\n",
       " '20230325',\n",
       " '20230326',\n",
       " '20230327',\n",
       " '20230328',\n",
       " '20230329',\n",
       " '20230330',\n",
       " '20230331',\n",
       " '20230401',\n",
       " '20230402',\n",
       " '20230403',\n",
       " '20230404',\n",
       " '20230405',\n",
       " '20230406',\n",
       " '20230407',\n",
       " '20230408',\n",
       " '20230409',\n",
       " '20230410',\n",
       " '20230411',\n",
       " '20230412',\n",
       " '20230413',\n",
       " '20230414',\n",
       " '20230415',\n",
       " '20230416',\n",
       " '20230417',\n",
       " '20230418',\n",
       " '20230419',\n",
       " '20230420',\n",
       " '20230421',\n",
       " '20230422',\n",
       " '20230423',\n",
       " '20230424',\n",
       " '20230425',\n",
       " '20230426',\n",
       " '20230427',\n",
       " '20230428',\n",
       " '20230429',\n",
       " '20230430',\n",
       " '20230501',\n",
       " '20230502',\n",
       " '20230503',\n",
       " '20230504',\n",
       " '20230505',\n",
       " '20230506',\n",
       " '20230507',\n",
       " '20230508',\n",
       " '20230509',\n",
       " '20230510',\n",
       " '20230511',\n",
       " '20230512',\n",
       " '20230513',\n",
       " '20230514',\n",
       " '20230515',\n",
       " '20230516',\n",
       " '20230517',\n",
       " '20230518',\n",
       " '20230519',\n",
       " '20230520',\n",
       " '20230521',\n",
       " '20230522',\n",
       " '20230523',\n",
       " '20230524',\n",
       " '20230525',\n",
       " '20230526',\n",
       " '20230527',\n",
       " '20230528',\n",
       " '20230529',\n",
       " '20230530',\n",
       " '20230531',\n",
       " '20230601',\n",
       " '20230602',\n",
       " '20230603',\n",
       " '20230604',\n",
       " '20230605',\n",
       " '20230606',\n",
       " '20230607',\n",
       " '20230608',\n",
       " '20230609',\n",
       " '20230610',\n",
       " '20230611',\n",
       " '20230612',\n",
       " '20230613',\n",
       " '20230614',\n",
       " '20230615',\n",
       " '20230616',\n",
       " '20230617',\n",
       " '20230618',\n",
       " '20230619',\n",
       " '20230620',\n",
       " '20230621',\n",
       " '20230622',\n",
       " '20230623',\n",
       " '20230624',\n",
       " '20230625',\n",
       " '20230626',\n",
       " '20230627',\n",
       " '20230628',\n",
       " '20230629',\n",
       " '20230630',\n",
       " '20230701',\n",
       " '20230702',\n",
       " '20230703',\n",
       " '20230704',\n",
       " '20230705',\n",
       " '20230706',\n",
       " '20230707',\n",
       " '20230708',\n",
       " '20230709',\n",
       " '20230710',\n",
       " '20230711',\n",
       " '20230712',\n",
       " '20230713',\n",
       " '20230714',\n",
       " '20230715',\n",
       " '20230716',\n",
       " '20230717',\n",
       " '20230718',\n",
       " '20230719',\n",
       " '20230720',\n",
       " '20230721',\n",
       " '20230722',\n",
       " '20230723',\n",
       " '20230724',\n",
       " '20230725',\n",
       " '20230726',\n",
       " '20230727',\n",
       " '20230728',\n",
       " '20230729',\n",
       " '20230730',\n",
       " '20230731',\n",
       " '20230801',\n",
       " '20230802',\n",
       " '20230803',\n",
       " '20230804',\n",
       " '20230805',\n",
       " '20230806',\n",
       " '20230807',\n",
       " '20230808',\n",
       " '20230809',\n",
       " '20230810',\n",
       " '20230811',\n",
       " '20230812',\n",
       " '20230813',\n",
       " '20230814',\n",
       " '20230815',\n",
       " '20230816',\n",
       " '20230817',\n",
       " '20230818',\n",
       " '20230819',\n",
       " '20230820',\n",
       " '20230821',\n",
       " '20230822',\n",
       " '20230823',\n",
       " '20230824',\n",
       " '20230825',\n",
       " '20230826',\n",
       " '20230827',\n",
       " '20230828',\n",
       " '20230829',\n",
       " '20230830',\n",
       " '20230831',\n",
       " '20230901',\n",
       " '20230902',\n",
       " '20230903',\n",
       " '20230904',\n",
       " '20230905',\n",
       " '20230906',\n",
       " '20230907',\n",
       " '20230908',\n",
       " '20230909',\n",
       " '20230910',\n",
       " '20230911',\n",
       " '20230912',\n",
       " '20230913',\n",
       " '20230914',\n",
       " '20230915',\n",
       " '20230916',\n",
       " '20230917',\n",
       " '20230918',\n",
       " '20230919',\n",
       " '20230920',\n",
       " '20230921',\n",
       " '20230922',\n",
       " '20230923',\n",
       " '20230924',\n",
       " '20230925',\n",
       " '20230926',\n",
       " '20230927',\n",
       " '20230928',\n",
       " '20230929',\n",
       " '20230930',\n",
       " '20231001',\n",
       " '20231002',\n",
       " '20231003',\n",
       " '20231004',\n",
       " '20231005',\n",
       " '20231006',\n",
       " '20231007',\n",
       " '20231008',\n",
       " '20231009',\n",
       " '20231010',\n",
       " '20231011',\n",
       " '20231012',\n",
       " '20231013',\n",
       " '20231014',\n",
       " '20231015',\n",
       " '20231016',\n",
       " '20231017',\n",
       " '20231018',\n",
       " '20231019',\n",
       " '20231020',\n",
       " '20231021',\n",
       " '20231022',\n",
       " '20231023',\n",
       " '20231024',\n",
       " '20231025',\n",
       " '20231026',\n",
       " '20231027',\n",
       " '20231028',\n",
       " '20231029',\n",
       " '20231030',\n",
       " '20231031',\n",
       " '20231101',\n",
       " '20231102',\n",
       " '20231103',\n",
       " '20231104',\n",
       " '20231105',\n",
       " '20231106',\n",
       " '20231107',\n",
       " '20231108',\n",
       " '20231109',\n",
       " '20231110',\n",
       " '20231111',\n",
       " '20231112',\n",
       " '20231113',\n",
       " '20231114',\n",
       " '20231115']"
      ]
     },
     "execution_count": 3,
     "metadata": {},
     "output_type": "execute_result"
    }
   ],
   "source": [
    "nlct_dates = sorted(os.listdir(nlct_dir_path))\n",
    "\n",
    "#--- Removing any non-date directory items\n",
    "#--- Currently only including 2023\n",
    "nlct_dates = [x for x in nlct_dates if x[:4] == '2023']\n",
    "nlct_dates"
   ]
  },
  {
   "cell_type": "markdown",
   "id": "e01962ec-bc6f-45fd-a050-23102a6d7c56",
   "metadata": {},
   "source": [
    "Creating the static feature function: "
   ]
  },
  {
   "cell_type": "code",
   "execution_count": 4,
   "id": "558d32a9-9975-4b5c-aa3d-7ee299e749c0",
   "metadata": {},
   "outputs": [],
   "source": [
    "def get_static_features(BTD_c, nlct_dir_path, nlct_date):\n",
    "    #--- Initialize an array of 1's in the shape of the final image\n",
    "    BTD_prod = [ [1]*len(BTD_c[0][0]) for i in range(len(BTD_c[0]))]\n",
    "\n",
    "    #--- Starting the timer\n",
    "    starttime = timeit.default_timer()\n",
    "\n",
    "    #--- Include all times or just top of hour (TOH)\n",
    "    all_files = sorted(os.listdir(nlct_dir_path+nlct_date+'/'))\n",
    "    toh_files = [filename for filename in all_files if filename.endswith('00M')]\n",
    "\n",
    "    for filename in toh_files:\n",
    "\n",
    "            #--- Open the NLCT file\n",
    "            file = open(nlct_dir_path+nlct_date+'/'+filename, 'rb')\n",
    "            BTD = pickle.load(file)\n",
    "            file.close()\n",
    "\n",
    "            #--- Crop to the specified region\n",
    "            BTD = BTD.where((BTD.lat>min_lat) & (BTD.lat<max_lat) & (BTD.lon>min_lon) & (BTD.lon<max_lon))\n",
    "            BTD = BTD.dropna(dim=\"y\", how=\"all\")\n",
    "            BTD = BTD.dropna(dim=\"x\", how=\"all\")\n",
    "\n",
    "            #--- Set negative values to zero\n",
    "            BTD = np.where(BTD < 0, 0, BTD)\n",
    "\n",
    "            #--- V1: Multiply to only enhance static clouds\n",
    "            #BTD_prod = BTD_prod*BTD\n",
    "\n",
    "            #--- V1: Limit runaway large values to 3\n",
    "            #BTD_prod = np.where(BTD_prod > 3, 3, BTD_prod)\n",
    "            \n",
    "            #--- Mitigating error where BTD is not loaded\n",
    "            if np.shape(BTD) != (1, 144, 156):\n",
    "                print('BTD: ', np.shape(BTD), 'BTD_prod: ', np.shape(BTD_prod))\n",
    "                BTD = [ [0]*len(BTD_c[0][0]) for i in range(len(BTD_c[0]))]\n",
    "                \n",
    "            #--- V2: Sum to enhance static clouds\n",
    "            #print('BTD: ', np.shape(BTD), 'BTD_prod: ', np.shape(BTD_prod))\n",
    "            BTD_prod = np.array(BTD_prod)+np.array(BTD)\n",
    "            \n",
    "            #print(filename)\n",
    "\n",
    "\n",
    "    #print(\"Completed: \", timeit.default_timer() - starttime)\n",
    "\n",
    "    return BTD_prod"
   ]
  },
  {
   "cell_type": "markdown",
   "id": "ebd640cd-38b7-439c-bb77-cb533a2775f2",
   "metadata": {},
   "source": [
    "Creating the static value function: \n",
    "* currently calculates each day twice, can make more efficient"
   ]
  },
  {
   "cell_type": "code",
   "execution_count": 5,
   "id": "92703ebc-aeb6-48b8-a80d-aa0e8000015f",
   "metadata": {},
   "outputs": [],
   "source": [
    "def get_static_values(BTD_c, nlct_dir_path, nlct_date):\n",
    "    \n",
    "    BTD_prod = get_static_features(BTD_c, nlct_dir_path, nlct_date)\n",
    "    \n",
    "    #--- Create date variable\n",
    "    date = datetime.strptime(nlct_date, \"%Y%m%d\")\n",
    "    \n",
    "    #--- Get the next day in sequence\n",
    "    date2 = date + timedelta(days=1)\n",
    "    nlct_date2 = date2.strftime(\"%Y%m%d\")\n",
    "\n",
    "    #--- Run static features for the next day\n",
    "    BTD_prod2 = get_static_features(BTD_c, nlct_dir_path, nlct_date2)\n",
    "    \n",
    "    #--- Combine current day and next day static features\n",
    "    BTD_tot = BTD_prod + BTD_prod2\n",
    "    \n",
    "    #--- V2: Limit to top 25%\n",
    "    # BTD_tot_lim = np.nan_to_num(BTD_tot, nan=0)\n",
    "    # BTD_tot_lim = BTD_tot_lim/np.max(BTD_tot_lim)\n",
    "    # limit = 0.75\n",
    "    # BTD_tot_lim = np.where(BTD_tot_lim < limit, 0, BTD_tot_lim)\n",
    "    # BTD_tot_lim = np.where(BTD_tot_lim > limit, 1, BTD_tot_lim)\n",
    "\n",
    "    #--- V2: Limit to BTD > 15 and top 25%\n",
    "    limit = 15\n",
    "    BTD_tot_lim = np.nan_to_num(BTD_tot, nan=0)\n",
    "    limit_norm = 0.75\n",
    "    BTD_tot_norm = np.nan_to_num(BTD_tot, nan=0)\n",
    "    BTD_tot_norm = BTD_tot_norm/np.max(BTD_tot_norm)\n",
    "    BTD_tot_lim = np.where((BTD_tot_lim < limit) | (BTD_tot_norm < limit_norm), 0, BTD_tot_lim)\n",
    "    BTD_tot_lim = np.where((BTD_tot_lim > limit) & (BTD_tot_norm > limit_norm), 1, BTD_tot_lim)\n",
    "\n",
    "    #--- Convert BTD prod (2d array) to value\n",
    "    static_value = np.nansum(BTD_tot_lim)\n",
    "    \n",
    "    return date, static_value"
   ]
  },
  {
   "cell_type": "markdown",
   "id": "b664d2dd-bb90-473d-bb30-3c1cfa3977b5",
   "metadata": {},
   "source": [
    "Create sample to use as framework for loop:"
   ]
  },
  {
   "cell_type": "code",
   "execution_count": 6,
   "id": "64cb7e3d-0556-40eb-8895-6b9a8d8cce57",
   "metadata": {},
   "outputs": [],
   "source": [
    "sample_date = '20230101'\n",
    "sample_nlct_path = nlct_dir_path+sample_date+\"/\"\n",
    "sample_filename = 'goes_e_ntlc_'+sample_date[0:4]+'_'+sample_date[4:6]+'_'+sample_date[6:8]+'_00H_00M'\n",
    "\n",
    "file = open(sample_nlct_path+sample_filename, 'rb')\n",
    "BTD = pickle.load(file)\n",
    "file.close()\n",
    "\n",
    "#---Georges Bank\n",
    "min_lon = -70.5\n",
    "min_lat = 39\n",
    "max_lon = -67\n",
    "max_lat = 43\n",
    "\n",
    "BTD_c = BTD.where((BTD.lat>min_lat) & (BTD.lat<max_lat) & (BTD.lon>min_lon) & (BTD.lon<max_lon))\n",
    "BTD_c = BTD_c.dropna(dim=\"y\", how=\"all\")\n",
    "BTD_c = BTD_c.dropna(dim=\"x\", how=\"all\")"
   ]
  },
  {
   "cell_type": "markdown",
   "id": "8f503783-7075-48e7-9866-7a88544047ce",
   "metadata": {},
   "source": [
    "Running the static value function for each date in NLCT directory: "
   ]
  },
  {
   "cell_type": "code",
   "execution_count": 7,
   "id": "6e644abc-a4e5-4eea-990c-63f1fe52194d",
   "metadata": {},
   "outputs": [],
   "source": [
    "data = {'Date': [], 'StaticValue': []}\n",
    "df = pd.DataFrame(data)"
   ]
  },
  {
   "cell_type": "code",
   "execution_count": 8,
   "id": "618b1fb2-6bd1-434e-8913-a130a36dd75f",
   "metadata": {},
   "outputs": [
    {
     "name": "stderr",
     "output_type": "stream",
     "text": [
      "Processing:  31%|███████████████▎                                  | 97/318 [00:32<01:31,  2.41it/s]"
     ]
    },
    {
     "name": "stdout",
     "output_type": "stream",
     "text": [
      "BTD:  (1, 0, 0) BTD_prod:  (1, 144, 156)\n",
      "BTD:  (1, 0, 0) BTD_prod:  (1, 144, 156)\n"
     ]
    },
    {
     "name": "stderr",
     "output_type": "stream",
     "text": [
      "Processing:  31%|███████████████▍                                  | 98/318 [00:33<01:35,  2.31it/s]"
     ]
    },
    {
     "name": "stdout",
     "output_type": "stream",
     "text": [
      "BTD:  (1, 0, 0) BTD_prod:  (1, 144, 156)\n",
      "BTD:  (1, 0, 0) BTD_prod:  (1, 144, 156)\n"
     ]
    },
    {
     "name": "stderr",
     "output_type": "stream",
     "text": [
      "Processing:  31%|███████████████▌                                  | 99/318 [00:33<01:39,  2.21it/s]"
     ]
    },
    {
     "name": "stdout",
     "output_type": "stream",
     "text": [
      "BTD:  (1, 0, 0) BTD_prod:  (1, 144, 156)\n",
      "BTD:  (1, 0, 0) BTD_prod:  (1, 144, 156)\n"
     ]
    },
    {
     "name": "stderr",
     "output_type": "stream",
     "text": [
      "Processing:  31%|███████████████▍                                 | 100/318 [00:34<02:02,  1.78it/s]"
     ]
    },
    {
     "name": "stdout",
     "output_type": "stream",
     "text": [
      "BTD:  (1, 0, 0) BTD_prod:  (1, 144, 156)\n",
      "BTD:  (1, 0, 0) BTD_prod:  (1, 144, 156)\n"
     ]
    },
    {
     "name": "stderr",
     "output_type": "stream",
     "text": [
      "Processing:  32%|███████████████▌                                 | 101/318 [00:35<01:59,  1.82it/s]"
     ]
    },
    {
     "name": "stdout",
     "output_type": "stream",
     "text": [
      "BTD:  (1, 0, 0) BTD_prod:  (1, 144, 156)\n",
      "BTD:  (1, 0, 0) BTD_prod:  (1, 144, 156)\n"
     ]
    },
    {
     "name": "stderr",
     "output_type": "stream",
     "text": [
      "Processing:  32%|███████████████▋                                 | 102/318 [00:35<01:52,  1.92it/s]"
     ]
    },
    {
     "name": "stdout",
     "output_type": "stream",
     "text": [
      "BTD:  (1, 0, 0) BTD_prod:  (1, 144, 156)\n",
      "BTD:  (1, 0, 0) BTD_prod:  (1, 144, 156)\n",
      "BTD:  (1, 0, 0) BTD_prod:  (1, 144, 156)\n"
     ]
    },
    {
     "name": "stderr",
     "output_type": "stream",
     "text": [
      "Processing:  32%|███████████████▊                                 | 103/318 [00:36<01:54,  1.88it/s]"
     ]
    },
    {
     "name": "stdout",
     "output_type": "stream",
     "text": [
      "BTD:  (1, 0, 0) BTD_prod:  (1, 144, 156)\n"
     ]
    },
    {
     "name": "stderr",
     "output_type": "stream",
     "text": [
      "Processing:  33%|████████████████                                 | 104/318 [00:36<01:57,  1.83it/s]"
     ]
    },
    {
     "name": "stdout",
     "output_type": "stream",
     "text": [
      "BTD:  (1, 116, 153) BTD_prod:  (1, 144, 156)\n",
      "BTD:  (1, 116, 153) BTD_prod:  (1, 144, 156)\n"
     ]
    },
    {
     "name": "stderr",
     "output_type": "stream",
     "text": [
      "Processing:  33%|████████████████▏                                | 105/318 [00:37<01:51,  1.91it/s]"
     ]
    },
    {
     "name": "stdout",
     "output_type": "stream",
     "text": [
      "BTD:  (1, 116, 153) BTD_prod:  (1, 144, 156)\n",
      "BTD:  (1, 116, 153) BTD_prod:  (1, 144, 156)\n"
     ]
    },
    {
     "name": "stderr",
     "output_type": "stream",
     "text": [
      "Processing:  65%|███████████████████████████████▋                 | 206/318 [01:12<00:46,  2.40it/s]"
     ]
    },
    {
     "name": "stdout",
     "output_type": "stream",
     "text": [
      "BTD:  (1, 0, 0) BTD_prod:  (144, 156)\n",
      "BTD:  (1, 0, 0) BTD_prod:  (144, 156)\n"
     ]
    },
    {
     "name": "stderr",
     "output_type": "stream",
     "text": [
      "Processing:  74%|████████████████████████████████████             | 234/318 [01:21<00:28,  2.97it/s]"
     ]
    },
    {
     "name": "stdout",
     "output_type": "stream",
     "text": [
      "BTD:  (1, 19, 137) BTD_prod:  (1, 144, 156)\n",
      "BTD:  (1, 19, 137) BTD_prod:  (1, 144, 156)\n"
     ]
    },
    {
     "name": "stderr",
     "output_type": "stream",
     "text": [
      "Processing:  75%|████████████████████████████████████▊            | 239/318 [01:23<00:28,  2.74it/s]"
     ]
    },
    {
     "name": "stdout",
     "output_type": "stream",
     "text": [
      "BTD:  (1, 129, 154) BTD_prod:  (1, 144, 156)\n",
      "BTD:  (1, 129, 154) BTD_prod:  (1, 144, 156)\n"
     ]
    },
    {
     "name": "stderr",
     "output_type": "stream",
     "text": [
      "Processing:  75%|████████████████████████████████████▉            | 240/318 [01:23<00:33,  2.31it/s]"
     ]
    },
    {
     "name": "stdout",
     "output_type": "stream",
     "text": [
      "BTD:  (1, 129, 154) BTD_prod:  (1, 144, 156)\n",
      "BTD:  (1, 129, 154) BTD_prod:  (1, 144, 156)\n"
     ]
    },
    {
     "name": "stderr",
     "output_type": "stream",
     "text": [
      "Processing:  76%|█████████████████████████████████████▏           | 241/318 [01:24<00:33,  2.27it/s]"
     ]
    },
    {
     "name": "stdout",
     "output_type": "stream",
     "text": [
      "BTD:  (1, 0, 0) BTD_prod:  (1, 144, 156)\n",
      "BTD:  (1, 0, 0) BTD_prod:  (1, 144, 156)\n",
      "BTD:  (1, 0, 0) BTD_prod:  (1, 144, 156)\n"
     ]
    },
    {
     "name": "stderr",
     "output_type": "stream",
     "text": [
      "Processing:  76%|█████████████████████████████████████▎           | 242/318 [01:24<00:32,  2.31it/s]"
     ]
    },
    {
     "name": "stdout",
     "output_type": "stream",
     "text": [
      "BTD:  (1, 0, 0) BTD_prod:  (1, 144, 156)\n"
     ]
    },
    {
     "name": "stderr",
     "output_type": "stream",
     "text": [
      "Processing:  76%|█████████████████████████████████████▍           | 243/318 [01:24<00:32,  2.32it/s]"
     ]
    },
    {
     "name": "stdout",
     "output_type": "stream",
     "text": [
      "BTD:  (1, 0, 0) BTD_prod:  (1, 144, 156)\n",
      "BTD:  (1, 0, 0) BTD_prod:  (1, 144, 156)\n"
     ]
    },
    {
     "name": "stderr",
     "output_type": "stream",
     "text": [
      "Processing:  77%|█████████████████████████████████████▌           | 244/318 [01:25<00:32,  2.26it/s]"
     ]
    },
    {
     "name": "stdout",
     "output_type": "stream",
     "text": [
      "BTD:  (1, 0, 0) BTD_prod:  (1, 144, 156)\n",
      "BTD:  (1, 0, 0) BTD_prod:  (1, 144, 156)\n"
     ]
    },
    {
     "name": "stderr",
     "output_type": "stream",
     "text": [
      "Processing:  77%|█████████████████████████████████████▊           | 245/318 [01:25<00:33,  2.17it/s]"
     ]
    },
    {
     "name": "stdout",
     "output_type": "stream",
     "text": [
      "BTD:  (1, 0, 0) BTD_prod:  (1, 144, 156)\n",
      "BTD:  (1, 0, 0) BTD_prod:  (1, 144, 156)\n"
     ]
    },
    {
     "name": "stderr",
     "output_type": "stream",
     "text": [
      "Processing:  77%|█████████████████████████████████████▉           | 246/318 [01:26<00:33,  2.12it/s]"
     ]
    },
    {
     "name": "stdout",
     "output_type": "stream",
     "text": [
      "BTD:  (1, 0, 0) BTD_prod:  (1, 144, 156)\n",
      "BTD:  (1, 0, 0) BTD_prod:  (1, 144, 156)\n"
     ]
    },
    {
     "name": "stderr",
     "output_type": "stream",
     "text": [
      "Processing:  78%|██████████████████████████████████████           | 247/318 [01:26<00:34,  2.05it/s]"
     ]
    },
    {
     "name": "stdout",
     "output_type": "stream",
     "text": [
      "BTD:  (1, 0, 0) BTD_prod:  (1, 144, 156)\n",
      "BTD:  (1, 0, 0) BTD_prod:  (1, 144, 156)\n"
     ]
    },
    {
     "name": "stderr",
     "output_type": "stream",
     "text": [
      "Processing: 100%|█████████████████████████████████████████████████| 318/318 [01:48<00:00,  2.92it/s]\n"
     ]
    }
   ],
   "source": [
    "for nlct_date in tqdm(nlct_dates[:-1], desc=\"Processing\", ncols=100):\n",
    "    date, static_value = get_static_values(BTD_c, nlct_dir_path, nlct_date)\n",
    "    #print(date, static_value)\u0003\n",
    "    \n",
    "    data_to_add = {\n",
    "        'Date': date,\n",
    "        'StaticValue': static_value\n",
    "    }\n",
    "    df = df.append(data_to_add, ignore_index=True)"
   ]
  },
  {
   "cell_type": "code",
   "execution_count": 9,
   "id": "d49158e0-422e-4bf7-806d-ce0f426e2124",
   "metadata": {},
   "outputs": [
    {
     "data": {
      "text/html": [
       "<div>\n",
       "<style scoped>\n",
       "    .dataframe tbody tr th:only-of-type {\n",
       "        vertical-align: middle;\n",
       "    }\n",
       "\n",
       "    .dataframe tbody tr th {\n",
       "        vertical-align: top;\n",
       "    }\n",
       "\n",
       "    .dataframe thead th {\n",
       "        text-align: right;\n",
       "    }\n",
       "</style>\n",
       "<table border=\"1\" class=\"dataframe\">\n",
       "  <thead>\n",
       "    <tr style=\"text-align: right;\">\n",
       "      <th></th>\n",
       "      <th>Date</th>\n",
       "      <th>StaticValue</th>\n",
       "    </tr>\n",
       "  </thead>\n",
       "  <tbody>\n",
       "    <tr>\n",
       "      <th>0</th>\n",
       "      <td>2023-01-01</td>\n",
       "      <td>32.0</td>\n",
       "    </tr>\n",
       "    <tr>\n",
       "      <th>1</th>\n",
       "      <td>2023-01-02</td>\n",
       "      <td>724.0</td>\n",
       "    </tr>\n",
       "    <tr>\n",
       "      <th>2</th>\n",
       "      <td>2023-01-03</td>\n",
       "      <td>42.0</td>\n",
       "    </tr>\n",
       "    <tr>\n",
       "      <th>3</th>\n",
       "      <td>2023-01-04</td>\n",
       "      <td>6.0</td>\n",
       "    </tr>\n",
       "    <tr>\n",
       "      <th>4</th>\n",
       "      <td>2023-01-05</td>\n",
       "      <td>683.0</td>\n",
       "    </tr>\n",
       "    <tr>\n",
       "      <th>...</th>\n",
       "      <td>...</td>\n",
       "      <td>...</td>\n",
       "    </tr>\n",
       "    <tr>\n",
       "      <th>313</th>\n",
       "      <td>2023-11-10</td>\n",
       "      <td>273.0</td>\n",
       "    </tr>\n",
       "    <tr>\n",
       "      <th>314</th>\n",
       "      <td>2023-11-11</td>\n",
       "      <td>337.0</td>\n",
       "    </tr>\n",
       "    <tr>\n",
       "      <th>315</th>\n",
       "      <td>2023-11-12</td>\n",
       "      <td>4346.0</td>\n",
       "    </tr>\n",
       "    <tr>\n",
       "      <th>316</th>\n",
       "      <td>2023-11-13</td>\n",
       "      <td>1960.0</td>\n",
       "    </tr>\n",
       "    <tr>\n",
       "      <th>317</th>\n",
       "      <td>2023-11-14</td>\n",
       "      <td>664.0</td>\n",
       "    </tr>\n",
       "  </tbody>\n",
       "</table>\n",
       "<p>318 rows × 2 columns</p>\n",
       "</div>"
      ],
      "text/plain": [
       "          Date  StaticValue\n",
       "0   2023-01-01         32.0\n",
       "1   2023-01-02        724.0\n",
       "2   2023-01-03         42.0\n",
       "3   2023-01-04          6.0\n",
       "4   2023-01-05        683.0\n",
       "..         ...          ...\n",
       "313 2023-11-10        273.0\n",
       "314 2023-11-11        337.0\n",
       "315 2023-11-12       4346.0\n",
       "316 2023-11-13       1960.0\n",
       "317 2023-11-14        664.0\n",
       "\n",
       "[318 rows x 2 columns]"
      ]
     },
     "execution_count": 9,
     "metadata": {},
     "output_type": "execute_result"
    }
   ],
   "source": [
    "df"
   ]
  },
  {
   "cell_type": "code",
   "execution_count": 10,
   "id": "9804d343-954b-4ec3-8ead-c735437d44a7",
   "metadata": {},
   "outputs": [
    {
     "data": {
      "text/plain": [
       "[<matplotlib.lines.Line2D at 0x7ff0b97b7b20>]"
      ]
     },
     "execution_count": 10,
     "metadata": {},
     "output_type": "execute_result"
    },
    {
     "data": {
      "image/png": "[encoded data removed]",
      "text/plain": [
       "<Figure size 1200x300 with 1 Axes>"
      ]
     },
     "metadata": {},
     "output_type": "display_data"
    }
   ],
   "source": [
    "fig,ax=plt.subplots(1, figsize=(12,3))\n",
    "ax.set_ylabel(\"Total Static Feature Value\", fontsize=10)\n",
    "ax.set_xlabel(\"Datetime\", fontsize=10)\n",
    "ax.set_title(\"Static Elements for Georges Bank\", fontsize=25)\n",
    "\n",
    "ax.plot(df.Date, df.StaticValue, c='black', linewidth=3)"
   ]
  },
  {
   "cell_type": "markdown",
   "id": "1bdeb921-331e-4619-831b-aa93b22b99b1",
   "metadata": {},
   "source": [
    "Dates with the highest static feature scores:"
   ]
  },
  {
   "cell_type": "code",
   "execution_count": 11,
   "id": "3f7d8089-3df0-4474-9f3c-3cd154e28bcb",
   "metadata": {},
   "outputs": [
    {
     "data": {
      "text/html": [
       "<div>\n",
       "<style scoped>\n",
       "    .dataframe tbody tr th:only-of-type {\n",
       "        vertical-align: middle;\n",
       "    }\n",
       "\n",
       "    .dataframe tbody tr th {\n",
       "        vertical-align: top;\n",
       "    }\n",
       "\n",
       "    .dataframe thead th {\n",
       "        text-align: right;\n",
       "    }\n",
       "</style>\n",
       "<table border=\"1\" class=\"dataframe\">\n",
       "  <thead>\n",
       "    <tr style=\"text-align: right;\">\n",
       "      <th></th>\n",
       "      <th>Date</th>\n",
       "      <th>StaticValue</th>\n",
       "    </tr>\n",
       "  </thead>\n",
       "  <tbody>\n",
       "    <tr>\n",
       "      <th>148</th>\n",
       "      <td>2023-05-29</td>\n",
       "      <td>7850.0</td>\n",
       "    </tr>\n",
       "    <tr>\n",
       "      <th>300</th>\n",
       "      <td>2023-10-28</td>\n",
       "      <td>4539.0</td>\n",
       "    </tr>\n",
       "    <tr>\n",
       "      <th>8</th>\n",
       "      <td>2023-01-09</td>\n",
       "      <td>4461.0</td>\n",
       "    </tr>\n",
       "    <tr>\n",
       "      <th>115</th>\n",
       "      <td>2023-04-26</td>\n",
       "      <td>4435.0</td>\n",
       "    </tr>\n",
       "    <tr>\n",
       "      <th>315</th>\n",
       "      <td>2023-11-12</td>\n",
       "      <td>4346.0</td>\n",
       "    </tr>\n",
       "    <tr>\n",
       "      <th>...</th>\n",
       "      <td>...</td>\n",
       "      <td>...</td>\n",
       "    </tr>\n",
       "    <tr>\n",
       "      <th>241</th>\n",
       "      <td>2023-08-30</td>\n",
       "      <td>0.0</td>\n",
       "    </tr>\n",
       "    <tr>\n",
       "      <th>240</th>\n",
       "      <td>2023-08-29</td>\n",
       "      <td>0.0</td>\n",
       "    </tr>\n",
       "    <tr>\n",
       "      <th>118</th>\n",
       "      <td>2023-04-29</td>\n",
       "      <td>0.0</td>\n",
       "    </tr>\n",
       "    <tr>\n",
       "      <th>11</th>\n",
       "      <td>2023-01-12</td>\n",
       "      <td>0.0</td>\n",
       "    </tr>\n",
       "    <tr>\n",
       "      <th>71</th>\n",
       "      <td>2023-03-13</td>\n",
       "      <td>0.0</td>\n",
       "    </tr>\n",
       "  </tbody>\n",
       "</table>\n",
       "<p>318 rows × 2 columns</p>\n",
       "</div>"
      ],
      "text/plain": [
       "          Date  StaticValue\n",
       "148 2023-05-29       7850.0\n",
       "300 2023-10-28       4539.0\n",
       "8   2023-01-09       4461.0\n",
       "115 2023-04-26       4435.0\n",
       "315 2023-11-12       4346.0\n",
       "..         ...          ...\n",
       "241 2023-08-30          0.0\n",
       "240 2023-08-29          0.0\n",
       "118 2023-04-29          0.0\n",
       "11  2023-01-12          0.0\n",
       "71  2023-03-13          0.0\n",
       "\n",
       "[318 rows x 2 columns]"
      ]
     },
     "execution_count": 11,
     "metadata": {},
     "output_type": "execute_result"
    }
   ],
   "source": [
    "df_highest = df.sort_values(by='StaticValue', ascending=False)\n",
    "df_highest"
   ]
  },
  {
   "cell_type": "code",
   "execution_count": null,
   "id": "30a57df6-9140-47e9-a941-c74001eaad22",
   "metadata": {},
   "outputs": [],
   "source": []
  }
 ],
 "metadata": {
  "kernelspec": {
   "display_name": "Python 3 (ipykernel)",
   "language": "python",
   "name": "python3"
  },
  "language_info": {
   "codemirror_mode": {
    "name": "ipython",
    "version": 3
   },
   "file_extension": ".py",
   "mimetype": "text/x-python",
   "name": "python",
   "nbconvert_exporter": "python",
   "pygments_lexer": "ipython3",
   "version": "3.9.0"
  }
 },
 "nbformat": 4,
 "nbformat_minor": 5
}
