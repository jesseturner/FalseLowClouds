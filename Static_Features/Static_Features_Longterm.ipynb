{
 "cells": [
  {
   "cell_type": "code",
   "execution_count": 1,
   "id": "45066ae2-64fe-452e-be40-eaaf763b3af3",
   "metadata": {},
   "outputs": [],
   "source": [
    "import os\n",
    "import pickle\n",
    "import timeit\n",
    "from datetime import datetime, timedelta\n",
    "import numpy as np\n",
    "from tqdm import tqdm\n",
    "import pandas as pd\n",
    "import matplotlib.pyplot as plt"
   ]
  },
  {
   "cell_type": "code",
   "execution_count": 2,
   "id": "c93c4e57-e764-4ba9-9d2e-12e0c33f0652",
   "metadata": {},
   "outputs": [],
   "source": [
    "nlct_dir_path = \"/mnt/data2/jturner/nlct_data/georges_bank/\""
   ]
  },
  {
   "cell_type": "code",
   "execution_count": 3,
   "id": "23ae7ded-cb52-4978-b2ef-42d28b90a72c",
   "metadata": {},
   "outputs": [
    {
     "data": {
      "text/plain": [
       "['20230101',\n",
       " '20230102',\n",
       " '20230103',\n",
       " '20230104',\n",
       " '20230105',\n",
       " '20230106',\n",
       " '20230107']"
      ]
     },
     "execution_count": 3,
     "metadata": {},
     "output_type": "execute_result"
    }
   ],
   "source": [
    "nlct_dates = sorted(os.listdir(nlct_dir_path))\n",
    "\n",
    "#--- Removing any non-date directory items\n",
    "#--- Currently only including 2023\n",
    "nlct_dates = [x for x in nlct_dates if x[:4] == '2023']\n",
    "nlct_dates"
   ]
  },
  {
   "cell_type": "markdown",
   "id": "e01962ec-bc6f-45fd-a050-23102a6d7c56",
   "metadata": {},
   "source": [
    "Creating the static feature function: "
   ]
  },
  {
   "cell_type": "code",
   "execution_count": 4,
   "id": "558d32a9-9975-4b5c-aa3d-7ee299e749c0",
   "metadata": {},
   "outputs": [],
   "source": [
    "def get_static_features(BTD_c, nlct_dir_path, nlct_date):\n",
    "    #--- Initialize an array of 1's in the shape of the final image\n",
    "    BTD_prod = [ [1]*len(BTD_c[0][0]) for i in range(len(BTD_c[0]))]\n",
    "\n",
    "    #--- Starting the timer\n",
    "    starttime = timeit.default_timer()\n",
    "\n",
    "    #--- Include all times or just top of hour (TOH)\n",
    "    all_files = sorted(os.listdir(nlct_dir_path+nlct_date+'/'))\n",
    "    toh_files = [filename for filename in all_files if filename.endswith('00M')]\n",
    "\n",
    "    for filename in toh_files:\n",
    "\n",
    "            #--- Open the NLCT file\n",
    "            file = open(nlct_dir_path+nlct_date+'/'+filename, 'rb')\n",
    "            BTD = pickle.load(file)\n",
    "            file.close()\n",
    "\n",
    "            #--- Crop to the specified region\n",
    "            BTD = BTD.where((BTD.lat>min_lat) & (BTD.lat<max_lat) & (BTD.lon>min_lon) & (BTD.lon<max_lon))\n",
    "            BTD = BTD.dropna(dim=\"y\", how=\"all\")\n",
    "            BTD = BTD.dropna(dim=\"x\", how=\"all\")\n",
    "\n",
    "            #--- Set negative values to zero\n",
    "            BTD = np.where(BTD < 0, 0, BTD)\n",
    "\n",
    "            #--- V1: Multiply to only enhance static clouds\n",
    "            #BTD_prod = BTD_prod*BTD\n",
    "\n",
    "            #--- V1: Limit runaway large values to 3\n",
    "            #BTD_prod = np.where(BTD_prod > 3, 3, BTD_prod)\n",
    "            \n",
    "            #--- Mitigating error where BTD is not loaded\n",
    "            #if np.shape(BTD) != np.shape(BTD_prod):\n",
    "                #print('mismatched shapes')\n",
    "            \n",
    "            #--- V2: Sum to enhance static clouds\n",
    "            BTD_prod = np.array(BTD_prod)+np.array(BTD)\n",
    "            \n",
    "            #print(filename)\n",
    "            #print('BTD: ', np.shape(BTD), 'BTD_prod: ', np.shape(BTD_prod))\n",
    "\n",
    "\n",
    "    #print(\"Completed: \", timeit.default_timer() - starttime)\n",
    "\n",
    "    return BTD_prod"
   ]
  },
  {
   "cell_type": "markdown",
   "id": "ebd640cd-38b7-439c-bb77-cb533a2775f2",
   "metadata": {},
   "source": [
    "Creating the static value function: \n",
    "* currently calculates each day twice, can make more efficient"
   ]
  },
  {
   "cell_type": "code",
   "execution_count": 5,
   "id": "92703ebc-aeb6-48b8-a80d-aa0e8000015f",
   "metadata": {},
   "outputs": [],
   "source": [
    "def get_static_values(BTD_c, nlct_dir_path, nlct_date):\n",
    "    \n",
    "    BTD_prod = get_static_features(BTD_c, nlct_dir_path, nlct_date)\n",
    "    \n",
    "    #--- Create date variable\n",
    "    date = datetime.strptime(nlct_date, \"%Y%m%d\")\n",
    "    \n",
    "    #--- Get the next day in sequence\n",
    "    date2 = date + timedelta(days=1)\n",
    "    nlct_date2 = date2.strftime(\"%Y%m%d\")\n",
    "\n",
    "    #--- Run static features for the next day\n",
    "    BTD_prod2 = get_static_features(BTD_c, nlct_dir_path, nlct_date2)\n",
    "    \n",
    "    #--- Combine current day and next day static features\n",
    "    BTD_tot = BTD_prod + BTD_prod2\n",
    "    \n",
    "    #--- V2: Limit to top 25%\n",
    "    BTD_tot_lim = np.nan_to_num(BTD_tot, nan=0)\n",
    "    BTD_tot_lim = BTD_tot_lim/np.max(BTD_tot_lim)\n",
    "    limit = 0.75\n",
    "    BTD_tot_lim = np.where(BTD_tot_lim < limit, 0, BTD_tot_lim)\n",
    "    BTD_tot_lim = np.where(BTD_tot_lim > limit, 1, BTD_tot_lim)\n",
    "\n",
    "    #--- Convert BTD prod (2d array) to value\n",
    "    static_value = np.nansum(BTD_tot_lim)\n",
    "    \n",
    "    return date, static_value"
   ]
  },
  {
   "cell_type": "markdown",
   "id": "b664d2dd-bb90-473d-bb30-3c1cfa3977b5",
   "metadata": {},
   "source": [
    "Create sample to use as framework for loop:"
   ]
  },
  {
   "cell_type": "code",
   "execution_count": 6,
   "id": "64cb7e3d-0556-40eb-8895-6b9a8d8cce57",
   "metadata": {},
   "outputs": [],
   "source": [
    "sample_date = '20230101'\n",
    "sample_nlct_path = nlct_dir_path+sample_date+\"/\"\n",
    "sample_filename = 'goes_e_ntlc_'+sample_date[0:4]+'_'+sample_date[4:6]+'_'+sample_date[6:8]+'_00H_00M'\n",
    "\n",
    "file = open(sample_nlct_path+sample_filename, 'rb')\n",
    "BTD = pickle.load(file)\n",
    "file.close()\n",
    "\n",
    "#---Georges Bank\n",
    "min_lon = -70.5\n",
    "min_lat = 39\n",
    "max_lon = -67\n",
    "max_lat = 43\n",
    "\n",
    "BTD_c = BTD.where((BTD.lat>min_lat) & (BTD.lat<max_lat) & (BTD.lon>min_lon) & (BTD.lon<max_lon))\n",
    "BTD_c = BTD_c.dropna(dim=\"y\", how=\"all\")\n",
    "BTD_c = BTD_c.dropna(dim=\"x\", how=\"all\")"
   ]
  },
  {
   "cell_type": "markdown",
   "id": "8f503783-7075-48e7-9866-7a88544047ce",
   "metadata": {},
   "source": [
    "Running the static value function for each date in NLCT directory: "
   ]
  },
  {
   "cell_type": "code",
   "execution_count": 7,
   "id": "6e644abc-a4e5-4eea-990c-63f1fe52194d",
   "metadata": {},
   "outputs": [],
   "source": [
    "data = {'Date': [], 'StaticValue': []}\n",
    "df = pd.DataFrame(data)"
   ]
  },
  {
   "cell_type": "code",
   "execution_count": 8,
   "id": "618b1fb2-6bd1-434e-8913-a130a36dd75f",
   "metadata": {},
   "outputs": [
    {
     "name": "stderr",
     "output_type": "stream",
     "text": [
      "Processing: 100%|█████████████████████████████████████████████████████| 6/6 [00:01<00:00,  3.64it/s]\n"
     ]
    }
   ],
   "source": [
    "for nlct_date in tqdm(nlct_dates[:-1], desc=\"Processing\", ncols=100):\n",
    "    date, static_value = get_static_values(BTD_c, nlct_dir_path, nlct_date)\n",
    "    #print(date, static_value)\u0003\n",
    "    \n",
    "    data_to_add = {\n",
    "        'Date': date,\n",
    "        'StaticValue': static_value\n",
    "    }\n",
    "    df = df.append(data_to_add, ignore_index=True)"
   ]
  },
  {
   "cell_type": "code",
   "execution_count": 9,
   "id": "d49158e0-422e-4bf7-806d-ce0f426e2124",
   "metadata": {},
   "outputs": [
    {
     "data": {
      "text/html": [
       "<div>\n",
       "<style scoped>\n",
       "    .dataframe tbody tr th:only-of-type {\n",
       "        vertical-align: middle;\n",
       "    }\n",
       "\n",
       "    .dataframe tbody tr th {\n",
       "        vertical-align: top;\n",
       "    }\n",
       "\n",
       "    .dataframe thead th {\n",
       "        text-align: right;\n",
       "    }\n",
       "</style>\n",
       "<table border=\"1\" class=\"dataframe\">\n",
       "  <thead>\n",
       "    <tr style=\"text-align: right;\">\n",
       "      <th></th>\n",
       "      <th>Date</th>\n",
       "      <th>StaticValue</th>\n",
       "    </tr>\n",
       "  </thead>\n",
       "  <tbody>\n",
       "    <tr>\n",
       "      <th>0</th>\n",
       "      <td>2023-01-01</td>\n",
       "      <td>32.0</td>\n",
       "    </tr>\n",
       "    <tr>\n",
       "      <th>1</th>\n",
       "      <td>2023-01-02</td>\n",
       "      <td>724.0</td>\n",
       "    </tr>\n",
       "    <tr>\n",
       "      <th>2</th>\n",
       "      <td>2023-01-03</td>\n",
       "      <td>63.0</td>\n",
       "    </tr>\n",
       "    <tr>\n",
       "      <th>3</th>\n",
       "      <td>2023-01-04</td>\n",
       "      <td>46.0</td>\n",
       "    </tr>\n",
       "    <tr>\n",
       "      <th>4</th>\n",
       "      <td>2023-01-05</td>\n",
       "      <td>683.0</td>\n",
       "    </tr>\n",
       "    <tr>\n",
       "      <th>5</th>\n",
       "      <td>2023-01-06</td>\n",
       "      <td>579.0</td>\n",
       "    </tr>\n",
       "  </tbody>\n",
       "</table>\n",
       "</div>"
      ],
      "text/plain": [
       "        Date  StaticValue\n",
       "0 2023-01-01         32.0\n",
       "1 2023-01-02        724.0\n",
       "2 2023-01-03         63.0\n",
       "3 2023-01-04         46.0\n",
       "4 2023-01-05        683.0\n",
       "5 2023-01-06        579.0"
      ]
     },
     "execution_count": 9,
     "metadata": {},
     "output_type": "execute_result"
    }
   ],
   "source": [
    "df"
   ]
  },
  {
   "cell_type": "code",
   "execution_count": 10,
   "id": "9804d343-954b-4ec3-8ead-c735437d44a7",
   "metadata": {},
   "outputs": [
    {
     "data": {
      "text/plain": [
       "[<matplotlib.lines.Line2D at 0x7fd9611d7fd0>]"
      ]
     },
     "execution_count": 10,
     "metadata": {},
     "output_type": "execute_result"
    },
    {
     "data": {
      "image/png": "[encoded data removed]",
      "text/plain": [
       "<Figure size 1200x300 with 1 Axes>"
      ]
     },
     "metadata": {},
     "output_type": "display_data"
    }
   ],
   "source": [
    "fig,ax=plt.subplots(1, figsize=(12,3))\n",
    "ax.set_ylabel(\"Total Static Feature Value\", fontsize=10)\n",
    "ax.set_xlabel(\"Datetime\", fontsize=10)\n",
    "ax.set_title(\"Static Elements for Georges Bank\", fontsize=25)\n",
    "\n",
    "ax.plot(df.Date, df.StaticValue, c='black', linewidth=3)"
   ]
  },
  {
   "cell_type": "code",
   "execution_count": null,
   "id": "dfa17548-0585-4d30-8fbd-b078790ac359",
   "metadata": {},
   "outputs": [],
   "source": []
  },
  {
   "cell_type": "code",
   "execution_count": null,
   "id": "3f7d8089-3df0-4474-9f3c-3cd154e28bcb",
   "metadata": {},
   "outputs": [],
   "source": []
  }
 ],
 "metadata": {
  "kernelspec": {
   "display_name": "Python 3 (ipykernel)",
   "language": "python",
   "name": "python3"
  },
  "language_info": {
   "codemirror_mode": {
    "name": "ipython",
    "version": 3
   },
   "file_extension": ".py",
   "mimetype": "text/x-python",
   "name": "python",
   "nbconvert_exporter": "python",
   "pygments_lexer": "ipython3",
   "version": "3.9.0"
  }
 },
 "nbformat": 4,
 "nbformat_minor": 5
}
