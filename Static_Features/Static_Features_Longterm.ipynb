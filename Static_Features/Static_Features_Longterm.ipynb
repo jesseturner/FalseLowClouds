{
 "cells": [
  {
   "cell_type": "code",
   "execution_count": 5,
   "id": "45066ae2-64fe-452e-be40-eaaf763b3af3",
   "metadata": {},
   "outputs": [],
   "source": [
    "import os\n",
    "import pickle\n",
    "import timeit\n",
    "from datetime import datetime"
   ]
  },
  {
   "cell_type": "code",
   "execution_count": 6,
   "id": "c93c4e57-e764-4ba9-9d2e-12e0c33f0652",
   "metadata": {},
   "outputs": [],
   "source": [
    "nlct_dir_path = \"/home/jturner/false_low_clouds_2023/Nighttime_Low_Cloud_Test/nlct_data/\""
   ]
  },
  {
   "cell_type": "code",
   "execution_count": 17,
   "id": "23ae7ded-cb52-4978-b2ef-42d28b90a72c",
   "metadata": {},
   "outputs": [
    {
     "data": {
      "text/plain": [
       "['20220219', '20220914', '20230417', '20230427', '20230901', '20230907']"
      ]
     },
     "execution_count": 17,
     "metadata": {},
     "output_type": "execute_result"
    }
   ],
   "source": [
    "nlct_dates = sorted(os.listdir(nlct_dir_path))\n",
    "\n",
    "#---Removing any non-date directory items\n",
    "nlct_dates = [x for x in nlct_dates if len(x) == 8]\n",
    "\n",
    "nlct_dates"
   ]
  },
  {
   "cell_type": "code",
   "execution_count": null,
   "id": "92703ebc-aeb6-48b8-a80d-aa0e8000015f",
   "metadata": {},
   "outputs": [],
   "source": [
    "def find_static_features(BTD_c, nlct_dir_path, nlct_date):\n",
    "\n",
    "    #--- Initialize an array of 1's in the shape of the final image\n",
    "    BTD_prod = [ [1]*len(BTD_c[0][0]) for i in range(len(BTD_c[0]))]\n",
    "\n",
    "    #--- Starting the timer\n",
    "    starttime = timeit.default_timer()\n",
    "\n",
    "    for filename in sorted(os.listdir(nlct_path)):\n",
    "            print(filename)\n",
    "\n",
    "            #--- Open the NLCT file\n",
    "            file = open(nlct_dir_path+nlct_date+'/'+filename, 'rb')\n",
    "            BTD = pickle.load(file)\n",
    "            file.close()\n",
    "\n",
    "            #--- Crop to the specified region\n",
    "            BTD = BTD.where((BTD.lat>min_lat) & (BTD.lat<max_lat) & (BTD.lon>min_lon) & (BTD.lon<max_lon))\n",
    "            BTD = BTD.dropna(dim=\"y\", how=\"all\")\n",
    "            BTD = BTD.dropna(dim=\"x\", how=\"all\")\n",
    "\n",
    "            #--- Set negative values to zero\n",
    "            BTD = np.where(BTD < 0, 0, BTD)\n",
    "\n",
    "            #--- Multiply to only enhance static clouds\n",
    "            BTD_prod = BTD_prod*BTD\n",
    "\n",
    "            #--- Limit runaway large values to 3\n",
    "            BTD_prod = np.where(BTD_prod > 3, 3, BTD_prod)\n",
    "            \n",
    "            #--- Convert BTD prod (2d array) to value\n",
    "            static_value = np.nansum(BTD_prod)\n",
    "            \n",
    "            #--- Create date variable\n",
    "            date = datetime.strptime(nlct_date, \"%Y%m%d\")\n",
    "\n",
    "    print(\"Completed \", date, \": \", timeit.default_timer() - starttime)\n",
    "    \n",
    "    return date, static_value\n",
    "    "
   ]
  }
 ],
 "metadata": {
  "kernelspec": {
   "display_name": "Python 3 (ipykernel)",
   "language": "python",
   "name": "python3"
  },
  "language_info": {
   "codemirror_mode": {
    "name": "ipython",
    "version": 3
   },
   "file_extension": ".py",
   "mimetype": "text/x-python",
   "name": "python",
   "nbconvert_exporter": "python",
   "pygments_lexer": "ipython3",
   "version": "3.9.0"
  }
 },
 "nbformat": 4,
 "nbformat_minor": 5
}
