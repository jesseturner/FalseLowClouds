{
 "cells": [
  {
   "cell_type": "code",
   "execution_count": 6,
   "id": "1085e1dc",
   "metadata": {},
   "outputs": [],
   "source": [
    "import pickle"
   ]
  },
  {
   "cell_type": "code",
   "execution_count": 7,
   "id": "ee33d3b5",
   "metadata": {},
   "outputs": [],
   "source": [
    "path = \"/home/jturner/false_low_clouds_2023/Static_Features/estimation_data\"\n",
    "\n",
    "date = \"20220523\"\n",
    "\n",
    "#---Gulf Stream\n",
    "region = \"gulfstream\"\n",
    "min_lon = -83\n",
    "min_lat = 26\n",
    "max_lon = -51\n",
    "max_lat = 50"
   ]
  },
  {
   "cell_type": "code",
   "execution_count": 8,
   "id": "8be87398",
   "metadata": {},
   "outputs": [],
   "source": [
    "file = open(path+\"/\"+date+\"_static_elements_\"+region, 'rb')\n",
    "BTD = pickle.load(file)\n",
    "file.close()"
   ]
  },
  {
   "cell_type": "code",
   "execution_count": 9,
   "id": "685c98aa",
   "metadata": {},
   "outputs": [
    {
     "data": {
      "text/plain": [
       "array([[0., 0., 0., ..., 0., 0., 0.],\n",
       "       [0., 0., 0., ..., 0., 0., 0.],\n",
       "       [0., 0., 0., ..., 0., 0., 0.],\n",
       "       ...,\n",
       "       [0., 0., 0., ..., 0., 0., 0.],\n",
       "       [0., 0., 0., ..., 0., 0., 0.],\n",
       "       [0., 0., 0., ..., 0., 0., 0.]])"
      ]
     },
     "execution_count": 9,
     "metadata": {},
     "output_type": "execute_result"
    }
   ],
   "source": [
    "BTD"
   ]
  },
  {
   "cell_type": "code",
   "execution_count": null,
   "id": "88580bd1",
   "metadata": {},
   "outputs": [],
   "source": [
    "projection=ccrs.PlateCarree()\n",
    "fig,ax=plt.subplots(1, figsize=(12,12),subplot_kw={'projection': projection})\n",
    "cmap = plt.cm.YlGnBu\n",
    "#levels = np.linspace(np.amin(BTD), np.amax(BTD), 31)\n",
    "levels = np.linspace(0, 3, 31)\n",
    "\n",
    "c=ax.contourf(subset_07.Rad.lon, subset_07.Rad.lat, BTD, cmap=cmap, levels=levels, extend='max')\n",
    "clb=plt.colorbar(c, shrink=0.3, pad=0.02, ax=ax)\n",
    "ax.set_title('ABI Radiance ('+date+')')\n",
    "clb.set_label('BTD')\n",
    "\n",
    "ax.add_feature(cfeature.STATES)"
   ]
  }
 ],
 "metadata": {
  "kernelspec": {
   "display_name": "Python 3 (ipykernel)",
   "language": "python",
   "name": "python3"
  },
  "language_info": {
   "codemirror_mode": {
    "name": "ipython",
    "version": 3
   },
   "file_extension": ".py",
   "mimetype": "text/x-python",
   "name": "python",
   "nbconvert_exporter": "python",
   "pygments_lexer": "ipython3",
   "version": "3.9.0"
  }
 },
 "nbformat": 4,
 "nbformat_minor": 5
}
