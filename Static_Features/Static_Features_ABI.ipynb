{
 "cells": [
  {
   "cell_type": "markdown",
   "id": "b6257363",
   "metadata": {},
   "source": [
    "# False clouds in ABI static features\n",
    "\n",
    "Clouds that do not move or evolve are more likely to be false clouds. This program overlays ABI imagery in order to see which features do not evolve with time. \n",
    "\n",
    "ABI data is from /mnt/grb/goes16/ on smiller2"
   ]
  },
  {
   "cell_type": "code",
   "execution_count": null,
   "id": "12702912",
   "metadata": {},
   "outputs": [],
   "source": [
    "import xarray as xr\n",
    "import os\n",
    "import matplotlib.pyplot as plt\n",
    "import cartopy.crs as ccrs\n",
    "import cartopy.feature as cfeature\n",
    "import numpy as np\n",
    "from sklearn.preprocessing import normalize\n",
    "import fnmatch\n",
    "import pickle\n",
    "import timeit"
   ]
  },
  {
   "cell_type": "code",
   "execution_count": null,
   "id": "f0a84bed",
   "metadata": {},
   "outputs": [],
   "source": [
    "#--- Filter to the region\n",
    "\n",
    "#---Georges Bank\n",
    "min_lon = -71.5\n",
    "min_lat = 37\n",
    "max_lon = -64\n",
    "max_lat = 42.5"
   ]
  },
  {
   "cell_type": "markdown",
   "id": "bd7658f5",
   "metadata": {},
   "source": [
    "## Visualizing a specific time"
   ]
  },
  {
   "cell_type": "code",
   "execution_count": null,
   "id": "c96f21c0",
   "metadata": {},
   "outputs": [],
   "source": [
    "date = '20230909'\n",
    "\n",
    "nlct_path = \"/home/jturner/false_low_clouds_2023/Nighttime_Low_Cloud_Test/nlct_data/\"+date+\"/\"\n",
    "\n",
    "filename = 'goes_e_ntlc_'+date[0:4]+'_'+date[4:6]+'_'+date[6:8]+'_00H_00M'"
   ]
  },
  {
   "cell_type": "code",
   "execution_count": null,
   "id": "154c1338",
   "metadata": {},
   "outputs": [],
   "source": [
    "file = open(nlct_path+filename, 'rb')\n",
    "BTD = pickle.load(file)\n",
    "file.close()"
   ]
  },
  {
   "cell_type": "markdown",
   "id": "f0710c45",
   "metadata": {},
   "source": [
    "Filter the NLCT to the region of interest:"
   ]
  },
  {
   "cell_type": "code",
   "execution_count": null,
   "id": "e612f508",
   "metadata": {},
   "outputs": [],
   "source": [
    "BTD_c = BTD.where((BTD.lat>min_lat) & (BTD.lat<max_lat) & (BTD.lon>min_lon) & (BTD.lon<max_lon))\n",
    "BTD_c = BTD_c.dropna(dim=\"y\", how=\"all\")\n",
    "BTD_c = BTD_c.dropna(dim=\"x\", how=\"all\")"
   ]
  },
  {
   "cell_type": "code",
   "execution_count": null,
   "id": "7cbdaf24",
   "metadata": {},
   "outputs": [],
   "source": [
    "projection=ccrs.PlateCarree()\n",
    "fig,ax=plt.subplots(1, figsize=(12,12),subplot_kw={'projection': projection})\n",
    "cmap = plt.cm.YlGnBu\n",
    "#levels = np.linspace(0, np.amax(BTD), 31)\n",
    "\n",
    "c=ax.contourf(BTD_c.lon, BTD_c.lat, BTD_c[0], cmap=cmap) #levels=levels)\n",
    "clb=plt.colorbar(c, shrink=0.3, pad=0.02, ax=ax)\n",
    "ax.set_title('ABI BTD (11-3.9): ' + filename[12:])\n",
    "clb.set_label('BTD')\n",
    "\n",
    "ax.add_feature(cfeature.STATES)"
   ]
  },
  {
   "cell_type": "markdown",
   "id": "ee91b0e3",
   "metadata": {},
   "source": [
    "## Combining the range of times"
   ]
  },
  {
   "cell_type": "code",
   "execution_count": null,
   "id": "2090470c",
   "metadata": {},
   "outputs": [],
   "source": [
    "#--- Initialize an array of 1's in the shape of the final image\n",
    "BTD_prod = [ [1]*len(BTD_c[0][0]) for i in range(len(BTD_c[0]))]\n",
    "\n",
    "#--- Starting the timer\n",
    "starttime = timeit.default_timer()\n",
    "\n",
    "#--- Include all times or just top of hour (TOH)\n",
    "all_files = sorted(os.listdir(nlct_path))\n",
    "toh_files = [filename for filename in all_files if filename.endswith('00M')]\n",
    "\n",
    "for filename in toh_files:\n",
    "        print(filename)\n",
    "        \n",
    "        #--- Open the NLCT file\n",
    "        file = open(nlct_path+filename, 'rb')\n",
    "        BTD = pickle.load(file)\n",
    "        file.close()\n",
    "        \n",
    "        #--- Crop to the specified region\n",
    "        BTD = BTD.where((BTD.lat>min_lat) & (BTD.lat<max_lat) & (BTD.lon>min_lon) & (BTD.lon<max_lon))\n",
    "        BTD = BTD.dropna(dim=\"y\", how=\"all\")\n",
    "        BTD = BTD.dropna(dim=\"x\", how=\"all\")\n",
    "        \n",
    "        #--- Set negative values to zero\n",
    "        BTD = np.where(BTD < 0, 0, BTD)\n",
    "        \n",
    "        #--- V1: Multiply to only enhance static clouds\n",
    "        #BTD_prod = BTD_prod*BTD\n",
    "        \n",
    "        #--- V1: Limit runaway large values to 3\n",
    "        #BTD_prod = np.where(BTD_prod > 3, 3, BTD_prod)\n",
    "        \n",
    "        #--- V2: Sum to enhance static clouds\n",
    "        BTD_prod = BTD_prod+BTD\n",
    "        \n",
    "        \n",
    "print(\"Completed: \", timeit.default_timer() - starttime)"
   ]
  },
  {
   "cell_type": "markdown",
   "id": "18127afd-bc84-42f5-a7c6-1110bd307df4",
   "metadata": {},
   "source": [
    "V2 processing of summed BTD (do not run for V1):"
   ]
  },
  {
   "cell_type": "code",
   "execution_count": null,
   "id": "85c045bc-b32e-4e39-9921-54cd21113972",
   "metadata": {},
   "outputs": [],
   "source": [
    "#--- V2: Limit to top 25%\n",
    "BTD_prod = np.nan_to_num(BTD_prod, nan=0)\n",
    "BTD_prod = BTD_prod/np.max(BTD_prod)\n",
    "limit = 0.75\n",
    "BTD_prod = np.where(BTD_prod < limit, 0, BTD_prod)\n",
    "BTD_prod = np.where(BTD_prod > limit, 1, BTD_prod)"
   ]
  },
  {
   "cell_type": "code",
   "execution_count": null,
   "id": "c3147893",
   "metadata": {},
   "outputs": [],
   "source": [
    "projection=ccrs.PlateCarree()\n",
    "fig,ax=plt.subplots(1, figsize=(12,12),subplot_kw={'projection': projection})\n",
    "cmap = plt.cm.YlGnBu\n",
    "#levels = np.linspace(0, 3, 31)\n",
    "#levels = np.linspace(0, 1, 11)\n",
    "\n",
    "c=ax.contourf(BTD_c.lon, BTD_c.lat, BTD_prod[0], cmap=cmap)#, levels=levels, extend='neither')\n",
    "clb=plt.colorbar(c, shrink=0.3, pad=0.02, ax=ax)\n",
    "ax.set_title('Static Features V2: '+date, fontsize=30)\n",
    "clb.set_label('BTD')\n",
    "\n",
    "ax.add_feature(cfeature.STATES)"
   ]
  },
  {
   "cell_type": "code",
   "execution_count": null,
   "id": "145e7861",
   "metadata": {},
   "outputs": [],
   "source": [
    "static_value = np.nansum(BTD_prod)\n",
    "static_value"
   ]
  },
  {
   "cell_type": "code",
   "execution_count": null,
   "id": "44b4bec8-bcbb-4290-8a6b-8f6b67deb34f",
   "metadata": {},
   "outputs": [],
   "source": []
  }
 ],
 "metadata": {
  "kernelspec": {
   "display_name": "Python 3 (ipykernel)",
   "language": "python",
   "name": "python3"
  },
  "language_info": {
   "codemirror_mode": {
    "name": "ipython",
    "version": 3
   },
   "file_extension": ".py",
   "mimetype": "text/x-python",
   "name": "python",
   "nbconvert_exporter": "python",
   "pygments_lexer": "ipython3",
   "version": "3.9.0"
  }
 },
 "nbformat": 4,
 "nbformat_minor": 5
}
