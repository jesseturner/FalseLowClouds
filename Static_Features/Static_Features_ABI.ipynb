{
 "cells": [
  {
   "cell_type": "markdown",
   "id": "b6257363",
   "metadata": {},
   "source": [
    "# False clouds in ABI static features\n",
    "\n",
    "Clouds that do not move or evolve are more likely to be false clouds. This program overlays ABI imagery in order to see which features do not evolve with time. \n",
    "\n",
    "ABI data is from /mnt/grb/goes16/ on smiller2"
   ]
  },
  {
   "cell_type": "code",
   "execution_count": 1,
   "id": "12702912",
   "metadata": {},
   "outputs": [],
   "source": [
    "import xarray as xr\n",
    "import os\n",
    "import matplotlib.pyplot as plt\n",
    "import cartopy.crs as ccrs\n",
    "import cartopy.feature as cfeature\n",
    "import numpy as np"
   ]
  },
  {
   "cell_type": "code",
   "execution_count": 2,
   "id": "01f073c5",
   "metadata": {},
   "outputs": [],
   "source": [
    "date = \"20220914\"\n",
    "\n",
    "root = \"/home/jturner/false_low_clouds_2023/Static_Features/\"+date"
   ]
  },
  {
   "cell_type": "markdown",
   "id": "bd7658f5",
   "metadata": {},
   "source": [
    "## Visualizing a specific time"
   ]
  },
  {
   "cell_type": "code",
   "execution_count": 3,
   "id": "462cf144",
   "metadata": {},
   "outputs": [],
   "source": [
    "data_1 = xr.open_dataset(root+'/OR_ABI-L1b-RadF-M6C16_G16_s20222570610207_e20222570619526_c20222570619591.nc')"
   ]
  },
  {
   "cell_type": "code",
   "execution_count": 4,
   "id": "5598728f",
   "metadata": {},
   "outputs": [],
   "source": [
    "#--- Filter to the region\n",
    "\n",
    "#---Georges Bank\n",
    "min_lon = -71.5\n",
    "min_lat = 37\n",
    "max_lon = -64\n",
    "max_lat = 42.5"
   ]
  },
  {
   "cell_type": "code",
   "execution_count": 5,
   "id": "7f262869",
   "metadata": {},
   "outputs": [],
   "source": [
    "def calc_latlon(ds):\n",
    "    # The math for this function was taken from \n",
    "    # https://makersportal.com/blog/2018/11/25/goes-r-satellite-latitude-and-longitude-grid-projection-algorithm\n",
    "    x = ds.x\n",
    "    y = ds.y\n",
    "    goes_imager_projection = ds.goes_imager_projection\n",
    "    \n",
    "    x,y = np.meshgrid(x,y)\n",
    "    \n",
    "    r_eq = goes_imager_projection.attrs[\"semi_major_axis\"]\n",
    "    r_pol = goes_imager_projection.attrs[\"semi_minor_axis\"]\n",
    "    l_0 = goes_imager_projection.attrs[\"longitude_of_projection_origin\"] * (np.pi/180)\n",
    "    h_sat = goes_imager_projection.attrs[\"perspective_point_height\"]\n",
    "    H = r_eq + h_sat\n",
    "    \n",
    "    a = np.sin(x)**2 + (np.cos(x)**2 * (np.cos(y)**2 + (r_eq**2 / r_pol**2) * np.sin(y)**2))\n",
    "    b = -2 * H * np.cos(x) * np.cos(y)\n",
    "    c = H**2 - r_eq**2\n",
    "    \n",
    "    r_s = (-b - np.sqrt(b**2 - 4*a*c))/(2*a)\n",
    "    \n",
    "    s_x = r_s * np.cos(x) * np.cos(y)\n",
    "    s_y = -r_s * np.sin(x)\n",
    "    s_z = r_s * np.cos(x) * np.sin(y)\n",
    "    \n",
    "    lat = np.arctan((r_eq**2 / r_pol**2) * (s_z / np.sqrt((H-s_x)**2 +s_y**2))) * (180/np.pi)\n",
    "    lon = (l_0 - np.arctan(s_y / (H-s_x))) * (180/np.pi)\n",
    "    \n",
    "    ds = ds.assign_coords({\n",
    "        \"lat\":([\"y\",\"x\"],lat),\n",
    "        \"lon\":([\"y\",\"x\"],lon)\n",
    "    })\n",
    "    ds.lat.attrs[\"units\"] = \"degrees_north\"\n",
    "    ds.lon.attrs[\"units\"] = \"degrees_east\"\n",
    "    return ds"
   ]
  },
  {
   "cell_type": "code",
   "execution_count": 6,
   "id": "80323b6d",
   "metadata": {},
   "outputs": [],
   "source": [
    "def get_xy_from_latlon(ds, lats, lons):\n",
    "    lat1, lat2 = lats\n",
    "    lon1, lon2 = lons\n",
    "\n",
    "    lat = ds.lat.data\n",
    "    lon = ds.lon.data\n",
    "    \n",
    "    x = ds.x.data\n",
    "    y = ds.y.data\n",
    "    \n",
    "    x,y = np.meshgrid(x,y)\n",
    "    \n",
    "    x = x[(lat >= lat1) & (lat <= lat2) & (lon >= lon1) & (lon <= lon2)]\n",
    "    y = y[(lat >= lat1) & (lat <= lat2) & (lon >= lon1) & (lon <= lon2)] \n",
    "    \n",
    "    return ((min(x), max(x)), (min(y), max(y)))"
   ]
  },
  {
   "cell_type": "code",
   "execution_count": 7,
   "id": "c9819423",
   "metadata": {},
   "outputs": [
    {
     "name": "stderr",
     "output_type": "stream",
     "text": [
      "/tmp/ipykernel_9090/1456945755.py:20: RuntimeWarning: invalid value encountered in sqrt\n",
      "  r_s = (-b - np.sqrt(b**2 - 4*a*c))/(2*a)\n"
     ]
    }
   ],
   "source": [
    "ds = calc_latlon(data_1)"
   ]
  },
  {
   "cell_type": "code",
   "execution_count": 8,
   "id": "ab1a758a",
   "metadata": {},
   "outputs": [],
   "source": [
    "lats = (min_lat, max_lat)\n",
    "lons = (min_lon, max_lon)"
   ]
  },
  {
   "cell_type": "code",
   "execution_count": 9,
   "id": "f6d25450",
   "metadata": {},
   "outputs": [],
   "source": [
    "((x1,x2), (y1, y2)) = get_xy_from_latlon(ds, lats, lons)"
   ]
  },
  {
   "cell_type": "code",
   "execution_count": 10,
   "id": "e1116bcb",
   "metadata": {},
   "outputs": [],
   "source": [
    "subset = ds.sel(x=slice(x1, x2), y=slice(y2, y1))"
   ]
  },
  {
   "cell_type": "code",
   "execution_count": 25,
   "id": "7cbdaf24",
   "metadata": {},
   "outputs": [
    {
     "data": {
      "text/plain": [
       "<cartopy.mpl.feature_artist.FeatureArtist at 0x7fefbda61d90>"
      ]
     },
     "execution_count": 25,
     "metadata": {},
     "output_type": "execute_result"
    },
    {
     "data": {
      "image/png": "[encoded data removed]",
      "text/plain": [
       "<Figure size 1200x1200 with 2 Axes>"
      ]
     },
     "metadata": {},
     "output_type": "display_data"
    }
   ],
   "source": [
    "projection=ccrs.PlateCarree()\n",
    "fig,ax=plt.subplots(1, figsize=(12,12),subplot_kw={'projection': projection})\n",
    "cmap = plt.cm.Spectral_r\n",
    "#levels = np.linspace(-0.5, 0.5, 31)\n",
    "\n",
    "c=ax.contourf(subset.Rad.lon, subset.Rad.lat, subset.Rad, cmap=cmap)\n",
    "clb=plt.colorbar(c, shrink=0.3, pad=0.02, ax=ax)\n",
    "ax.set_title('ABI Radiance ('+str(subset.t.values)+')')\n",
    "clb.set_label('')\n",
    "\n",
    "ax.coastlines(resolution='110m')\n",
    "ax.add_feature(cfeature.BORDERS)\n",
    "ax.add_feature(cfeature.STATES)"
   ]
  },
  {
   "cell_type": "markdown",
   "id": "ee91b0e3",
   "metadata": {},
   "source": [
    "## Combining the range of times"
   ]
  },
  {
   "cell_type": "code",
   "execution_count": 26,
   "id": "6a8bdc3c",
   "metadata": {},
   "outputs": [
    {
     "name": "stdout",
     "output_type": "stream",
     "text": [
      "OR_ABI-L1b-RadF-M6C16_G16_s20222570610207_e20222570619526_c20222570619591.nc\n",
      "OR_ABI-L1b-RadF-M6C16_G16_s20222570510207_e20222570519526_c20222570519587.nc\n",
      "OR_ABI-L1b-RadF-M6C16_G16_s20222570520207_e20222570529526_c20222570529582.nc\n",
      "OR_ABI-L1b-RadF-M6C16_G16_s20222570730207_e20222570739526_c20222570739589.nc\n",
      "OR_ABI-L1b-RadF-M6C16_G16_s20222570650207_e20222570659526_c20222570659583.nc\n",
      "OR_ABI-L1b-RadF-M6C16_G16_s20222570630207_e20222570639526_c20222570639596.nc\n",
      "OR_ABI-L1b-RadF-M6C16_G16_s20222570620207_e20222570629526_c20222570629586.nc\n",
      "OR_ABI-L1b-RadF-M6C16_G16_s20222570740207_e20222570749526_c20222570749580.nc\n",
      "OR_ABI-L1b-RadF-M6C16_G16_s20222570540207_e20222570549526_c20222570549596.nc\n",
      "OR_ABI-L1b-RadF-M6C16_G16_s20222570700207_e20222570709526_c20222570709585.nc\n",
      "OR_ABI-L1b-RadF-M6C16_G16_s20222570750207_e20222570759526_c20222570759585.nc\n",
      "OR_ABI-L1b-RadF-M6C16_G16_s20222570550207_e20222570559526_c20222570559587.nc\n",
      "OR_ABI-L1b-RadF-M6C16_G16_s20222570710207_e20222570719526_c20222570719591.nc\n",
      "OR_ABI-L1b-RadF-M6C16_G16_s20222570720207_e20222570729526_c20222570729595.nc\n",
      "OR_ABI-L1b-RadF-M6C16_G16_s20222570640207_e20222570649526_c20222570649581.nc\n",
      "OR_ABI-L1b-RadF-M6C16_G16_s20222570530207_e20222570539526_c20222570539587.nc\n",
      "OR_ABI-L1b-RadF-M6C16_G16_s20222570600207_e20222570609526_c20222570609594.nc\n",
      "OR_ABI-L1b-RadF-M6C16_G16_s20222570500207_e20222570509526_c20222570509587.nc\n"
     ]
    }
   ],
   "source": [
    "abi_3d_xarray = []\n",
    "\n",
    "for filename in os.listdir(root):\n",
    "    \n",
    "    print(filename)\n",
    "    \n",
    "    #abi_3d_xarray.append(FLC_warn_xarray(filename))"
   ]
  },
  {
   "cell_type": "code",
   "execution_count": 28,
   "id": "7925efba",
   "metadata": {},
   "outputs": [
    {
     "data": {
      "text/html": [
       "<div><svg style=\"position: absolute; width: 0; height: 0; overflow: hidden\">\n",
       "<defs>\n",
       "<symbol id=\"icon-database\" viewBox=\"0 0 32 32\">\n",
       "<path d=\"M16 0c-8.837 0-16 2.239-16 5v4c0 2.761 7.163 5 16 5s16-2.239 16-5v-4c0-2.761-7.163-5-16-5z\"></path>\n",
       "<path d=\"M16 17c-8.837 0-16-2.239-16-5v6c0 2.761 7.163 5 16 5s16-2.239 16-5v-6c0 2.761-7.163 5-16 5z\"></path>\n",
       "<path d=\"M16 26c-8.837 0-16-2.239-16-5v6c0 2.761 7.163 5 16 5s16-2.239 16-5v-6c0 2.761-7.163 5-16 5z\"></path>\n",
       "</symbol>\n",
       "<symbol id=\"icon-file-text2\" viewBox=\"0 0 32 32\">\n",
       "<path d=\"M28.681 7.159c-0.694-0.947-1.662-2.053-2.724-3.116s-2.169-2.030-3.116-2.724c-1.612-1.182-2.393-1.319-2.841-1.319h-15.5c-1.378 0-2.5 1.121-2.5 2.5v27c0 1.378 1.122 2.5 2.5 2.5h23c1.378 0 2.5-1.122 2.5-2.5v-19.5c0-0.448-0.137-1.23-1.319-2.841zM24.543 5.457c0.959 0.959 1.712 1.825 2.268 2.543h-4.811v-4.811c0.718 0.556 1.584 1.309 2.543 2.268zM28 29.5c0 0.271-0.229 0.5-0.5 0.5h-23c-0.271 0-0.5-0.229-0.5-0.5v-27c0-0.271 0.229-0.5 0.5-0.5 0 0 15.499-0 15.5 0v7c0 0.552 0.448 1 1 1h7v19.5z\"></path>\n",
       "<path d=\"M23 26h-14c-0.552 0-1-0.448-1-1s0.448-1 1-1h14c0.552 0 1 0.448 1 1s-0.448 1-1 1z\"></path>\n",
       "<path d=\"M23 22h-14c-0.552 0-1-0.448-1-1s0.448-1 1-1h14c0.552 0 1 0.448 1 1s-0.448 1-1 1z\"></path>\n",
       "<path d=\"M23 18h-14c-0.552 0-1-0.448-1-1s0.448-1 1-1h14c0.552 0 1 0.448 1 1s-0.448 1-1 1z\"></path>\n",
       "</symbol>\n",
       "</defs>\n",
       "</svg>\n",
       "<style>/* CSS stylesheet for displaying xarray objects in jupyterlab.\n",
       " *\n",
       " */\n",
       "\n",
       ":root {\n",
       "  --xr-font-color0: var(--jp-content-font-color0, rgba(0, 0, 0, 1));\n",
       "  --xr-font-color2: var(--jp-content-font-color2, rgba(0, 0, 0, 0.54));\n",
       "  --xr-font-color3: var(--jp-content-font-color3, rgba(0, 0, 0, 0.38));\n",
       "  --xr-border-color: var(--jp-border-color2, #e0e0e0);\n",
       "  --xr-disabled-color: var(--jp-layout-color3, #bdbdbd);\n",
       "  --xr-background-color: var(--jp-layout-color0, white);\n",
       "  --xr-background-color-row-even: var(--jp-layout-color1, white);\n",
       "  --xr-background-color-row-odd: var(--jp-layout-color2, #eeeeee);\n",
       "}\n",
       "\n",
       "html[theme=dark],\n",
       "body.vscode-dark {\n",
       "  --xr-font-color0: rgba(255, 255, 255, 1);\n",
       "  --xr-font-color2: rgba(255, 255, 255, 0.54);\n",
       "  --xr-font-color3: rgba(255, 255, 255, 0.38);\n",
       "  --xr-border-color: #1F1F1F;\n",
       "  --xr-disabled-color: #515151;\n",
       "  --xr-background-color: #111111;\n",
       "  --xr-background-color-row-even: #111111;\n",
       "  --xr-background-color-row-odd: #313131;\n",
       "}\n",
       "\n",
       ".xr-wrap {\n",
       "  display: block;\n",
       "  min-width: 300px;\n",
       "  max-width: 700px;\n",
       "}\n",
       "\n",
       ".xr-text-repr-fallback {\n",
       "  /* fallback to plain text repr when CSS is not injected (untrusted notebook) */\n",
       "  display: none;\n",
       "}\n",
       "\n",
       ".xr-header {\n",
       "  padding-top: 6px;\n",
       "  padding-bottom: 6px;\n",
       "  margin-bottom: 4px;\n",
       "  border-bottom: solid 1px var(--xr-border-color);\n",
       "}\n",
       "\n",
       ".xr-header > div,\n",
       ".xr-header > ul {\n",
       "  display: inline;\n",
       "  margin-top: 0;\n",
       "  margin-bottom: 0;\n",
       "}\n",
       "\n",
       ".xr-obj-type,\n",
       ".xr-array-name {\n",
       "  margin-left: 2px;\n",
       "  margin-right: 10px;\n",
       "}\n",
       "\n",
       ".xr-obj-type {\n",
       "  color: var(--xr-font-color2);\n",
       "}\n",
       "\n",
       ".xr-sections {\n",
       "  padding-left: 0 !important;\n",
       "  display: grid;\n",
       "  grid-template-columns: 150px auto auto 1fr 20px 20px;\n",
       "}\n",
       "\n",
       ".xr-section-item {\n",
       "  display: contents;\n",
       "}\n",
       "\n",
       ".xr-section-item input {\n",
       "  display: none;\n",
       "}\n",
       "\n",
       ".xr-section-item input + label {\n",
       "  color: var(--xr-disabled-color);\n",
       "}\n",
       "\n",
       ".xr-section-item input:enabled + label {\n",
       "  cursor: pointer;\n",
       "  color: var(--xr-font-color2);\n",
       "}\n",
       "\n",
       ".xr-section-item input:enabled + label:hover {\n",
       "  color: var(--xr-font-color0);\n",
       "}\n",
       "\n",
       ".xr-section-summary {\n",
       "  grid-column: 1;\n",
       "  color: var(--xr-font-color2);\n",
       "  font-weight: 500;\n",
       "}\n",
       "\n",
       ".xr-section-summary > span {\n",
       "  display: inline-block;\n",
       "  padding-left: 0.5em;\n",
       "}\n",
       "\n",
       ".xr-section-summary-in:disabled + label {\n",
       "  color: var(--xr-font-color2);\n",
       "}\n",
       "\n",
       ".xr-section-summary-in + label:before {\n",
       "  display: inline-block;\n",
       "  content: '►';\n",
       "  font-size: 11px;\n",
       "  width: 15px;\n",
       "  text-align: center;\n",
       "}\n",
       "\n",
       ".xr-section-summary-in:disabled + label:before {\n",
       "  color: var(--xr-disabled-color);\n",
       "}\n",
       "\n",
       ".xr-section-summary-in:checked + label:before {\n",
       "  content: '▼';\n",
       "}\n",
       "\n",
       ".xr-section-summary-in:checked + label > span {\n",
       "  display: none;\n",
       "}\n",
       "\n",
       ".xr-section-summary,\n",
       ".xr-section-inline-details {\n",
       "  padding-top: 4px;\n",
       "  padding-bottom: 4px;\n",
       "}\n",
       "\n",
       ".xr-section-inline-details {\n",
       "  grid-column: 2 / -1;\n",
       "}\n",
       "\n",
       ".xr-section-details {\n",
       "  display: none;\n",
       "  grid-column: 1 / -1;\n",
       "  margin-bottom: 5px;\n",
       "}\n",
       "\n",
       ".xr-section-summary-in:checked ~ .xr-section-details {\n",
       "  display: contents;\n",
       "}\n",
       "\n",
       ".xr-array-wrap {\n",
       "  grid-column: 1 / -1;\n",
       "  display: grid;\n",
       "  grid-template-columns: 20px auto;\n",
       "}\n",
       "\n",
       ".xr-array-wrap > label {\n",
       "  grid-column: 1;\n",
       "  vertical-align: top;\n",
       "}\n",
       "\n",
       ".xr-preview {\n",
       "  color: var(--xr-font-color3);\n",
       "}\n",
       "\n",
       ".xr-array-preview,\n",
       ".xr-array-data {\n",
       "  padding: 0 5px !important;\n",
       "  grid-column: 2;\n",
       "}\n",
       "\n",
       ".xr-array-data,\n",
       ".xr-array-in:checked ~ .xr-array-preview {\n",
       "  display: none;\n",
       "}\n",
       "\n",
       ".xr-array-in:checked ~ .xr-array-data,\n",
       ".xr-array-preview {\n",
       "  display: inline-block;\n",
       "}\n",
       "\n",
       ".xr-dim-list {\n",
       "  display: inline-block !important;\n",
       "  list-style: none;\n",
       "  padding: 0 !important;\n",
       "  margin: 0;\n",
       "}\n",
       "\n",
       ".xr-dim-list li {\n",
       "  display: inline-block;\n",
       "  padding: 0;\n",
       "  margin: 0;\n",
       "}\n",
       "\n",
       ".xr-dim-list:before {\n",
       "  content: '(';\n",
       "}\n",
       "\n",
       ".xr-dim-list:after {\n",
       "  content: ')';\n",
       "}\n",
       "\n",
       ".xr-dim-list li:not(:last-child):after {\n",
       "  content: ',';\n",
       "  padding-right: 5px;\n",
       "}\n",
       "\n",
       ".xr-has-index {\n",
       "  font-weight: bold;\n",
       "}\n",
       "\n",
       ".xr-var-list,\n",
       ".xr-var-item {\n",
       "  display: contents;\n",
       "}\n",
       "\n",
       ".xr-var-item > div,\n",
       ".xr-var-item label,\n",
       ".xr-var-item > .xr-var-name span {\n",
       "  background-color: var(--xr-background-color-row-even);\n",
       "  margin-bottom: 0;\n",
       "}\n",
       "\n",
       ".xr-var-item > .xr-var-name:hover span {\n",
       "  padding-right: 5px;\n",
       "}\n",
       "\n",
       ".xr-var-list > li:nth-child(odd) > div,\n",
       ".xr-var-list > li:nth-child(odd) > label,\n",
       ".xr-var-list > li:nth-child(odd) > .xr-var-name span {\n",
       "  background-color: var(--xr-background-color-row-odd);\n",
       "}\n",
       "\n",
       ".xr-var-name {\n",
       "  grid-column: 1;\n",
       "}\n",
       "\n",
       ".xr-var-dims {\n",
       "  grid-column: 2;\n",
       "}\n",
       "\n",
       ".xr-var-dtype {\n",
       "  grid-column: 3;\n",
       "  text-align: right;\n",
       "  color: var(--xr-font-color2);\n",
       "}\n",
       "\n",
       ".xr-var-preview {\n",
       "  grid-column: 4;\n",
       "}\n",
       "\n",
       ".xr-var-name,\n",
       ".xr-var-dims,\n",
       ".xr-var-dtype,\n",
       ".xr-preview,\n",
       ".xr-attrs dt {\n",
       "  white-space: nowrap;\n",
       "  overflow: hidden;\n",
       "  text-overflow: ellipsis;\n",
       "  padding-right: 10px;\n",
       "}\n",
       "\n",
       ".xr-var-name:hover,\n",
       ".xr-var-dims:hover,\n",
       ".xr-var-dtype:hover,\n",
       ".xr-attrs dt:hover {\n",
       "  overflow: visible;\n",
       "  width: auto;\n",
       "  z-index: 1;\n",
       "}\n",
       "\n",
       ".xr-var-attrs,\n",
       ".xr-var-data {\n",
       "  display: none;\n",
       "  background-color: var(--xr-background-color) !important;\n",
       "  padding-bottom: 5px !important;\n",
       "}\n",
       "\n",
       ".xr-var-attrs-in:checked ~ .xr-var-attrs,\n",
       ".xr-var-data-in:checked ~ .xr-var-data {\n",
       "  display: block;\n",
       "}\n",
       "\n",
       ".xr-var-data > table {\n",
       "  float: right;\n",
       "}\n",
       "\n",
       ".xr-var-name span,\n",
       ".xr-var-data,\n",
       ".xr-attrs {\n",
       "  padding-left: 25px !important;\n",
       "}\n",
       "\n",
       ".xr-attrs,\n",
       ".xr-var-attrs,\n",
       ".xr-var-data {\n",
       "  grid-column: 1 / -1;\n",
       "}\n",
       "\n",
       "dl.xr-attrs {\n",
       "  padding: 0;\n",
       "  margin: 0;\n",
       "  display: grid;\n",
       "  grid-template-columns: 125px auto;\n",
       "}\n",
       "\n",
       ".xr-attrs dt, dd {\n",
       "  padding: 0;\n",
       "  margin: 0;\n",
       "  float: left;\n",
       "  padding-right: 10px;\n",
       "  width: auto;\n",
       "}\n",
       "\n",
       ".xr-attrs dt {\n",
       "  font-weight: normal;\n",
       "  grid-column: 1;\n",
       "}\n",
       "\n",
       ".xr-attrs dt:hover span {\n",
       "  display: inline-block;\n",
       "  background: var(--xr-background-color);\n",
       "  padding-right: 10px;\n",
       "}\n",
       "\n",
       ".xr-attrs dd {\n",
       "  grid-column: 2;\n",
       "  white-space: pre-wrap;\n",
       "  word-break: break-all;\n",
       "}\n",
       "\n",
       ".xr-icon-database,\n",
       ".xr-icon-file-text2 {\n",
       "  display: inline-block;\n",
       "  vertical-align: middle;\n",
       "  width: 1em;\n",
       "  height: 1.5em !important;\n",
       "  stroke-width: 0;\n",
       "  stroke: currentColor;\n",
       "  fill: currentColor;\n",
       "}\n",
       "</style><pre class='xr-text-repr-fallback'>&lt;xarray.DataArray &#x27;Rad&#x27; (y: 206, x: 329)&gt;\n",
       "array([[93.70569 , 93.881744, 93.70569 , ..., 87.89576 , 87.015465, 86.663345],\n",
       "       [93.70569 , 93.881744, 94.05781 , ..., 89.12817 , 87.719696, 87.54364 ],\n",
       "       [94.05781 , 94.05781 , 94.40992 , ..., 87.719696, 88.24787 , 87.89576 ],\n",
       "       ...,\n",
       "       [73.45896 , 74.51531 , 79.44495 , ..., 98.63533 , 98.98744 , 98.811386],\n",
       "       [73.81107 , 79.092834, 85.43094 , ..., 98.98744 , 98.811386, 98.28321 ],\n",
       "       [77.684364, 83.84641 , 84.19853 , ..., 98.98744 , 98.107155, 97.93109 ]],\n",
       "      dtype=float32)\n",
       "Coordinates:\n",
       "  * y        (y) float32 0.11387599 0.113819994 ... 0.102451995 0.102396\n",
       "  * x        (x) float32 0.0076440126 0.007700011 ... 0.025956005 0.026012003\n",
       "    t        datetime64[ns] 2022-09-14T06:15:06.678364032\n",
       "    y_image  float32 0.0\n",
       "    x_image  float32 0.0\n",
       "    lat      (y, x) float32 42.472664 42.472725 42.473076 ... 37.0087 37.009174\n",
       "    lon      (y, x) float32 -71.49289 -71.467155 ... -64.03719 -64.01304\n",
       "Attributes:\n",
       "    long_name:              ABI L1b Radiances\n",
       "    standard_name:          toa_outgoing_radiance_per_unit_wavenumber\n",
       "    sensor_band_bit_depth:  10\n",
       "    valid_range:            [   0 1022]\n",
       "    units:                  mW m-2 sr-1 (cm-1)-1\n",
       "    resolution:             y: 0.000056 rad x: 0.000056 rad\n",
       "    grid_mapping:           goes_imager_projection\n",
       "    cell_methods:           t: point area: point\n",
       "    ancillary_variables:    DQF</pre><div class='xr-wrap' hidden><div class='xr-header'><div class='xr-obj-type'>xarray.DataArray</div><div class='xr-array-name'>'Rad'</div><ul class='xr-dim-list'><li><span class='xr-has-index'>y</span>: 206</li><li><span class='xr-has-index'>x</span>: 329</li></ul></div><ul class='xr-sections'><li class='xr-section-item'><div class='xr-array-wrap'><input id='section-b07ea02f-1a96-4a93-ba63-b7c1aef8229e' class='xr-array-in' type='checkbox' checked><label for='section-b07ea02f-1a96-4a93-ba63-b7c1aef8229e' title='Show/hide data repr'><svg class='icon xr-icon-database'><use xlink:href='#icon-database'></use></svg></label><div class='xr-array-preview xr-preview'><span>93.70569 93.881744 93.70569 94.05781 ... 98.98744 98.107155 97.93109</span></div><div class='xr-array-data'><pre>array([[93.70569 , 93.881744, 93.70569 , ..., 87.89576 , 87.015465, 86.663345],\n",
       "       [93.70569 , 93.881744, 94.05781 , ..., 89.12817 , 87.719696, 87.54364 ],\n",
       "       [94.05781 , 94.05781 , 94.40992 , ..., 87.719696, 88.24787 , 87.89576 ],\n",
       "       ...,\n",
       "       [73.45896 , 74.51531 , 79.44495 , ..., 98.63533 , 98.98744 , 98.811386],\n",
       "       [73.81107 , 79.092834, 85.43094 , ..., 98.98744 , 98.811386, 98.28321 ],\n",
       "       [77.684364, 83.84641 , 84.19853 , ..., 98.98744 , 98.107155, 97.93109 ]],\n",
       "      dtype=float32)</pre></div></div></li><li class='xr-section-item'><input id='section-7631691a-e852-4255-bdfb-2a65ff148194' class='xr-section-summary-in' type='checkbox'  checked><label for='section-7631691a-e852-4255-bdfb-2a65ff148194' class='xr-section-summary' >Coordinates: <span>(7)</span></label><div class='xr-section-inline-details'></div><div class='xr-section-details'><ul class='xr-var-list'><li class='xr-var-item'><div class='xr-var-name'><span class='xr-has-index'>y</span></div><div class='xr-var-dims'>(y)</div><div class='xr-var-dtype'>float32</div><div class='xr-var-preview xr-preview'>0.11387599 0.113819994 ... 0.102396</div><input id='attrs-ea9eb7eb-8369-42a4-ad47-45db54f3d84e' class='xr-var-attrs-in' type='checkbox' ><label for='attrs-ea9eb7eb-8369-42a4-ad47-45db54f3d84e' title='Show/Hide attributes'><svg class='icon xr-icon-file-text2'><use xlink:href='#icon-file-text2'></use></svg></label><input id='data-3980a82c-0c0d-4c2d-b532-e6c60d1aa96a' class='xr-var-data-in' type='checkbox'><label for='data-3980a82c-0c0d-4c2d-b532-e6c60d1aa96a' title='Show/Hide data repr'><svg class='icon xr-icon-database'><use xlink:href='#icon-database'></use></svg></label><div class='xr-var-attrs'><dl class='xr-attrs'><dt><span>units :</span></dt><dd>rad</dd><dt><span>axis :</span></dt><dd>Y</dd><dt><span>long_name :</span></dt><dd>GOES fixed grid projection y-coordinate</dd><dt><span>standard_name :</span></dt><dd>projection_y_coordinate</dd></dl></div><div class='xr-var-data'><pre>array([0.113876, 0.11382 , 0.113764, ..., 0.102508, 0.102452, 0.102396],\n",
       "      dtype=float32)</pre></div></li><li class='xr-var-item'><div class='xr-var-name'><span class='xr-has-index'>x</span></div><div class='xr-var-dims'>(x)</div><div class='xr-var-dtype'>float32</div><div class='xr-var-preview xr-preview'>0.0076440126 ... 0.026012003</div><input id='attrs-6cc3b3ee-edc6-404c-91b1-8e3f0ca1cf09' class='xr-var-attrs-in' type='checkbox' ><label for='attrs-6cc3b3ee-edc6-404c-91b1-8e3f0ca1cf09' title='Show/Hide attributes'><svg class='icon xr-icon-file-text2'><use xlink:href='#icon-file-text2'></use></svg></label><input id='data-fe76c89a-8802-45f3-9b46-4d719996fbfc' class='xr-var-data-in' type='checkbox'><label for='data-fe76c89a-8802-45f3-9b46-4d719996fbfc' title='Show/Hide data repr'><svg class='icon xr-icon-database'><use xlink:href='#icon-database'></use></svg></label><div class='xr-var-attrs'><dl class='xr-attrs'><dt><span>units :</span></dt><dd>rad</dd><dt><span>axis :</span></dt><dd>X</dd><dt><span>long_name :</span></dt><dd>GOES fixed grid projection x-coordinate</dd><dt><span>standard_name :</span></dt><dd>projection_x_coordinate</dd></dl></div><div class='xr-var-data'><pre>array([0.007644, 0.0077  , 0.007756, ..., 0.0259  , 0.025956, 0.026012],\n",
       "      dtype=float32)</pre></div></li><li class='xr-var-item'><div class='xr-var-name'><span>t</span></div><div class='xr-var-dims'>()</div><div class='xr-var-dtype'>datetime64[ns]</div><div class='xr-var-preview xr-preview'>2022-09-14T06:15:06.678364032</div><input id='attrs-8c7da8ae-5950-434f-8fde-7a78dc3fa7ac' class='xr-var-attrs-in' type='checkbox' ><label for='attrs-8c7da8ae-5950-434f-8fde-7a78dc3fa7ac' title='Show/Hide attributes'><svg class='icon xr-icon-file-text2'><use xlink:href='#icon-file-text2'></use></svg></label><input id='data-c5afb3c6-415c-4c60-a22e-282123b4bbb3' class='xr-var-data-in' type='checkbox'><label for='data-c5afb3c6-415c-4c60-a22e-282123b4bbb3' title='Show/Hide data repr'><svg class='icon xr-icon-database'><use xlink:href='#icon-database'></use></svg></label><div class='xr-var-attrs'><dl class='xr-attrs'><dt><span>long_name :</span></dt><dd>J2000 epoch mid-point between the start and end image scan in seconds</dd><dt><span>standard_name :</span></dt><dd>time</dd><dt><span>axis :</span></dt><dd>T</dd><dt><span>bounds :</span></dt><dd>time_bounds</dd></dl></div><div class='xr-var-data'><pre>array(&#x27;2022-09-14T06:15:06.678364032&#x27;, dtype=&#x27;datetime64[ns]&#x27;)</pre></div></li><li class='xr-var-item'><div class='xr-var-name'><span>y_image</span></div><div class='xr-var-dims'>()</div><div class='xr-var-dtype'>float32</div><div class='xr-var-preview xr-preview'>0.0</div><input id='attrs-4d27fb05-c60e-401b-9c59-c37aa08c210d' class='xr-var-attrs-in' type='checkbox' ><label for='attrs-4d27fb05-c60e-401b-9c59-c37aa08c210d' title='Show/Hide attributes'><svg class='icon xr-icon-file-text2'><use xlink:href='#icon-file-text2'></use></svg></label><input id='data-9f02fa4b-5ddc-4126-90eb-eecd6cbb110b' class='xr-var-data-in' type='checkbox'><label for='data-9f02fa4b-5ddc-4126-90eb-eecd6cbb110b' title='Show/Hide data repr'><svg class='icon xr-icon-database'><use xlink:href='#icon-database'></use></svg></label><div class='xr-var-attrs'><dl class='xr-attrs'><dt><span>long_name :</span></dt><dd>GOES-R fixed grid projection y-coordinate center of image</dd><dt><span>standard_name :</span></dt><dd>projection_y_coordinate</dd><dt><span>units :</span></dt><dd>rad</dd><dt><span>axis :</span></dt><dd>Y</dd></dl></div><div class='xr-var-data'><pre>array(0., dtype=float32)</pre></div></li><li class='xr-var-item'><div class='xr-var-name'><span>x_image</span></div><div class='xr-var-dims'>()</div><div class='xr-var-dtype'>float32</div><div class='xr-var-preview xr-preview'>0.0</div><input id='attrs-00e10aa4-6bbc-40a8-8296-7bb6beb17ecb' class='xr-var-attrs-in' type='checkbox' ><label for='attrs-00e10aa4-6bbc-40a8-8296-7bb6beb17ecb' title='Show/Hide attributes'><svg class='icon xr-icon-file-text2'><use xlink:href='#icon-file-text2'></use></svg></label><input id='data-c8d19564-00e7-4e5a-8941-cec415691979' class='xr-var-data-in' type='checkbox'><label for='data-c8d19564-00e7-4e5a-8941-cec415691979' title='Show/Hide data repr'><svg class='icon xr-icon-database'><use xlink:href='#icon-database'></use></svg></label><div class='xr-var-attrs'><dl class='xr-attrs'><dt><span>long_name :</span></dt><dd>GOES-R fixed grid projection x-coordinate center of image</dd><dt><span>standard_name :</span></dt><dd>projection_x_coordinate</dd><dt><span>units :</span></dt><dd>rad</dd><dt><span>axis :</span></dt><dd>X</dd></dl></div><div class='xr-var-data'><pre>array(0., dtype=float32)</pre></div></li><li class='xr-var-item'><div class='xr-var-name'><span>lat</span></div><div class='xr-var-dims'>(y, x)</div><div class='xr-var-dtype'>float32</div><div class='xr-var-preview xr-preview'>42.472664 42.472725 ... 37.009174</div><input id='attrs-41235508-f976-418c-8364-e7c0de8e9a6a' class='xr-var-attrs-in' type='checkbox' ><label for='attrs-41235508-f976-418c-8364-e7c0de8e9a6a' title='Show/Hide attributes'><svg class='icon xr-icon-file-text2'><use xlink:href='#icon-file-text2'></use></svg></label><input id='data-3bccc06f-9d88-4db7-83e7-affcfc64b205' class='xr-var-data-in' type='checkbox'><label for='data-3bccc06f-9d88-4db7-83e7-affcfc64b205' title='Show/Hide data repr'><svg class='icon xr-icon-database'><use xlink:href='#icon-database'></use></svg></label><div class='xr-var-attrs'><dl class='xr-attrs'><dt><span>units :</span></dt><dd>degrees_north</dd></dl></div><div class='xr-var-data'><pre>array([[42.472664, 42.472725, 42.473076, ..., 42.619873, 42.6206  ,\n",
       "        42.621407],\n",
       "       [42.443764, 42.44382 , 42.44417 , ..., 42.590603, 42.59141 ,\n",
       "        42.59211 ],\n",
       "       [42.41494 , 42.415024, 42.415268, ..., 42.561512, 42.56235 ,\n",
       "        42.56305 ],\n",
       "       ...,\n",
       "       [36.95311 , 36.95314 , 36.953335, ..., 37.05961 , 37.060204,\n",
       "        37.060772],\n",
       "       [36.927288, 36.92734 , 36.92764 , ..., 37.03364 , 37.034332,\n",
       "        37.0348  ],\n",
       "       [36.90181 , 36.901863, 36.90216 , ..., 37.007988, 37.0087  ,\n",
       "        37.009174]], dtype=float32)</pre></div></li><li class='xr-var-item'><div class='xr-var-name'><span>lon</span></div><div class='xr-var-dims'>(y, x)</div><div class='xr-var-dtype'>float32</div><div class='xr-var-preview xr-preview'>-71.49289 -71.467155 ... -64.01304</div><input id='attrs-5d66fe8b-5248-494c-bc1f-5719999322d5' class='xr-var-attrs-in' type='checkbox' ><label for='attrs-5d66fe8b-5248-494c-bc1f-5719999322d5' title='Show/Hide attributes'><svg class='icon xr-icon-file-text2'><use xlink:href='#icon-file-text2'></use></svg></label><input id='data-0c4fa27c-4700-4312-bb8c-249b0384ea8d' class='xr-var-data-in' type='checkbox'><label for='data-0c4fa27c-4700-4312-bb8c-249b0384ea8d' title='Show/Hide data repr'><svg class='icon xr-icon-database'><use xlink:href='#icon-database'></use></svg></label><div class='xr-var-attrs'><dl class='xr-attrs'><dt><span>units :</span></dt><dd>degrees_east</dd></dl></div><div class='xr-var-data'><pre>array([[-71.49289 , -71.467155, -71.44138 , ..., -62.972363, -62.945652,\n",
       "        -62.918896],\n",
       "       [-71.49472 , -71.469   , -71.443245, ..., -62.97891 , -62.952168,\n",
       "        -62.92547 ],\n",
       "       [-71.49655 , -71.47083 , -71.44511 , ..., -62.985355, -62.958622,\n",
       "        -62.931942],\n",
       "       ...,\n",
       "       [-71.80009 , -71.77661 , -71.75312 , ..., -64.052734, -64.02853 ,\n",
       "        -64.004326],\n",
       "       [-71.80134 , -71.77788 , -71.75438 , ..., -64.05715 , -64.032906,\n",
       "        -64.00875 ],\n",
       "       [-71.80256 , -71.779106, -71.755615, ..., -64.06143 , -64.03719 ,\n",
       "        -64.01304 ]], dtype=float32)</pre></div></li></ul></div></li><li class='xr-section-item'><input id='section-1bbce374-962b-4516-945e-79bdb36eb6fc' class='xr-section-summary-in' type='checkbox'  checked><label for='section-1bbce374-962b-4516-945e-79bdb36eb6fc' class='xr-section-summary' >Attributes: <span>(9)</span></label><div class='xr-section-inline-details'></div><div class='xr-section-details'><dl class='xr-attrs'><dt><span>long_name :</span></dt><dd>ABI L1b Radiances</dd><dt><span>standard_name :</span></dt><dd>toa_outgoing_radiance_per_unit_wavenumber</dd><dt><span>sensor_band_bit_depth :</span></dt><dd>10</dd><dt><span>valid_range :</span></dt><dd>[   0 1022]</dd><dt><span>units :</span></dt><dd>mW m-2 sr-1 (cm-1)-1</dd><dt><span>resolution :</span></dt><dd>y: 0.000056 rad x: 0.000056 rad</dd><dt><span>grid_mapping :</span></dt><dd>goes_imager_projection</dd><dt><span>cell_methods :</span></dt><dd>t: point area: point</dd><dt><span>ancillary_variables :</span></dt><dd>DQF</dd></dl></div></li></ul></div></div>"
      ],
      "text/plain": [
       "<xarray.DataArray 'Rad' (y: 206, x: 329)>\n",
       "array([[93.70569 , 93.881744, 93.70569 , ..., 87.89576 , 87.015465, 86.663345],\n",
       "       [93.70569 , 93.881744, 94.05781 , ..., 89.12817 , 87.719696, 87.54364 ],\n",
       "       [94.05781 , 94.05781 , 94.40992 , ..., 87.719696, 88.24787 , 87.89576 ],\n",
       "       ...,\n",
       "       [73.45896 , 74.51531 , 79.44495 , ..., 98.63533 , 98.98744 , 98.811386],\n",
       "       [73.81107 , 79.092834, 85.43094 , ..., 98.98744 , 98.811386, 98.28321 ],\n",
       "       [77.684364, 83.84641 , 84.19853 , ..., 98.98744 , 98.107155, 97.93109 ]],\n",
       "      dtype=float32)\n",
       "Coordinates:\n",
       "  * y        (y) float32 0.11387599 0.113819994 ... 0.102451995 0.102396\n",
       "  * x        (x) float32 0.0076440126 0.007700011 ... 0.025956005 0.026012003\n",
       "    t        datetime64[ns] 2022-09-14T06:15:06.678364032\n",
       "    y_image  float32 0.0\n",
       "    x_image  float32 0.0\n",
       "    lat      (y, x) float32 42.472664 42.472725 42.473076 ... 37.0087 37.009174\n",
       "    lon      (y, x) float32 -71.49289 -71.467155 ... -64.03719 -64.01304\n",
       "Attributes:\n",
       "    long_name:              ABI L1b Radiances\n",
       "    standard_name:          toa_outgoing_radiance_per_unit_wavenumber\n",
       "    sensor_band_bit_depth:  10\n",
       "    valid_range:            [   0 1022]\n",
       "    units:                  mW m-2 sr-1 (cm-1)-1\n",
       "    resolution:             y: 0.000056 rad x: 0.000056 rad\n",
       "    grid_mapping:           goes_imager_projection\n",
       "    cell_methods:           t: point area: point\n",
       "    ancillary_variables:    DQF"
      ]
     },
     "execution_count": 28,
     "metadata": {},
     "output_type": "execute_result"
    }
   ],
   "source": [
    "subset.Rad"
   ]
  },
  {
   "cell_type": "code",
   "execution_count": 37,
   "id": "a06d00f8",
   "metadata": {
    "scrolled": true
   },
   "outputs": [
    {
     "name": "stdout",
     "output_type": "stream",
     "text": [
      "OR_ABI-L1b-RadF-M6C16_G16_s20222570610207_e20222570619526_c20222570619591.nc\n"
     ]
    },
    {
     "name": "stderr",
     "output_type": "stream",
     "text": [
      "/tmp/ipykernel_9090/1456945755.py:20: RuntimeWarning: invalid value encountered in sqrt\n",
      "  r_s = (-b - np.sqrt(b**2 - 4*a*c))/(2*a)\n"
     ]
    },
    {
     "name": "stdout",
     "output_type": "stream",
     "text": [
      "OR_ABI-L1b-RadF-M6C16_G16_s20222570510207_e20222570519526_c20222570519587.nc\n"
     ]
    },
    {
     "name": "stderr",
     "output_type": "stream",
     "text": [
      "/tmp/ipykernel_9090/1456945755.py:20: RuntimeWarning: invalid value encountered in sqrt\n",
      "  r_s = (-b - np.sqrt(b**2 - 4*a*c))/(2*a)\n"
     ]
    },
    {
     "name": "stdout",
     "output_type": "stream",
     "text": [
      "OR_ABI-L1b-RadF-M6C16_G16_s20222570520207_e20222570529526_c20222570529582.nc\n"
     ]
    },
    {
     "name": "stderr",
     "output_type": "stream",
     "text": [
      "/tmp/ipykernel_9090/1456945755.py:20: RuntimeWarning: invalid value encountered in sqrt\n",
      "  r_s = (-b - np.sqrt(b**2 - 4*a*c))/(2*a)\n"
     ]
    },
    {
     "name": "stdout",
     "output_type": "stream",
     "text": [
      "OR_ABI-L1b-RadF-M6C16_G16_s20222570730207_e20222570739526_c20222570739589.nc\n"
     ]
    },
    {
     "name": "stderr",
     "output_type": "stream",
     "text": [
      "/tmp/ipykernel_9090/1456945755.py:20: RuntimeWarning: invalid value encountered in sqrt\n",
      "  r_s = (-b - np.sqrt(b**2 - 4*a*c))/(2*a)\n"
     ]
    },
    {
     "name": "stdout",
     "output_type": "stream",
     "text": [
      "OR_ABI-L1b-RadF-M6C16_G16_s20222570650207_e20222570659526_c20222570659583.nc\n"
     ]
    },
    {
     "name": "stderr",
     "output_type": "stream",
     "text": [
      "/tmp/ipykernel_9090/1456945755.py:20: RuntimeWarning: invalid value encountered in sqrt\n",
      "  r_s = (-b - np.sqrt(b**2 - 4*a*c))/(2*a)\n"
     ]
    },
    {
     "name": "stdout",
     "output_type": "stream",
     "text": [
      "OR_ABI-L1b-RadF-M6C16_G16_s20222570630207_e20222570639526_c20222570639596.nc\n"
     ]
    },
    {
     "name": "stderr",
     "output_type": "stream",
     "text": [
      "/tmp/ipykernel_9090/1456945755.py:20: RuntimeWarning: invalid value encountered in sqrt\n",
      "  r_s = (-b - np.sqrt(b**2 - 4*a*c))/(2*a)\n"
     ]
    },
    {
     "name": "stdout",
     "output_type": "stream",
     "text": [
      "OR_ABI-L1b-RadF-M6C16_G16_s20222570620207_e20222570629526_c20222570629586.nc\n"
     ]
    },
    {
     "name": "stderr",
     "output_type": "stream",
     "text": [
      "/tmp/ipykernel_9090/1456945755.py:20: RuntimeWarning: invalid value encountered in sqrt\n",
      "  r_s = (-b - np.sqrt(b**2 - 4*a*c))/(2*a)\n"
     ]
    },
    {
     "name": "stdout",
     "output_type": "stream",
     "text": [
      "OR_ABI-L1b-RadF-M6C16_G16_s20222570740207_e20222570749526_c20222570749580.nc\n"
     ]
    },
    {
     "name": "stderr",
     "output_type": "stream",
     "text": [
      "/tmp/ipykernel_9090/1456945755.py:20: RuntimeWarning: invalid value encountered in sqrt\n",
      "  r_s = (-b - np.sqrt(b**2 - 4*a*c))/(2*a)\n"
     ]
    },
    {
     "name": "stdout",
     "output_type": "stream",
     "text": [
      "OR_ABI-L1b-RadF-M6C16_G16_s20222570540207_e20222570549526_c20222570549596.nc\n"
     ]
    },
    {
     "name": "stderr",
     "output_type": "stream",
     "text": [
      "/tmp/ipykernel_9090/1456945755.py:20: RuntimeWarning: invalid value encountered in sqrt\n",
      "  r_s = (-b - np.sqrt(b**2 - 4*a*c))/(2*a)\n"
     ]
    },
    {
     "name": "stdout",
     "output_type": "stream",
     "text": [
      "OR_ABI-L1b-RadF-M6C16_G16_s20222570700207_e20222570709526_c20222570709585.nc\n"
     ]
    },
    {
     "name": "stderr",
     "output_type": "stream",
     "text": [
      "/tmp/ipykernel_9090/1456945755.py:20: RuntimeWarning: invalid value encountered in sqrt\n",
      "  r_s = (-b - np.sqrt(b**2 - 4*a*c))/(2*a)\n"
     ]
    },
    {
     "name": "stdout",
     "output_type": "stream",
     "text": [
      "OR_ABI-L1b-RadF-M6C16_G16_s20222570750207_e20222570759526_c20222570759585.nc\n"
     ]
    },
    {
     "name": "stderr",
     "output_type": "stream",
     "text": [
      "/tmp/ipykernel_9090/1456945755.py:20: RuntimeWarning: invalid value encountered in sqrt\n",
      "  r_s = (-b - np.sqrt(b**2 - 4*a*c))/(2*a)\n"
     ]
    },
    {
     "name": "stdout",
     "output_type": "stream",
     "text": [
      "OR_ABI-L1b-RadF-M6C16_G16_s20222570550207_e20222570559526_c20222570559587.nc\n"
     ]
    },
    {
     "name": "stderr",
     "output_type": "stream",
     "text": [
      "/tmp/ipykernel_9090/1456945755.py:20: RuntimeWarning: invalid value encountered in sqrt\n",
      "  r_s = (-b - np.sqrt(b**2 - 4*a*c))/(2*a)\n"
     ]
    },
    {
     "name": "stdout",
     "output_type": "stream",
     "text": [
      "OR_ABI-L1b-RadF-M6C16_G16_s20222570710207_e20222570719526_c20222570719591.nc\n"
     ]
    },
    {
     "name": "stderr",
     "output_type": "stream",
     "text": [
      "/tmp/ipykernel_9090/1456945755.py:20: RuntimeWarning: invalid value encountered in sqrt\n",
      "  r_s = (-b - np.sqrt(b**2 - 4*a*c))/(2*a)\n"
     ]
    },
    {
     "name": "stdout",
     "output_type": "stream",
     "text": [
      "OR_ABI-L1b-RadF-M6C16_G16_s20222570720207_e20222570729526_c20222570729595.nc\n"
     ]
    },
    {
     "name": "stderr",
     "output_type": "stream",
     "text": [
      "/tmp/ipykernel_9090/1456945755.py:20: RuntimeWarning: invalid value encountered in sqrt\n",
      "  r_s = (-b - np.sqrt(b**2 - 4*a*c))/(2*a)\n"
     ]
    },
    {
     "name": "stdout",
     "output_type": "stream",
     "text": [
      "OR_ABI-L1b-RadF-M6C16_G16_s20222570640207_e20222570649526_c20222570649581.nc\n"
     ]
    },
    {
     "name": "stderr",
     "output_type": "stream",
     "text": [
      "/tmp/ipykernel_9090/1456945755.py:20: RuntimeWarning: invalid value encountered in sqrt\n",
      "  r_s = (-b - np.sqrt(b**2 - 4*a*c))/(2*a)\n"
     ]
    },
    {
     "name": "stdout",
     "output_type": "stream",
     "text": [
      "OR_ABI-L1b-RadF-M6C16_G16_s20222570530207_e20222570539526_c20222570539587.nc\n"
     ]
    },
    {
     "name": "stderr",
     "output_type": "stream",
     "text": [
      "/tmp/ipykernel_9090/1456945755.py:20: RuntimeWarning: invalid value encountered in sqrt\n",
      "  r_s = (-b - np.sqrt(b**2 - 4*a*c))/(2*a)\n"
     ]
    },
    {
     "name": "stdout",
     "output_type": "stream",
     "text": [
      "OR_ABI-L1b-RadF-M6C16_G16_s20222570600207_e20222570609526_c20222570609594.nc\n"
     ]
    },
    {
     "name": "stderr",
     "output_type": "stream",
     "text": [
      "/tmp/ipykernel_9090/1456945755.py:20: RuntimeWarning: invalid value encountered in sqrt\n",
      "  r_s = (-b - np.sqrt(b**2 - 4*a*c))/(2*a)\n"
     ]
    },
    {
     "name": "stdout",
     "output_type": "stream",
     "text": [
      "OR_ABI-L1b-RadF-M6C16_G16_s20222570500207_e20222570509526_c20222570509587.nc\n"
     ]
    },
    {
     "name": "stderr",
     "output_type": "stream",
     "text": [
      "/tmp/ipykernel_9090/1456945755.py:20: RuntimeWarning: invalid value encountered in sqrt\n",
      "  r_s = (-b - np.sqrt(b**2 - 4*a*c))/(2*a)\n"
     ]
    }
   ],
   "source": [
    "#--- Initialize the 2D summed array with zeroes\n",
    "\n",
    "subset_Rad_tot = [ [0]*len(subset.Rad[0]) for i in range(len(subset.Rad))]\n",
    "\n",
    "#--- For each of the files in dir, crop and sum the radiances\n",
    "\n",
    "for filename in os.listdir(root):\n",
    "    \n",
    "    print(filename)\n",
    "    \n",
    "    data = xr.open_dataset(root+'/'+filename)\n",
    "    \n",
    "    ds = calc_latlon(data)\n",
    "    \n",
    "    ((x1,x2), (y1, y2)) = get_xy_from_latlon(ds, lats, lons)\n",
    "    \n",
    "    subset = ds.sel(x=slice(x1, x2), y=slice(y2, y1))\n",
    "    \n",
    "    subset_Rad_tot = subset_Rad_tot+subset.Rad"
   ]
  },
  {
   "cell_type": "code",
   "execution_count": 40,
   "id": "c3147893",
   "metadata": {},
   "outputs": [
    {
     "data": {
      "text/plain": [
       "<cartopy.mpl.feature_artist.FeatureArtist at 0x7fef98bf0310>"
      ]
     },
     "execution_count": 40,
     "metadata": {},
     "output_type": "execute_result"
    },
    {
     "data": {
      "image/png": "[encoded data removed]",
      "text/plain": [
       "<Figure size 1200x1200 with 2 Axes>"
      ]
     },
     "metadata": {},
     "output_type": "display_data"
    }
   ],
   "source": [
    "projection=ccrs.PlateCarree()\n",
    "fig,ax=plt.subplots(1, figsize=(12,12),subplot_kw={'projection': projection})\n",
    "cmap = plt.cm.Spectral_r\n",
    "#levels = np.linspace(-0.5, 0.5, 31)\n",
    "\n",
    "c=ax.contourf(subset_Rad_tot.lon, subset_Rad_tot.lat, subset_Rad_tot, cmap=cmap)\n",
    "clb=plt.colorbar(c, shrink=0.3, pad=0.02, ax=ax)\n",
    "ax.set_title('ABI Radiance ('+date+')')\n",
    "clb.set_label('')\n",
    "\n",
    "ax.coastlines(resolution='110m')\n",
    "ax.add_feature(cfeature.BORDERS)\n",
    "ax.add_feature(cfeature.STATES)"
   ]
  },
  {
   "cell_type": "code",
   "execution_count": null,
   "id": "145e7861",
   "metadata": {},
   "outputs": [],
   "source": []
  }
 ],
 "metadata": {
  "kernelspec": {
   "display_name": "Python 3 (ipykernel)",
   "language": "python",
   "name": "python3"
  },
  "language_info": {
   "codemirror_mode": {
    "name": "ipython",
    "version": 3
   },
   "file_extension": ".py",
   "mimetype": "text/x-python",
   "name": "python",
   "nbconvert_exporter": "python",
   "pygments_lexer": "ipython3",
   "version": "3.9.0"
  }
 },
 "nbformat": 4,
 "nbformat_minor": 5
}
